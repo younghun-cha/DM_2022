{
  "cells": [
    {
      "cell_type": "markdown",
      "metadata": {
        "id": "view-in-github",
        "colab_type": "text"
      },
      "source": [
        "<a href=\"https://colab.research.google.com/github/younghun-cha/DM_2022/blob/main/NumPy.ipynb\" target=\"_parent\"><img src=\"https://colab.research.google.com/assets/colab-badge.svg\" alt=\"Open In Colab\"/></a>"
      ]
    },
    {
      "cell_type": "markdown",
      "metadata": {
        "id": "oR5hNBH-Retd"
      },
      "source": [
        "# NumPy\n",
        "\n",
        "* Numerical Python의 약자\n",
        "\n",
        "* 다양한 수학 연산과 다차원 데이터를 쉽게 다루기 위한 파이썬 라이브러리\n",
        "\n",
        "* Numpy는 ndarray라고 하는 특별한 객체를 사용\n",
        "    + 리스트와 달리 고정된 크기를 갖음\n",
        "    + 같은 타입의 데이터만 저장 가능\n",
        "\n",
        "* ndarray는 python 리스트에서 지원하지 않는 다양한 기능들을 지원\n",
        "    + 효율적으로 코드 작성 가능\n",
        "    + 더 빠른 속도"
      ]
    },
    {
      "cell_type": "code",
      "execution_count": null,
      "metadata": {
        "colab": {
          "base_uri": "https://localhost:8080/"
        },
        "id": "Q3m6UCdfJb6v",
        "outputId": "d07a0fa0-6db6-4ab4-b3a0-d227c60c55f6"
      },
      "outputs": [
        {
          "output_type": "stream",
          "name": "stdout",
          "text": [
            "Looking in indexes: https://pypi.org/simple, https://us-python.pkg.dev/colab-wheels/public/simple/\n",
            "Requirement already satisfied: numpy in /usr/local/lib/python3.7/dist-packages (1.21.6)\n"
          ]
        }
      ],
      "source": [
        "!pip install numpy"
      ]
    },
    {
      "cell_type": "code",
      "execution_count": null,
      "metadata": {
        "colab": {
          "base_uri": "https://localhost:8080/",
          "height": 35
        },
        "id": "R9klTdhLQ564",
        "outputId": "2229832b-8548-43b6-be26-e3e9973f890f"
      },
      "outputs": [
        {
          "output_type": "execute_result",
          "data": {
            "text/plain": [
              "'1.21.6'"
            ],
            "application/vnd.google.colaboratory.intrinsic+json": {
              "type": "string"
            }
          },
          "metadata": {},
          "execution_count": 2
        }
      ],
      "source": [
        "import numpy as np\n",
        "np.__version__"
      ]
    },
    {
      "cell_type": "markdown",
      "metadata": {
        "id": "2hSWC5ptGyWP"
      },
      "source": [
        "\n",
        "\n",
        "---\n",
        "\n"
      ]
    },
    {
      "cell_type": "markdown",
      "metadata": {
        "id": "1kgkJZFlVUqk"
      },
      "source": [
        "# 배열 생성"
      ]
    },
    {
      "cell_type": "markdown",
      "metadata": {
        "id": "5eQ4sAkMbzm0"
      },
      "source": [
        "## 리스트로 배열 만들기\n",
        "![1.2 Array.png](https://drive.google.com/uc?id=1EKPVGuDQinETf6XkcKFYaQfqp5P2oklE)"
      ]
    },
    {
      "cell_type": "code",
      "execution_count": null,
      "metadata": {
        "colab": {
          "base_uri": "https://localhost:8080/"
        },
        "id": "Mtod2jcPWVvV",
        "outputId": "12a68aea-a1d1-4109-b8b9-ca331074b0a8"
      },
      "outputs": [
        {
          "output_type": "stream",
          "name": "stdout",
          "text": [
            "[1 2 3 4 5]\n",
            "<class 'numpy.ndarray'>\n",
            "(5,)\n",
            "1 2 3\n"
          ]
        }
      ],
      "source": [
        "a1 = np.array([1, 2, 3, 4, 5])\n",
        "print(a1)\n",
        "print(type(a1))\n",
        "print(a1.shape)\n",
        "print(a1[0], a1[1], a1[2])"
      ]
    },
    {
      "cell_type": "code",
      "execution_count": null,
      "metadata": {
        "colab": {
          "base_uri": "https://localhost:8080/"
        },
        "id": "vp9tkHH8esXT",
        "outputId": "66389aae-8c3e-4791-e8f4-7e55a8d1f82f"
      },
      "outputs": [
        {
          "output_type": "stream",
          "name": "stdout",
          "text": [
            "[[1 2 3]\n",
            " [4 5 6]]\n",
            "(2, 3)\n",
            "1 5\n"
          ]
        }
      ],
      "source": [
        "a2 = np.array([[1, 2, 3], [4, 5, 6]])\n",
        "print(a2)\n",
        "print(a2.shape)\n",
        "print(a2[0, 0], a2[1, 1])"
      ]
    },
    {
      "cell_type": "code",
      "execution_count": null,
      "metadata": {
        "colab": {
          "base_uri": "https://localhost:8080/"
        },
        "id": "Baj4gZ2meuJu",
        "outputId": "0463dd16-e87d-4a07-a17b-8a09a3c794f6"
      },
      "outputs": [
        {
          "output_type": "stream",
          "name": "stdout",
          "text": [
            "[[[1 2 3 4]\n",
            "  [5 6 7 8]\n",
            "  [9 0 1 2]]\n",
            "\n",
            " [[3 4 5 6]\n",
            "  [7 8 9 0]\n",
            "  [1 2 3 4]]]\n",
            "(2, 3, 4)\n"
          ]
        }
      ],
      "source": [
        "a3 = np.array([[[1, 2, 3, 4], [5, 6, 7, 8], [9, 0, 1, 2]],\n",
        "               [[3, 4, 5, 6], [7, 8, 9, 0], [1, 2, 3, 4]]])\n",
        "print(a3)\n",
        "print(a3.shape)"
      ]
    },
    {
      "cell_type": "markdown",
      "metadata": {
        "id": "PNkKtw4CoSDB"
      },
      "source": [
        "## 배열 생성 및 초기화"
      ]
    },
    {
      "cell_type": "markdown",
      "metadata": {
        "id": "mJVii5p_VfgM"
      },
      "source": [
        "* `zeros()`: 모든 요소를 0으로 초기화"
      ]
    },
    {
      "cell_type": "code",
      "execution_count": null,
      "metadata": {
        "colab": {
          "base_uri": "https://localhost:8080/"
        },
        "id": "W_SF1tVoVTf1",
        "outputId": "24849654-4975-4309-9e65-cfd9f162b30a"
      },
      "outputs": [
        {
          "output_type": "execute_result",
          "data": {
            "text/plain": [
              "array([0., 0., 0., 0., 0., 0., 0., 0., 0., 0.])"
            ]
          },
          "metadata": {},
          "execution_count": 6
        }
      ],
      "source": [
        "np.zeros(10)"
      ]
    },
    {
      "cell_type": "markdown",
      "metadata": {
        "id": "LjYFQrODVqhX"
      },
      "source": [
        "* `ones()`: 모든 요소를 1로 초기화"
      ]
    },
    {
      "cell_type": "code",
      "execution_count": null,
      "metadata": {
        "colab": {
          "base_uri": "https://localhost:8080/"
        },
        "id": "MURoqsMsVeUw",
        "outputId": "3adc2a6d-db3f-4b8c-969f-651bad35a8db"
      },
      "outputs": [
        {
          "output_type": "execute_result",
          "data": {
            "text/plain": [
              "array([[1., 1., 1.],\n",
              "       [1., 1., 1.]])"
            ]
          },
          "metadata": {},
          "execution_count": 7
        }
      ],
      "source": [
        "np.ones((2, 3))"
      ]
    },
    {
      "cell_type": "markdown",
      "metadata": {
        "id": "jnmm3Cj-cGtx"
      },
      "source": [
        "* `full()`: 모든 요소를 지정한 값으로 초기화"
      ]
    },
    {
      "cell_type": "code",
      "execution_count": null,
      "metadata": {
        "colab": {
          "base_uri": "https://localhost:8080/"
        },
        "id": "oscabrdcV7Ny",
        "outputId": "512b0dda-9125-411d-8d97-a76ba819cf3a"
      },
      "outputs": [
        {
          "output_type": "execute_result",
          "data": {
            "text/plain": [
              "array([[1.23, 1.23, 1.23],\n",
              "       [1.23, 1.23, 1.23]])"
            ]
          },
          "metadata": {},
          "execution_count": 8
        }
      ],
      "source": [
        "np.full((2, 3), 1.23)"
      ]
    },
    {
      "cell_type": "markdown",
      "metadata": {
        "id": "0SRI4jbmlIKc"
      },
      "source": [
        "* `eye()`: 단위행렬(identity matrix) 생성\n",
        "  + 주대각선의 원소가 모두 1이고 나머지 원소는 모두 0인 정사각 행렬"
      ]
    },
    {
      "cell_type": "code",
      "execution_count": null,
      "metadata": {
        "colab": {
          "base_uri": "https://localhost:8080/"
        },
        "id": "VceBVLLjk9o5",
        "outputId": "fd3b79e1-5793-47cc-9638-4a09e8432950"
      },
      "outputs": [
        {
          "output_type": "execute_result",
          "data": {
            "text/plain": [
              "array([[1., 0., 0.],\n",
              "       [0., 1., 0.],\n",
              "       [0., 0., 1.]])"
            ]
          },
          "metadata": {},
          "execution_count": 9
        }
      ],
      "source": [
        "np.eye(3)"
      ]
    },
    {
      "cell_type": "markdown",
      "metadata": {
        "id": "7CCH1ZMT5R02"
      },
      "source": [
        "* `tri()`: 삼각행렬 생성"
      ]
    },
    {
      "cell_type": "code",
      "execution_count": null,
      "metadata": {
        "colab": {
          "base_uri": "https://localhost:8080/"
        },
        "id": "mLe2Bhj05VYu",
        "outputId": "26873e3e-ea8f-4569-e127-4d18bcc4da3a"
      },
      "outputs": [
        {
          "output_type": "execute_result",
          "data": {
            "text/plain": [
              "array([[1., 0., 0.],\n",
              "       [1., 1., 0.],\n",
              "       [1., 1., 1.]])"
            ]
          },
          "metadata": {},
          "execution_count": 10
        }
      ],
      "source": [
        "np.tri(3)"
      ]
    },
    {
      "cell_type": "markdown",
      "metadata": {
        "id": "ObZRA4HclZlO"
      },
      "source": [
        "* `empty()`: 초기화되지 않은 배열 생성\n",
        "  + 초기화가 없어서 배열 생성비용 저렴하고 빠름\n",
        "  + 초기화되지 않아서 기존 메모리 위치에 존재하는 값이 있음"
      ]
    },
    {
      "cell_type": "code",
      "execution_count": null,
      "metadata": {
        "colab": {
          "base_uri": "https://localhost:8080/"
        },
        "id": "I3SoFgiglAkz",
        "outputId": "f069e84e-ff1e-4188-8891-39acf5d5c42e"
      },
      "outputs": [
        {
          "output_type": "execute_result",
          "data": {
            "text/plain": [
              "array([0., 0., 0., 0., 0., 0., 0., 0., 0., 0.])"
            ]
          },
          "metadata": {},
          "execution_count": 11
        }
      ],
      "source": [
        "np.empty(10)"
      ]
    },
    {
      "cell_type": "markdown",
      "metadata": {
        "id": "p3uSl1Ccmi5_"
      },
      "source": [
        "* `_like()`: 지정된 배열과 shape가 같은 행렬 생성\n",
        "  + `np.zeros_like()`\n",
        "  + `np.ones_like()`\n",
        "  + `np.full_like()`\n",
        "  + `np.empty_like()`"
      ]
    },
    {
      "cell_type": "code",
      "execution_count": null,
      "metadata": {
        "colab": {
          "base_uri": "https://localhost:8080/"
        },
        "id": "Ad5RskRRlZLs",
        "outputId": "e6b347ef-cf5c-4a54-e7d4-6675aeb57590"
      },
      "outputs": [
        {
          "output_type": "stream",
          "name": "stdout",
          "text": [
            "[1 2 3 4 5]\n"
          ]
        },
        {
          "output_type": "execute_result",
          "data": {
            "text/plain": [
              "array([0, 0, 0, 0, 0])"
            ]
          },
          "metadata": {},
          "execution_count": 12
        }
      ],
      "source": [
        "print(a1)\n",
        "np.zeros_like(a1)"
      ]
    },
    {
      "cell_type": "code",
      "execution_count": null,
      "metadata": {
        "colab": {
          "base_uri": "https://localhost:8080/"
        },
        "id": "KChUHsG003Nf",
        "outputId": "762d18ac-60f0-4845-d1e2-b75bbb2da6e4"
      },
      "outputs": [
        {
          "output_type": "stream",
          "name": "stdout",
          "text": [
            "[[1 2 3]\n",
            " [4 5 6]]\n"
          ]
        },
        {
          "output_type": "execute_result",
          "data": {
            "text/plain": [
              "array([[1, 1, 1],\n",
              "       [1, 1, 1]])"
            ]
          },
          "metadata": {},
          "execution_count": 13
        }
      ],
      "source": [
        "print(a2)\n",
        "np.ones_like(a2)"
      ]
    },
    {
      "cell_type": "code",
      "execution_count": null,
      "metadata": {
        "colab": {
          "base_uri": "https://localhost:8080/"
        },
        "id": "PUnDz6b305Gg",
        "outputId": "78fcdd7c-fdb1-4529-c8c3-c2c7a9c5d1eb"
      },
      "outputs": [
        {
          "output_type": "stream",
          "name": "stdout",
          "text": [
            "[[[1 2 3 4]\n",
            "  [5 6 7 8]\n",
            "  [9 0 1 2]]\n",
            "\n",
            " [[3 4 5 6]\n",
            "  [7 8 9 0]\n",
            "  [1 2 3 4]]]\n"
          ]
        },
        {
          "output_type": "execute_result",
          "data": {
            "text/plain": [
              "array([[[10, 10, 10, 10],\n",
              "        [10, 10, 10, 10],\n",
              "        [10, 10, 10, 10]],\n",
              "\n",
              "       [[10, 10, 10, 10],\n",
              "        [10, 10, 10, 10],\n",
              "        [10, 10, 10, 10]]])"
            ]
          },
          "metadata": {},
          "execution_count": 14
        }
      ],
      "source": [
        "print(a3)\n",
        "np.full_like(a3, 10)"
      ]
    },
    {
      "cell_type": "markdown",
      "metadata": {
        "id": "apoksGJNrn1z"
      },
      "source": [
        "## 생성한 값으로 배열 생성"
      ]
    },
    {
      "cell_type": "markdown",
      "metadata": {
        "id": "H3nmLct8cnV8"
      },
      "source": [
        "* `arange()`: 정수 범위로 배열 생성"
      ]
    },
    {
      "cell_type": "code",
      "execution_count": null,
      "metadata": {
        "colab": {
          "base_uri": "https://localhost:8080/"
        },
        "id": "mANy4WY4cDKa",
        "outputId": "39b9026b-3bf2-4a21-aafa-a7eef12a375c"
      },
      "outputs": [
        {
          "output_type": "execute_result",
          "data": {
            "text/plain": [
              "array([ 0,  2,  4,  6,  8, 10, 12, 14, 16, 18, 20, 22, 24, 26, 28])"
            ]
          },
          "metadata": {},
          "execution_count": 15
        }
      ],
      "source": [
        "np.arange(0, 30, 2)"
      ]
    },
    {
      "cell_type": "markdown",
      "metadata": {
        "id": "s5kET1e6itlo"
      },
      "source": [
        "* `linspace()`: 범위 내에서 균등 간격의 배열 생성"
      ]
    },
    {
      "cell_type": "code",
      "execution_count": null,
      "metadata": {
        "colab": {
          "base_uri": "https://localhost:8080/"
        },
        "id": "u4q9gI7Zcltz",
        "outputId": "14951421-edd7-47a6-8e4e-c69bdcc13146"
      },
      "outputs": [
        {
          "output_type": "execute_result",
          "data": {
            "text/plain": [
              "array([0.  , 0.25, 0.5 , 0.75, 1.  ])"
            ]
          },
          "metadata": {},
          "execution_count": 16
        }
      ],
      "source": [
        "np.linspace(0, 1, 5)"
      ]
    },
    {
      "cell_type": "markdown",
      "metadata": {
        "id": "6_88s4_Jr7fO"
      },
      "source": [
        "## 랜덤값으로 배열 생성\n",
        "\n",
        "| 함수 | 설명 |\n",
        "|------|------|\n",
        "| `seed` | 난수 발생을 위한 시드(seed) 지정 |\n",
        "| `permutation` | 순서를 임의로 바꾸거나 임의의 순열 반환 |\n",
        "| `shuffle` | 리스트나 배열의 순서를 뒤섞음 |\n",
        "| `random` | 랜덤한 수의 배열 생성 |\n",
        "| `rand` | 균등분포에서 표본 추출 |\n",
        "| `randint` | 주어진 최소/최대 범위의 난수 추출 |\n",
        "| `randn` | 표준편차가 1, 평균값 0인 정규분포의 표본 추출 |\n",
        "| `binomial` | 이항분포에서 표본 추출 |\n",
        "| `normal` | 정규분포(가우시안)에서 표본 추출 |\n",
        "| `beta` | 베타분포에서 표본 추출 |\n",
        "| `chisquare` | 카이제곱분포에서 표본 추출 |\n",
        "| `gamma` | 감마분포에서 표본 추출 |\n",
        "| `uniform` | 균등(0, 1)분포에서 표본 추출 |"
      ]
    },
    {
      "cell_type": "markdown",
      "metadata": {
        "id": "CoK1cVUkjNMg"
      },
      "source": [
        "* `random.random()`: 랜덤한 수의 배열 생성"
      ]
    },
    {
      "cell_type": "code",
      "execution_count": null,
      "metadata": {
        "colab": {
          "base_uri": "https://localhost:8080/"
        },
        "id": "qJwccKEnjMze",
        "outputId": "c2c32878-d666-4add-ff6c-0ba731dce2fc"
      },
      "outputs": [
        {
          "output_type": "execute_result",
          "data": {
            "text/plain": [
              "array([[0.80363376, 0.59519591, 0.74260853],\n",
              "       [0.33726848, 0.26228084, 0.54272389],\n",
              "       [0.9724423 , 0.16350899, 0.75241739]])"
            ]
          },
          "metadata": {},
          "execution_count": 17
        }
      ],
      "source": [
        "np.random.random((3, 3))"
      ]
    },
    {
      "cell_type": "markdown",
      "metadata": {
        "id": "BYsAVwA1kvDI"
      },
      "source": [
        "* `random.randint()`: 일정 구간의 랜덤 정수의 배열 생성"
      ]
    },
    {
      "cell_type": "code",
      "execution_count": null,
      "metadata": {
        "colab": {
          "base_uri": "https://localhost:8080/"
        },
        "id": "oR-UszZ_jqfQ",
        "outputId": "322f51f7-3066-4f65-8f6f-f189563053fc"
      },
      "outputs": [
        {
          "output_type": "execute_result",
          "data": {
            "text/plain": [
              "array([[5, 9, 6],\n",
              "       [1, 6, 1],\n",
              "       [4, 0, 9]])"
            ]
          },
          "metadata": {},
          "execution_count": 18
        }
      ],
      "source": [
        "np.random.randint(0, 10, (3, 3))"
      ]
    },
    {
      "cell_type": "markdown",
      "metadata": {
        "id": "2r557WHsjrL3"
      },
      "source": [
        "* `random.normal()`: 정규분포(normal distribution)를 고려한 랜덤한 수의 배열 생성\n",
        "* 평균=0, 표준편차=1, 3 x 3 배열"
      ]
    },
    {
      "cell_type": "code",
      "execution_count": null,
      "metadata": {
        "colab": {
          "base_uri": "https://localhost:8080/"
        },
        "id": "Oan3bSpHi2Wq",
        "outputId": "9a3663ca-8f1e-46e6-9222-3e336216da75"
      },
      "outputs": [
        {
          "output_type": "execute_result",
          "data": {
            "text/plain": [
              "array([[-1.7838777 ,  0.27292344,  0.53247206],\n",
              "       [-0.59763388, -1.34693497,  0.6976759 ],\n",
              "       [-0.50681462, -0.00229467,  0.41034   ]])"
            ]
          },
          "metadata": {},
          "execution_count": 19
        }
      ],
      "source": [
        "np.random.normal(0, 1, (3, 3))"
      ]
    },
    {
      "cell_type": "markdown",
      "metadata": {
        "id": "fPO-D1rHsrFw"
      },
      "source": [
        "* `random.rand()`: 균등분포(uniform distribution)를 고려한 랜덤한 수의 배열 생성"
      ]
    },
    {
      "cell_type": "code",
      "execution_count": null,
      "metadata": {
        "colab": {
          "base_uri": "https://localhost:8080/"
        },
        "id": "DxiyEjnXnDUT",
        "outputId": "2b95bad7-1850-4d2f-af66-9cb3b9fb0c06"
      },
      "outputs": [
        {
          "output_type": "execute_result",
          "data": {
            "text/plain": [
              "array([[0.87812366, 0.21911875, 0.28311692],\n",
              "       [0.94944526, 0.56786639, 0.32228473],\n",
              "       [0.15159918, 0.37175801, 0.29345529]])"
            ]
          },
          "metadata": {},
          "execution_count": 20
        }
      ],
      "source": [
        "np.random.rand(3, 3)"
      ]
    },
    {
      "cell_type": "markdown",
      "metadata": {
        "id": "IegH2dsPLQgd"
      },
      "source": [
        "* `random.randn()`: 표준 정규 분포(standard normal distribution)를 고려한 랜덤한 수의 배열 생성"
      ]
    },
    {
      "cell_type": "code",
      "execution_count": null,
      "metadata": {
        "colab": {
          "base_uri": "https://localhost:8080/"
        },
        "id": "V61VHa-JLIma",
        "outputId": "39f5ee13-ddef-4bbf-9dcc-e9c950bfdfa9"
      },
      "outputs": [
        {
          "output_type": "execute_result",
          "data": {
            "text/plain": [
              "array([[-1.19334486,  0.58851121,  0.50793727],\n",
              "       [-0.48112214, -1.91316399,  2.63902767],\n",
              "       [-1.53087338, -1.22661971,  0.43914145]])"
            ]
          },
          "metadata": {},
          "execution_count": 21
        }
      ],
      "source": [
        "np.random.randn(3, 3)"
      ]
    },
    {
      "cell_type": "markdown",
      "metadata": {
        "id": "pqtnS-iOJb7D"
      },
      "source": [
        "## 표준 데이터 타입\n",
        "\n",
        "| 데이터 타입\t    | 설명 |\n",
        "|---------------|-------------|\n",
        "| ``bool_``     | 바이트로 저장된 불리언(Boolean)으로 True 또는 False 값을 가짐 |\n",
        "| ``int_``      | 기본 정수(Integer) 타입 | \n",
        "| ``intc``      | C 언어에서 사용되는 ``int``와 동일 (일반적으로 ``int32`` 또는 ``int64``) | \n",
        "| ``intp``      | 인덱싱에 사용되는 정수 (C 언어에서 ``ssize_t``와 동일; 일반적으로 ``int32`` 또는 ``int64``) | \n",
        "| ``int8``      | 바이트(Byte) (-128 ~ 127) | \n",
        "| ``int16``     | 정수 (-32768 ~ 32767) |\n",
        "| ``int32``     | 정수 (-2147483648 ~ 2147483647) |\n",
        "| ``int64``     | 정수(-9223372036854775808 ~ 9223372036854775807) | \n",
        "| ``uint8``     | 부호 없는 정수 (0 ~ 255) | \n",
        "| ``uint16``    | 부호 없는 정수 (0 ~ 65535) | \n",
        "| ``uint32``    | 부호 없는 정수 (0 ~ 4294967295) | \n",
        "| ``uint64``    | 부호 없는 정수 (0 ~ 18446744073709551615) |  \n",
        "| ``float16``   | 반정밀 부동 소수점(Half precision float): 부호 비트, 5비트 지수, 10비트 가수 | \n",
        "| ``float32``   | 단정밀 부동 소수점(Single precision float): 부호 비트, 8비트 지수, 23비트 가수| \n",
        "| ``float64``   | 배정밀 부동 소수점(Double precision float): 부호 비트, 11비트 지수, 52비트 가수 |\n",
        "| ``float_``    | ``float64``를 줄여서 표현 |\n",
        "| ``complex64`` | 복소수(Complex number), 두 개의 32비트 부동 소수점으로 표현 | \n",
        "| ``complex128``| 복소수, 두 개의 64비트 부동 소수점으로 표현| \n",
        "| ``complex_``  | ``complex128``를 줄여서 표현 | "
      ]
    },
    {
      "cell_type": "code",
      "execution_count": null,
      "metadata": {
        "colab": {
          "base_uri": "https://localhost:8080/"
        },
        "id": "aNN0Ao5AJb7E",
        "outputId": "740700d8-a102-4d3b-a26b-48cef59cff85"
      },
      "outputs": [
        {
          "output_type": "execute_result",
          "data": {
            "text/plain": [
              "array([0, 0, 0, 0, 0, 0, 0, 0, 0, 0, 0, 0, 0, 0, 0, 0, 0, 0, 0, 0])"
            ]
          },
          "metadata": {},
          "execution_count": 22
        }
      ],
      "source": [
        "np.zeros(20, dtype=int)"
      ]
    },
    {
      "cell_type": "code",
      "execution_count": null,
      "metadata": {
        "colab": {
          "base_uri": "https://localhost:8080/"
        },
        "id": "u7Mjxbz5Jb7E",
        "outputId": "5d93ee57-3387-4396-c10d-dd940b8c7929"
      },
      "outputs": [
        {
          "output_type": "execute_result",
          "data": {
            "text/plain": [
              "array([[ True,  True,  True],\n",
              "       [ True,  True,  True],\n",
              "       [ True,  True,  True]])"
            ]
          },
          "metadata": {},
          "execution_count": 23
        }
      ],
      "source": [
        "np.ones((3, 3), dtype=bool)"
      ]
    },
    {
      "cell_type": "code",
      "execution_count": null,
      "metadata": {
        "colab": {
          "base_uri": "https://localhost:8080/"
        },
        "id": "-eI36JqoJb7E",
        "outputId": "7d6b373a-69e3-45d7-913b-a88b90d004e7"
      },
      "outputs": [
        {
          "output_type": "execute_result",
          "data": {
            "text/plain": [
              "array([[1., 1., 1.],\n",
              "       [1., 1., 1.],\n",
              "       [1., 1., 1.]])"
            ]
          },
          "metadata": {},
          "execution_count": 24
        }
      ],
      "source": [
        "np.full((3, 3), 1, dtype=float)"
      ]
    },
    {
      "cell_type": "markdown",
      "metadata": {
        "id": "5AREIamhGxAr"
      },
      "source": [
        "\n",
        "\n",
        "---\n",
        "\n"
      ]
    },
    {
      "cell_type": "markdown",
      "metadata": {
        "id": "d88tkTqbBE5V"
      },
      "source": [
        "# 배열 조회"
      ]
    },
    {
      "cell_type": "markdown",
      "metadata": {
        "id": "vRqwfbjtFnPn"
      },
      "source": [
        "## 배열 속성 정보"
      ]
    },
    {
      "cell_type": "code",
      "execution_count": null,
      "metadata": {
        "id": "R5Rlcll7GXrM"
      },
      "outputs": [],
      "source": [
        "def array_info(array):\n",
        "    print(array)\n",
        "    print(\"ndim:\", array.ndim)\n",
        "    print(\"shape:\", array.shape)\n",
        "    print(\"dtype:\", array.dtype)\n",
        "    print(\"size:\", array.size)\n",
        "    print(\"itemsize:\", array.itemsize)\n",
        "    print(\"nbytes:\", array.nbytes)\n",
        "    print(\"strides:\", array.strides)"
      ]
    },
    {
      "cell_type": "code",
      "execution_count": null,
      "metadata": {
        "colab": {
          "base_uri": "https://localhost:8080/"
        },
        "id": "Na59LwA7KXZV",
        "outputId": "c026050f-0397-4097-821e-fe49031ba4f8"
      },
      "outputs": [
        {
          "output_type": "stream",
          "name": "stdout",
          "text": [
            "[1 2 3 4 5]\n",
            "ndim: 1\n",
            "shape: (5,)\n",
            "dtype: int64\n",
            "size: 5\n",
            "itemsize: 8\n",
            "nbytes: 40\n",
            "strides: (8,)\n"
          ]
        }
      ],
      "source": [
        "array_info(a1)"
      ]
    },
    {
      "cell_type": "code",
      "execution_count": null,
      "metadata": {
        "colab": {
          "base_uri": "https://localhost:8080/"
        },
        "id": "Urzr_LsdLah0",
        "outputId": "9ac17eee-fd70-468a-b116-46fbd6ca797c"
      },
      "outputs": [
        {
          "output_type": "stream",
          "name": "stdout",
          "text": [
            "[[1 2 3]\n",
            " [4 5 6]]\n",
            "ndim: 2\n",
            "shape: (2, 3)\n",
            "dtype: int64\n",
            "size: 6\n",
            "itemsize: 8\n",
            "nbytes: 48\n",
            "strides: (24, 8)\n"
          ]
        }
      ],
      "source": [
        "array_info(a2)"
      ]
    },
    {
      "cell_type": "code",
      "execution_count": null,
      "metadata": {
        "colab": {
          "base_uri": "https://localhost:8080/"
        },
        "id": "jktqh1lsLf4V",
        "outputId": "32585b8d-98c4-4412-96ce-32f48d3fccd2"
      },
      "outputs": [
        {
          "output_type": "stream",
          "name": "stdout",
          "text": [
            "[[[1 2 3 4]\n",
            "  [5 6 7 8]\n",
            "  [9 0 1 2]]\n",
            "\n",
            " [[3 4 5 6]\n",
            "  [7 8 9 0]\n",
            "  [1 2 3 4]]]\n",
            "ndim: 3\n",
            "shape: (2, 3, 4)\n",
            "dtype: int64\n",
            "size: 24\n",
            "itemsize: 8\n",
            "nbytes: 192\n",
            "strides: (96, 32, 8)\n"
          ]
        }
      ],
      "source": [
        "array_info(a3)"
      ]
    },
    {
      "cell_type": "markdown",
      "metadata": {
        "id": "LV1WfdBWFqDu"
      },
      "source": [
        "## 인덱싱(Indexing)"
      ]
    },
    {
      "cell_type": "code",
      "execution_count": null,
      "metadata": {
        "colab": {
          "base_uri": "https://localhost:8080/"
        },
        "id": "Nyb7eDmGFr5m",
        "outputId": "a892f10f-dd75-4cc7-c8a8-3bf8aac7f6cc"
      },
      "outputs": [
        {
          "output_type": "stream",
          "name": "stdout",
          "text": [
            "[1 2 3 4 5]\n",
            "1\n",
            "3\n",
            "5\n",
            "4\n"
          ]
        }
      ],
      "source": [
        "print(a1)\n",
        "print(a1[0])\n",
        "print(a1[2])\n",
        "print(a1[-1])\n",
        "print(a1[-2])"
      ]
    },
    {
      "cell_type": "code",
      "execution_count": null,
      "metadata": {
        "colab": {
          "base_uri": "https://localhost:8080/"
        },
        "id": "uHMNcQW3Kn-h",
        "outputId": "f67edce0-f1d7-48dd-a20f-534ac71a7548"
      },
      "outputs": [
        {
          "output_type": "stream",
          "name": "stdout",
          "text": [
            "[[1 2 3]\n",
            " [4 5 6]]\n",
            "1\n",
            "3\n",
            "6\n"
          ]
        }
      ],
      "source": [
        "print(a2)\n",
        "print(a2[0, 0])\n",
        "print(a2[0, 2])\n",
        "print(a2[1, -1])"
      ]
    },
    {
      "cell_type": "code",
      "execution_count": null,
      "metadata": {
        "colab": {
          "base_uri": "https://localhost:8080/"
        },
        "id": "IX5yDMGiMxYZ",
        "outputId": "81f50eb9-72b9-4e12-e6a5-00cbb44340df"
      },
      "outputs": [
        {
          "output_type": "stream",
          "name": "stdout",
          "text": [
            "[[[1 2 3 4]\n",
            "  [5 6 7 8]\n",
            "  [9 0 1 2]]\n",
            "\n",
            " [[3 4 5 6]\n",
            "  [7 8 9 0]\n",
            "  [1 2 3 4]]]\n",
            "1\n",
            "8\n",
            "2\n"
          ]
        }
      ],
      "source": [
        "print(a3)\n",
        "print(a3[0, 0, 0])\n",
        "print(a3[1, 1, 1])\n",
        "print(a3[0, -1, -1])"
      ]
    },
    {
      "cell_type": "markdown",
      "metadata": {
        "id": "uSeXu2y_O4cu"
      },
      "source": [
        "## 슬라이싱(Slicing)"
      ]
    },
    {
      "cell_type": "markdown",
      "metadata": {
        "id": "1hikO_6ZPp5m"
      },
      "source": [
        "* 슬라이싱 구문: `a[start:stop:step]`\n",
        "* 기본값: start=0, stop=ndim, step=1"
      ]
    },
    {
      "cell_type": "code",
      "execution_count": null,
      "metadata": {
        "colab": {
          "base_uri": "https://localhost:8080/"
        },
        "id": "PYZOOCoVO7BF",
        "outputId": "7177797e-411c-4fec-cf00-beb502253283"
      },
      "outputs": [
        {
          "output_type": "stream",
          "name": "stdout",
          "text": [
            "[1 2 3 4 5]\n",
            "[1 2]\n",
            "[2 3 4 5]\n",
            "[1 2 3]\n",
            "[1 3 5]\n",
            "[5 4 3 2 1]\n"
          ]
        }
      ],
      "source": [
        "print(a1)\n",
        "print(a1[0:2])\n",
        "print(a1[1:])\n",
        "print(a1[:3])\n",
        "print(a1[::2])\n",
        "print(a1[::-1])"
      ]
    },
    {
      "cell_type": "code",
      "execution_count": null,
      "metadata": {
        "colab": {
          "base_uri": "https://localhost:8080/"
        },
        "id": "oULOFrBQWs1G",
        "outputId": "0aba5d64-41f9-4439-9721-47bab3916d57"
      },
      "outputs": [
        {
          "output_type": "stream",
          "name": "stdout",
          "text": [
            "[[1 2 3]\n",
            " [4 5 6]]\n",
            "[4 5 6]\n",
            "[4 5 6]\n",
            "[[1 2]]\n",
            "[[6 5 4]]\n",
            "[[4 5 6]\n",
            " [1 2 3]]\n",
            "[[6 5 4]\n",
            " [3 2 1]]\n"
          ]
        }
      ],
      "source": [
        "print(a2)\n",
        "print(a2[1])\n",
        "print(a2[1, :])\n",
        "print(a2[:1, :2])\n",
        "print(a2[1:, ::-1])\n",
        "print(a2[::-1, ::1])\n",
        "print(a2[::-1, ::-1])"
      ]
    },
    {
      "cell_type": "markdown",
      "metadata": {
        "id": "LD52bXAsBgbH"
      },
      "source": [
        "## 불리언 인덱싱(Boolean Indexing)\n",
        "\n",
        "* 배열 각 요소의 선택 여부를 불리언(True or False)로 지정\n",
        "* True 값인 인덱스의 값만 조회"
      ]
    },
    {
      "cell_type": "code",
      "execution_count": null,
      "metadata": {
        "colab": {
          "base_uri": "https://localhost:8080/"
        },
        "id": "pOvNsH2oBgz-",
        "outputId": "d2977bbe-e5b0-4abe-d7f1-dd696a342067"
      },
      "outputs": [
        {
          "output_type": "stream",
          "name": "stdout",
          "text": [
            "[1 2 3 4 5]\n",
            "[2 3 5]\n",
            "[1 3 4]\n"
          ]
        }
      ],
      "source": [
        "print(a1)\n",
        "bi = [False, True, True, False, True]\n",
        "print(a1[bi])\n",
        "bi = [True, False, True, True, False]\n",
        "print(a1[bi])"
      ]
    },
    {
      "cell_type": "code",
      "execution_count": null,
      "metadata": {
        "colab": {
          "base_uri": "https://localhost:8080/"
        },
        "id": "EFfquM2kWHAU",
        "outputId": "4a667e02-5663-4067-e7c8-881dfee13fbb"
      },
      "outputs": [
        {
          "output_type": "stream",
          "name": "stdout",
          "text": [
            "[[1 2 3]\n",
            " [4 5 6]]\n",
            "[[False False  True]\n",
            " [False False False]]\n",
            "[3]\n"
          ]
        }
      ],
      "source": [
        "print(a2)\n",
        "bi = np.random.randint(0, 2, (2, 3), dtype=bool)\n",
        "print(bi)\n",
        "print(a2[bi])"
      ]
    },
    {
      "cell_type": "markdown",
      "metadata": {
        "id": "F71_PQF1GvTs"
      },
      "source": [
        "\n",
        "\n",
        "---\n",
        "\n"
      ]
    },
    {
      "cell_type": "markdown",
      "metadata": {
        "id": "zDI5yQ58O-IX"
      },
      "source": [
        "# 배열 값 삽입/수정/삭제/복사"
      ]
    },
    {
      "cell_type": "markdown",
      "metadata": {
        "id": "zajd1qpVOQYy"
      },
      "source": [
        "## 배열 값 삽입\n",
        "\n",
        "* `insert()`: 배열의 특정 위치에 값 삽입\n",
        "* axis를 지정하지 않으면 1차원 배열로 변환\n",
        "* 추가할 방향을 axis로 지정\n",
        "* 원본 배열 변경없이 새로운 배열 반환"
      ]
    },
    {
      "cell_type": "code",
      "execution_count": null,
      "metadata": {
        "colab": {
          "base_uri": "https://localhost:8080/"
        },
        "id": "sedRT54rP395",
        "outputId": "e6e0d54c-50ba-43a2-c75c-13f97d248c29"
      },
      "outputs": [
        {
          "output_type": "stream",
          "name": "stdout",
          "text": [
            "[1 2 3 4 5]\n",
            "[10  1  2  3  4  5]\n",
            "[ 1  2 10  3  4  5]\n"
          ]
        }
      ],
      "source": [
        "print(a1)\n",
        "b1 = np.insert(a1, 0, 10)\n",
        "print(b1)\n",
        "c1 = np.insert(a1, 2, 10)\n",
        "print(c1)"
      ]
    },
    {
      "cell_type": "code",
      "execution_count": null,
      "metadata": {
        "colab": {
          "base_uri": "https://localhost:8080/"
        },
        "id": "zNmu1E4iQ6h-",
        "outputId": "b217ce14-1610-4641-c35c-005c7e68149a"
      },
      "outputs": [
        {
          "output_type": "stream",
          "name": "stdout",
          "text": [
            "[[1 2 3]\n",
            " [4 5 6]]\n",
            "[[ 1  2  3]\n",
            " [10 10 10]\n",
            " [ 4  5  6]]\n",
            "[[ 1 10  2  3]\n",
            " [ 4 10  5  6]]\n"
          ]
        }
      ],
      "source": [
        "print(a2)\n",
        "b2 = np.insert(a2, 1, 10, axis=0)\n",
        "print(b2)\n",
        "c2 = np.insert(a2, 1, 10, axis=1)\n",
        "print(c2)"
      ]
    },
    {
      "cell_type": "markdown",
      "metadata": {
        "id": "OlEzG4ffNjyL"
      },
      "source": [
        "## 배열 값 수정\n",
        "\n",
        "* 배열의 인덱싱으로 접근하여 값 수정"
      ]
    },
    {
      "cell_type": "code",
      "execution_count": null,
      "metadata": {
        "colab": {
          "base_uri": "https://localhost:8080/"
        },
        "id": "ec43i1KWNjeN",
        "outputId": "c707ddf6-fb17-4e40-a457-a273a2cdb95e"
      },
      "outputs": [
        {
          "output_type": "stream",
          "name": "stdout",
          "text": [
            "[11 22 33  4  5]\n"
          ]
        }
      ],
      "source": [
        "a1[0] = 11\n",
        "a1[1] = 22\n",
        "a1[2] = 33\n",
        "print(a1)"
      ]
    },
    {
      "cell_type": "code",
      "execution_count": null,
      "metadata": {
        "colab": {
          "base_uri": "https://localhost:8080/"
        },
        "id": "IApNNx3NOMQh",
        "outputId": "cdb953a1-d2b8-4092-b462-700a19efc04e"
      },
      "outputs": [
        {
          "output_type": "stream",
          "name": "stdout",
          "text": [
            "[ 9  9 33  4  5]\n"
          ]
        }
      ],
      "source": [
        "a1[:2] = 9\n",
        "print(a1)"
      ]
    },
    {
      "cell_type": "code",
      "execution_count": null,
      "metadata": {
        "colab": {
          "base_uri": "https://localhost:8080/"
        },
        "id": "7nOybj1GJb7K",
        "outputId": "cc83a16c-6f9f-4477-c73b-4f0c0afa31ad"
      },
      "outputs": [
        {
          "output_type": "stream",
          "name": "stdout",
          "text": [
            "[ 9  0 33  0  0]\n"
          ]
        }
      ],
      "source": [
        "i = np.array([1, 3, 4])\n",
        "a1[i] = 0\n",
        "print(a1)"
      ]
    },
    {
      "cell_type": "code",
      "execution_count": null,
      "metadata": {
        "colab": {
          "base_uri": "https://localhost:8080/"
        },
        "id": "-jOQGq69Jb7K",
        "outputId": "5680bf6d-8ff1-42da-eba0-8409e05ae6bd"
      },
      "outputs": [
        {
          "output_type": "stream",
          "name": "stdout",
          "text": [
            "[[1 2 3]\n",
            " [4 5 6]\n",
            " [7 8 9]]\n"
          ]
        }
      ],
      "source": [
        "a2 = np.array([[1, 2, 3], [4, 5, 6], [7, 8, 9]])\n",
        "print(a2)"
      ]
    },
    {
      "cell_type": "code",
      "execution_count": null,
      "metadata": {
        "colab": {
          "base_uri": "https://localhost:8080/"
        },
        "id": "EGSWuTncJb7L",
        "outputId": "25f5c468-58b0-4d09-8a62-e6a7c74a774e"
      },
      "outputs": [
        {
          "output_type": "stream",
          "name": "stdout",
          "text": [
            "[[11  2  3]\n",
            " [ 4 22  6]\n",
            " [ 7  8  9]]\n"
          ]
        }
      ],
      "source": [
        "a2[0, 0] = 11\n",
        "a2[1, 1] = 22\n",
        "print(a2)"
      ]
    },
    {
      "cell_type": "code",
      "execution_count": null,
      "metadata": {
        "colab": {
          "base_uri": "https://localhost:8080/"
        },
        "id": "KxavoA03Jb7L",
        "outputId": "d587db49-0c10-4a8b-ff88-4609fe29be16"
      },
      "outputs": [
        {
          "output_type": "stream",
          "name": "stdout",
          "text": [
            "[[ 1  1  1]\n",
            " [ 4 22  6]\n",
            " [ 7  8  9]]\n"
          ]
        }
      ],
      "source": [
        "a2[0] = 1\n",
        "print(a2)"
      ]
    },
    {
      "cell_type": "code",
      "execution_count": null,
      "metadata": {
        "colab": {
          "base_uri": "https://localhost:8080/"
        },
        "id": "LSPiwkG5Jb7L",
        "outputId": "3e03b003-5e8d-4d1d-9c52-cd477ba8d62d"
      },
      "outputs": [
        {
          "output_type": "stream",
          "name": "stdout",
          "text": [
            "[[ 1  1  1]\n",
            " [ 4 22 19]\n",
            " [ 7  8 19]]\n"
          ]
        }
      ],
      "source": [
        "a2[1:, 2] = 19\n",
        "print(a2)"
      ]
    },
    {
      "cell_type": "markdown",
      "metadata": {
        "id": "emV7DgrITPcn"
      },
      "source": [
        "## 배열 값 삭제\n",
        "\n",
        "* `delete()`: 배열의 특정 위치에 값 삭제\n",
        "* axis를 지정하지 않으면 1차원 배열로 변환\n",
        "* 삭제할 방향을 axis로 지정\n",
        "* 원본 배열 변경없이 새로운 배열 반환"
      ]
    },
    {
      "cell_type": "code",
      "execution_count": null,
      "metadata": {
        "colab": {
          "base_uri": "https://localhost:8080/"
        },
        "id": "I3k_Yx8lTRJ2",
        "outputId": "9e764f91-2f87-4b15-ef0f-43c6f3ce2583"
      },
      "outputs": [
        {
          "output_type": "stream",
          "name": "stdout",
          "text": [
            "[1 2 3 4 5]\n"
          ]
        }
      ],
      "source": [
        "a1 = np.array([1, 2, 3, 4, 5])\n",
        "print(a1)"
      ]
    },
    {
      "cell_type": "code",
      "execution_count": null,
      "metadata": {
        "colab": {
          "base_uri": "https://localhost:8080/"
        },
        "id": "tRTwMIfJTq_y",
        "outputId": "a5768e31-2eb6-4b98-b6b8-ba3aa5c63085"
      },
      "outputs": [
        {
          "output_type": "stream",
          "name": "stdout",
          "text": [
            "[1 3 4 5]\n",
            "[1 2 3 4 5]\n"
          ]
        }
      ],
      "source": [
        "b1 = np.delete(a1, 1)\n",
        "print(b1)\n",
        "print(a1)"
      ]
    },
    {
      "cell_type": "code",
      "execution_count": null,
      "metadata": {
        "colab": {
          "base_uri": "https://localhost:8080/"
        },
        "id": "N0vRrncNJb7M",
        "outputId": "a4272923-2d05-4e3f-c98b-306908f840be"
      },
      "outputs": [
        {
          "output_type": "stream",
          "name": "stdout",
          "text": [
            "[[1 2 3]\n",
            " [4 5 6]\n",
            " [7 8 9]]\n"
          ]
        }
      ],
      "source": [
        "a2 = np.array([[1, 2, 3], [4, 5, 6], [7, 8, 9]])\n",
        "print(a2)"
      ]
    },
    {
      "cell_type": "code",
      "execution_count": null,
      "metadata": {
        "colab": {
          "base_uri": "https://localhost:8080/"
        },
        "id": "SWdekYZ1Jb7M",
        "outputId": "0be811e8-feae-4a21-d171-ef142db2be7a"
      },
      "outputs": [
        {
          "output_type": "stream",
          "name": "stdout",
          "text": [
            "[[1 2 3]\n",
            " [7 8 9]]\n"
          ]
        }
      ],
      "source": [
        "b2 = np.delete(a2, 1, axis=0)\n",
        "print(b2)"
      ]
    },
    {
      "cell_type": "code",
      "execution_count": null,
      "metadata": {
        "colab": {
          "base_uri": "https://localhost:8080/"
        },
        "id": "JIQW9uWTJb7M",
        "outputId": "b0b069e0-75f8-46f0-c0b6-b9e36e31c72b"
      },
      "outputs": [
        {
          "output_type": "stream",
          "name": "stdout",
          "text": [
            "[[1 3]\n",
            " [4 6]\n",
            " [7 9]]\n"
          ]
        }
      ],
      "source": [
        "c2 = np.delete(a2, 1, axis=1)\n",
        "print(c2)"
      ]
    },
    {
      "cell_type": "markdown",
      "metadata": {
        "id": "UydkYxV8Z6Fx"
      },
      "source": [
        "## 배열 복사\n",
        "\n",
        "* 리스트 자료형과 달리 배열의 슬라이스는 복사본이 아님"
      ]
    },
    {
      "cell_type": "code",
      "execution_count": null,
      "metadata": {
        "colab": {
          "base_uri": "https://localhost:8080/"
        },
        "id": "n2_0L8KWZ7wH",
        "outputId": "861b2fe0-26ce-4697-c98f-a4dcfe604e1f"
      },
      "outputs": [
        {
          "output_type": "stream",
          "name": "stdout",
          "text": [
            "[[1 2 3]\n",
            " [4 5 6]\n",
            " [7 8 9]]\n"
          ]
        }
      ],
      "source": [
        "print(a2)"
      ]
    },
    {
      "cell_type": "code",
      "execution_count": null,
      "metadata": {
        "colab": {
          "base_uri": "https://localhost:8080/"
        },
        "id": "XppLtE-1Jb7N",
        "outputId": "52475c07-5736-47c2-f484-c795af95760d"
      },
      "outputs": [
        {
          "output_type": "stream",
          "name": "stdout",
          "text": [
            "[[1 2]\n",
            " [4 5]]\n"
          ]
        }
      ],
      "source": [
        "a2_sub = a2[:2, :2]\n",
        "print(a2_sub)"
      ]
    },
    {
      "cell_type": "code",
      "execution_count": null,
      "metadata": {
        "colab": {
          "base_uri": "https://localhost:8080/"
        },
        "id": "qALO81i2Jb7N",
        "outputId": "5740d3dc-d583-4dd1-ee98-26613c85df2b"
      },
      "outputs": [
        {
          "output_type": "stream",
          "name": "stdout",
          "text": [
            "[[1 0]\n",
            " [4 0]]\n",
            "[[1 0 3]\n",
            " [4 0 6]\n",
            " [7 8 9]]\n"
          ]
        }
      ],
      "source": [
        "a2_sub[:, 1] = 0\n",
        "print(a2_sub)\n",
        "print(a2)"
      ]
    },
    {
      "cell_type": "markdown",
      "metadata": {
        "id": "UrQqOC1Eat5l"
      },
      "source": [
        "\n",
        "* `copy()`: 배열이나 하위 배열 내의 값을 명시적으로 복사"
      ]
    },
    {
      "cell_type": "code",
      "execution_count": null,
      "metadata": {
        "colab": {
          "base_uri": "https://localhost:8080/"
        },
        "id": "hLBZ7Qn6bAKO",
        "outputId": "436418dc-b0ff-415d-c33d-5c8686c945fe"
      },
      "outputs": [
        {
          "output_type": "stream",
          "name": "stdout",
          "text": [
            "[[1 2 3]\n",
            " [4 5 6]\n",
            " [7 8 9]]\n"
          ]
        }
      ],
      "source": [
        "a2 = np.array([[1, 2, 3], [4, 5, 6], [7, 8, 9]])\n",
        "print(a2)"
      ]
    },
    {
      "cell_type": "code",
      "execution_count": null,
      "metadata": {
        "colab": {
          "base_uri": "https://localhost:8080/"
        },
        "id": "5d0HWnf9Jb7O",
        "outputId": "25714f9c-902f-42e4-c43e-6c41fa3e1dc3"
      },
      "outputs": [
        {
          "output_type": "stream",
          "name": "stdout",
          "text": [
            "[[1 2]\n",
            " [4 5]]\n"
          ]
        }
      ],
      "source": [
        "a2_sub_copy = a2[:2, :2].copy()\n",
        "print(a2_sub_copy)"
      ]
    },
    {
      "cell_type": "code",
      "execution_count": null,
      "metadata": {
        "colab": {
          "base_uri": "https://localhost:8080/"
        },
        "id": "dCW4o8wfJb7O",
        "outputId": "db2186ba-9783-4dae-de5d-8f0c8268cd9c"
      },
      "outputs": [
        {
          "output_type": "stream",
          "name": "stdout",
          "text": [
            "[[1 0]\n",
            " [4 0]]\n",
            "[[1 2 3]\n",
            " [4 5 6]\n",
            " [7 8 9]]\n"
          ]
        }
      ],
      "source": [
        "a2_sub_copy[:, 1] = 0\n",
        "print(a2_sub_copy)\n",
        "print(a2)"
      ]
    },
    {
      "cell_type": "markdown",
      "metadata": {
        "id": "4HTc9FXOGtA7"
      },
      "source": [
        "\n",
        "\n",
        "---\n",
        "\n"
      ]
    },
    {
      "cell_type": "markdown",
      "metadata": {
        "id": "XVZY082__yV6"
      },
      "source": [
        "# 배열 변환"
      ]
    },
    {
      "cell_type": "markdown",
      "metadata": {
        "id": "Ec09aPeBO58M"
      },
      "source": [
        "## 배열 전치 및 축 변경"
      ]
    },
    {
      "cell_type": "code",
      "execution_count": null,
      "metadata": {
        "colab": {
          "base_uri": "https://localhost:8080/"
        },
        "id": "anYByBpoWZmj",
        "outputId": "83552b37-847c-4020-d714-5480be5ccd01"
      },
      "outputs": [
        {
          "output_type": "stream",
          "name": "stdout",
          "text": [
            "[[1 4 7]\n",
            " [2 5 8]\n",
            " [3 6 9]]\n"
          ]
        }
      ],
      "source": [
        "print(a2.T)"
      ]
    },
    {
      "cell_type": "code",
      "execution_count": null,
      "metadata": {
        "colab": {
          "base_uri": "https://localhost:8080/"
        },
        "id": "6lPwXL8rRTfI",
        "outputId": "86e78c8e-a6d8-4a27-eefb-3798eed5e819"
      },
      "outputs": [
        {
          "output_type": "stream",
          "name": "stdout",
          "text": [
            "[[1 4 7]\n",
            " [2 5 8]\n",
            " [3 6 9]]\n"
          ]
        }
      ],
      "source": [
        "print(a2.swapaxes(1, 0))"
      ]
    },
    {
      "cell_type": "markdown",
      "metadata": {
        "id": "M7xN8WdOdb_S"
      },
      "source": [
        "## 배열 재구조화\n"
      ]
    },
    {
      "cell_type": "markdown",
      "metadata": {
        "id": "JwZJMpXGfY0V"
      },
      "source": [
        "* `reshape()`: 배열의 형상을 변경"
      ]
    },
    {
      "cell_type": "code",
      "execution_count": null,
      "metadata": {
        "colab": {
          "base_uri": "https://localhost:8080/"
        },
        "id": "SlGQ17VQdd8i",
        "outputId": "5ef327ff-3d90-4775-f47e-b0dcc1d3be87"
      },
      "outputs": [
        {
          "output_type": "stream",
          "name": "stdout",
          "text": [
            "[1 2 3 4 5 6 7 8 9]\n",
            "[[1 2 3]\n",
            " [4 5 6]\n",
            " [7 8 9]]\n"
          ]
        }
      ],
      "source": [
        "n1 = np.arange(1, 10)\n",
        "print(n1)\n",
        "print(n1.reshape(3, 3))"
      ]
    },
    {
      "cell_type": "markdown",
      "metadata": {
        "id": "y_U1W-fQfuQY"
      },
      "source": [
        "* `newaxis()`: 새로운 축 추가. 한 차원 증가"
      ]
    },
    {
      "cell_type": "code",
      "execution_count": null,
      "metadata": {
        "colab": {
          "base_uri": "https://localhost:8080/"
        },
        "id": "COif_weCfkGo",
        "outputId": "e5727418-2bb4-4035-a547-6e6392b2240d",
        "scrolled": true
      },
      "outputs": [
        {
          "output_type": "stream",
          "name": "stdout",
          "text": [
            "[1 2 3 4 5 6 7 8 9]\n"
          ]
        }
      ],
      "source": [
        "print(n1)"
      ]
    },
    {
      "cell_type": "code",
      "execution_count": null,
      "metadata": {
        "colab": {
          "base_uri": "https://localhost:8080/"
        },
        "id": "gLmS-2U0Jb7Q",
        "outputId": "09ee2f2b-b287-4ad0-9f18-71d39a001c04"
      },
      "outputs": [
        {
          "output_type": "stream",
          "name": "stdout",
          "text": [
            "[[3 4 5]]\n",
            "[[3]\n",
            " [4]\n",
            " [5]]\n"
          ]
        }
      ],
      "source": [
        "print(n1[np.newaxis, 2:5])\n",
        "print(n1[2:5, np.newaxis])"
      ]
    },
    {
      "cell_type": "markdown",
      "metadata": {
        "id": "FR82RSDggbcJ"
      },
      "source": [
        "## 배열 크기 변경"
      ]
    },
    {
      "cell_type": "markdown",
      "metadata": {
        "id": "D1LuDMVFl4tc"
      },
      "source": [
        "* `resize()`: 배열 크기 변경\n",
        "* element의 수가 같으면, 배열 모양만 변경\n",
        "* element의 sequence는 유지됨"
      ]
    },
    {
      "cell_type": "code",
      "execution_count": null,
      "metadata": {
        "colab": {
          "base_uri": "https://localhost:8080/"
        },
        "id": "7B6pHlfxgdSJ",
        "outputId": "f35603b7-3453-4674-8e14-f4f67a3f2ff4"
      },
      "outputs": [
        {
          "output_type": "stream",
          "name": "stdout",
          "text": [
            "[[1 5 4 3 0]\n",
            " [8 8 4 7 1]]\n"
          ]
        }
      ],
      "source": [
        "n2 = np.random.randint(0, 10, (2, 5))\n",
        "print(n2)"
      ]
    },
    {
      "cell_type": "code",
      "execution_count": null,
      "metadata": {
        "colab": {
          "base_uri": "https://localhost:8080/"
        },
        "id": "G8FYls0_Jb7R",
        "outputId": "b315c0df-15a0-433c-948e-b4ef5734dae9"
      },
      "outputs": [
        {
          "output_type": "stream",
          "name": "stdout",
          "text": [
            "[[1 5]\n",
            " [4 3]\n",
            " [0 8]\n",
            " [8 4]\n",
            " [7 1]]\n"
          ]
        }
      ],
      "source": [
        "n2.resize((5, 2))\n",
        "print(n2)"
      ]
    },
    {
      "cell_type": "markdown",
      "metadata": {
        "id": "s0adm-h9l6sv"
      },
      "source": [
        "* resize 크기가 원본 배열보다 크면, 남은 공간은 0으로 채워짐"
      ]
    },
    {
      "cell_type": "code",
      "execution_count": null,
      "metadata": {
        "colab": {
          "base_uri": "https://localhost:8080/"
        },
        "id": "IrX0UcjrlWRV",
        "outputId": "32ed4a14-9475-401e-b762-50cb174da33f"
      },
      "outputs": [
        {
          "output_type": "stream",
          "name": "stdout",
          "text": [
            "[[1 5 4 3 0]\n",
            " [8 8 4 7 1]\n",
            " [0 0 0 0 0]\n",
            " [0 0 0 0 0]\n",
            " [0 0 0 0 0]]\n"
          ]
        }
      ],
      "source": [
        "n2.resize((5, 5), refcheck = False)\n",
        "print(n2)"
      ]
    },
    {
      "cell_type": "code",
      "execution_count": null,
      "metadata": {
        "colab": {
          "base_uri": "https://localhost:8080/"
        },
        "id": "02Y7k2WjJb7R",
        "outputId": "af3b7c76-a833-46a7-9889-e531a78eb181"
      },
      "outputs": [
        {
          "output_type": "execute_result",
          "data": {
            "text/plain": [
              "array([[1, 5, 4, 3, 0],\n",
              "       [8, 8, 4, 7, 1],\n",
              "       [0, 0, 0, 0, 0],\n",
              "       [0, 0, 0, 0, 0],\n",
              "       [0, 0, 0, 0, 0]])"
            ]
          },
          "metadata": {},
          "execution_count": 64
        }
      ],
      "source": [
        "np.resize(n2, (5, 5))"
      ]
    },
    {
      "cell_type": "markdown",
      "metadata": {
        "id": "78hPDEzfl9JB"
      },
      "source": [
        "* resize 크기가 원본 배열보다 작으면, 기본 값은 삭제됨"
      ]
    },
    {
      "cell_type": "code",
      "execution_count": null,
      "metadata": {
        "colab": {
          "base_uri": "https://localhost:8080/"
        },
        "id": "fJWrwhc6lmjW",
        "outputId": "56bbc4b0-f1b0-4422-a8aa-b47a992a8a52"
      },
      "outputs": [
        {
          "output_type": "stream",
          "name": "stdout",
          "text": [
            "[[1 5 4]\n",
            " [3 0 8]\n",
            " [8 4 7]]\n"
          ]
        }
      ],
      "source": [
        "n2.resize((3, 3), refcheck = False)\n",
        "print(n2)"
      ]
    },
    {
      "cell_type": "markdown",
      "metadata": {
        "id": "r9z2gD_pHyx9"
      },
      "source": [
        "## 배열 추가\n",
        "\n",
        "* `append()`: 배열의 끝에 값 추가"
      ]
    },
    {
      "cell_type": "code",
      "execution_count": null,
      "metadata": {
        "colab": {
          "base_uri": "https://localhost:8080/"
        },
        "id": "fH4lpQKNH5s1",
        "outputId": "2fb6333a-ed64-47e6-d21f-0fb0f7da3151"
      },
      "outputs": [
        {
          "output_type": "stream",
          "name": "stdout",
          "text": [
            "[[1 2 3]\n",
            " [4 5 6]\n",
            " [7 8 9]]\n",
            "[[10 11 12]\n",
            " [13 14 15]\n",
            " [16 17 18]]\n"
          ]
        }
      ],
      "source": [
        "a2 = np.arange(1, 10).reshape(3, 3)\n",
        "b2 = np.arange(10, 19).reshape(3, 3)\n",
        "print(a2)\n",
        "print(b2)"
      ]
    },
    {
      "cell_type": "markdown",
      "metadata": {
        "id": "n8SMl5VVIquk"
      },
      "source": [
        "* axis 지정이 없으면 1차원 배열 형태로 변형되어 결합"
      ]
    },
    {
      "cell_type": "code",
      "execution_count": null,
      "metadata": {
        "colab": {
          "base_uri": "https://localhost:8080/"
        },
        "id": "LRltk3yFIVsV",
        "outputId": "af199a10-e5ee-44fc-9c6c-6dc6efbf2de2"
      },
      "outputs": [
        {
          "output_type": "stream",
          "name": "stdout",
          "text": [
            "[ 1  2  3  4  5  6  7  8  9 10 11 12 13 14 15 16 17 18]\n"
          ]
        }
      ],
      "source": [
        "c2 = np.append(a2, b2)\n",
        "print(c2)"
      ]
    },
    {
      "cell_type": "markdown",
      "metadata": {
        "id": "sVW2UFVZJfpR"
      },
      "source": [
        "* axis를 0으로 지정 : 행 방향 결합"
      ]
    },
    {
      "cell_type": "code",
      "execution_count": null,
      "metadata": {
        "colab": {
          "base_uri": "https://localhost:8080/"
        },
        "id": "nwJ4xLOeIbMg",
        "outputId": "fa4aa195-8025-42b2-f57b-2ad93f6ba1c0"
      },
      "outputs": [
        {
          "output_type": "stream",
          "name": "stdout",
          "text": [
            "[[ 1  2  3]\n",
            " [ 4  5  6]\n",
            " [ 7  8  9]\n",
            " [10 11 12]\n",
            " [13 14 15]\n",
            " [16 17 18]]\n"
          ]
        }
      ],
      "source": [
        "c2 = np.append(a2, b2, axis=0)\n",
        "print(c2)"
      ]
    },
    {
      "cell_type": "markdown",
      "metadata": {
        "id": "4YXxzygaJmj-"
      },
      "source": [
        "* axis를 1로 지정 : 열 방향 결합"
      ]
    },
    {
      "cell_type": "code",
      "execution_count": null,
      "metadata": {
        "colab": {
          "base_uri": "https://localhost:8080/"
        },
        "id": "JYE4_5gAJmYe",
        "outputId": "00e45f93-07e3-46bb-cc87-aebcdec16538"
      },
      "outputs": [
        {
          "output_type": "stream",
          "name": "stdout",
          "text": [
            "[[ 1  2  3 10 11 12]\n",
            " [ 4  5  6 13 14 15]\n",
            " [ 7  8  9 16 17 18]]\n"
          ]
        }
      ],
      "source": [
        "c2 = np.append(a2, b2, axis=1)\n",
        "print(c2)"
      ]
    },
    {
      "cell_type": "markdown",
      "metadata": {
        "id": "eYz74NYKo8iH"
      },
      "source": [
        "## 배열 분할"
      ]
    },
    {
      "cell_type": "markdown",
      "metadata": {
        "id": "wjt2zku5pBmF"
      },
      "source": [
        "* `split()`: 배열 분할"
      ]
    },
    {
      "cell_type": "code",
      "execution_count": null,
      "metadata": {
        "colab": {
          "base_uri": "https://localhost:8080/"
        },
        "id": "H_2e71heo-Eq",
        "outputId": "0d2b35f0-5b2c-417a-a960-4dfdd72d60e6"
      },
      "outputs": [
        {
          "output_type": "stream",
          "name": "stdout",
          "text": [
            "[11 12 13 14 15 16 17 18 19 20]\n"
          ]
        }
      ],
      "source": [
        "a1 = np.arange(11, 21)\n",
        "print(a1)"
      ]
    },
    {
      "cell_type": "code",
      "execution_count": null,
      "metadata": {
        "colab": {
          "base_uri": "https://localhost:8080/"
        },
        "id": "oSMze-AqJb7U",
        "outputId": "99204dd5-3e65-4c2d-9044-93466847bc35"
      },
      "outputs": [
        {
          "output_type": "stream",
          "name": "stdout",
          "text": [
            "[11 12 13 14 15] [16 17 18 19 20]\n"
          ]
        }
      ],
      "source": [
        "b1, c1 = np.split(a1, [5])\n",
        "print(b1, c1)"
      ]
    },
    {
      "cell_type": "code",
      "execution_count": null,
      "metadata": {
        "colab": {
          "base_uri": "https://localhost:8080/"
        },
        "id": "hc4j6FMPJb7V",
        "outputId": "4d0de075-8e6c-4247-ef33-aa1da86efb4c"
      },
      "outputs": [
        {
          "output_type": "stream",
          "name": "stdout",
          "text": [
            "[11 12] [13 14] [15 16] [17 18] [19 20]\n"
          ]
        }
      ],
      "source": [
        "b1, c1, d1, e1, f1 = np.split(a1, [2, 4, 6, 8])\n",
        "print(b1, c1, d1, e1, f1)"
      ]
    },
    {
      "cell_type": "markdown",
      "metadata": {
        "id": "IvvdCQcKsCLn"
      },
      "source": [
        "* `vsplit()`: 수직(y축) 분할. 행 분할"
      ]
    },
    {
      "cell_type": "code",
      "execution_count": null,
      "metadata": {
        "colab": {
          "base_uri": "https://localhost:8080/"
        },
        "id": "GdMYlsiLsCoe",
        "outputId": "68488971-7413-489b-bf59-4d20518face9"
      },
      "outputs": [
        {
          "output_type": "stream",
          "name": "stdout",
          "text": [
            "[[1 2 3]\n",
            " [4 5 6]\n",
            " [7 8 9]]\n"
          ]
        }
      ],
      "source": [
        "a2 = np.arange(1, 10).reshape(3, 3)\n",
        "print(a2)"
      ]
    },
    {
      "cell_type": "code",
      "execution_count": null,
      "metadata": {
        "colab": {
          "base_uri": "https://localhost:8080/"
        },
        "id": "BJARTYnxJb7V",
        "outputId": "d7283412-a6b7-4ec5-cbfe-9e90f867c11d"
      },
      "outputs": [
        {
          "output_type": "stream",
          "name": "stdout",
          "text": [
            "[[1 2 3]\n",
            " [4 5 6]]\n",
            "[[7 8 9]]\n"
          ]
        }
      ],
      "source": [
        "b2, c2 = np.vsplit(a2, [2])\n",
        "print(b2)\n",
        "print(c2)"
      ]
    },
    {
      "cell_type": "markdown",
      "metadata": {
        "id": "1aC0a034rSXi"
      },
      "source": [
        "* `hsplit()`: 수평(x축) 분할. 열 분할"
      ]
    },
    {
      "cell_type": "code",
      "execution_count": null,
      "metadata": {
        "colab": {
          "base_uri": "https://localhost:8080/"
        },
        "id": "ShMnE_bnrSBJ",
        "outputId": "ee669caf-c784-4fe7-b59b-43702a87cfaa"
      },
      "outputs": [
        {
          "output_type": "stream",
          "name": "stdout",
          "text": [
            "[[1 2]\n",
            " [4 5]\n",
            " [7 8]]\n",
            "[[3]\n",
            " [6]\n",
            " [9]]\n"
          ]
        }
      ],
      "source": [
        "b2, c2 = np.hsplit(a2, [2])\n",
        "print(b2)\n",
        "print(c2)"
      ]
    },
    {
      "cell_type": "markdown",
      "metadata": {
        "id": "rK-zrDZuGoVd"
      },
      "source": [
        "\n",
        "\n",
        "---\n",
        "\n"
      ]
    },
    {
      "cell_type": "markdown",
      "metadata": {
        "id": "Vc-iSWewJ3C1"
      },
      "source": [
        "# 배열 연산\n",
        "\n",
        "* NumPy의 배열 연산은 벡터화(vectorized) 연산을 사용\n",
        "* 일반적으로 NumPy의 범용 함수(universal functions)를 통해 구현\n",
        "* 배열 요소에 대한 반복적인 계산을 효율적으로 수행"
      ]
    },
    {
      "cell_type": "markdown",
      "metadata": {
        "id": "Pg2er1A2w3cz"
      },
      "source": [
        "## 브로드캐스팅(Broadcasting)\n",
        "\n",
        "![1.3 Broadcasting.png](https://drive.google.com/uc?id=1iDTSzbR5GILf1-A7aTfNssG_IF6UZAD2)"
      ]
    },
    {
      "cell_type": "code",
      "execution_count": null,
      "metadata": {
        "colab": {
          "base_uri": "https://localhost:8080/"
        },
        "id": "IGU-HRgr20nj",
        "outputId": "308d0102-e84b-4176-e5db-cf0da0f9abb7"
      },
      "outputs": [
        {
          "output_type": "stream",
          "name": "stdout",
          "text": [
            "[1 2 3]\n",
            "[6 7 8]\n"
          ]
        }
      ],
      "source": [
        "a1 = np.array([1, 2, 3])\n",
        "print(a1)\n",
        "print(a1 + 5)"
      ]
    },
    {
      "cell_type": "code",
      "execution_count": null,
      "metadata": {
        "colab": {
          "base_uri": "https://localhost:8080/"
        },
        "id": "W7hgETPyJb7X",
        "outputId": "c5a7b9cc-0c48-470b-fa2c-b3bcc0f75db0"
      },
      "outputs": [
        {
          "output_type": "stream",
          "name": "stdout",
          "text": [
            "[[1 2 3]\n",
            " [4 5 6]\n",
            " [7 8 9]]\n"
          ]
        }
      ],
      "source": [
        "a2 = np.arange(1, 10).reshape(3, 3)\n",
        "print(a2)"
      ]
    },
    {
      "cell_type": "code",
      "execution_count": null,
      "metadata": {
        "colab": {
          "base_uri": "https://localhost:8080/"
        },
        "id": "mH0vLq0LJb7X",
        "outputId": "39e46f2a-e560-4922-964e-23b7972edc93"
      },
      "outputs": [
        {
          "output_type": "stream",
          "name": "stdout",
          "text": [
            "[[ 2  4  6]\n",
            " [ 5  7  9]\n",
            " [ 8 10 12]]\n"
          ]
        }
      ],
      "source": [
        "print(a1 + a2)"
      ]
    },
    {
      "cell_type": "code",
      "execution_count": null,
      "metadata": {
        "colab": {
          "base_uri": "https://localhost:8080/"
        },
        "id": "7XPEQNPnJb7X",
        "outputId": "83543270-c034-4610-93c0-a99dbe7b461e"
      },
      "outputs": [
        {
          "output_type": "stream",
          "name": "stdout",
          "text": [
            "[[1]\n",
            " [2]\n",
            " [3]]\n"
          ]
        }
      ],
      "source": [
        "b2 = np.array([1, 2, 3]).reshape(3, 1)\n",
        "print(b2)"
      ]
    },
    {
      "cell_type": "code",
      "execution_count": null,
      "metadata": {
        "colab": {
          "base_uri": "https://localhost:8080/"
        },
        "id": "bDLbAj-tJb7X",
        "outputId": "01760405-39c5-4775-9222-ad6282809c23"
      },
      "outputs": [
        {
          "output_type": "stream",
          "name": "stdout",
          "text": [
            "[[2 3 4]\n",
            " [3 4 5]\n",
            " [4 5 6]]\n"
          ]
        }
      ],
      "source": [
        "print(a1 + b2)"
      ]
    },
    {
      "cell_type": "markdown",
      "metadata": {
        "id": "NZzLHHLmwl_b"
      },
      "source": [
        "## 산술 연산(Arithmetic Operators)"
      ]
    },
    {
      "cell_type": "markdown",
      "metadata": {
        "id": "4oIlz0bNjK2m"
      },
      "source": [
        "| 연산자\t      | 범용 함수           | 설명        |\n",
        "|---------------|---------------------|-------------|\n",
        "|``+``          |``np.add``           | 덧셈        |\n",
        "|``-``          |``np.subtract``      | 뺄셈        |\n",
        "|``-``          |``np.negative``      | 단항 음수  |\n",
        "|``*``          |``np.multiply``      | 곱셈        |\n",
        "|``/``          |``np.divide``        | 나눗셈      |\n",
        "|``//``         |``np.floor_divide``  | 나눗셈 내림 |\n",
        "|``**``         |``np.power``         | 지수 연산   |\n",
        "|``%``          |``np.mod``           | 나머지 연산 |\n"
      ]
    },
    {
      "cell_type": "code",
      "execution_count": null,
      "metadata": {
        "colab": {
          "base_uri": "https://localhost:8080/"
        },
        "id": "jHrIjHGEi05k",
        "outputId": "fd104cf6-3310-442f-a906-2d599b8726a0"
      },
      "outputs": [
        {
          "output_type": "stream",
          "name": "stdout",
          "text": [
            "[1 2 3 4 5 6 7 8 9]\n"
          ]
        }
      ],
      "source": [
        "a1 = np.arange(1, 10)\n",
        "print(a1)"
      ]
    },
    {
      "cell_type": "code",
      "execution_count": null,
      "metadata": {
        "colab": {
          "base_uri": "https://localhost:8080/"
        },
        "id": "sMUYzXk3psgC",
        "outputId": "c5d86390-830f-49cf-a270-c6080cef925c"
      },
      "outputs": [
        {
          "output_type": "stream",
          "name": "stdout",
          "text": [
            "[ 2  3  4  5  6  7  8  9 10]\n",
            "[11 12 13 14 15 16 17 18 19]\n"
          ]
        }
      ],
      "source": [
        "print(a1 + 1)\n",
        "print(np.add(a1, 10))"
      ]
    },
    {
      "cell_type": "code",
      "execution_count": null,
      "metadata": {
        "colab": {
          "base_uri": "https://localhost:8080/"
        },
        "id": "ZkyjPmk5onPK",
        "outputId": "d4a935c2-8a71-48c1-a239-4af7eca34944"
      },
      "outputs": [
        {
          "output_type": "stream",
          "name": "stdout",
          "text": [
            "[1 2 3 4 5 6 7 8 9]\n",
            "[8 3 5 4 5 9 7 9 3]\n"
          ]
        }
      ],
      "source": [
        "a1 = np.arange(1, 10)\n",
        "b1 = np.random.randint(1, 10, size=9)\n",
        "print(a1)\n",
        "print(b1)"
      ]
    },
    {
      "cell_type": "code",
      "execution_count": null,
      "metadata": {
        "scrolled": true,
        "colab": {
          "base_uri": "https://localhost:8080/"
        },
        "id": "Rox-u1ScJb7Y",
        "outputId": "b05c3e9a-9dcf-4119-c36f-1540d21a4a72"
      },
      "outputs": [
        {
          "output_type": "stream",
          "name": "stdout",
          "text": [
            "[ 9  5  8  8 10 15 14 17 12]\n",
            "[ 9  5  8  8 10 15 14 17 12]\n"
          ]
        }
      ],
      "source": [
        "print(a1 + b1)\n",
        "print(np.add(a1, b1))"
      ]
    },
    {
      "cell_type": "markdown",
      "metadata": {
        "id": "AqbJ8TE5Jb7Z"
      },
      "source": [
        "## 절대값 함수(Absolute Fuction)"
      ]
    },
    {
      "cell_type": "markdown",
      "metadata": {
        "id": "MZ_u2ZY3Jb7Z"
      },
      "source": [
        "* `absolute()`, `abs()` : 내장된 절대값 함수"
      ]
    },
    {
      "cell_type": "code",
      "execution_count": null,
      "metadata": {
        "colab": {
          "base_uri": "https://localhost:8080/"
        },
        "id": "l6VC97eiJb7Z",
        "outputId": "d19a11fe-1d0e-44aa-cf43-c3141dcc423c"
      },
      "outputs": [
        {
          "output_type": "stream",
          "name": "stdout",
          "text": [
            "[5 3 2 6 7]\n",
            "[5 3 2 6 7]\n",
            "[5 3 2 6 7]\n"
          ]
        }
      ],
      "source": [
        "a1 = np.random.randint(-10, 10, size = 5)\n",
        "print(a1)\n",
        "print(np.absolute(a1))\n",
        "print(np.abs(a1))"
      ]
    },
    {
      "cell_type": "markdown",
      "metadata": {
        "id": "AGdSM-qLJb7Z"
      },
      "source": [
        "## 제곱/제곱근 함수"
      ]
    },
    {
      "cell_type": "markdown",
      "metadata": {
        "id": "ZIXwRgDjJb7Z"
      },
      "source": [
        "* `square`, `sqrt` : 제곱, 제곱근 함수"
      ]
    },
    {
      "cell_type": "code",
      "execution_count": null,
      "metadata": {
        "colab": {
          "base_uri": "https://localhost:8080/"
        },
        "id": "QB-p5PzbJb7a",
        "outputId": "bab0436c-c315-4c60-b0ca-91ad79c85ee9"
      },
      "outputs": [
        {
          "output_type": "stream",
          "name": "stdout",
          "text": [
            "[25  9  4 36 49]\n",
            "[2.23606798 1.73205081 1.41421356 2.44948974 2.64575131]\n"
          ]
        }
      ],
      "source": [
        "print(np.square(a1))\n",
        "print(np.sqrt(a1))  # 음수는 제곱근을 구할 수 없음"
      ]
    },
    {
      "cell_type": "markdown",
      "metadata": {
        "id": "BoEvp9M-Jb7a"
      },
      "source": [
        "## 지수와 로그 함수(Exponential and Log Function)"
      ]
    },
    {
      "cell_type": "code",
      "execution_count": null,
      "metadata": {
        "colab": {
          "base_uri": "https://localhost:8080/"
        },
        "id": "wAdmu5ujJb7a",
        "outputId": "0a3eff52-5ab8-4d29-b2f2-0ed2cc325b7f"
      },
      "outputs": [
        {
          "output_type": "stream",
          "name": "stdout",
          "text": [
            "[4 5 5 9 2]\n",
            "[5.45981500e+01 1.48413159e+02 1.48413159e+02 8.10308393e+03\n",
            " 7.38905610e+00]\n",
            "[ 16.  32.  32. 512.   4.]\n",
            "[16 25 25 81  4]\n"
          ]
        }
      ],
      "source": [
        "a1 = np.random.randint(1, 10, size=5)\n",
        "print(a1)\n",
        "print(np.exp(a1))  # e^n(e=2.718....)\n",
        "print(np.exp2(a1))  # 2^n\n",
        "print(np.power(a1, 2))"
      ]
    },
    {
      "cell_type": "code",
      "execution_count": null,
      "metadata": {
        "colab": {
          "base_uri": "https://localhost:8080/"
        },
        "id": "d5J1Hy71Jb7a",
        "outputId": "e9af5374-361d-493a-db8f-a6bb27b7eb34"
      },
      "outputs": [
        {
          "output_type": "stream",
          "name": "stdout",
          "text": [
            "[1.38629436 1.60943791 1.60943791 2.19722458 0.69314718]\n",
            "[2.         2.32192809 2.32192809 3.169925   1.        ]\n",
            "[0.60205999 0.69897    0.69897    0.95424251 0.30103   ]\n"
          ]
        }
      ],
      "source": [
        "print(np.log(a1))\n",
        "print(np.log2(a1))\n",
        "print(np.log10(a1))"
      ]
    },
    {
      "cell_type": "markdown",
      "metadata": {
        "id": "KSk1bLRQJb7a"
      },
      "source": [
        "## 집계 함수(Aggregate Functions)"
      ]
    },
    {
      "cell_type": "markdown",
      "metadata": {
        "id": "Wo6zBeCrJb7a"
      },
      "source": [
        "| 함수\t          | Nan 안전 모드       | 설명                            |\n",
        "|-------------------|---------------------|---------------------------------|\n",
        "|``np.sum``         |``np.nansum``        | 요소의 합 계산                  |\n",
        "|``np.cumsum``      |``np.nancumsum``     | 요소의 누적 합                  |\n",
        "|``np.diff``        |``N/A``              | 요소의 차분                     |\n",
        "|``np.prod``        |``np.nanprod``       | 요소의 곱 계산                  |\n",
        "|``np.cumprod``     |``np.nancumprod``    | 요소의 누적 곱                  |\n",
        "|``np.dot``         |``N/A``              | 점 곱(dot product)              |\n",
        "|``np.matmul``      |``N/A``              | 행렬 곱                         |\n",
        "|``np.tensordot``   |``N/A``              | 텐서 곱(tensor product)         |\n",
        "|``np.cross``       |``N/A``              | 벡터 곱(cross product)          |\n",
        "|``np.inner``       |``N/A``              | 내적(inner product)             |\n",
        "|``np.outer``       |``N/A``              | 외적(outer product)             |\n",
        "|``np.mean``        |``np.nanmean``       | 요소의 평균 계산                |\n",
        "|``np.std``         |``np.nanstd``        | 표준편차 계산                   |\n",
        "|``np.var``         |``np.nanvar``        | 분산 계산                       |\n",
        "|``np.min``         |``np.nanmin``        | 최솟값                          |\n",
        "|``np.max``         |``np.nanmax``        | 최댓값                          |\n",
        "|``np.argmin``      |``np.nanargmin``     | 최솟값 인덱스                   |\n",
        "|``np.argmax``      |``np.nanargmax``     | 최댓값 인덱스                   |\n",
        "|``np.median``      |``np.nanmedian``     | 중앙값                          |\n",
        "|``np.percentile``  |``np.nanpercentile`` | 요소의 순위 기반 백분위 수 계산 |\n",
        "|``np.any``         |``N/A``              | 요소 중 참이 있는지 평가        |\n",
        "|``np.all``         |``N/A``              | 모든 요소가 참인지 평가         |"
      ]
    },
    {
      "cell_type": "markdown",
      "metadata": {
        "id": "i-O_uBfZJb7b"
      },
      "source": [
        "## sum(): 합 계산"
      ]
    },
    {
      "cell_type": "code",
      "execution_count": null,
      "metadata": {
        "colab": {
          "base_uri": "https://localhost:8080/"
        },
        "id": "wgYViLPoJb7b",
        "outputId": "fc0b3a79-dd99-472f-a882-c6ff4fc3f8c8"
      },
      "outputs": [
        {
          "output_type": "stream",
          "name": "stdout",
          "text": [
            "[[5 7 5]\n",
            " [2 1 2]\n",
            " [7 3 6]]\n",
            "38 38\n",
            "[14 11 13] [14 11 13]\n",
            "[17  5 16] [17  5 16]\n"
          ]
        }
      ],
      "source": [
        "a2 = np.random.randint(1, 10, size = (3,3))\n",
        "print(a2)\n",
        "print(a2.sum(), np.sum(a2))\n",
        "print(a2.sum(axis=0), np.sum(a2, axis=0))   # axis=0 열 방향의 합 (결과값의 방향이 행)\n",
        "print(a2.sum(axis=1), np.sum(a2, axis=1))   # axis=1 행 방향의 합 (결과값의 방향이 열)"
      ]
    },
    {
      "cell_type": "markdown",
      "metadata": {
        "id": "N5hHS9IUJb7b"
      },
      "source": [
        "## cumsum(): 누적합 계산"
      ]
    },
    {
      "cell_type": "code",
      "execution_count": null,
      "metadata": {
        "colab": {
          "base_uri": "https://localhost:8080/"
        },
        "id": "EHIerE7_Jb7e",
        "outputId": "35b51671-9030-4b64-cb25-e68fd4ae064e"
      },
      "outputs": [
        {
          "output_type": "stream",
          "name": "stdout",
          "text": [
            "[[5 7 5]\n",
            " [2 1 2]\n",
            " [7 3 6]]\n",
            "[ 5 12 17 19 20 22 29 32 38]\n",
            "[[ 5  7  5]\n",
            " [ 7  8  7]\n",
            " [14 11 13]]\n",
            "[[ 5 12 17]\n",
            " [ 2  3  5]\n",
            " [ 7 10 16]]\n"
          ]
        }
      ],
      "source": [
        "print(a2)\n",
        "print(np.cumsum(a2))\n",
        "print(np.cumsum(a2, axis=0))\n",
        "print(np.cumsum(a2, axis=1))"
      ]
    },
    {
      "cell_type": "markdown",
      "metadata": {
        "id": "F6SVNpXqJb7f"
      },
      "source": [
        "## prod(): 곱 계산"
      ]
    },
    {
      "cell_type": "code",
      "execution_count": null,
      "metadata": {
        "colab": {
          "base_uri": "https://localhost:8080/"
        },
        "id": "zO8xUYKWJb7f",
        "outputId": "acb5570f-06ba-4528-8323-11e6c6ed4ff0"
      },
      "outputs": [
        {
          "output_type": "stream",
          "name": "stdout",
          "text": [
            "[[5 7 5]\n",
            " [2 1 2]\n",
            " [7 3 6]]\n",
            "88200\n",
            "[70 21 60]\n",
            "[175   4 126]\n"
          ]
        }
      ],
      "source": [
        "print(a2)\n",
        "print(np.prod(a2))\n",
        "print(np.prod(a2, axis=0))\n",
        "print(np.prod(a2, axis=1))"
      ]
    },
    {
      "cell_type": "markdown",
      "metadata": {
        "id": "aovtrS1eJb7f"
      },
      "source": [
        "## cumprod(): 누적곱 계산"
      ]
    },
    {
      "cell_type": "code",
      "execution_count": null,
      "metadata": {
        "colab": {
          "base_uri": "https://localhost:8080/"
        },
        "id": "8bj0uAcqJb7f",
        "outputId": "5259c488-0c4d-4b63-9765-9e1c219ae677"
      },
      "outputs": [
        {
          "output_type": "stream",
          "name": "stdout",
          "text": [
            "[[5 7 5]\n",
            " [2 1 2]\n",
            " [7 3 6]]\n",
            "[    5    35   175   350   350   700  4900 14700 88200]\n",
            "[[ 5  7  5]\n",
            " [10  7 10]\n",
            " [70 21 60]]\n",
            "[[  5  35 175]\n",
            " [  2   2   4]\n",
            " [  7  21 126]]\n"
          ]
        }
      ],
      "source": [
        "print(a2)\n",
        "print(np.cumprod(a2))\n",
        "print(np.cumprod(a2, axis=0))\n",
        "print(np.cumprod(a2, axis=1))"
      ]
    },
    {
      "cell_type": "markdown",
      "metadata": {
        "id": "He44yLgRJb7f"
      },
      "source": [
        "## dot()/matmul(): 점곱/행렬곱 계산"
      ]
    },
    {
      "cell_type": "code",
      "execution_count": null,
      "metadata": {
        "colab": {
          "base_uri": "https://localhost:8080/"
        },
        "id": "688P4-D6Jb7g",
        "outputId": "7c974b9c-faf6-4a1b-a014-4e777efd80fc"
      },
      "outputs": [
        {
          "output_type": "stream",
          "name": "stdout",
          "text": [
            "[[5 7 5]\n",
            " [2 1 2]\n",
            " [7 3 6]]\n",
            "[[1 1 1]\n",
            " [1 1 1]\n",
            " [1 1 1]]\n",
            "[[17 17 17]\n",
            " [ 5  5  5]\n",
            " [16 16 16]]\n",
            "[[17 17 17]\n",
            " [ 5  5  5]\n",
            " [16 16 16]]\n"
          ]
        }
      ],
      "source": [
        "print(a2)\n",
        "b2 = np.ones_like(a2)\n",
        "print(b2)\n",
        "print(np.dot(a2, b2))\n",
        "print(np.matmul(a2, b2))"
      ]
    },
    {
      "cell_type": "markdown",
      "metadata": {
        "id": "ruf_x1ShJb7g"
      },
      "source": [
        "## mean(): 평균 계산"
      ]
    },
    {
      "cell_type": "code",
      "execution_count": null,
      "metadata": {
        "colab": {
          "base_uri": "https://localhost:8080/"
        },
        "id": "3gD05dlLJb7g",
        "outputId": "1f515c33-4ce8-4e58-9435-1f8abff0e9c7"
      },
      "outputs": [
        {
          "output_type": "stream",
          "name": "stdout",
          "text": [
            "[[5 7 5]\n",
            " [2 1 2]\n",
            " [7 3 6]]\n",
            "4.222222222222222\n",
            "[4.66666667 3.66666667 4.33333333]\n",
            "[5.66666667 1.66666667 5.33333333]\n"
          ]
        }
      ],
      "source": [
        "print(a2)\n",
        "print(np.mean(a2))\n",
        "print(np.mean(a2, axis=0))\n",
        "print(np.mean(a2, axis=1))"
      ]
    },
    {
      "cell_type": "markdown",
      "metadata": {
        "id": "6UyuDNaQJb7g"
      },
      "source": [
        "## std(): 표준 편차 계산"
      ]
    },
    {
      "cell_type": "code",
      "execution_count": null,
      "metadata": {
        "colab": {
          "base_uri": "https://localhost:8080/"
        },
        "id": "ZwI1QEiUJb7g",
        "outputId": "c18b1da9-7b89-4987-f4b5-6002ffe0ee4f"
      },
      "outputs": [
        {
          "output_type": "stream",
          "name": "stdout",
          "text": [
            "[[5 7 5]\n",
            " [2 1 2]\n",
            " [7 3 6]]\n",
            "2.1487866228681907\n",
            "[2.05480467 2.49443826 1.69967317]\n",
            "[0.94280904 0.47140452 1.69967317]\n"
          ]
        }
      ],
      "source": [
        "print(a2)\n",
        "print(np.std(a2))\n",
        "print(np.std(a2, axis=0))\n",
        "print(np.std(a2, axis=1))"
      ]
    },
    {
      "cell_type": "markdown",
      "metadata": {
        "id": "UWCDz7i7Jb7g"
      },
      "source": [
        "## var(): 분산 계산"
      ]
    },
    {
      "cell_type": "code",
      "execution_count": null,
      "metadata": {
        "colab": {
          "base_uri": "https://localhost:8080/"
        },
        "id": "BvuM7fBUJb7h",
        "outputId": "03d92d19-19f8-4c2f-ceb1-4ea4d3ebeac3"
      },
      "outputs": [
        {
          "output_type": "stream",
          "name": "stdout",
          "text": [
            "[[5 7 5]\n",
            " [2 1 2]\n",
            " [7 3 6]]\n",
            "4.617283950617284\n",
            "[4.22222222 6.22222222 2.88888889]\n",
            "[0.88888889 0.22222222 2.88888889]\n"
          ]
        }
      ],
      "source": [
        "print(a2)\n",
        "print(np.var(a2))\n",
        "print(np.var(a2, axis=0))\n",
        "print(np.var(a2, axis=1))"
      ]
    },
    {
      "cell_type": "markdown",
      "metadata": {
        "id": "BtKIoq8pJb7h"
      },
      "source": [
        "## min(): 최솟값"
      ]
    },
    {
      "cell_type": "code",
      "execution_count": null,
      "metadata": {
        "colab": {
          "base_uri": "https://localhost:8080/"
        },
        "id": "RFNMoTVsJb7h",
        "outputId": "5c03d6b9-9d5b-4e1c-aad0-e75ce35e8559"
      },
      "outputs": [
        {
          "output_type": "stream",
          "name": "stdout",
          "text": [
            "[[5 7 5]\n",
            " [2 1 2]\n",
            " [7 3 6]]\n",
            "1\n",
            "[2 1 2]\n",
            "[5 1 3]\n"
          ]
        }
      ],
      "source": [
        "print(a2)\n",
        "print(np.min(a2))\n",
        "print(np.min(a2, axis=0))\n",
        "print(np.min(a2, axis=1))"
      ]
    },
    {
      "cell_type": "markdown",
      "metadata": {
        "id": "-QeF3vfzJb7h"
      },
      "source": [
        "## max(): 최댓값"
      ]
    },
    {
      "cell_type": "code",
      "execution_count": null,
      "metadata": {
        "colab": {
          "base_uri": "https://localhost:8080/"
        },
        "id": "O-SaYxD8Jb7h",
        "outputId": "fd9d48f4-e466-4e7a-ad0e-a6cd05bfee9c"
      },
      "outputs": [
        {
          "output_type": "stream",
          "name": "stdout",
          "text": [
            "[[5 7 5]\n",
            " [2 1 2]\n",
            " [7 3 6]]\n",
            "7\n",
            "[7 7 6]\n",
            "[7 2 7]\n"
          ]
        }
      ],
      "source": [
        "print(a2)\n",
        "print(np.max(a2))\n",
        "print(np.max(a2, axis=0))\n",
        "print(np.max(a2, axis=1))"
      ]
    },
    {
      "cell_type": "markdown",
      "metadata": {
        "id": "48jVPxe3Jb7h"
      },
      "source": [
        "## argmin(): 최솟값 인덱스"
      ]
    },
    {
      "cell_type": "code",
      "execution_count": null,
      "metadata": {
        "colab": {
          "base_uri": "https://localhost:8080/"
        },
        "id": "uC2VAbQbJb7h",
        "outputId": "4492c3c6-7d8d-409e-958c-c39732ed132f"
      },
      "outputs": [
        {
          "output_type": "stream",
          "name": "stdout",
          "text": [
            "[[5 7 5]\n",
            " [2 1 2]\n",
            " [7 3 6]]\n",
            "4\n",
            "[1 1 1]\n",
            "[0 1 1]\n"
          ]
        }
      ],
      "source": [
        "print(a2)\n",
        "print(np.argmin(a2))\n",
        "print(np.argmin(a2, axis=0))\n",
        "print(np.argmin(a2, axis=1))"
      ]
    },
    {
      "cell_type": "markdown",
      "metadata": {
        "id": "YEdIFG3TJb7i"
      },
      "source": [
        "## argmax(): 최댓값 인덱스"
      ]
    },
    {
      "cell_type": "code",
      "execution_count": null,
      "metadata": {
        "colab": {
          "base_uri": "https://localhost:8080/"
        },
        "id": "l1eaM2N_Jb7i",
        "outputId": "3be7cb9e-8bb3-4b56-89cb-7b8aecdec14a"
      },
      "outputs": [
        {
          "output_type": "stream",
          "name": "stdout",
          "text": [
            "[[5 7 5]\n",
            " [2 1 2]\n",
            " [7 3 6]]\n",
            "1\n",
            "[2 0 2]\n",
            "[1 0 0]\n"
          ]
        }
      ],
      "source": [
        "print(a2)\n",
        "print(np.argmax(a2))\n",
        "print(np.argmax(a2, axis=0))\n",
        "print(np.argmax(a2, axis=1))"
      ]
    },
    {
      "cell_type": "markdown",
      "metadata": {
        "id": "O8SunhNbJb7i"
      },
      "source": [
        "## median(): 중앙값"
      ]
    },
    {
      "cell_type": "code",
      "execution_count": null,
      "metadata": {
        "colab": {
          "base_uri": "https://localhost:8080/"
        },
        "id": "Qc2h0okfJb7i",
        "outputId": "ef548698-c2be-4014-b9b8-a8d168db6eb8"
      },
      "outputs": [
        {
          "output_type": "stream",
          "name": "stdout",
          "text": [
            "[[5 7 5]\n",
            " [2 1 2]\n",
            " [7 3 6]]\n",
            "5.0\n",
            "[5. 3. 5.]\n",
            "[5. 2. 6.]\n"
          ]
        }
      ],
      "source": [
        "print(a2)\n",
        "print(np.median(a2))\n",
        "print(np.median(a2, axis=0))\n",
        "print(np.median(a2, axis=1))"
      ]
    },
    {
      "cell_type": "markdown",
      "metadata": {
        "id": "8pfLo47mJb7i"
      },
      "source": [
        "## percentile(): 백분위 수\n",
        "* percentile(a, q, interpolation='linear')\n",
        "    * a배열 요소의 q번째 백분위 수 계산\n",
        "    * q는 0~100 사이의 값\n",
        "    * interpolation: 백분위 수가 두 데이터 i,j(i<j)사이에 있을 때 사용할 보간 방법\n",
        "        * 'linear': i+(j-i) * fraction, where fraction is the fractional part of the index surrounded by i and j.\n",
        "        * 'lower': i\n",
        "        * 'higher': j\n",
        "        * 'nearest': i or j, whichever is nearest\n",
        "        * 'midpoint': (i+j)/2"
      ]
    },
    {
      "cell_type": "code",
      "execution_count": null,
      "metadata": {
        "colab": {
          "base_uri": "https://localhost:8080/"
        },
        "id": "OfA3n2ZfJb7i",
        "outputId": "df218ae6-55c6-4ee2-e12b-e94a5e3992a0"
      },
      "outputs": [
        {
          "output_type": "stream",
          "name": "stdout",
          "text": [
            "[ 1  2  3  4  5  6  7  8  9 10 11 12]\n",
            "[4.3 6.5 9.8]\n",
            "[4 6 9]\n",
            "[ 5  7 10]\n",
            "[ 4  7 10]\n",
            "[4.5 6.5 9.5]\n"
          ]
        }
      ],
      "source": [
        "a1 = np.arange(1, 13)\n",
        "print(a1)\n",
        "print(np.percentile(a1, [30, 50, 80], interpolation='linear'))\n",
        "print(np.percentile(a1, [30, 50, 80], interpolation='lower'))\n",
        "print(np.percentile(a1, [30, 50, 80], interpolation='higher'))\n",
        "print(np.percentile(a1, [30, 50, 80], interpolation='nearest'))\n",
        "print(np.percentile(a1, [30, 50, 80], interpolation='midpoint'))"
      ]
    },
    {
      "cell_type": "code",
      "execution_count": null,
      "metadata": {
        "colab": {
          "base_uri": "https://localhost:8080/"
        },
        "id": "hBoGAGunJb7j",
        "outputId": "5ada94ef-2287-4f2c-8287-ee0575e5b0f5"
      },
      "outputs": [
        {
          "output_type": "stream",
          "name": "stdout",
          "text": [
            "[[10  7  5]\n",
            " [ 3  2  1]]\n"
          ]
        }
      ],
      "source": [
        "a2 = np.array([[10, 7, 5], [3, 2, 1]])\n",
        "print(a2)"
      ]
    },
    {
      "cell_type": "code",
      "execution_count": null,
      "metadata": {
        "colab": {
          "base_uri": "https://localhost:8080/"
        },
        "id": "M-8GnSBHJb7j",
        "outputId": "99ea212f-9af0-4e09-98de-ba88f76fe85c"
      },
      "outputs": [
        {
          "output_type": "stream",
          "name": "stdout",
          "text": [
            "4.0\n",
            "[6.5 4.5 3. ]\n",
            "[7. 2.]\n"
          ]
        }
      ],
      "source": [
        "print(np.percentile(a2, 50))\n",
        "print(np.percentile(a2, 50, axis=0))\n",
        "print(np.percentile(a2, 50, axis=1))"
      ]
    },
    {
      "cell_type": "markdown",
      "metadata": {
        "id": "CQnn1fCgJb7j"
      },
      "source": [
        "## any()"
      ]
    },
    {
      "cell_type": "code",
      "execution_count": null,
      "metadata": {
        "colab": {
          "base_uri": "https://localhost:8080/"
        },
        "id": "zBsh57i8Jb7j",
        "outputId": "02ba18f5-44d5-4612-8870-07f9577c8f04"
      },
      "outputs": [
        {
          "output_type": "stream",
          "name": "stdout",
          "text": [
            "True\n",
            "[ True  True  True]\n",
            "[False  True  True]\n"
          ]
        }
      ],
      "source": [
        "a2 = np.array([[False, False, False],\n",
        "             [True, True, True],\n",
        "             [False, True, True]])\n",
        "print(np.any(a2))\n",
        "print(np.any(a2, axis=0))\n",
        "print(np.any(a2, axis=1))"
      ]
    },
    {
      "cell_type": "markdown",
      "metadata": {
        "id": "FzU26oniJb7j"
      },
      "source": [
        "## all()"
      ]
    },
    {
      "cell_type": "code",
      "execution_count": null,
      "metadata": {
        "colab": {
          "base_uri": "https://localhost:8080/"
        },
        "id": "xIUOFH_3Jb7j",
        "outputId": "56e1958e-253e-480c-f684-da2a489ea6d8"
      },
      "outputs": [
        {
          "output_type": "stream",
          "name": "stdout",
          "text": [
            "False\n",
            "[False False False]\n",
            "[False  True False]\n"
          ]
        }
      ],
      "source": [
        "a2 = np.array([[False, False, False],\n",
        "             [True, True, True],\n",
        "             [False, True, True]])\n",
        "print(np.all(a2))\n",
        "print(np.all(a2, axis=0))\n",
        "print(np.all(a2, axis=1))"
      ]
    },
    {
      "cell_type": "markdown",
      "metadata": {
        "id": "5K8ESyNlJb7k"
      },
      "source": [
        "## 비교 연산(Comparison Operators)"
      ]
    },
    {
      "cell_type": "markdown",
      "metadata": {
        "id": "IKqWW-JDJb7k"
      },
      "source": [
        "| 연산자      | 비교 범용 함수      | \n",
        "|-------------|---------------------|\n",
        "|``==``       |``np.equal``         |\n",
        "|``!=``       |``np.not_equal``     |\n",
        "|``<``        |``np.less``          |\n",
        "|``<=``       |``np.less_equal``    |\n",
        "|``>``        |``np.greater``       |\n",
        "|``>=``       |``greater_equal``    |"
      ]
    },
    {
      "cell_type": "code",
      "execution_count": null,
      "metadata": {
        "colab": {
          "base_uri": "https://localhost:8080/"
        },
        "id": "QcuZiJJdJb7k",
        "outputId": "7317e58d-d90c-4b28-8ff5-d2b6a213b41e"
      },
      "outputs": [
        {
          "output_type": "stream",
          "name": "stdout",
          "text": [
            "[1 2 3 4 5 6 7 8 9]\n",
            "[False False False False  True False False False False]\n",
            "[ True  True  True  True False  True  True  True  True]\n",
            "[ True  True  True  True False False False False False]\n",
            "[ True  True  True  True  True False False False False]\n",
            "[False False False False False  True  True  True  True]\n",
            "[False False False False  True  True  True  True  True]\n"
          ]
        }
      ],
      "source": [
        "a1 = np.arange(1, 10)\n",
        "print(a1)\n",
        "print(a1 == 5)\n",
        "print(a1 != 5)\n",
        "print(a1 < 5)\n",
        "print(a1 <= 5)\n",
        "print(a1 > 5)\n",
        "print(a1 >= 5)"
      ]
    },
    {
      "cell_type": "markdown",
      "metadata": {
        "id": "gUSP8hrwJb7k"
      },
      "source": [
        "## 배열 정렬\n",
        "* np.sort(array): 정렬된 배열의 복사본 생성. 원본 배열의 변경 없음\n",
        "* array.sort(): 원본 배열의 값이 변경됨"
      ]
    },
    {
      "cell_type": "code",
      "execution_count": null,
      "metadata": {
        "colab": {
          "base_uri": "https://localhost:8080/"
        },
        "id": "E-D5Mdh5Jb7k",
        "outputId": "a8b3fb94-f441-41cd-ce52-826e95eb9546"
      },
      "outputs": [
        {
          "output_type": "stream",
          "name": "stdout",
          "text": [
            "[5 5 6 7 4 2 6 9 1 6]\n"
          ]
        }
      ],
      "source": [
        "a1 = np.random.randint(1, 10, size=10)\n",
        "print(a1)"
      ]
    },
    {
      "cell_type": "code",
      "execution_count": null,
      "metadata": {
        "colab": {
          "base_uri": "https://localhost:8080/"
        },
        "id": "obTx7PFxJb7k",
        "outputId": "f41d79b3-f7c3-45c3-a90d-0d0d1998ee0c"
      },
      "outputs": [
        {
          "output_type": "stream",
          "name": "stdout",
          "text": [
            "[1 2 4 5 5 6 6 6 7 9]\n",
            "[5 5 6 7 4 2 6 9 1 6]\n",
            "None\n",
            "[1 2 4 5 5 6 6 6 7 9]\n"
          ]
        }
      ],
      "source": [
        "print(np.sort(a1))\n",
        "print(a1)\n",
        "print(a1.sort())   # 따로 반환하는 값이 없어서 None 출력\n",
        "print(a1)"
      ]
    },
    {
      "cell_type": "markdown",
      "metadata": {
        "id": "1DKA_QCLJb7l"
      },
      "source": [
        "## 부분 정렬\n",
        "* partition(array, k): 배열에서 k개의 작은 값을 선택하여 왼쪽에 배치\n",
        "    * -k: k개의 큰 값을 오른쪽에 배치"
      ]
    },
    {
      "cell_type": "code",
      "execution_count": null,
      "metadata": {
        "colab": {
          "base_uri": "https://localhost:8080/"
        },
        "id": "w87HEUQuJb7l",
        "outputId": "798a510d-85b9-44d8-cd2a-2471167218f2"
      },
      "outputs": [
        {
          "output_type": "stream",
          "name": "stdout",
          "text": [
            "[9 3 7 8 1 1 9 1 3 2]\n",
            "[1 1 1 2 3 8 9 7 3 9]\n",
            "[1 1 1 2 3 3 7 8 9 9]\n"
          ]
        }
      ],
      "source": [
        "a1 = np.random.randint(1, 10, size=10)\n",
        "print(a1)\n",
        "print(np.partition(a1, 3))\n",
        "print(np.partition(a1, -3))"
      ]
    },
    {
      "cell_type": "markdown",
      "metadata": {
        "id": "emHjtLy5Jb7l"
      },
      "source": [
        "## 배열 입출력"
      ]
    },
    {
      "cell_type": "markdown",
      "metadata": {
        "id": "QsmSlZV7Jb7l"
      },
      "source": [
        "| 함수              | 설명                                    | 파일 종류  |\n",
        "|-------------------|-----------------------------------------|------------|\n",
        "|``np.save()``      |  NumPy 배열 객체 1개를 파일에 저장      |  바이너리  |\n",
        "|``np.savez()``     |  NumPy 배열 객체 여러개를 파일에 저장   |  바이너리  |\n",
        "|``np.load()``      |  NumPy 배열 저장 파일로부터 객체 로딩   |  바이너리  |\n",
        "|``np.loadtxt()``   |  텍스트 파일로부터 배열 로딩            |  텍스트    |\n",
        "|``np.savetxt()``   |  텍스트 파일에 NumPy 배열 객체 저장     |  텍스트  |"
      ]
    },
    {
      "cell_type": "code",
      "execution_count": null,
      "metadata": {
        "colab": {
          "base_uri": "https://localhost:8080/"
        },
        "id": "SXRJI8PLJb7l",
        "outputId": "6f58a348-3803-4633-a2e9-cee1ab712b87"
      },
      "outputs": [
        {
          "output_type": "stream",
          "name": "stdout",
          "text": [
            "[[1 1 4 4 9]\n",
            " [8 9 1 6 1]\n",
            " [4 6 7 4 8]\n",
            " [4 9 8 1 7]\n",
            " [4 5 8 9 6]]\n"
          ]
        }
      ],
      "source": [
        "a2 = np.random.randint(1, 10, size=(5,5))\n",
        "print(a2)\n",
        "np.save(\"a\", a2)"
      ]
    },
    {
      "cell_type": "code",
      "execution_count": null,
      "metadata": {
        "colab": {
          "base_uri": "https://localhost:8080/"
        },
        "id": "dmbARuSVJb7m",
        "outputId": "5c8e069f-bfba-42ab-bcbb-b9c9916d4848"
      },
      "outputs": [
        {
          "output_type": "stream",
          "name": "stdout",
          "text": [
            "a.npy  \u001b[0m\u001b[01;34msample_data\u001b[0m/\n"
          ]
        }
      ],
      "source": [
        "ls"
      ]
    },
    {
      "cell_type": "markdown",
      "metadata": {
        "id": "JM2Ghx2NGloN"
      },
      "source": [
        "\n",
        "\n",
        "---\n",
        "\n"
      ]
    },
    {
      "cell_type": "markdown",
      "metadata": {
        "id": "xBOsZ6EThyW5"
      },
      "source": [
        "# 참고문헌\n",
        "\n",
        "* NumPy, https://numpy.org/\n",
        "* Jake VanderPlas, \"Python Data Science Handbook\", O'Reilly\n",
        "* Wes Mckinney, \"Python for Data Analysis\", O'Reilly"
      ]
    }
  ],
  "metadata": {
    "colab": {
      "provenance": [],
      "toc_visible": true,
      "include_colab_link": true
    },
    "kernelspec": {
      "display_name": "Python 3 (ipykernel)",
      "language": "python",
      "name": "python3"
    },
    "language_info": {
      "codemirror_mode": {
        "name": "ipython",
        "version": 3
      },
      "file_extension": ".py",
      "mimetype": "text/x-python",
      "name": "python",
      "nbconvert_exporter": "python",
      "pygments_lexer": "ipython3",
      "version": "3.9.7"
    }
  },
  "nbformat": 4,
  "nbformat_minor": 0
}