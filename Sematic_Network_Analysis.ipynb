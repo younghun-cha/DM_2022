{
  "nbformat": 4,
  "nbformat_minor": 0,
  "metadata": {
    "colab": {
      "provenance": [],
      "authorship_tag": "ABX9TyMydmgn0HnCNgrzyb3eJkXe",
      "include_colab_link": true
    },
    "kernelspec": {
      "name": "python3",
      "display_name": "Python 3"
    },
    "language_info": {
      "name": "python"
    }
  },
  "cells": [
    {
      "cell_type": "markdown",
      "metadata": {
        "id": "view-in-github",
        "colab_type": "text"
      },
      "source": [
        "<a href=\"https://colab.research.google.com/github/younghun-cha/DM_2022/blob/main/Sematic_Network_Analysis.ipynb\" target=\"_parent\"><img src=\"https://colab.research.google.com/assets/colab-badge.svg\" alt=\"Open In Colab\"/></a>"
      ]
    },
    {
      "cell_type": "markdown",
      "source": [
        "## 의미 연결망 분석(Semantic Network Analysis)\n",
        "\n",
        "  - 사회 연결망 분석 기법을 텍스트 내 단어의 관계에 적용\n",
        "  - 의미 연결망 분석에서는 일정한 범위 내에서 어휘가 동시에 등장하면 서로 연결된 것으로 간주, 이 연결 관계들을 분석\n"
      ],
      "metadata": {
        "id": "Y7NtP1qYL2NI"
      }
    },
    {
      "cell_type": "markdown",
      "source": [
        "## n-gram"
      ],
      "metadata": {
        "id": "fZFZQ_JeMLan"
      }
    },
    {
      "cell_type": "markdown",
      "source": [
        "  - 단어의 앞, 뒤 단어를 함께 묶어서 n개 토큰화\n",
        "  - n-gram을 생성할 수 있는 함수를 제공"
      ],
      "metadata": {
        "id": "AS1NxxKjMPFn"
      }
    },
    {
      "cell_type": "code",
      "source": [
        "import nltk # n-gram 사용\n",
        "nltk.download('punkt')"
      ],
      "metadata": {
        "colab": {
          "base_uri": "https://localhost:8080/"
        },
        "id": "OcWCqbEDMKil",
        "outputId": "9250beb8-e9e3-4bf9-f42c-6190280b7d6d"
      },
      "execution_count": null,
      "outputs": [
        {
          "output_type": "stream",
          "name": "stdout",
          "text": [
            "[nltk_data] Downloading package punkt to /root/nltk_data...\n",
            "[nltk_data]   Unzipping tokenizers/punkt.zip.\n"
          ]
        },
        {
          "output_type": "execute_result",
          "data": {
            "text/plain": [
              "True"
            ]
          },
          "metadata": {},
          "execution_count": 2
        }
      ]
    },
    {
      "cell_type": "code",
      "source": [
        "from nltk.tokenize import word_tokenize\n",
        "from nltk import word_tokenize, bigrams # bigram은 n=2인 토큰\n",
        "\n",
        "sentence = \"I love data science and deep learning\"\n",
        "tokens = word_tokenize(sentence)\n",
        "\n",
        "bgram = bigrams(tokens)\n",
        "bgram_list = [x for x in bgram]\n",
        "\n",
        "print(bgram_list)"
      ],
      "metadata": {
        "colab": {
          "base_uri": "https://localhost:8080/"
        },
        "id": "o6ff-VlxMbln",
        "outputId": "c021a112-7f71-4f9c-d692-218a5252cef4"
      },
      "execution_count": null,
      "outputs": [
        {
          "output_type": "stream",
          "name": "stdout",
          "text": [
            "[('I', 'love'), ('love', 'data'), ('data', 'science'), ('science', 'and'), ('and', 'deep'), ('deep', 'learning')]\n"
          ]
        }
      ]
    },
    {
      "cell_type": "code",
      "source": [
        "from nltk.util import ngrams\n",
        "\n",
        "tgram = ngrams(tokens, 3)\n",
        "qgram = ngrams(tokens, 4)\n",
        "\n",
        "tgram_list = [x for x in tgram]\n",
        "qgram_list = [x for x in qgram]\n",
        "\n",
        "print(tgram_list)\n",
        "print(qgram_list)"
      ],
      "metadata": {
        "colab": {
          "base_uri": "https://localhost:8080/"
        },
        "id": "ilakP1RYMwb1",
        "outputId": "c9a0b283-7222-44b6-9c44-ee0238930336"
      },
      "execution_count": null,
      "outputs": [
        {
          "output_type": "stream",
          "name": "stdout",
          "text": [
            "[('I', 'love', 'data'), ('love', 'data', 'science'), ('data', 'science', 'and'), ('science', 'and', 'deep'), ('and', 'deep', 'learning')]\n",
            "[('I', 'love', 'data', 'science'), ('love', 'data', 'science', 'and'), ('data', 'science', 'and', 'deep'), ('science', 'and', 'deep', 'learning')]\n"
          ]
        }
      ]
    },
    {
      "cell_type": "markdown",
      "source": [
        "### 어휘 동시 출현 빈도의 계수화"
      ],
      "metadata": {
        "id": "R1o6qh8kNN_3"
      }
    },
    {
      "cell_type": "markdown",
      "source": [
        "  - 동시 출현(Co-occurence)란 두 개 이상의 어휘가 일정한 범위나 거리 내에서 함께 출현하는 것을 의미\n",
        "  - 단어 간의 동시 출현 관계를 분석하면 문서나 문장으로부터 두 단어가 유사한 의미를 가졌는지 등의 추상화된 정보를 얻을 수 있음\n",
        "  - 동시 출현 빈도는 Window라는 지정 범위 내에서 동시 등장한 어휘를 확률 등으로 계수화 가능\n",
        "  - 어휘 동시 출현 빈도 행렬은 하나하나 측정할 수도 있지만, 바이그램 계수를 정리하면 편리하게 만들어 볼 수 있음\n",
        "  - nltk에서 제공하는 ConditionalFreqDist 함수를 이용하면 문맥별 단어 빈도를 쉽게 측정 가능"
      ],
      "metadata": {
        "id": "yyljUhAbNQMP"
      }
    },
    {
      "cell_type": "code",
      "source": [
        "from nltk import ConditionalFreqDist\n",
        "\n",
        "sentences = [\"I love data science and deep learning\", \"I love science\", \"I know this code\"]\n",
        "tokens = [word_tokenize(x) for x in sentences]\n",
        "bgrams = [bigrams(x, pad_left=True, pad_right=True,\n",
        "                  left_pad_symbol=\"SS\", right_pad_symbol=\"SE\") for x in tokens]\n",
        "\n",
        "token = []\n",
        "for i in bgrams:\n",
        "  token += ([x for x in i])\n",
        "\n",
        "cfd = ConditionalFreqDist(token)\n",
        "cfd.conditions()"
      ],
      "metadata": {
        "colab": {
          "base_uri": "https://localhost:8080/"
        },
        "id": "_CaLhA0ANLl3",
        "outputId": "23736a43-a1fd-44cb-937e-35ce49875b12"
      },
      "execution_count": null,
      "outputs": [
        {
          "output_type": "execute_result",
          "data": {
            "text/plain": [
              "['SS',\n",
              " 'I',\n",
              " 'love',\n",
              " 'data',\n",
              " 'science',\n",
              " 'and',\n",
              " 'deep',\n",
              " 'learning',\n",
              " 'know',\n",
              " 'this',\n",
              " 'code']"
            ]
          },
          "metadata": {},
          "execution_count": 39
        }
      ]
    },
    {
      "cell_type": "code",
      "source": [
        "print(cfd['I'])"
      ],
      "metadata": {
        "colab": {
          "base_uri": "https://localhost:8080/"
        },
        "id": "h4pYY-EwOFME",
        "outputId": "8f9aaac8-cc15-46db-ff1f-653c79984161"
      },
      "execution_count": null,
      "outputs": [
        {
          "output_type": "stream",
          "name": "stdout",
          "text": [
            "<FreqDist with 2 samples and 3 outcomes>\n"
          ]
        }
      ]
    },
    {
      "cell_type": "code",
      "source": [
        "print(cfd['I']['love']) # I, love가 동시 출현한 빈도수"
      ],
      "metadata": {
        "colab": {
          "base_uri": "https://localhost:8080/"
        },
        "id": "wO1H0RSROK8e",
        "outputId": "395d02f6-cc9c-4fef-ace7-3a468b555aa5"
      },
      "execution_count": null,
      "outputs": [
        {
          "output_type": "stream",
          "name": "stdout",
          "text": [
            "2\n"
          ]
        }
      ]
    },
    {
      "cell_type": "code",
      "source": [
        "print(cfd['I'].most_common(1))  # I와 동시 출현한 빈도수의 최댓값"
      ],
      "metadata": {
        "colab": {
          "base_uri": "https://localhost:8080/"
        },
        "id": "D1a-pKlWORm4",
        "outputId": "1a0b1443-f436-4ebe-b701-0f3d7c937a31"
      },
      "execution_count": null,
      "outputs": [
        {
          "output_type": "stream",
          "name": "stdout",
          "text": [
            "[('love', 2)]\n"
          ]
        }
      ]
    },
    {
      "cell_type": "code",
      "source": [
        "import numpy as np\n",
        "\n",
        "freq_matrix = []\n",
        "\n",
        "for i in cfd.keys():\n",
        "  temp = []\n",
        "  for j in cfd.keys():\n",
        "    temp.append(cfd[i][j])\n",
        "  freq_matrix.append(temp)\n",
        "\n",
        "freq_matrix = np.array(freq_matrix)\n",
        "\n",
        "print(cfd.keys())\n",
        "print(freq_matrix)"
      ],
      "metadata": {
        "colab": {
          "base_uri": "https://localhost:8080/"
        },
        "id": "FpUTZ4UUOX6m",
        "outputId": "1668459d-e90e-4864-dce1-be46b1260f91"
      },
      "execution_count": null,
      "outputs": [
        {
          "output_type": "stream",
          "name": "stdout",
          "text": [
            "dict_keys(['SS', 'I', 'love', 'data', 'science', 'and', 'deep', 'learning', 'know', 'this', 'code'])\n",
            "[[0 3 0 0 0 0 0 0 0 0 0]\n",
            " [0 0 2 0 0 0 0 0 1 0 0]\n",
            " [0 0 0 1 1 0 0 0 0 0 0]\n",
            " [0 0 0 0 1 0 0 0 0 0 0]\n",
            " [0 0 0 0 0 1 0 0 0 0 0]\n",
            " [0 0 0 0 0 0 1 0 0 0 0]\n",
            " [0 0 0 0 0 0 0 1 0 0 0]\n",
            " [0 0 0 0 0 0 0 0 0 0 0]\n",
            " [0 0 0 0 0 0 0 0 0 1 0]\n",
            " [0 0 0 0 0 0 0 0 0 0 1]\n",
            " [0 0 0 0 0 0 0 0 0 0 0]]\n"
          ]
        }
      ]
    },
    {
      "cell_type": "markdown",
      "source": [
        "- 해당 동시 출현 빈도 행렬을 좀 더 보기 쉽도록 데이터프레임으로 시각화"
      ],
      "metadata": {
        "id": "ahERaMpoOyO-"
      }
    },
    {
      "cell_type": "code",
      "source": [
        "import pandas as pd\n",
        "\n",
        "df = pd.DataFrame(freq_matrix, index=cfd.keys(), columns=cfd.keys())\n",
        "df.style.background_gradient(cmap='coolwarm')"
      ],
      "metadata": {
        "colab": {
          "base_uri": "https://localhost:8080/",
          "height": 394
        },
        "id": "gjpbvNDeOhJu",
        "outputId": "cddae364-528a-4db0-b882-50e2a7edb28d"
      },
      "execution_count": null,
      "outputs": [
        {
          "output_type": "execute_result",
          "data": {
            "text/plain": [
              "<pandas.io.formats.style.Styler at 0x7fa6ae6ea8d0>"
            ],
            "text/html": [
              "<style type=\"text/css\">\n",
              "#T_84dad_row0_col0, #T_84dad_row0_col2, #T_84dad_row0_col3, #T_84dad_row0_col4, #T_84dad_row0_col5, #T_84dad_row0_col6, #T_84dad_row0_col7, #T_84dad_row0_col8, #T_84dad_row0_col9, #T_84dad_row0_col10, #T_84dad_row1_col0, #T_84dad_row1_col1, #T_84dad_row1_col3, #T_84dad_row1_col4, #T_84dad_row1_col5, #T_84dad_row1_col6, #T_84dad_row1_col7, #T_84dad_row1_col9, #T_84dad_row1_col10, #T_84dad_row2_col0, #T_84dad_row2_col1, #T_84dad_row2_col2, #T_84dad_row2_col5, #T_84dad_row2_col6, #T_84dad_row2_col7, #T_84dad_row2_col8, #T_84dad_row2_col9, #T_84dad_row2_col10, #T_84dad_row3_col0, #T_84dad_row3_col1, #T_84dad_row3_col2, #T_84dad_row3_col3, #T_84dad_row3_col5, #T_84dad_row3_col6, #T_84dad_row3_col7, #T_84dad_row3_col8, #T_84dad_row3_col9, #T_84dad_row3_col10, #T_84dad_row4_col0, #T_84dad_row4_col1, #T_84dad_row4_col2, #T_84dad_row4_col3, #T_84dad_row4_col4, #T_84dad_row4_col6, #T_84dad_row4_col7, #T_84dad_row4_col8, #T_84dad_row4_col9, #T_84dad_row4_col10, #T_84dad_row5_col0, #T_84dad_row5_col1, #T_84dad_row5_col2, #T_84dad_row5_col3, #T_84dad_row5_col4, #T_84dad_row5_col5, #T_84dad_row5_col7, #T_84dad_row5_col8, #T_84dad_row5_col9, #T_84dad_row5_col10, #T_84dad_row6_col0, #T_84dad_row6_col1, #T_84dad_row6_col2, #T_84dad_row6_col3, #T_84dad_row6_col4, #T_84dad_row6_col5, #T_84dad_row6_col6, #T_84dad_row6_col8, #T_84dad_row6_col9, #T_84dad_row6_col10, #T_84dad_row7_col0, #T_84dad_row7_col1, #T_84dad_row7_col2, #T_84dad_row7_col3, #T_84dad_row7_col4, #T_84dad_row7_col5, #T_84dad_row7_col6, #T_84dad_row7_col7, #T_84dad_row7_col8, #T_84dad_row7_col9, #T_84dad_row7_col10, #T_84dad_row8_col0, #T_84dad_row8_col1, #T_84dad_row8_col2, #T_84dad_row8_col3, #T_84dad_row8_col4, #T_84dad_row8_col5, #T_84dad_row8_col6, #T_84dad_row8_col7, #T_84dad_row8_col8, #T_84dad_row8_col10, #T_84dad_row9_col0, #T_84dad_row9_col1, #T_84dad_row9_col2, #T_84dad_row9_col3, #T_84dad_row9_col4, #T_84dad_row9_col5, #T_84dad_row9_col6, #T_84dad_row9_col7, #T_84dad_row9_col8, #T_84dad_row9_col9, #T_84dad_row10_col0, #T_84dad_row10_col1, #T_84dad_row10_col2, #T_84dad_row10_col3, #T_84dad_row10_col4, #T_84dad_row10_col5, #T_84dad_row10_col6, #T_84dad_row10_col7, #T_84dad_row10_col8, #T_84dad_row10_col9, #T_84dad_row10_col10 {\n",
              "  background-color: #3b4cc0;\n",
              "  color: #f1f1f1;\n",
              "}\n",
              "#T_84dad_row0_col1, #T_84dad_row1_col2, #T_84dad_row1_col8, #T_84dad_row2_col3, #T_84dad_row2_col4, #T_84dad_row3_col4, #T_84dad_row4_col5, #T_84dad_row5_col6, #T_84dad_row6_col7, #T_84dad_row8_col9, #T_84dad_row9_col10 {\n",
              "  background-color: #b40426;\n",
              "  color: #f1f1f1;\n",
              "}\n",
              "</style>\n",
              "<table id=\"T_84dad_\" class=\"dataframe\">\n",
              "  <thead>\n",
              "    <tr>\n",
              "      <th class=\"blank level0\" >&nbsp;</th>\n",
              "      <th class=\"col_heading level0 col0\" >SS</th>\n",
              "      <th class=\"col_heading level0 col1\" >I</th>\n",
              "      <th class=\"col_heading level0 col2\" >love</th>\n",
              "      <th class=\"col_heading level0 col3\" >data</th>\n",
              "      <th class=\"col_heading level0 col4\" >science</th>\n",
              "      <th class=\"col_heading level0 col5\" >and</th>\n",
              "      <th class=\"col_heading level0 col6\" >deep</th>\n",
              "      <th class=\"col_heading level0 col7\" >learning</th>\n",
              "      <th class=\"col_heading level0 col8\" >know</th>\n",
              "      <th class=\"col_heading level0 col9\" >this</th>\n",
              "      <th class=\"col_heading level0 col10\" >code</th>\n",
              "    </tr>\n",
              "  </thead>\n",
              "  <tbody>\n",
              "    <tr>\n",
              "      <th id=\"T_84dad_level0_row0\" class=\"row_heading level0 row0\" >SS</th>\n",
              "      <td id=\"T_84dad_row0_col0\" class=\"data row0 col0\" >0</td>\n",
              "      <td id=\"T_84dad_row0_col1\" class=\"data row0 col1\" >3</td>\n",
              "      <td id=\"T_84dad_row0_col2\" class=\"data row0 col2\" >0</td>\n",
              "      <td id=\"T_84dad_row0_col3\" class=\"data row0 col3\" >0</td>\n",
              "      <td id=\"T_84dad_row0_col4\" class=\"data row0 col4\" >0</td>\n",
              "      <td id=\"T_84dad_row0_col5\" class=\"data row0 col5\" >0</td>\n",
              "      <td id=\"T_84dad_row0_col6\" class=\"data row0 col6\" >0</td>\n",
              "      <td id=\"T_84dad_row0_col7\" class=\"data row0 col7\" >0</td>\n",
              "      <td id=\"T_84dad_row0_col8\" class=\"data row0 col8\" >0</td>\n",
              "      <td id=\"T_84dad_row0_col9\" class=\"data row0 col9\" >0</td>\n",
              "      <td id=\"T_84dad_row0_col10\" class=\"data row0 col10\" >0</td>\n",
              "    </tr>\n",
              "    <tr>\n",
              "      <th id=\"T_84dad_level0_row1\" class=\"row_heading level0 row1\" >I</th>\n",
              "      <td id=\"T_84dad_row1_col0\" class=\"data row1 col0\" >0</td>\n",
              "      <td id=\"T_84dad_row1_col1\" class=\"data row1 col1\" >0</td>\n",
              "      <td id=\"T_84dad_row1_col2\" class=\"data row1 col2\" >2</td>\n",
              "      <td id=\"T_84dad_row1_col3\" class=\"data row1 col3\" >0</td>\n",
              "      <td id=\"T_84dad_row1_col4\" class=\"data row1 col4\" >0</td>\n",
              "      <td id=\"T_84dad_row1_col5\" class=\"data row1 col5\" >0</td>\n",
              "      <td id=\"T_84dad_row1_col6\" class=\"data row1 col6\" >0</td>\n",
              "      <td id=\"T_84dad_row1_col7\" class=\"data row1 col7\" >0</td>\n",
              "      <td id=\"T_84dad_row1_col8\" class=\"data row1 col8\" >1</td>\n",
              "      <td id=\"T_84dad_row1_col9\" class=\"data row1 col9\" >0</td>\n",
              "      <td id=\"T_84dad_row1_col10\" class=\"data row1 col10\" >0</td>\n",
              "    </tr>\n",
              "    <tr>\n",
              "      <th id=\"T_84dad_level0_row2\" class=\"row_heading level0 row2\" >love</th>\n",
              "      <td id=\"T_84dad_row2_col0\" class=\"data row2 col0\" >0</td>\n",
              "      <td id=\"T_84dad_row2_col1\" class=\"data row2 col1\" >0</td>\n",
              "      <td id=\"T_84dad_row2_col2\" class=\"data row2 col2\" >0</td>\n",
              "      <td id=\"T_84dad_row2_col3\" class=\"data row2 col3\" >1</td>\n",
              "      <td id=\"T_84dad_row2_col4\" class=\"data row2 col4\" >1</td>\n",
              "      <td id=\"T_84dad_row2_col5\" class=\"data row2 col5\" >0</td>\n",
              "      <td id=\"T_84dad_row2_col6\" class=\"data row2 col6\" >0</td>\n",
              "      <td id=\"T_84dad_row2_col7\" class=\"data row2 col7\" >0</td>\n",
              "      <td id=\"T_84dad_row2_col8\" class=\"data row2 col8\" >0</td>\n",
              "      <td id=\"T_84dad_row2_col9\" class=\"data row2 col9\" >0</td>\n",
              "      <td id=\"T_84dad_row2_col10\" class=\"data row2 col10\" >0</td>\n",
              "    </tr>\n",
              "    <tr>\n",
              "      <th id=\"T_84dad_level0_row3\" class=\"row_heading level0 row3\" >data</th>\n",
              "      <td id=\"T_84dad_row3_col0\" class=\"data row3 col0\" >0</td>\n",
              "      <td id=\"T_84dad_row3_col1\" class=\"data row3 col1\" >0</td>\n",
              "      <td id=\"T_84dad_row3_col2\" class=\"data row3 col2\" >0</td>\n",
              "      <td id=\"T_84dad_row3_col3\" class=\"data row3 col3\" >0</td>\n",
              "      <td id=\"T_84dad_row3_col4\" class=\"data row3 col4\" >1</td>\n",
              "      <td id=\"T_84dad_row3_col5\" class=\"data row3 col5\" >0</td>\n",
              "      <td id=\"T_84dad_row3_col6\" class=\"data row3 col6\" >0</td>\n",
              "      <td id=\"T_84dad_row3_col7\" class=\"data row3 col7\" >0</td>\n",
              "      <td id=\"T_84dad_row3_col8\" class=\"data row3 col8\" >0</td>\n",
              "      <td id=\"T_84dad_row3_col9\" class=\"data row3 col9\" >0</td>\n",
              "      <td id=\"T_84dad_row3_col10\" class=\"data row3 col10\" >0</td>\n",
              "    </tr>\n",
              "    <tr>\n",
              "      <th id=\"T_84dad_level0_row4\" class=\"row_heading level0 row4\" >science</th>\n",
              "      <td id=\"T_84dad_row4_col0\" class=\"data row4 col0\" >0</td>\n",
              "      <td id=\"T_84dad_row4_col1\" class=\"data row4 col1\" >0</td>\n",
              "      <td id=\"T_84dad_row4_col2\" class=\"data row4 col2\" >0</td>\n",
              "      <td id=\"T_84dad_row4_col3\" class=\"data row4 col3\" >0</td>\n",
              "      <td id=\"T_84dad_row4_col4\" class=\"data row4 col4\" >0</td>\n",
              "      <td id=\"T_84dad_row4_col5\" class=\"data row4 col5\" >1</td>\n",
              "      <td id=\"T_84dad_row4_col6\" class=\"data row4 col6\" >0</td>\n",
              "      <td id=\"T_84dad_row4_col7\" class=\"data row4 col7\" >0</td>\n",
              "      <td id=\"T_84dad_row4_col8\" class=\"data row4 col8\" >0</td>\n",
              "      <td id=\"T_84dad_row4_col9\" class=\"data row4 col9\" >0</td>\n",
              "      <td id=\"T_84dad_row4_col10\" class=\"data row4 col10\" >0</td>\n",
              "    </tr>\n",
              "    <tr>\n",
              "      <th id=\"T_84dad_level0_row5\" class=\"row_heading level0 row5\" >and</th>\n",
              "      <td id=\"T_84dad_row5_col0\" class=\"data row5 col0\" >0</td>\n",
              "      <td id=\"T_84dad_row5_col1\" class=\"data row5 col1\" >0</td>\n",
              "      <td id=\"T_84dad_row5_col2\" class=\"data row5 col2\" >0</td>\n",
              "      <td id=\"T_84dad_row5_col3\" class=\"data row5 col3\" >0</td>\n",
              "      <td id=\"T_84dad_row5_col4\" class=\"data row5 col4\" >0</td>\n",
              "      <td id=\"T_84dad_row5_col5\" class=\"data row5 col5\" >0</td>\n",
              "      <td id=\"T_84dad_row5_col6\" class=\"data row5 col6\" >1</td>\n",
              "      <td id=\"T_84dad_row5_col7\" class=\"data row5 col7\" >0</td>\n",
              "      <td id=\"T_84dad_row5_col8\" class=\"data row5 col8\" >0</td>\n",
              "      <td id=\"T_84dad_row5_col9\" class=\"data row5 col9\" >0</td>\n",
              "      <td id=\"T_84dad_row5_col10\" class=\"data row5 col10\" >0</td>\n",
              "    </tr>\n",
              "    <tr>\n",
              "      <th id=\"T_84dad_level0_row6\" class=\"row_heading level0 row6\" >deep</th>\n",
              "      <td id=\"T_84dad_row6_col0\" class=\"data row6 col0\" >0</td>\n",
              "      <td id=\"T_84dad_row6_col1\" class=\"data row6 col1\" >0</td>\n",
              "      <td id=\"T_84dad_row6_col2\" class=\"data row6 col2\" >0</td>\n",
              "      <td id=\"T_84dad_row6_col3\" class=\"data row6 col3\" >0</td>\n",
              "      <td id=\"T_84dad_row6_col4\" class=\"data row6 col4\" >0</td>\n",
              "      <td id=\"T_84dad_row6_col5\" class=\"data row6 col5\" >0</td>\n",
              "      <td id=\"T_84dad_row6_col6\" class=\"data row6 col6\" >0</td>\n",
              "      <td id=\"T_84dad_row6_col7\" class=\"data row6 col7\" >1</td>\n",
              "      <td id=\"T_84dad_row6_col8\" class=\"data row6 col8\" >0</td>\n",
              "      <td id=\"T_84dad_row6_col9\" class=\"data row6 col9\" >0</td>\n",
              "      <td id=\"T_84dad_row6_col10\" class=\"data row6 col10\" >0</td>\n",
              "    </tr>\n",
              "    <tr>\n",
              "      <th id=\"T_84dad_level0_row7\" class=\"row_heading level0 row7\" >learning</th>\n",
              "      <td id=\"T_84dad_row7_col0\" class=\"data row7 col0\" >0</td>\n",
              "      <td id=\"T_84dad_row7_col1\" class=\"data row7 col1\" >0</td>\n",
              "      <td id=\"T_84dad_row7_col2\" class=\"data row7 col2\" >0</td>\n",
              "      <td id=\"T_84dad_row7_col3\" class=\"data row7 col3\" >0</td>\n",
              "      <td id=\"T_84dad_row7_col4\" class=\"data row7 col4\" >0</td>\n",
              "      <td id=\"T_84dad_row7_col5\" class=\"data row7 col5\" >0</td>\n",
              "      <td id=\"T_84dad_row7_col6\" class=\"data row7 col6\" >0</td>\n",
              "      <td id=\"T_84dad_row7_col7\" class=\"data row7 col7\" >0</td>\n",
              "      <td id=\"T_84dad_row7_col8\" class=\"data row7 col8\" >0</td>\n",
              "      <td id=\"T_84dad_row7_col9\" class=\"data row7 col9\" >0</td>\n",
              "      <td id=\"T_84dad_row7_col10\" class=\"data row7 col10\" >0</td>\n",
              "    </tr>\n",
              "    <tr>\n",
              "      <th id=\"T_84dad_level0_row8\" class=\"row_heading level0 row8\" >know</th>\n",
              "      <td id=\"T_84dad_row8_col0\" class=\"data row8 col0\" >0</td>\n",
              "      <td id=\"T_84dad_row8_col1\" class=\"data row8 col1\" >0</td>\n",
              "      <td id=\"T_84dad_row8_col2\" class=\"data row8 col2\" >0</td>\n",
              "      <td id=\"T_84dad_row8_col3\" class=\"data row8 col3\" >0</td>\n",
              "      <td id=\"T_84dad_row8_col4\" class=\"data row8 col4\" >0</td>\n",
              "      <td id=\"T_84dad_row8_col5\" class=\"data row8 col5\" >0</td>\n",
              "      <td id=\"T_84dad_row8_col6\" class=\"data row8 col6\" >0</td>\n",
              "      <td id=\"T_84dad_row8_col7\" class=\"data row8 col7\" >0</td>\n",
              "      <td id=\"T_84dad_row8_col8\" class=\"data row8 col8\" >0</td>\n",
              "      <td id=\"T_84dad_row8_col9\" class=\"data row8 col9\" >1</td>\n",
              "      <td id=\"T_84dad_row8_col10\" class=\"data row8 col10\" >0</td>\n",
              "    </tr>\n",
              "    <tr>\n",
              "      <th id=\"T_84dad_level0_row9\" class=\"row_heading level0 row9\" >this</th>\n",
              "      <td id=\"T_84dad_row9_col0\" class=\"data row9 col0\" >0</td>\n",
              "      <td id=\"T_84dad_row9_col1\" class=\"data row9 col1\" >0</td>\n",
              "      <td id=\"T_84dad_row9_col2\" class=\"data row9 col2\" >0</td>\n",
              "      <td id=\"T_84dad_row9_col3\" class=\"data row9 col3\" >0</td>\n",
              "      <td id=\"T_84dad_row9_col4\" class=\"data row9 col4\" >0</td>\n",
              "      <td id=\"T_84dad_row9_col5\" class=\"data row9 col5\" >0</td>\n",
              "      <td id=\"T_84dad_row9_col6\" class=\"data row9 col6\" >0</td>\n",
              "      <td id=\"T_84dad_row9_col7\" class=\"data row9 col7\" >0</td>\n",
              "      <td id=\"T_84dad_row9_col8\" class=\"data row9 col8\" >0</td>\n",
              "      <td id=\"T_84dad_row9_col9\" class=\"data row9 col9\" >0</td>\n",
              "      <td id=\"T_84dad_row9_col10\" class=\"data row9 col10\" >1</td>\n",
              "    </tr>\n",
              "    <tr>\n",
              "      <th id=\"T_84dad_level0_row10\" class=\"row_heading level0 row10\" >code</th>\n",
              "      <td id=\"T_84dad_row10_col0\" class=\"data row10 col0\" >0</td>\n",
              "      <td id=\"T_84dad_row10_col1\" class=\"data row10 col1\" >0</td>\n",
              "      <td id=\"T_84dad_row10_col2\" class=\"data row10 col2\" >0</td>\n",
              "      <td id=\"T_84dad_row10_col3\" class=\"data row10 col3\" >0</td>\n",
              "      <td id=\"T_84dad_row10_col4\" class=\"data row10 col4\" >0</td>\n",
              "      <td id=\"T_84dad_row10_col5\" class=\"data row10 col5\" >0</td>\n",
              "      <td id=\"T_84dad_row10_col6\" class=\"data row10 col6\" >0</td>\n",
              "      <td id=\"T_84dad_row10_col7\" class=\"data row10 col7\" >0</td>\n",
              "      <td id=\"T_84dad_row10_col8\" class=\"data row10 col8\" >0</td>\n",
              "      <td id=\"T_84dad_row10_col9\" class=\"data row10 col9\" >0</td>\n",
              "      <td id=\"T_84dad_row10_col10\" class=\"data row10 col10\" >0</td>\n",
              "    </tr>\n",
              "  </tbody>\n",
              "</table>\n"
            ]
          },
          "metadata": {},
          "execution_count": 15
        }
      ]
    },
    {
      "cell_type": "markdown",
      "source": [
        "- 동시 출현 빈도 행렬은 인접 행렬로도 간주할 수 있음\n",
        "- networkx 라이브러리를 사용해 해당 행렬을 그래프로 시각화"
      ],
      "metadata": {
        "id": "Z__SqNI2O9fu"
      }
    },
    {
      "cell_type": "code",
      "source": [
        "import networkx as nx\n",
        "\n",
        "G = nx.from_pandas_adjacency(df)\n",
        "\n",
        "print(G.nodes())\n",
        "print(G.edges())"
      ],
      "metadata": {
        "colab": {
          "base_uri": "https://localhost:8080/"
        },
        "id": "_Y2fxXREO5VX",
        "outputId": "f9e92fa2-a4e6-4ada-ab10-01f99300e104"
      },
      "execution_count": null,
      "outputs": [
        {
          "output_type": "stream",
          "name": "stdout",
          "text": [
            "['SS', 'I', 'love', 'data', 'science', 'and', 'deep', 'learning', 'know', 'this', 'code']\n",
            "[('SS', 'I'), ('I', 'love'), ('I', 'know'), ('love', 'data'), ('love', 'science'), ('data', 'science'), ('science', 'and'), ('and', 'deep'), ('deep', 'learning'), ('know', 'this'), ('this', 'code')]\n"
          ]
        }
      ]
    },
    {
      "cell_type": "markdown",
      "source": [
        "- 각 엣지에 접근해보면 각 엣지의 가중치에 각 단어 간의 빈도가 사용된 것을 확인 가능"
      ],
      "metadata": {
        "id": "PmIpL4yUPeOo"
      }
    },
    {
      "cell_type": "code",
      "source": [
        "# 특정 연결선의 가중치 확인 --> 빈도\n",
        "print(G.edges()[('I', 'love')])\n",
        "print(G.edges()[('I', 'know')])"
      ],
      "metadata": {
        "colab": {
          "base_uri": "https://localhost:8080/"
        },
        "id": "8htqZmkfPasO",
        "outputId": "6ee54555-c133-41ee-972e-323518ed1b7f"
      },
      "execution_count": null,
      "outputs": [
        {
          "output_type": "stream",
          "name": "stdout",
          "text": [
            "{'weight': 2}\n",
            "{'weight': 1}\n"
          ]
        }
      ]
    },
    {
      "cell_type": "code",
      "source": [
        "# 그래프 시각화\n",
        "nx.draw(G, with_labels=True)"
      ],
      "metadata": {
        "colab": {
          "base_uri": "https://localhost:8080/",
          "height": 319
        },
        "id": "TukTf6dbPuKO",
        "outputId": "998bcb93-074b-4762-b297-03505328e6e1"
      },
      "execution_count": null,
      "outputs": [
        {
          "output_type": "display_data",
          "data": {
            "text/plain": [
              "<Figure size 432x288 with 1 Axes>"
            ],
            "image/png": "[encoded data removed]"
          },
          "metadata": {}
        }
      ]
    },
    {
      "cell_type": "markdown",
      "source": [
        "### 조건부 확률 추정"
      ],
      "metadata": {
        "id": "OMjtItkvP4t-"
      }
    },
    {
      "cell_type": "markdown",
      "source": [
        "- 어휘 동시 출현 빈도를 이용하면 어휘 동시 출현 확률까지 추정 가능\n",
        "- 어휘 동시 출현 확률 계산에는 nltk의 ConditionalProbDist를 이용"
      ],
      "metadata": {
        "id": "jRWlIlNmP8EW"
      }
    },
    {
      "cell_type": "code",
      "source": [
        "from nltk.probability import ConditionalProbDist, MLEProbDist\n",
        "\n",
        "cpd = ConditionalProbDist(cfd, MLEProbDist)\n",
        "cpd.conditions()"
      ],
      "metadata": {
        "colab": {
          "base_uri": "https://localhost:8080/"
        },
        "id": "ZR7ReAwOP0QW",
        "outputId": "aa5975ac-170b-43e8-8e7d-7588b1736d49"
      },
      "execution_count": null,
      "outputs": [
        {
          "output_type": "execute_result",
          "data": {
            "text/plain": [
              "['SS',\n",
              " 'I',\n",
              " 'love',\n",
              " 'data',\n",
              " 'science',\n",
              " 'and',\n",
              " 'deep',\n",
              " 'learning',\n",
              " 'know',\n",
              " 'this',\n",
              " 'code']"
            ]
          },
          "metadata": {},
          "execution_count": 27
        }
      ]
    },
    {
      "cell_type": "code",
      "source": [
        "prob_matrix = []\n",
        "\n",
        "for i in cpd.keys():\n",
        "  prob_matrix.append([cpd[i].prob(j) for j in cpd.keys()])\n",
        "\n",
        "prob_matrix = np.array(prob_matrix)\n",
        "\n",
        "print(cpd.keys())\n",
        "print(prob_matrix)"
      ],
      "metadata": {
        "colab": {
          "base_uri": "https://localhost:8080/"
        },
        "id": "5IihlfSbQLe3",
        "outputId": "38f94471-6dfa-4408-8303-a53f7d8f4632"
      },
      "execution_count": null,
      "outputs": [
        {
          "output_type": "stream",
          "name": "stdout",
          "text": [
            "dict_keys(['SS', 'I', 'love', 'data', 'science', 'and', 'deep', 'learning', 'know', 'this', 'code'])\n",
            "[[0.         1.         0.         0.         0.         0.\n",
            "  0.         0.         0.         0.         0.        ]\n",
            " [0.         0.         0.66666667 0.         0.         0.\n",
            "  0.         0.         0.33333333 0.         0.        ]\n",
            " [0.         0.         0.         0.5        0.5        0.\n",
            "  0.         0.         0.         0.         0.        ]\n",
            " [0.         0.         0.         0.         1.         0.\n",
            "  0.         0.         0.         0.         0.        ]\n",
            " [0.         0.         0.         0.         0.         0.5\n",
            "  0.         0.         0.         0.         0.        ]\n",
            " [0.         0.         0.         0.         0.         0.\n",
            "  1.         0.         0.         0.         0.        ]\n",
            " [0.         0.         0.         0.         0.         0.\n",
            "  0.         1.         0.         0.         0.        ]\n",
            " [0.         0.         0.         0.         0.         0.\n",
            "  0.         0.         0.         0.         0.        ]\n",
            " [0.         0.         0.         0.         0.         0.\n",
            "  0.         0.         0.         1.         0.        ]\n",
            " [0.         0.         0.         0.         0.         0.\n",
            "  0.         0.         0.         0.         1.        ]\n",
            " [0.         0.         0.         0.         0.         0.\n",
            "  0.         0.         0.         0.         0.        ]]\n"
          ]
        }
      ]
    },
    {
      "cell_type": "code",
      "source": [
        "df = pd.DataFrame(prob_matrix, index=cpd.keys(), columns=cpd.keys())\n",
        "df.style.background_gradient(cmap='coolwarm')"
      ],
      "metadata": {
        "colab": {
          "base_uri": "https://localhost:8080/",
          "height": 414
        },
        "id": "fLuQtOwmQQv_",
        "outputId": "036fec01-45d9-424e-a7a7-5cb07b43c0ac"
      },
      "execution_count": null,
      "outputs": [
        {
          "output_type": "execute_result",
          "data": {
            "text/plain": [
              "<pandas.io.formats.style.Styler at 0x7fa6aad20450>"
            ],
            "text/html": [
              "<style type=\"text/css\">\n",
              "#T_ac3d6_row0_col0, #T_ac3d6_row0_col2, #T_ac3d6_row0_col3, #T_ac3d6_row0_col4, #T_ac3d6_row0_col5, #T_ac3d6_row0_col6, #T_ac3d6_row0_col7, #T_ac3d6_row0_col8, #T_ac3d6_row0_col9, #T_ac3d6_row0_col10, #T_ac3d6_row1_col0, #T_ac3d6_row1_col1, #T_ac3d6_row1_col3, #T_ac3d6_row1_col4, #T_ac3d6_row1_col5, #T_ac3d6_row1_col6, #T_ac3d6_row1_col7, #T_ac3d6_row1_col9, #T_ac3d6_row1_col10, #T_ac3d6_row2_col0, #T_ac3d6_row2_col1, #T_ac3d6_row2_col2, #T_ac3d6_row2_col5, #T_ac3d6_row2_col6, #T_ac3d6_row2_col7, #T_ac3d6_row2_col8, #T_ac3d6_row2_col9, #T_ac3d6_row2_col10, #T_ac3d6_row3_col0, #T_ac3d6_row3_col1, #T_ac3d6_row3_col2, #T_ac3d6_row3_col3, #T_ac3d6_row3_col5, #T_ac3d6_row3_col6, #T_ac3d6_row3_col7, #T_ac3d6_row3_col8, #T_ac3d6_row3_col9, #T_ac3d6_row3_col10, #T_ac3d6_row4_col0, #T_ac3d6_row4_col1, #T_ac3d6_row4_col2, #T_ac3d6_row4_col3, #T_ac3d6_row4_col4, #T_ac3d6_row4_col6, #T_ac3d6_row4_col7, #T_ac3d6_row4_col8, #T_ac3d6_row4_col9, #T_ac3d6_row4_col10, #T_ac3d6_row5_col0, #T_ac3d6_row5_col1, #T_ac3d6_row5_col2, #T_ac3d6_row5_col3, #T_ac3d6_row5_col4, #T_ac3d6_row5_col5, #T_ac3d6_row5_col7, #T_ac3d6_row5_col8, #T_ac3d6_row5_col9, #T_ac3d6_row5_col10, #T_ac3d6_row6_col0, #T_ac3d6_row6_col1, #T_ac3d6_row6_col2, #T_ac3d6_row6_col3, #T_ac3d6_row6_col4, #T_ac3d6_row6_col5, #T_ac3d6_row6_col6, #T_ac3d6_row6_col8, #T_ac3d6_row6_col9, #T_ac3d6_row6_col10, #T_ac3d6_row7_col0, #T_ac3d6_row7_col1, #T_ac3d6_row7_col2, #T_ac3d6_row7_col3, #T_ac3d6_row7_col4, #T_ac3d6_row7_col5, #T_ac3d6_row7_col6, #T_ac3d6_row7_col7, #T_ac3d6_row7_col8, #T_ac3d6_row7_col9, #T_ac3d6_row7_col10, #T_ac3d6_row8_col0, #T_ac3d6_row8_col1, #T_ac3d6_row8_col2, #T_ac3d6_row8_col3, #T_ac3d6_row8_col4, #T_ac3d6_row8_col5, #T_ac3d6_row8_col6, #T_ac3d6_row8_col7, #T_ac3d6_row8_col8, #T_ac3d6_row8_col10, #T_ac3d6_row9_col0, #T_ac3d6_row9_col1, #T_ac3d6_row9_col2, #T_ac3d6_row9_col3, #T_ac3d6_row9_col4, #T_ac3d6_row9_col5, #T_ac3d6_row9_col6, #T_ac3d6_row9_col7, #T_ac3d6_row9_col8, #T_ac3d6_row9_col9, #T_ac3d6_row10_col0, #T_ac3d6_row10_col1, #T_ac3d6_row10_col2, #T_ac3d6_row10_col3, #T_ac3d6_row10_col4, #T_ac3d6_row10_col5, #T_ac3d6_row10_col6, #T_ac3d6_row10_col7, #T_ac3d6_row10_col8, #T_ac3d6_row10_col9, #T_ac3d6_row10_col10 {\n",
              "  background-color: #3b4cc0;\n",
              "  color: #f1f1f1;\n",
              "}\n",
              "#T_ac3d6_row0_col1, #T_ac3d6_row1_col2, #T_ac3d6_row1_col8, #T_ac3d6_row2_col3, #T_ac3d6_row3_col4, #T_ac3d6_row4_col5, #T_ac3d6_row5_col6, #T_ac3d6_row6_col7, #T_ac3d6_row8_col9, #T_ac3d6_row9_col10 {\n",
              "  background-color: #b40426;\n",
              "  color: #f1f1f1;\n",
              "}\n",
              "#T_ac3d6_row2_col4 {\n",
              "  background-color: #dddcdc;\n",
              "  color: #000000;\n",
              "}\n",
              "</style>\n",
              "<table id=\"T_ac3d6_\" class=\"dataframe\">\n",
              "  <thead>\n",
              "    <tr>\n",
              "      <th class=\"blank level0\" >&nbsp;</th>\n",
              "      <th class=\"col_heading level0 col0\" >SS</th>\n",
              "      <th class=\"col_heading level0 col1\" >I</th>\n",
              "      <th class=\"col_heading level0 col2\" >love</th>\n",
              "      <th class=\"col_heading level0 col3\" >data</th>\n",
              "      <th class=\"col_heading level0 col4\" >science</th>\n",
              "      <th class=\"col_heading level0 col5\" >and</th>\n",
              "      <th class=\"col_heading level0 col6\" >deep</th>\n",
              "      <th class=\"col_heading level0 col7\" >learning</th>\n",
              "      <th class=\"col_heading level0 col8\" >know</th>\n",
              "      <th class=\"col_heading level0 col9\" >this</th>\n",
              "      <th class=\"col_heading level0 col10\" >code</th>\n",
              "    </tr>\n",
              "  </thead>\n",
              "  <tbody>\n",
              "    <tr>\n",
              "      <th id=\"T_ac3d6_level0_row0\" class=\"row_heading level0 row0\" >SS</th>\n",
              "      <td id=\"T_ac3d6_row0_col0\" class=\"data row0 col0\" >0.000000</td>\n",
              "      <td id=\"T_ac3d6_row0_col1\" class=\"data row0 col1\" >1.000000</td>\n",
              "      <td id=\"T_ac3d6_row0_col2\" class=\"data row0 col2\" >0.000000</td>\n",
              "      <td id=\"T_ac3d6_row0_col3\" class=\"data row0 col3\" >0.000000</td>\n",
              "      <td id=\"T_ac3d6_row0_col4\" class=\"data row0 col4\" >0.000000</td>\n",
              "      <td id=\"T_ac3d6_row0_col5\" class=\"data row0 col5\" >0.000000</td>\n",
              "      <td id=\"T_ac3d6_row0_col6\" class=\"data row0 col6\" >0.000000</td>\n",
              "      <td id=\"T_ac3d6_row0_col7\" class=\"data row0 col7\" >0.000000</td>\n",
              "      <td id=\"T_ac3d6_row0_col8\" class=\"data row0 col8\" >0.000000</td>\n",
              "      <td id=\"T_ac3d6_row0_col9\" class=\"data row0 col9\" >0.000000</td>\n",
              "      <td id=\"T_ac3d6_row0_col10\" class=\"data row0 col10\" >0.000000</td>\n",
              "    </tr>\n",
              "    <tr>\n",
              "      <th id=\"T_ac3d6_level0_row1\" class=\"row_heading level0 row1\" >I</th>\n",
              "      <td id=\"T_ac3d6_row1_col0\" class=\"data row1 col0\" >0.000000</td>\n",
              "      <td id=\"T_ac3d6_row1_col1\" class=\"data row1 col1\" >0.000000</td>\n",
              "      <td id=\"T_ac3d6_row1_col2\" class=\"data row1 col2\" >0.666667</td>\n",
              "      <td id=\"T_ac3d6_row1_col3\" class=\"data row1 col3\" >0.000000</td>\n",
              "      <td id=\"T_ac3d6_row1_col4\" class=\"data row1 col4\" >0.000000</td>\n",
              "      <td id=\"T_ac3d6_row1_col5\" class=\"data row1 col5\" >0.000000</td>\n",
              "      <td id=\"T_ac3d6_row1_col6\" class=\"data row1 col6\" >0.000000</td>\n",
              "      <td id=\"T_ac3d6_row1_col7\" class=\"data row1 col7\" >0.000000</td>\n",
              "      <td id=\"T_ac3d6_row1_col8\" class=\"data row1 col8\" >0.333333</td>\n",
              "      <td id=\"T_ac3d6_row1_col9\" class=\"data row1 col9\" >0.000000</td>\n",
              "      <td id=\"T_ac3d6_row1_col10\" class=\"data row1 col10\" >0.000000</td>\n",
              "    </tr>\n",
              "    <tr>\n",
              "      <th id=\"T_ac3d6_level0_row2\" class=\"row_heading level0 row2\" >love</th>\n",
              "      <td id=\"T_ac3d6_row2_col0\" class=\"data row2 col0\" >0.000000</td>\n",
              "      <td id=\"T_ac3d6_row2_col1\" class=\"data row2 col1\" >0.000000</td>\n",
              "      <td id=\"T_ac3d6_row2_col2\" class=\"data row2 col2\" >0.000000</td>\n",
              "      <td id=\"T_ac3d6_row2_col3\" class=\"data row2 col3\" >0.500000</td>\n",
              "      <td id=\"T_ac3d6_row2_col4\" class=\"data row2 col4\" >0.500000</td>\n",
              "      <td id=\"T_ac3d6_row2_col5\" class=\"data row2 col5\" >0.000000</td>\n",
              "      <td id=\"T_ac3d6_row2_col6\" class=\"data row2 col6\" >0.000000</td>\n",
              "      <td id=\"T_ac3d6_row2_col7\" class=\"data row2 col7\" >0.000000</td>\n",
              "      <td id=\"T_ac3d6_row2_col8\" class=\"data row2 col8\" >0.000000</td>\n",
              "      <td id=\"T_ac3d6_row2_col9\" class=\"data row2 col9\" >0.000000</td>\n",
              "      <td id=\"T_ac3d6_row2_col10\" class=\"data row2 col10\" >0.000000</td>\n",
              "    </tr>\n",
              "    <tr>\n",
              "      <th id=\"T_ac3d6_level0_row3\" class=\"row_heading level0 row3\" >data</th>\n",
              "      <td id=\"T_ac3d6_row3_col0\" class=\"data row3 col0\" >0.000000</td>\n",
              "      <td id=\"T_ac3d6_row3_col1\" class=\"data row3 col1\" >0.000000</td>\n",
              "      <td id=\"T_ac3d6_row3_col2\" class=\"data row3 col2\" >0.000000</td>\n",
              "      <td id=\"T_ac3d6_row3_col3\" class=\"data row3 col3\" >0.000000</td>\n",
              "      <td id=\"T_ac3d6_row3_col4\" class=\"data row3 col4\" >1.000000</td>\n",
              "      <td id=\"T_ac3d6_row3_col5\" class=\"data row3 col5\" >0.000000</td>\n",
              "      <td id=\"T_ac3d6_row3_col6\" class=\"data row3 col6\" >0.000000</td>\n",
              "      <td id=\"T_ac3d6_row3_col7\" class=\"data row3 col7\" >0.000000</td>\n",
              "      <td id=\"T_ac3d6_row3_col8\" class=\"data row3 col8\" >0.000000</td>\n",
              "      <td id=\"T_ac3d6_row3_col9\" class=\"data row3 col9\" >0.000000</td>\n",
              "      <td id=\"T_ac3d6_row3_col10\" class=\"data row3 col10\" >0.000000</td>\n",
              "    </tr>\n",
              "    <tr>\n",
              "      <th id=\"T_ac3d6_level0_row4\" class=\"row_heading level0 row4\" >science</th>\n",
              "      <td id=\"T_ac3d6_row4_col0\" class=\"data row4 col0\" >0.000000</td>\n",
              "      <td id=\"T_ac3d6_row4_col1\" class=\"data row4 col1\" >0.000000</td>\n",
              "      <td id=\"T_ac3d6_row4_col2\" class=\"data row4 col2\" >0.000000</td>\n",
              "      <td id=\"T_ac3d6_row4_col3\" class=\"data row4 col3\" >0.000000</td>\n",
              "      <td id=\"T_ac3d6_row4_col4\" class=\"data row4 col4\" >0.000000</td>\n",
              "      <td id=\"T_ac3d6_row4_col5\" class=\"data row4 col5\" >0.500000</td>\n",
              "      <td id=\"T_ac3d6_row4_col6\" class=\"data row4 col6\" >0.000000</td>\n",
              "      <td id=\"T_ac3d6_row4_col7\" class=\"data row4 col7\" >0.000000</td>\n",
              "      <td id=\"T_ac3d6_row4_col8\" class=\"data row4 col8\" >0.000000</td>\n",
              "      <td id=\"T_ac3d6_row4_col9\" class=\"data row4 col9\" >0.000000</td>\n",
              "      <td id=\"T_ac3d6_row4_col10\" class=\"data row4 col10\" >0.000000</td>\n",
              "    </tr>\n",
              "    <tr>\n",
              "      <th id=\"T_ac3d6_level0_row5\" class=\"row_heading level0 row5\" >and</th>\n",
              "      <td id=\"T_ac3d6_row5_col0\" class=\"data row5 col0\" >0.000000</td>\n",
              "      <td id=\"T_ac3d6_row5_col1\" class=\"data row5 col1\" >0.000000</td>\n",
              "      <td id=\"T_ac3d6_row5_col2\" class=\"data row5 col2\" >0.000000</td>\n",
              "      <td id=\"T_ac3d6_row5_col3\" class=\"data row5 col3\" >0.000000</td>\n",
              "      <td id=\"T_ac3d6_row5_col4\" class=\"data row5 col4\" >0.000000</td>\n",
              "      <td id=\"T_ac3d6_row5_col5\" class=\"data row5 col5\" >0.000000</td>\n",
              "      <td id=\"T_ac3d6_row5_col6\" class=\"data row5 col6\" >1.000000</td>\n",
              "      <td id=\"T_ac3d6_row5_col7\" class=\"data row5 col7\" >0.000000</td>\n",
              "      <td id=\"T_ac3d6_row5_col8\" class=\"data row5 col8\" >0.000000</td>\n",
              "      <td id=\"T_ac3d6_row5_col9\" class=\"data row5 col9\" >0.000000</td>\n",
              "      <td id=\"T_ac3d6_row5_col10\" class=\"data row5 col10\" >0.000000</td>\n",
              "    </tr>\n",
              "    <tr>\n",
              "      <th id=\"T_ac3d6_level0_row6\" class=\"row_heading level0 row6\" >deep</th>\n",
              "      <td id=\"T_ac3d6_row6_col0\" class=\"data row6 col0\" >0.000000</td>\n",
              "      <td id=\"T_ac3d6_row6_col1\" class=\"data row6 col1\" >0.000000</td>\n",
              "      <td id=\"T_ac3d6_row6_col2\" class=\"data row6 col2\" >0.000000</td>\n",
              "      <td id=\"T_ac3d6_row6_col3\" class=\"data row6 col3\" >0.000000</td>\n",
              "      <td id=\"T_ac3d6_row6_col4\" class=\"data row6 col4\" >0.000000</td>\n",
              "      <td id=\"T_ac3d6_row6_col5\" class=\"data row6 col5\" >0.000000</td>\n",
              "      <td id=\"T_ac3d6_row6_col6\" class=\"data row6 col6\" >0.000000</td>\n",
              "      <td id=\"T_ac3d6_row6_col7\" class=\"data row6 col7\" >1.000000</td>\n",
              "      <td id=\"T_ac3d6_row6_col8\" class=\"data row6 col8\" >0.000000</td>\n",
              "      <td id=\"T_ac3d6_row6_col9\" class=\"data row6 col9\" >0.000000</td>\n",
              "      <td id=\"T_ac3d6_row6_col10\" class=\"data row6 col10\" >0.000000</td>\n",
              "    </tr>\n",
              "    <tr>\n",
              "      <th id=\"T_ac3d6_level0_row7\" class=\"row_heading level0 row7\" >learning</th>\n",
              "      <td id=\"T_ac3d6_row7_col0\" class=\"data row7 col0\" >0.000000</td>\n",
              "      <td id=\"T_ac3d6_row7_col1\" class=\"data row7 col1\" >0.000000</td>\n",
              "      <td id=\"T_ac3d6_row7_col2\" class=\"data row7 col2\" >0.000000</td>\n",
              "      <td id=\"T_ac3d6_row7_col3\" class=\"data row7 col3\" >0.000000</td>\n",
              "      <td id=\"T_ac3d6_row7_col4\" class=\"data row7 col4\" >0.000000</td>\n",
              "      <td id=\"T_ac3d6_row7_col5\" class=\"data row7 col5\" >0.000000</td>\n",
              "      <td id=\"T_ac3d6_row7_col6\" class=\"data row7 col6\" >0.000000</td>\n",
              "      <td id=\"T_ac3d6_row7_col7\" class=\"data row7 col7\" >0.000000</td>\n",
              "      <td id=\"T_ac3d6_row7_col8\" class=\"data row7 col8\" >0.000000</td>\n",
              "      <td id=\"T_ac3d6_row7_col9\" class=\"data row7 col9\" >0.000000</td>\n",
              "      <td id=\"T_ac3d6_row7_col10\" class=\"data row7 col10\" >0.000000</td>\n",
              "    </tr>\n",
              "    <tr>\n",
              "      <th id=\"T_ac3d6_level0_row8\" class=\"row_heading level0 row8\" >know</th>\n",
              "      <td id=\"T_ac3d6_row8_col0\" class=\"data row8 col0\" >0.000000</td>\n",
              "      <td id=\"T_ac3d6_row8_col1\" class=\"data row8 col1\" >0.000000</td>\n",
              "      <td id=\"T_ac3d6_row8_col2\" class=\"data row8 col2\" >0.000000</td>\n",
              "      <td id=\"T_ac3d6_row8_col3\" class=\"data row8 col3\" >0.000000</td>\n",
              "      <td id=\"T_ac3d6_row8_col4\" class=\"data row8 col4\" >0.000000</td>\n",
              "      <td id=\"T_ac3d6_row8_col5\" class=\"data row8 col5\" >0.000000</td>\n",
              "      <td id=\"T_ac3d6_row8_col6\" class=\"data row8 col6\" >0.000000</td>\n",
              "      <td id=\"T_ac3d6_row8_col7\" class=\"data row8 col7\" >0.000000</td>\n",
              "      <td id=\"T_ac3d6_row8_col8\" class=\"data row8 col8\" >0.000000</td>\n",
              "      <td id=\"T_ac3d6_row8_col9\" class=\"data row8 col9\" >1.000000</td>\n",
              "      <td id=\"T_ac3d6_row8_col10\" class=\"data row8 col10\" >0.000000</td>\n",
              "    </tr>\n",
              "    <tr>\n",
              "      <th id=\"T_ac3d6_level0_row9\" class=\"row_heading level0 row9\" >this</th>\n",
              "      <td id=\"T_ac3d6_row9_col0\" class=\"data row9 col0\" >0.000000</td>\n",
              "      <td id=\"T_ac3d6_row9_col1\" class=\"data row9 col1\" >0.000000</td>\n",
              "      <td id=\"T_ac3d6_row9_col2\" class=\"data row9 col2\" >0.000000</td>\n",
              "      <td id=\"T_ac3d6_row9_col3\" class=\"data row9 col3\" >0.000000</td>\n",
              "      <td id=\"T_ac3d6_row9_col4\" class=\"data row9 col4\" >0.000000</td>\n",
              "      <td id=\"T_ac3d6_row9_col5\" class=\"data row9 col5\" >0.000000</td>\n",
              "      <td id=\"T_ac3d6_row9_col6\" class=\"data row9 col6\" >0.000000</td>\n",
              "      <td id=\"T_ac3d6_row9_col7\" class=\"data row9 col7\" >0.000000</td>\n",
              "      <td id=\"T_ac3d6_row9_col8\" class=\"data row9 col8\" >0.000000</td>\n",
              "      <td id=\"T_ac3d6_row9_col9\" class=\"data row9 col9\" >0.000000</td>\n",
              "      <td id=\"T_ac3d6_row9_col10\" class=\"data row9 col10\" >1.000000</td>\n",
              "    </tr>\n",
              "    <tr>\n",
              "      <th id=\"T_ac3d6_level0_row10\" class=\"row_heading level0 row10\" >code</th>\n",
              "      <td id=\"T_ac3d6_row10_col0\" class=\"data row10 col0\" >0.000000</td>\n",
              "      <td id=\"T_ac3d6_row10_col1\" class=\"data row10 col1\" >0.000000</td>\n",
              "      <td id=\"T_ac3d6_row10_col2\" class=\"data row10 col2\" >0.000000</td>\n",
              "      <td id=\"T_ac3d6_row10_col3\" class=\"data row10 col3\" >0.000000</td>\n",
              "      <td id=\"T_ac3d6_row10_col4\" class=\"data row10 col4\" >0.000000</td>\n",
              "      <td id=\"T_ac3d6_row10_col5\" class=\"data row10 col5\" >0.000000</td>\n",
              "      <td id=\"T_ac3d6_row10_col6\" class=\"data row10 col6\" >0.000000</td>\n",
              "      <td id=\"T_ac3d6_row10_col7\" class=\"data row10 col7\" >0.000000</td>\n",
              "      <td id=\"T_ac3d6_row10_col8\" class=\"data row10 col8\" >0.000000</td>\n",
              "      <td id=\"T_ac3d6_row10_col9\" class=\"data row10 col9\" >0.000000</td>\n",
              "      <td id=\"T_ac3d6_row10_col10\" class=\"data row10 col10\" >0.000000</td>\n",
              "    </tr>\n",
              "  </tbody>\n",
              "</table>\n"
            ]
          },
          "metadata": {},
          "execution_count": 29
        }
      ]
    },
    {
      "cell_type": "markdown",
      "source": [
        "- 확률 행렬도 인접 행렬로 간주할 수 있음\n",
        "- 그래프 시각화 시 빈도 행렬과 동일한 결과를 얻을 수 있으나, 확률을 가중치로 사용 시 부정확한 결과를 얻을 수 있음"
      ],
      "metadata": {
        "id": "XMQOta4XQYdH"
      }
    },
    {
      "cell_type": "code",
      "source": [
        "prob_G = nx.from_pandas_adjacency(df)\n",
        "\n",
        "print(prob_G.nodes())\n",
        "print(prob_G.edges())"
      ],
      "metadata": {
        "colab": {
          "base_uri": "https://localhost:8080/"
        },
        "id": "tXhUZIkJQTu3",
        "outputId": "6fc8beda-b2f9-4028-8bfe-1b1d88bab03d"
      },
      "execution_count": null,
      "outputs": [
        {
          "output_type": "stream",
          "name": "stdout",
          "text": [
            "['SS', 'I', 'love', 'data', 'science', 'and', 'deep', 'learning', 'know', 'this', 'code']\n",
            "[('SS', 'I'), ('I', 'love'), ('I', 'know'), ('love', 'data'), ('love', 'science'), ('data', 'science'), ('science', 'and'), ('and', 'deep'), ('deep', 'learning'), ('know', 'this'), ('this', 'code')]\n"
          ]
        }
      ]
    },
    {
      "cell_type": "code",
      "source": [
        "print(G.edges()[('I', 'love')])\n",
        "print(G.edges()[('I', 'know')])\n",
        "\n",
        "print(prob_G.edges()[('I', 'love')])\n",
        "print(prob_G.edges()[('I', 'know')])"
      ],
      "metadata": {
        "colab": {
          "base_uri": "https://localhost:8080/"
        },
        "id": "La_GlHq9QrSO",
        "outputId": "8c111c07-3610-4993-f214-6e9540d06c13"
      },
      "execution_count": null,
      "outputs": [
        {
          "output_type": "stream",
          "name": "stdout",
          "text": [
            "{'weight': 2}\n",
            "{'weight': 1}\n",
            "{'weight': 0.6666666666666666}\n",
            "{'weight': 0.3333333333333333}\n"
          ]
        }
      ]
    },
    {
      "cell_type": "code",
      "source": [
        "nx.draw(prob_G, with_labels=True)"
      ],
      "metadata": {
        "colab": {
          "base_uri": "https://localhost:8080/",
          "height": 319
        },
        "id": "2lGjL7hFRLm1",
        "outputId": "aa48dd37-3dc9-44f5-b838-d3cf92ad3279"
      },
      "execution_count": null,
      "outputs": [
        {
          "output_type": "display_data",
          "data": {
            "text/plain": [
              "<Figure size 432x288 with 1 Axes>"
            ],
            "image/png": "[encoded data removed]"
          },
          "metadata": {}
        }
      ]
    },
    {
      "cell_type": "markdown",
      "source": [
        "### 중심성(Centrality) 지수"
      ],
      "metadata": {
        "id": "AMtdqWObRSIV"
      }
    },
    {
      "cell_type": "code",
      "source": [
        "# 연결중심성. 다른 단어와의 동시 출현 빈도가 많은 단어\n",
        "nx.degree_centrality(G)"
      ],
      "metadata": {
        "colab": {
          "base_uri": "https://localhost:8080/"
        },
        "id": "7ToZfvCCRQXF",
        "outputId": "1257e568-8db8-4691-d448-9c2dc2672384"
      },
      "execution_count": null,
      "outputs": [
        {
          "output_type": "execute_result",
          "data": {
            "text/plain": [
              "{'I': 0.30000000000000004,\n",
              " 'SS': 0.1,\n",
              " 'and': 0.2,\n",
              " 'code': 0.1,\n",
              " 'data': 0.2,\n",
              " 'deep': 0.2,\n",
              " 'know': 0.2,\n",
              " 'learning': 0.1,\n",
              " 'love': 0.30000000000000004,\n",
              " 'science': 0.30000000000000004,\n",
              " 'this': 0.2}"
            ]
          },
          "metadata": {},
          "execution_count": 33
        }
      ]
    },
    {
      "cell_type": "code",
      "source": [
        "# 고유벡터중심성. 연결된 상대 단어의 중요성에 가중치. 중요 단어와 많이 연결되어 있을 때 높아짐\n",
        "nx.eigenvector_centrality(G, weight='weight') # weight로 어휘 동시 출현 빈도 이용"
      ],
      "metadata": {
        "colab": {
          "base_uri": "https://localhost:8080/"
        },
        "id": "KrZmiIo2RcZ-",
        "outputId": "04ecc219-16f3-4ece-8de1-3076468c70a6"
      },
      "execution_count": null,
      "outputs": [
        {
          "output_type": "execute_result",
          "data": {
            "text/plain": [
              "{'I': 0.6738972217471829,\n",
              " 'SS': 0.5218381818736308,\n",
              " 'and': 0.04494390325361216,\n",
              " 'code': 0.013370793702236268,\n",
              " 'data': 0.15246421196699775,\n",
              " 'deep': 0.012430000571815347,\n",
              " 'know': 0.18731685432677989,\n",
              " 'learning': 0.003208839905750058,\n",
              " 'love': 0.4289818764298256,\n",
              " 'science': 0.16168537263306304,\n",
              " 'this': 0.05180118197737535}"
            ]
          },
          "metadata": {},
          "execution_count": 34
        }
      ]
    },
    {
      "cell_type": "code",
      "source": [
        "# 매개중심성. 단어와 단어 사이의 의미를 부여하는 역할. 해당 단어를 제거하면 의사소통이 어려워짐\n",
        "nx.betweenness_centrality(G)"
      ],
      "metadata": {
        "colab": {
          "base_uri": "https://localhost:8080/"
        },
        "id": "0c-SGjTIRqXo",
        "outputId": "6bb3a137-8c3e-43c5-f75f-70456bddff1b"
      },
      "execution_count": null,
      "outputs": [
        {
          "output_type": "execute_result",
          "data": {
            "text/plain": [
              "{'I': 0.6,\n",
              " 'SS': 0.0,\n",
              " 'and': 0.35555555555555557,\n",
              " 'code': 0.0,\n",
              " 'data': 0.0,\n",
              " 'deep': 0.2,\n",
              " 'know': 0.35555555555555557,\n",
              " 'learning': 0.0,\n",
              " 'love': 0.5555555555555556,\n",
              " 'science': 0.4666666666666667,\n",
              " 'this': 0.2}"
            ]
          },
          "metadata": {},
          "execution_count": 35
        }
      ]
    },
    {
      "cell_type": "code",
      "source": [
        "def get_node_size(node_values):\n",
        "  nsize = np.array([v for v in node_values])\n",
        "  nsize = 1000 * (nsize - min(nsize)) / (max(nsize) - min(nsize))\n",
        "\n",
        "  return nsize"
      ],
      "metadata": {
        "id": "kAiKrzLjR0um"
      },
      "execution_count": null,
      "outputs": []
    },
    {
      "cell_type": "code",
      "source": [
        "import matplotlib.pyplot as plt\n",
        "plt.style.use('seaborn-white')\n",
        "\n",
        "dc = nx.degree_centrality(G).values()\n",
        "ec = nx.eigenvector_centrality(G, weight='weight').values()\n",
        "bc = nx.betweenness_centrality(G).values()\n",
        "\n",
        "plt.figure(figsize=(15, 15))\n",
        "plt.axis('off')\n",
        "\n",
        "plt.subplot(221)\n",
        "plt.title('Normal', fontsize=16)\n",
        "nx.draw_networkx(G, font_size=16, alpha=0.7, cmap=plt.cm.Blues)\n",
        "\n",
        "plt.subplot(222)\n",
        "plt.title('Degree Centrality', fontsize=16)\n",
        "nx.draw_networkx(G, font_size=16,\n",
        "                 node_color=list(dc), node_size=get_node_size(dc),\n",
        "                 alpha=0.7, cmap=plt.cm.Blues)\n",
        "\n",
        "plt.subplot(223)\n",
        "plt.title('Eigenvector Centrality', fontsize=16)\n",
        "nx.draw_networkx(G, font_size=16,\n",
        "                 node_color=list(ec), node_size=get_node_size(ec),\n",
        "                 alpha=0.7, cmap=plt.cm.Blues)\n",
        "\n",
        "plt.subplot(224)\n",
        "plt.title('Betweenness Centrality', fontsize=16)\n",
        "nx.draw_networkx(G, font_size=16,\n",
        "                 node_color=list(bc), node_size=get_node_size(bc),\n",
        "                 alpha=0.7, cmap=plt.cm.Blues)\n",
        "\n",
        "plt.show()"
      ],
      "metadata": {
        "colab": {
          "base_uri": "https://localhost:8080/",
          "height": 849
        },
        "id": "OlpKRIzYSImN",
        "outputId": "60bde9d7-7b9f-4849-a781-4fad4781cc55"
      },
      "execution_count": null,
      "outputs": [
        {
          "output_type": "display_data",
          "data": {
            "text/plain": [
              "<Figure size 1080x1080 with 4 Axes>"
            ],
            "image/png": "[encoded data removed]"
          },
          "metadata": {}
        }
      ]
    }
  ]
}