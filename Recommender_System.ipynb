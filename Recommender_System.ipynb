{
  "nbformat": 4,
  "nbformat_minor": 0,
  "metadata": {
    "colab": {
      "provenance": [],
      "authorship_tag": "ABX9TyOS6vcZcWEQGnPV0QDfRvFJ",
      "include_colab_link": true
    },
    "kernelspec": {
      "name": "python3",
      "display_name": "Python 3"
    },
    "language_info": {
      "name": "python"
    }
  },
  "cells": [
    {
      "cell_type": "markdown",
      "metadata": {
        "id": "view-in-github",
        "colab_type": "text"
      },
      "source": [
        "<a href=\"https://colab.research.google.com/github/younghun-cha/DM_2022/blob/main/Recommender_System.ipynb\" target=\"_parent\"><img src=\"https://colab.research.google.com/assets/colab-badge.svg\" alt=\"Open In Colab\"/></a>"
      ]
    },
    {
      "cell_type": "markdown",
      "source": [
        "## Surprise"
      ],
      "metadata": {
        "id": "RcqZyKHnE_cL"
      }
    },
    {
      "cell_type": "markdown",
      "source": [
        "- 추천 시스템 개발을 위한 라이브러리\n",
        "- 다양한 모델과 데이터 제공\n",
        "- scikit-learn과 유사한 사용 방법"
      ],
      "metadata": {
        "id": "_DdpmhL0FEf7"
      }
    },
    {
      "cell_type": "code",
      "execution_count": null,
      "metadata": {
        "colab": {
          "base_uri": "https://localhost:8080/"
        },
        "id": "WtkmNQVxElPT",
        "outputId": "7fbc7773-39df-4c95-9b99-5e13a3b9b090"
      },
      "outputs": [
        {
          "output_type": "stream",
          "name": "stdout",
          "text": [
            "Looking in indexes: https://pypi.org/simple, https://us-python.pkg.dev/colab-wheels/public/simple/\n",
            "Collecting scikit-surprise\n",
            "  Downloading scikit-surprise-1.1.1.tar.gz (11.8 MB)\n",
            "\u001b[K     |████████████████████████████████| 11.8 MB 294 kB/s \n",
            "\u001b[?25hRequirement already satisfied: joblib>=0.11 in /usr/local/lib/python3.7/dist-packages (from scikit-surprise) (1.1.0)\n",
            "Requirement already satisfied: numpy>=1.11.2 in /usr/local/lib/python3.7/dist-packages (from scikit-surprise) (1.21.6)\n",
            "Requirement already satisfied: scipy>=1.0.0 in /usr/local/lib/python3.7/dist-packages (from scikit-surprise) (1.4.1)\n",
            "Requirement already satisfied: six>=1.10.0 in /usr/local/lib/python3.7/dist-packages (from scikit-surprise) (1.15.0)\n",
            "Building wheels for collected packages: scikit-surprise\n",
            "  Building wheel for scikit-surprise (setup.py) ... \u001b[?25l\u001b[?25hdone\n",
            "  Created wheel for scikit-surprise: filename=scikit_surprise-1.1.1-cp37-cp37m-linux_x86_64.whl size=1633715 sha256=9b46c8c6c21ce5a3cb079ae6ef69b2a8252370abe4a9a762891dabb4905b2c53\n",
            "  Stored in directory: /root/.cache/pip/wheels/76/44/74/b498c42be47b2406bd27994e16c5188e337c657025ab400c1c\n",
            "Successfully built scikit-surprise\n",
            "Installing collected packages: scikit-surprise\n",
            "Successfully installed scikit-surprise-1.1.1\n"
          ]
        }
      ],
      "source": [
        "# surprise 설치\n",
        "!pip install scikit-surprise"
      ]
    },
    {
      "cell_type": "code",
      "source": [
        "import numpy as np\n",
        "from surprise import Dataset"
      ],
      "metadata": {
        "id": "joKHY4Y4Fbzr"
      },
      "execution_count": null,
      "outputs": []
    },
    {
      "cell_type": "code",
      "source": [
        "\"\"\"\n",
        "영화 평점 데이터셋인 movie lens 데이터(ml-100k) 다운로드\n",
        "user_id, movie_id, rating, time으로 이뤄져 있음\n",
        "\"\"\"\n",
        "\n",
        "data = Dataset.load_builtin('ml-100k', prompt=False)\n",
        "data.raw_ratings[:10]"
      ],
      "metadata": {
        "colab": {
          "base_uri": "https://localhost:8080/"
        },
        "id": "fGxfc0NgFhrj",
        "outputId": "6b2823df-52e8-45d9-9545-d9e127b9b2ec"
      },
      "execution_count": null,
      "outputs": [
        {
          "output_type": "stream",
          "name": "stdout",
          "text": [
            "Trying to download dataset from http://files.grouplens.org/datasets/movielens/ml-100k.zip...\n",
            "Done! Dataset ml-100k has been saved to /root/.surprise_data/ml-100k\n"
          ]
        },
        {
          "output_type": "execute_result",
          "data": {
            "text/plain": [
              "[('196', '242', 3.0, '881250949'),\n",
              " ('186', '302', 3.0, '891717742'),\n",
              " ('22', '377', 1.0, '878887116'),\n",
              " ('244', '51', 2.0, '880606923'),\n",
              " ('166', '346', 1.0, '886397596'),\n",
              " ('298', '474', 4.0, '884182806'),\n",
              " ('115', '265', 2.0, '881171488'),\n",
              " ('253', '465', 5.0, '891628467'),\n",
              " ('305', '451', 3.0, '886324817'),\n",
              " ('6', '86', 3.0, '883603013')]"
            ]
          },
          "metadata": {},
          "execution_count": 3
        }
      ]
    },
    {
      "cell_type": "code",
      "source": [
        "raw_data = np.array(data.raw_ratings, dtype=int)"
      ],
      "metadata": {
        "id": "xSs7w35rF0zv"
      },
      "execution_count": null,
      "outputs": []
    },
    {
      "cell_type": "code",
      "source": [
        "# id가 0부터 시작하도록 변환\n",
        "raw_data[:, 0] -= 1\n",
        "raw_data[:, 1] -= 1"
      ],
      "metadata": {
        "id": "AVj8niD4F73v"
      },
      "execution_count": null,
      "outputs": []
    },
    {
      "cell_type": "code",
      "source": [
        "raw_data"
      ],
      "metadata": {
        "colab": {
          "base_uri": "https://localhost:8080/"
        },
        "id": "IqT8_W_7GDZY",
        "outputId": "07b4820f-edda-43c7-916a-3627dc08addc"
      },
      "execution_count": null,
      "outputs": [
        {
          "output_type": "execute_result",
          "data": {
            "text/plain": [
              "array([[      195,       241,         3, 881250949],\n",
              "       [      185,       301,         3, 891717742],\n",
              "       [       21,       376,         1, 878887116],\n",
              "       ...,\n",
              "       [      275,      1089,         1, 874795795],\n",
              "       [       12,       224,         2, 882399156],\n",
              "       [       11,       202,         3, 879959583]])"
            ]
          },
          "metadata": {},
          "execution_count": 6
        }
      ]
    },
    {
      "cell_type": "code",
      "source": [
        "# 인접 행렬의 크기\n",
        "n_users = np.max(raw_data[:, 0])\n",
        "n_movies = np.max(raw_data[:, 1])\n",
        "shape = (n_users + 1, n_movies + 1)\n",
        "shape"
      ],
      "metadata": {
        "colab": {
          "base_uri": "https://localhost:8080/"
        },
        "id": "y-3XFCE8GFUA",
        "outputId": "b9296635-f7f8-4ae5-9252-f2d3b215ec7c"
      },
      "execution_count": null,
      "outputs": [
        {
          "output_type": "execute_result",
          "data": {
            "text/plain": [
              "(943, 1682)"
            ]
          },
          "metadata": {},
          "execution_count": 7
        }
      ]
    },
    {
      "cell_type": "code",
      "source": [
        "# <사용자, 영화> 인접 행렬 생성\n",
        "adj_matrix = np.ndarray(shape, dtype=int)\n",
        "for user_id, movie_id, rating, time in raw_data:\n",
        "  adj_matrix[user_id][movie_id] = 1.\n",
        "adj_matrix"
      ],
      "metadata": {
        "colab": {
          "base_uri": "https://localhost:8080/"
        },
        "id": "i1pmnl3_GRN4",
        "outputId": "8c953be6-d199-41d9-9c47-51c636ed4bf0"
      },
      "execution_count": null,
      "outputs": [
        {
          "output_type": "execute_result",
          "data": {
            "text/plain": [
              "array([[1, 1, 1, ..., 0, 0, 0],\n",
              "       [1, 0, 0, ..., 0, 0, 0],\n",
              "       [0, 0, 0, ..., 0, 0, 0],\n",
              "       ...,\n",
              "       [1, 0, 0, ..., 0, 0, 0],\n",
              "       [0, 0, 0, ..., 0, 0, 0],\n",
              "       [0, 1, 0, ..., 0, 0, 0]])"
            ]
          },
          "metadata": {},
          "execution_count": 8
        }
      ]
    },
    {
      "cell_type": "markdown",
      "source": [
        "## User-Based Collaborative Filtering 직접 구현"
      ],
      "metadata": {
        "id": "1gz9qhr-E9NM"
      }
    },
    {
      "cell_type": "markdown",
      "source": [
        "\n",
        "유클리드 거리( $ euclidian = \\sqrt{\\sum_{d=1}^D (A_i-B_i)^2}$ )를 사용해 추천"
      ],
      "metadata": {
        "id": "nYf_Bn03GoT6"
      }
    },
    {
      "cell_type": "code",
      "source": [
        "my_id, my_vector = 0, adj_matrix[0] # 내 id가 0번 이라고 가정\n",
        "best_match, best_match_id, best_match_vector = 9999, -1, []\n",
        "\n",
        "# 유클리드 거리를 통해 유사도 구하기\n",
        "for user_id, user_vector in enumerate(adj_matrix):\n",
        "  if my_id != user_id:\n",
        "    euclidean_dist = np.sqrt(np.sum(np.square(my_vector - user_vector)))\n",
        "    if euclidean_dist < best_match:\n",
        "      best_match = euclidean_dist\n",
        "      best_match_id = user_id\n",
        "      best_match_vector = user_vector\n",
        "\n",
        "print('Best Match: {}, Best Match ID: {}'.format(best_match, best_match_id))"
      ],
      "metadata": {
        "id": "v6jZmXC_Gnfy",
        "colab": {
          "base_uri": "https://localhost:8080/"
        },
        "outputId": "05b412c5-a3eb-449e-d624-ccea82b161cb"
      },
      "execution_count": null,
      "outputs": [
        {
          "output_type": "stream",
          "name": "stdout",
          "text": [
            "Best Match: 14.832396974191326, Best Match ID: 737\n"
          ]
        }
      ]
    },
    {
      "cell_type": "code",
      "source": [
        "print(my_vector, best_match_vector)"
      ],
      "metadata": {
        "colab": {
          "base_uri": "https://localhost:8080/"
        },
        "id": "5EvYwgMIbqXU",
        "outputId": "7f2e0662-df62-441e-d37b-25558d870775"
      },
      "execution_count": null,
      "outputs": [
        {
          "output_type": "stream",
          "name": "stdout",
          "text": [
            "[1 1 1 ... 0 0 0] [1 1 0 ... 0 0 0]\n"
          ]
        }
      ]
    },
    {
      "cell_type": "code",
      "source": [
        "# 내가 안 본 영화 중 737번이 본 영화를 추천\n",
        "\n",
        "recommend_list = []\n",
        "for i, log in enumerate(zip(my_vector, best_match_vector)):\n",
        "  log1, log2 = log\n",
        "  if log1 < 1. and log2 > 0.:\n",
        "    recommend_list.append(i)\n",
        "print(recommend_list)"
      ],
      "metadata": {
        "colab": {
          "base_uri": "https://localhost:8080/"
        },
        "id": "W_FugWZBbsS-",
        "outputId": "0e7bca17-2d5c-48f5-f2f9-d7cbdec66b8c"
      },
      "execution_count": null,
      "outputs": [
        {
          "output_type": "stream",
          "name": "stdout",
          "text": [
            "[297, 312, 317, 342, 356, 366, 379, 384, 392, 402, 404, 407, 417, 422, 428, 433, 448, 454, 469, 473, 495, 510, 516, 526, 527, 549, 567, 602, 635, 649, 650, 654, 658, 661, 664, 696, 731, 746, 750, 754, 915, 918, 925, 929, 950, 968, 1015, 1046]\n"
          ]
        }
      ]
    },
    {
      "cell_type": "markdown",
      "source": [
        "코사인 유사도( $cos(\\theta) = \\frac{A \\cdot B}{\\begin{Vmatrix} A \\end{Vmatrix} \\times \\begin{Vmatrix} B \\end{Vmatrix}}$ )를 사용해 추천"
      ],
      "metadata": {
        "id": "Rhj8nfhIbxLZ"
      }
    },
    {
      "cell_type": "code",
      "source": [
        "def compute_cos_similarity(v1, v2):\n",
        "  norm1 = np.sqrt(np.sum(np.square(v1)))\n",
        "  norm2 = np.sqrt(np.sum(np.square(v2)))\n",
        "  dot = np.dot(v1, v2)\n",
        "  return dot / (norm1 * norm2)"
      ],
      "metadata": {
        "id": "xKsutaA8bwGu"
      },
      "execution_count": null,
      "outputs": []
    },
    {
      "cell_type": "code",
      "source": [
        "my_id, my_vector = 0, adj_matrix[0] # 내 id가 0번 이라고 가정\n",
        "best_match, best_match_id, best_match_vector = -1, -1, []\n",
        "\n",
        "# 코사인 유사도를 통해 유사도 구하기\n",
        "for user_id, user_vector in enumerate(adj_matrix):\n",
        "  if my_id != user_id:\n",
        "    cos_similarity = compute_cos_similarity(my_vector, user_vector)\n",
        "    if cos_similarity > best_match:\n",
        "      best_match = cos_similarity\n",
        "      best_match_id = user_id\n",
        "      best_match_vector = user_vector\n",
        "\n",
        "print('Best Match: {}, Best Match ID: {}'.format(best_match, best_match_id))"
      ],
      "metadata": {
        "colab": {
          "base_uri": "https://localhost:8080/"
        },
        "id": "PqgkJHticGSP",
        "outputId": "b69d301a-32dc-42f8-c3f9-f02186a500ea"
      },
      "execution_count": null,
      "outputs": [
        {
          "output_type": "stream",
          "name": "stdout",
          "text": [
            "Best Match: 0.5278586163659506, Best Match ID: 915\n"
          ]
        }
      ]
    },
    {
      "cell_type": "code",
      "source": [
        "# 내가 안 본 영화 중 915번이 본 영화를 추천\n",
        "recommend_list = []\n",
        "for i, log in enumerate(zip(my_vector, best_match_vector)):\n",
        "  log1, log2 = log\n",
        "  if log1 < 1. and log2 > 0.:\n",
        "    recommend_list.append(i)\n",
        "print(recommend_list)"
      ],
      "metadata": {
        "colab": {
          "base_uri": "https://localhost:8080/"
        },
        "id": "zTXkLxbMcQOH",
        "outputId": "32683f96-77a5-4026-8ac2-87f557e68ad1"
      },
      "execution_count": null,
      "outputs": [
        {
          "output_type": "stream",
          "name": "stdout",
          "text": [
            "[272, 275, 279, 280, 283, 285, 289, 294, 297, 316, 317, 355, 365, 366, 368, 379, 380, 381, 384, 386, 392, 398, 401, 404, 416, 420, 422, 424, 426, 427, 430, 432, 450, 460, 461, 466, 469, 471, 473, 474, 475, 479, 482, 483, 497, 505, 508, 510, 511, 522, 526, 527, 529, 530, 534, 536, 540, 545, 548, 549, 556, 557, 558, 560, 565, 567, 568, 569, 577, 580, 581, 582, 592, 596, 630, 635, 639, 641, 649, 651, 654, 673, 677, 678, 683, 684, 692, 696, 701, 703, 707, 708, 709, 712, 714, 719, 720, 726, 731, 734, 736, 738, 740, 745, 747, 754, 755, 761, 762, 763, 766, 780, 789, 791, 805, 819, 823, 824, 830, 843, 862, 865, 918, 929, 930, 938, 942, 943, 947, 958, 959, 960, 970, 977, 1004, 1008, 1009, 1010, 1013, 1041, 1045, 1069, 1072, 1073, 1078, 1097, 1100, 1108, 1112, 1118, 1134, 1193, 1205, 1207, 1216, 1219, 1267, 1334, 1400, 1427, 1596, 1681]\n"
          ]
        }
      ]
    },
    {
      "cell_type": "markdown",
      "source": [
        "#### 명시적 피드백을 추가\n",
        "기존 방법에 명시적 피드백(사용자가 평가한 영화 점수)을 추가해 실험"
      ],
      "metadata": {
        "id": "HuwBkm-Eco20"
      }
    },
    {
      "cell_type": "code",
      "source": [
        "# 명시적 피드백을 추가한 <사용자, 영화> 인접 행렬 생성\n",
        "adj_matrix = np.ndarray(shape, dtype=int)\n",
        "for user_id, movie_id, rating, time in raw_data:\n",
        "  adj_matrix[user_id][movie_id] = rating\n",
        "adj_matrix"
      ],
      "metadata": {
        "colab": {
          "base_uri": "https://localhost:8080/"
        },
        "id": "C-Ltx5OPcb5p",
        "outputId": "0f4b74af-b4e8-4bb9-a421-000742d4b621"
      },
      "execution_count": null,
      "outputs": [
        {
          "output_type": "execute_result",
          "data": {
            "text/plain": [
              "array([[5, 3, 4, ..., 0, 0, 0],\n",
              "       [4, 0, 0, ..., 0, 0, 0],\n",
              "       [0, 0, 0, ..., 0, 0, 0],\n",
              "       ...,\n",
              "       [5, 0, 0, ..., 0, 0, 0],\n",
              "       [0, 0, 0, ..., 0, 0, 0],\n",
              "       [0, 5, 0, ..., 0, 0, 0]])"
            ]
          },
          "metadata": {},
          "execution_count": 16
        }
      ]
    },
    {
      "cell_type": "code",
      "source": [
        "my_id, my_vector = 0, adj_matrix[0] # 내 id가 0번 이라고 가정\n",
        "best_match, best_match_id, best_match_vector = 9999, -1, []\n",
        "\n",
        "# 유클리드 거리를 통해 유사도 구하기\n",
        "for user_id, user_vector in enumerate(adj_matrix):\n",
        "  if my_id != user_id:\n",
        "    euclidean_dist = np.sqrt(np.sum(np.square(my_vector - user_vector)))\n",
        "    if euclidean_dist < best_match:\n",
        "      best_match = euclidean_dist\n",
        "      best_match_id = user_id\n",
        "      best_match_vector = user_vector\n",
        "\n",
        "print('Best Match: {}, Best Match ID: {}'.format(best_match, best_match_id))"
      ],
      "metadata": {
        "colab": {
          "base_uri": "https://localhost:8080/"
        },
        "id": "4eI73VKYczts",
        "outputId": "0fdc4609-75da-46c9-fff0-22fb50874958"
      },
      "execution_count": null,
      "outputs": [
        {
          "output_type": "stream",
          "name": "stdout",
          "text": [
            "Best Match: 55.06359959174482, Best Match ID: 737\n"
          ]
        }
      ]
    },
    {
      "cell_type": "code",
      "source": [
        "my_id, my_vector = 0, adj_matrix[0] # 내 id가 0번 이라고 가정\n",
        "best_match, best_match_id, best_match_vector = -1, -1, []\n",
        "\n",
        "# 코사인 유사도를 통해 유사도 구하기\n",
        "for user_id, user_vector in enumerate(adj_matrix):\n",
        "  if my_id != user_id:\n",
        "    cos_similarity = compute_cos_similarity(my_vector, user_vector)\n",
        "    if cos_similarity > best_match:\n",
        "      best_match = cos_similarity\n",
        "      best_match_id = user_id\n",
        "      best_match_vector = user_vector\n",
        "\n",
        "print('Best Match: {}, Best Match ID: {}'.format(best_match, best_match_id))"
      ],
      "metadata": {
        "colab": {
          "base_uri": "https://localhost:8080/"
        },
        "id": "1nutnr74dKHX",
        "outputId": "d7b88e2d-9583-47fe-8f09-93060f01c44a"
      },
      "execution_count": null,
      "outputs": [
        {
          "output_type": "stream",
          "name": "stdout",
          "text": [
            "Best Match: 0.569065731527988, Best Match ID: 915\n"
          ]
        }
      ]
    },
    {
      "cell_type": "markdown",
      "source": [
        "### Surprise 라이브러리"
      ],
      "metadata": {
        "id": "m9azAfE8eKhM"
      }
    },
    {
      "cell_type": "code",
      "source": [
        "from surprise import KNNBasic, SVD\n",
        "from surprise.model_selection import cross_validate, train_test_split\n",
        "from surprise import accuracy"
      ],
      "metadata": {
        "id": "5qXk_8mXeGBb"
      },
      "execution_count": null,
      "outputs": []
    },
    {
      "cell_type": "markdown",
      "source": [
        "#### Nearest Neighbor CF\n",
        "- KNNBasic()"
      ],
      "metadata": {
        "id": "Rr0h38InePwf"
      }
    },
    {
      "cell_type": "code",
      "source": [
        "model_nn = KNNBasic()\n",
        "cross_validate(model_nn, data, measures=['rmse', 'mae'], cv=5, n_jobs=4, verbose=True);"
      ],
      "metadata": {
        "colab": {
          "base_uri": "https://localhost:8080/"
        },
        "id": "QnC7zu0ieO4H",
        "outputId": "b0614f67-d2ab-43b8-bfa0-c5053d36aeee"
      },
      "execution_count": null,
      "outputs": [
        {
          "output_type": "stream",
          "name": "stdout",
          "text": [
            "Evaluating RMSE, MAE of algorithm KNNBasic on 5 split(s).\n",
            "\n",
            "                  Fold 1  Fold 2  Fold 3  Fold 4  Fold 5  Mean    Std     \n",
            "RMSE (testset)    0.9768  0.9809  0.9814  0.9784  0.9774  0.9790  0.0018  \n",
            "MAE (testset)     0.7724  0.7755  0.7728  0.7732  0.7729  0.7734  0.0011  \n",
            "Fit time          0.42    0.68    0.56    0.69    0.41    0.55    0.12    \n",
            "Test time         5.60    6.61    6.85    5.69    3.59    5.67    1.15    \n"
          ]
        }
      ]
    },
    {
      "cell_type": "markdown",
      "source": [
        "- RMSE:Root Mean Squared Error\n",
        "- MAE:Mean Absolute Error"
      ],
      "metadata": {
        "id": "RApRGZSmegfD"
      }
    },
    {
      "cell_type": "markdown",
      "source": [
        "#### Latent Factor CF\n",
        "- SVD()"
      ],
      "metadata": {
        "id": "hliIn78genS6"
      }
    },
    {
      "cell_type": "code",
      "source": [
        "model_lf = SVD()\n",
        "cross_validate(model_lf, data, measures=['rmse', 'mae'], cv=5, n_jobs=4, verbose=True);"
      ],
      "metadata": {
        "colab": {
          "base_uri": "https://localhost:8080/"
        },
        "id": "9MIcpWiPeXJC",
        "outputId": "0e63882f-a87f-4fc6-9d5b-becf813c528b"
      },
      "execution_count": null,
      "outputs": [
        {
          "output_type": "stream",
          "name": "stdout",
          "text": [
            "Evaluating RMSE, MAE of algorithm SVD on 5 split(s).\n",
            "\n",
            "                  Fold 1  Fold 2  Fold 3  Fold 4  Fold 5  Mean    Std     \n",
            "RMSE (testset)    0.9291  0.9401  0.9350  0.9423  0.9368  0.9367  0.0046  \n",
            "MAE (testset)     0.7299  0.7437  0.7383  0.7396  0.7391  0.7381  0.0045  \n",
            "Fit time          12.73   16.45   16.43   13.56   9.24    13.68   2.68    \n",
            "Test time         0.56    0.54    0.40    0.25    0.17    0.39    0.15    \n"
          ]
        }
      ]
    },
    {
      "cell_type": "markdown",
      "source": [
        "SVD를 사용하여 추천"
      ],
      "metadata": {
        "id": "zHwN3hoNewER"
      }
    },
    {
      "cell_type": "code",
      "source": [
        "# surprise의 train_test_split() 사용\n",
        "trainset, testset = train_test_split(data, test_size=0.25, random_state=0)"
      ],
      "metadata": {
        "id": "4UwvIozxeuJz"
      },
      "execution_count": null,
      "outputs": []
    },
    {
      "cell_type": "code",
      "source": [
        "model_lf.fit(trainset)"
      ],
      "metadata": {
        "colab": {
          "base_uri": "https://localhost:8080/"
        },
        "id": "qN7IdD-GfDV4",
        "outputId": "19c84ae0-5bf7-423e-f432-debe4bc70d22"
      },
      "execution_count": null,
      "outputs": [
        {
          "output_type": "execute_result",
          "data": {
            "text/plain": [
              "<surprise.prediction_algorithms.matrix_factorization.SVD at 0x7f6c00f44650>"
            ]
          },
          "metadata": {},
          "execution_count": 23
        }
      ]
    },
    {
      "cell_type": "code",
      "source": [
        "# userID 196, itemID 302\n",
        "uid, iid = str(196), str(302)\n",
        "\n",
        "# 예측 평점\n",
        "pred = model_lf.predict(uid, iid)\n",
        "pred"
      ],
      "metadata": {
        "colab": {
          "base_uri": "https://localhost:8080/"
        },
        "id": "DYUyOFlzfE7q",
        "outputId": "5cd89d2b-24d7-49b9-c20d-71c7c037de19"
      },
      "execution_count": null,
      "outputs": [
        {
          "output_type": "execute_result",
          "data": {
            "text/plain": [
              "Prediction(uid='196', iid='302', r_ui=None, est=3.920563151103652, details={'was_impossible': False})"
            ]
          },
          "metadata": {},
          "execution_count": 24
        }
      ]
    },
    {
      "cell_type": "markdown",
      "source": [
        "--> 예측 결과:사용자ID(uid), 아이템ID(iid), 실제평점(r_ui), 예측평점(est)"
      ],
      "metadata": {
        "id": "STdxiuNmfIYA"
      }
    },
    {
      "cell_type": "code",
      "source": [
        "pred_test = model_lf.test(testset)\n",
        "\n",
        "print('prediction type:', type(pred_test), ' size:', len(pred_test))\n",
        "pred_test[:5]"
      ],
      "metadata": {
        "colab": {
          "base_uri": "https://localhost:8080/"
        },
        "id": "HLLoq2WtfHY3",
        "outputId": "1f3abd3c-a9ea-4bff-c3ab-e287ca893107"
      },
      "execution_count": null,
      "outputs": [
        {
          "output_type": "stream",
          "name": "stdout",
          "text": [
            "prediction type: <class 'list'>  size: 25000\n"
          ]
        },
        {
          "output_type": "execute_result",
          "data": {
            "text/plain": [
              "[Prediction(uid='120', iid='282', r_ui=4.0, est=3.617096216862972, details={'was_impossible': False}),\n",
              " Prediction(uid='882', iid='291', r_ui=4.0, est=3.6691888293952624, details={'was_impossible': False}),\n",
              " Prediction(uid='535', iid='507', r_ui=5.0, est=4.12655334976517, details={'was_impossible': False}),\n",
              " Prediction(uid='697', iid='244', r_ui=5.0, est=3.7060821929575143, details={'was_impossible': False}),\n",
              " Prediction(uid='751', iid='385', r_ui=4.0, est=3.409436073680719, details={'was_impossible': False})]"
            ]
          },
          "metadata": {},
          "execution_count": 25
        }
      ]
    },
    {
      "cell_type": "code",
      "source": [
        "pred_accuracy = accuracy.rmse(pred_test)"
      ],
      "metadata": {
        "colab": {
          "base_uri": "https://localhost:8080/"
        },
        "id": "Q4T6td44fdN_",
        "outputId": "bffd9bf3-78a2-46e8-edb2-fcc33872569b"
      },
      "execution_count": null,
      "outputs": [
        {
          "output_type": "stream",
          "name": "stdout",
          "text": [
            "RMSE: 0.9469\n"
          ]
        }
      ]
    }
  ]
}