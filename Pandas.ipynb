{
  "cells": [
    {
      "cell_type": "markdown",
      "metadata": {
        "id": "view-in-github",
        "colab_type": "text"
      },
      "source": [
        "<a href=\"https://colab.research.google.com/github/younghun-cha/DM_2022/blob/main/Pandas.ipynb\" target=\"_parent\"><img src=\"https://colab.research.google.com/assets/colab-badge.svg\" alt=\"Open In Colab\"/></a>"
      ]
    },
    {
      "cell_type": "markdown",
      "metadata": {
        "id": "l5jkTeeNjUae"
      },
      "source": [
        "# Pandas\n",
        "\n",
        "* [pandas](https://pandas.pydata.org/pandas-docs/stable/, \"pandas link\")\n",
        "* 관계 또는 레이블링 데이터로 쉽고 직관적으로 작업할 수 있도록 고안된 빠르고 유연하며 표현력이 뛰어난 데이터 구조를 제공하는 Python 패키지"
      ]
    },
    {
      "cell_type": "markdown",
      "metadata": {
        "id": "063zrZmgk8Gx"
      },
      "source": [
        "---"
      ]
    },
    {
      "cell_type": "code",
      "execution_count": null,
      "metadata": {
        "colab": {
          "base_uri": "https://localhost:8080/",
          "height": 35
        },
        "id": "yse0ihPdjJbw",
        "outputId": "a0366d81-947f-4fba-a777-2e29a59a56b1"
      },
      "outputs": [
        {
          "name": "stdout",
          "output_type": "stream",
          "text": [
            "Requirement already satisfied: pandas in c:\\users\\sop\\anaconda3\\lib\\site-packages (1.3.4)\n",
            "Requirement already satisfied: numpy>=1.17.3 in c:\\users\\sop\\anaconda3\\lib\\site-packages (from pandas) (1.20.3)\n",
            "Requirement already satisfied: pytz>=2017.3 in c:\\users\\sop\\anaconda3\\lib\\site-packages (from pandas) (2021.3)\n",
            "Requirement already satisfied: python-dateutil>=2.7.3 in c:\\users\\sop\\anaconda3\\lib\\site-packages (from pandas) (2.8.2)\n",
            "Requirement already satisfied: six>=1.5 in c:\\users\\sop\\anaconda3\\lib\\site-packages (from python-dateutil>=2.7.3->pandas) (1.16.0)\n"
          ]
        }
      ],
      "source": [
        "!pip install pandas"
      ]
    },
    {
      "cell_type": "code",
      "execution_count": null,
      "metadata": {
        "id": "Aw0J83WNJ9Ep",
        "outputId": "ed90e39f-68dd-48f3-9779-e655c3df170d"
      },
      "outputs": [
        {
          "data": {
            "text/plain": [
              "'1.3.4'"
            ]
          },
          "execution_count": 1,
          "metadata": {},
          "output_type": "execute_result"
        }
      ],
      "source": [
        "import numpy as np\n",
        "import pandas as pd\n",
        "pd.__version__"
      ]
    },
    {
      "cell_type": "markdown",
      "metadata": {
        "id": "CsH0REQfuLu2"
      },
      "source": [
        "## Pandas 데이터 구조\n"
      ]
    },
    {
      "cell_type": "markdown",
      "metadata": {
        "id": "J4u_-QUtwsKq"
      },
      "source": [
        "### Series\n",
        "\n",
        "* 모든 데이터 타입을 저장할 수 있는 레이블(index)이 지정된 1차원 배열\n",
        "* 인덱스(index), 값(values)으로 구성\n",
        "* 딕셔너리, 리스트, 튜플 등으로 생성"
      ]
    },
    {
      "cell_type": "code",
      "execution_count": null,
      "metadata": {
        "colab": {
          "base_uri": "https://localhost:8080/",
          "height": 121
        },
        "id": "YSLBo7xOuw4X",
        "outputId": "d92edbe0-b050-4ad1-e3d7-20fc95753cc0"
      },
      "outputs": [
        {
          "data": {
            "text/plain": [
              "a    0.30\n",
              "b    0.50\n",
              "c    0.50\n",
              "d    0.75\n",
              "e    1.00\n",
              "dtype: float64"
            ]
          },
          "execution_count": 4,
          "metadata": {},
          "output_type": "execute_result"
        }
      ],
      "source": [
        "# list\n",
        "s = pd.Series([0.3, 0.5, 0.5, 0.75, 1.0],\n",
        "             index = ['a', 'b', 'c', 'd', 'e'])\n",
        "s"
      ]
    },
    {
      "cell_type": "code",
      "execution_count": null,
      "metadata": {
        "colab": {
          "base_uri": "https://localhost:8080/",
          "height": 35
        },
        "id": "9cZUdDGdvKMs",
        "outputId": "77f6f6d8-e66b-40ce-8fb2-e66f517fd33c"
      },
      "outputs": [
        {
          "data": {
            "text/plain": [
              "0.5"
            ]
          },
          "execution_count": 5,
          "metadata": {},
          "output_type": "execute_result"
        }
      ],
      "source": [
        "s['c']"
      ]
    },
    {
      "cell_type": "code",
      "execution_count": null,
      "metadata": {
        "colab": {
          "base_uri": "https://localhost:8080/",
          "height": 87
        },
        "id": "YME6WAvUnvAE",
        "outputId": "a336cf30-adf6-4a67-a332-986362f4b845"
      },
      "outputs": [
        {
          "data": {
            "text/plain": [
              "c    0.50\n",
              "d    0.75\n",
              "e    1.00\n",
              "dtype: float64"
            ]
          },
          "execution_count": 6,
          "metadata": {},
          "output_type": "execute_result"
        }
      ],
      "source": [
        "s[['c', 'd', 'e']]"
      ]
    },
    {
      "cell_type": "code",
      "execution_count": null,
      "metadata": {
        "colab": {
          "base_uri": "https://localhost:8080/",
          "height": 35
        },
        "id": "ICRZfCe1o9SO",
        "outputId": "319957e6-db94-49b2-d29e-c487c405ae82"
      },
      "outputs": [
        {
          "data": {
            "text/plain": [
              "True"
            ]
          },
          "execution_count": 7,
          "metadata": {},
          "output_type": "execute_result"
        }
      ],
      "source": [
        "'b' in s"
      ]
    },
    {
      "cell_type": "code",
      "execution_count": null,
      "metadata": {
        "colab": {
          "base_uri": "https://localhost:8080/",
          "height": 35
        },
        "id": "kU9VyUV6uiNx",
        "outputId": "78a4773b-d520-4c1e-8ef1-3abcd047a761"
      },
      "outputs": [
        {
          "data": {
            "text/plain": [
              "array([0.3 , 0.5 , 0.5 , 0.75, 1.  ])"
            ]
          },
          "execution_count": 8,
          "metadata": {},
          "output_type": "execute_result"
        }
      ],
      "source": [
        "s.values"
      ]
    },
    {
      "cell_type": "code",
      "execution_count": null,
      "metadata": {
        "colab": {
          "base_uri": "https://localhost:8080/",
          "height": 35
        },
        "id": "4fRQDuG2une6",
        "outputId": "156af493-0135-433a-9a4c-76016c125036"
      },
      "outputs": [
        {
          "data": {
            "text/plain": [
              "Index(['a', 'b', 'c', 'd', 'e'], dtype='object')"
            ]
          },
          "execution_count": 9,
          "metadata": {},
          "output_type": "execute_result"
        }
      ],
      "source": [
        "s.index"
      ]
    },
    {
      "cell_type": "code",
      "execution_count": null,
      "metadata": {
        "colab": {
          "base_uri": "https://localhost:8080/",
          "height": 35
        },
        "id": "bJjXA4YLrRUK",
        "outputId": "ed99bddf-81c6-4fb1-99ec-3ac3adbab878"
      },
      "outputs": [
        {
          "data": {
            "text/plain": [
              "array([0.3 , 0.5 , 0.75, 1.  ])"
            ]
          },
          "execution_count": 10,
          "metadata": {},
          "output_type": "execute_result"
        }
      ],
      "source": [
        "s.unique()"
      ]
    },
    {
      "cell_type": "code",
      "execution_count": null,
      "metadata": {
        "colab": {
          "base_uri": "https://localhost:8080/",
          "height": 121
        },
        "id": "e77ZJdhtrejE",
        "outputId": "d3bc5360-37ef-4e3d-c521-2dee1f8f2b9b"
      },
      "outputs": [
        {
          "data": {
            "text/plain": [
              "0.50    2\n",
              "0.30    1\n",
              "0.75    1\n",
              "1.00    1\n",
              "dtype: int64"
            ]
          },
          "execution_count": 11,
          "metadata": {},
          "output_type": "execute_result"
        }
      ],
      "source": [
        "s.value_counts()"
      ]
    },
    {
      "cell_type": "code",
      "execution_count": null,
      "metadata": {
        "colab": {
          "base_uri": "https://localhost:8080/",
          "height": 121
        },
        "id": "5M0yujydruQv",
        "outputId": "d4ecccd8-bce6-4057-894a-e4c0d6bfc1ca"
      },
      "outputs": [
        {
          "data": {
            "text/plain": [
              "a    False\n",
              "b     True\n",
              "c     True\n",
              "d     True\n",
              "e    False\n",
              "dtype: bool"
            ]
          },
          "execution_count": 12,
          "metadata": {},
          "output_type": "execute_result"
        }
      ],
      "source": [
        "s.isin([0.5, 0.75])"
      ]
    },
    {
      "cell_type": "code",
      "execution_count": null,
      "metadata": {
        "colab": {
          "base_uri": "https://localhost:8080/",
          "height": 139
        },
        "id": "4Ys3lrybxyz4",
        "outputId": "3ce94ff8-fe95-4599-a5c0-de404eb6eb4d"
      },
      "outputs": [
        {
          "data": {
            "text/plain": [
              "서울특별시    9720846\n",
              "부산광역시    3404423\n",
              "인천광역시    2947217\n",
              "대구광역시    2467554\n",
              "대전광역시    1471040\n",
              "광주광역시    1455048\n",
              "dtype: int64"
            ]
          },
          "execution_count": 14,
          "metadata": {},
          "output_type": "execute_result"
        }
      ],
      "source": [
        "# dictionary\n",
        "pop_dict = {\"서울특별시\": 9720846,\n",
        "           \"부산광역시\": 3404423,\n",
        "           \"인천광역시\": 2947217,\n",
        "           \"대구광역시\": 2467554,\n",
        "           \"대전광역시\": 1471040,\n",
        "           \"광주광역시\": 1455048}\n",
        "population = pd.Series(pop_dict)\n",
        "population"
      ]
    },
    {
      "cell_type": "code",
      "execution_count": null,
      "metadata": {
        "colab": {
          "base_uri": "https://localhost:8080/",
          "height": 35
        },
        "id": "6colocsazpUm",
        "outputId": "8c13319c-189a-4337-89bc-f36ca0e89f48"
      },
      "outputs": [
        {
          "data": {
            "text/plain": [
              "9720846"
            ]
          },
          "execution_count": 15,
          "metadata": {},
          "output_type": "execute_result"
        }
      ],
      "source": [
        "population[\"서울특별시\"]"
      ]
    },
    {
      "cell_type": "code",
      "execution_count": null,
      "metadata": {
        "colab": {
          "base_uri": "https://localhost:8080/",
          "height": 87
        },
        "id": "3Vrk6g0bz2pP",
        "outputId": "acc3353f-a1c1-49cb-b0c6-d780e48f8e1c"
      },
      "outputs": [
        {
          "data": {
            "text/plain": [
              "서울특별시    9720846\n",
              "부산광역시    3404423\n",
              "인천광역시    2947217\n",
              "dtype: int64"
            ]
          },
          "execution_count": 16,
          "metadata": {},
          "output_type": "execute_result"
        }
      ],
      "source": [
        "population[\"서울특별시\":\"인천광역시\"]"
      ]
    },
    {
      "cell_type": "markdown",
      "metadata": {
        "id": "2oGWT2Kd0JV0"
      },
      "source": [
        "### DataFrame\n",
        "\n",
        "* 시리즈가 열 방향으로 여러 개 합쳐진 2차원 자료 구조\n",
        "* 열(columns), 인덱스(index), 값(values)으로 구성\n",
        "* 딕셔너리, 리스트로 생성"
      ]
    },
    {
      "cell_type": "code",
      "execution_count": null,
      "metadata": {
        "colab": {
          "base_uri": "https://localhost:8080/",
          "height": 110
        },
        "id": "BWi3ow9C3N5c",
        "outputId": "d97f8c70-699a-435b-a6d6-81009a70044f"
      },
      "outputs": [
        {
          "data": {
            "text/html": [
              "<div>\n",
              "<style scoped>\n",
              "    .dataframe tbody tr th:only-of-type {\n",
              "        vertical-align: middle;\n",
              "    }\n",
              "\n",
              "    .dataframe tbody tr th {\n",
              "        vertical-align: top;\n",
              "    }\n",
              "\n",
              "    .dataframe thead th {\n",
              "        text-align: right;\n",
              "    }\n",
              "</style>\n",
              "<table border=\"1\" class=\"dataframe\">\n",
              "  <thead>\n",
              "    <tr style=\"text-align: right;\">\n",
              "      <th></th>\n",
              "      <th>A</th>\n",
              "      <th>B</th>\n",
              "      <th>D</th>\n",
              "      <th>C</th>\n",
              "    </tr>\n",
              "  </thead>\n",
              "  <tbody>\n",
              "    <tr>\n",
              "      <th>0</th>\n",
              "      <td>2</td>\n",
              "      <td>4</td>\n",
              "      <td>3.0</td>\n",
              "      <td>NaN</td>\n",
              "    </tr>\n",
              "    <tr>\n",
              "      <th>1</th>\n",
              "      <td>4</td>\n",
              "      <td>5</td>\n",
              "      <td>NaN</td>\n",
              "      <td>7.0</td>\n",
              "    </tr>\n",
              "  </tbody>\n",
              "</table>\n",
              "</div>"
            ],
            "text/plain": [
              "   A  B    D    C\n",
              "0  2  4  3.0  NaN\n",
              "1  4  5  NaN  7.0"
            ]
          },
          "execution_count": 17,
          "metadata": {},
          "output_type": "execute_result"
        }
      ],
      "source": [
        "# dictionary\n",
        "pd.DataFrame([{'A':2, 'B':4, 'D':3}, {'A':4, 'B':5, 'C':7}])"
      ]
    },
    {
      "cell_type": "code",
      "execution_count": null,
      "metadata": {
        "colab": {
          "base_uri": "https://localhost:8080/",
          "height": 202
        },
        "id": "KSeay5dT35eH",
        "outputId": "0e78e22b-0529-4245-b7bc-351ad0a32161"
      },
      "outputs": [
        {
          "data": {
            "text/html": [
              "<div>\n",
              "<style scoped>\n",
              "    .dataframe tbody tr th:only-of-type {\n",
              "        vertical-align: middle;\n",
              "    }\n",
              "\n",
              "    .dataframe tbody tr th {\n",
              "        vertical-align: top;\n",
              "    }\n",
              "\n",
              "    .dataframe thead th {\n",
              "        text-align: right;\n",
              "    }\n",
              "</style>\n",
              "<table border=\"1\" class=\"dataframe\">\n",
              "  <thead>\n",
              "    <tr style=\"text-align: right;\">\n",
              "      <th></th>\n",
              "      <th>A</th>\n",
              "      <th>B</th>\n",
              "      <th>C</th>\n",
              "      <th>D</th>\n",
              "      <th>E</th>\n",
              "    </tr>\n",
              "  </thead>\n",
              "  <tbody>\n",
              "    <tr>\n",
              "      <th>1</th>\n",
              "      <td>0.600544</td>\n",
              "      <td>0.823422</td>\n",
              "      <td>0.407091</td>\n",
              "      <td>0.088031</td>\n",
              "      <td>0.600931</td>\n",
              "    </tr>\n",
              "    <tr>\n",
              "      <th>2</th>\n",
              "      <td>0.963148</td>\n",
              "      <td>0.149503</td>\n",
              "      <td>0.332842</td>\n",
              "      <td>0.599574</td>\n",
              "      <td>0.219931</td>\n",
              "    </tr>\n",
              "    <tr>\n",
              "      <th>3</th>\n",
              "      <td>0.899993</td>\n",
              "      <td>0.090490</td>\n",
              "      <td>0.166675</td>\n",
              "      <td>0.934046</td>\n",
              "      <td>0.236444</td>\n",
              "    </tr>\n",
              "    <tr>\n",
              "      <th>4</th>\n",
              "      <td>0.105794</td>\n",
              "      <td>0.169308</td>\n",
              "      <td>0.011463</td>\n",
              "      <td>0.773160</td>\n",
              "      <td>0.885984</td>\n",
              "    </tr>\n",
              "    <tr>\n",
              "      <th>5</th>\n",
              "      <td>0.377521</td>\n",
              "      <td>0.858936</td>\n",
              "      <td>0.102834</td>\n",
              "      <td>0.574780</td>\n",
              "      <td>0.842785</td>\n",
              "    </tr>\n",
              "  </tbody>\n",
              "</table>\n",
              "</div>"
            ],
            "text/plain": [
              "          A         B         C         D         E\n",
              "1  0.600544  0.823422  0.407091  0.088031  0.600931\n",
              "2  0.963148  0.149503  0.332842  0.599574  0.219931\n",
              "3  0.899993  0.090490  0.166675  0.934046  0.236444\n",
              "4  0.105794  0.169308  0.011463  0.773160  0.885984\n",
              "5  0.377521  0.858936  0.102834  0.574780  0.842785"
            ]
          },
          "execution_count": 19,
          "metadata": {},
          "output_type": "execute_result"
        }
      ],
      "source": [
        "# list\n",
        "pd.DataFrame(np.random.rand(5,5),\n",
        "             columns=['A', 'B', 'C', 'D', 'E'],\n",
        "             index=[1, 2, 3, 4, 5])"
      ]
    },
    {
      "cell_type": "code",
      "execution_count": null,
      "metadata": {
        "colab": {
          "base_uri": "https://localhost:8080/",
          "height": 139
        },
        "id": "LF5SPGK5z7PA",
        "outputId": "c36bad05-dce4-4914-cb4d-29220f2adf7f"
      },
      "outputs": [
        {
          "data": {
            "text/plain": [
              "서울특별시    4732275\n",
              "부산광역시    1668618\n",
              "인천광역시    1476813\n",
              "대구광역시    1198815\n",
              "대전광역시     734441\n",
              "광주광역시     720060\n",
              "dtype: int64"
            ]
          },
          "execution_count": 21,
          "metadata": {},
          "output_type": "execute_result"
        }
      ],
      "source": [
        "# Series\n",
        "pop_male = {\"서울특별시\": 4732275, \n",
        "            \"부산광역시\": 1668618,\n",
        "           \"인천광역시\": 1476813,\n",
        "           \"대구광역시\": 1198815,\n",
        "           \"대전광역시\": 734441,\n",
        "           \"광주광역시\": 720060}\n",
        "male = pd.Series(pop_male)\n",
        "male"
      ]
    },
    {
      "cell_type": "code",
      "execution_count": null,
      "metadata": {
        "colab": {
          "base_uri": "https://localhost:8080/",
          "height": 139
        },
        "id": "1XAK9yR91tyy",
        "outputId": "fa4f00ca-44dc-4aec-fe49-033279adbd9a"
      },
      "outputs": [
        {
          "data": {
            "text/plain": [
              "서울특별시    4988571\n",
              "부산광역시    1735805\n",
              "인천광역시    1470404\n",
              "대구광역시    1229139\n",
              "대전광역시     736599\n",
              "광주광역시     734988\n",
              "dtype: int64"
            ]
          },
          "execution_count": 22,
          "metadata": {},
          "output_type": "execute_result"
        }
      ],
      "source": [
        "pop_female = {\"서울특별시\": 4988571, \n",
        "            \"부산광역시\": 1735805,\n",
        "           \"인천광역시\": 1470404,\n",
        "           \"대구광역시\": 1229139,\n",
        "           \"대전광역시\": 736599,\n",
        "           \"광주광역시\": 734988}\n",
        "female = pd.Series(pop_female)\n",
        "female"
      ]
    },
    {
      "cell_type": "code",
      "execution_count": null,
      "metadata": {
        "colab": {
          "base_uri": "https://localhost:8080/",
          "height": 233
        },
        "id": "gpOOL8zh2EI-",
        "outputId": "01a8ffbc-2179-4405-fb6b-8449d4cc1bdf"
      },
      "outputs": [
        {
          "data": {
            "text/html": [
              "<div>\n",
              "<style scoped>\n",
              "    .dataframe tbody tr th:only-of-type {\n",
              "        vertical-align: middle;\n",
              "    }\n",
              "\n",
              "    .dataframe tbody tr th {\n",
              "        vertical-align: top;\n",
              "    }\n",
              "\n",
              "    .dataframe thead th {\n",
              "        text-align: right;\n",
              "    }\n",
              "</style>\n",
              "<table border=\"1\" class=\"dataframe\">\n",
              "  <thead>\n",
              "    <tr style=\"text-align: right;\">\n",
              "      <th></th>\n",
              "      <th>인구수</th>\n",
              "      <th>남자인구수</th>\n",
              "      <th>여자인구수</th>\n",
              "    </tr>\n",
              "  </thead>\n",
              "  <tbody>\n",
              "    <tr>\n",
              "      <th>서울특별시</th>\n",
              "      <td>9720846</td>\n",
              "      <td>4732275</td>\n",
              "      <td>4988571</td>\n",
              "    </tr>\n",
              "    <tr>\n",
              "      <th>부산광역시</th>\n",
              "      <td>3404423</td>\n",
              "      <td>1668618</td>\n",
              "      <td>1735805</td>\n",
              "    </tr>\n",
              "    <tr>\n",
              "      <th>인천광역시</th>\n",
              "      <td>2947217</td>\n",
              "      <td>1476813</td>\n",
              "      <td>1470404</td>\n",
              "    </tr>\n",
              "    <tr>\n",
              "      <th>대구광역시</th>\n",
              "      <td>2467554</td>\n",
              "      <td>1198815</td>\n",
              "      <td>1229139</td>\n",
              "    </tr>\n",
              "    <tr>\n",
              "      <th>대전광역시</th>\n",
              "      <td>1471040</td>\n",
              "      <td>734441</td>\n",
              "      <td>736599</td>\n",
              "    </tr>\n",
              "    <tr>\n",
              "      <th>광주광역시</th>\n",
              "      <td>1455048</td>\n",
              "      <td>720060</td>\n",
              "      <td>734988</td>\n",
              "    </tr>\n",
              "  </tbody>\n",
              "</table>\n",
              "</div>"
            ],
            "text/plain": [
              "           인구수    남자인구수    여자인구수\n",
              "서울특별시  9720846  4732275  4988571\n",
              "부산광역시  3404423  1668618  1735805\n",
              "인천광역시  2947217  1476813  1470404\n",
              "대구광역시  2467554  1198815  1229139\n",
              "대전광역시  1471040   734441   736599\n",
              "광주광역시  1455048   720060   734988"
            ]
          },
          "execution_count": 25,
          "metadata": {},
          "output_type": "execute_result"
        }
      ],
      "source": [
        "korea_df = pd.DataFrame({\"인구수\": population,\n",
        "                         \"남자인구수\": male,\n",
        "                         \"여자인구수\": female})\n",
        "korea_df"
      ]
    },
    {
      "cell_type": "code",
      "execution_count": null,
      "metadata": {
        "colab": {
          "base_uri": "https://localhost:8080/",
          "height": 35
        },
        "id": "9A0OSZFw2TJZ",
        "outputId": "b0cde142-95f6-4f4e-f0b2-6b33d09b87e5"
      },
      "outputs": [
        {
          "data": {
            "text/plain": [
              "Index(['서울특별시', '부산광역시', '인천광역시', '대구광역시', '대전광역시', '광주광역시'], dtype='object')"
            ]
          },
          "execution_count": 26,
          "metadata": {},
          "output_type": "execute_result"
        }
      ],
      "source": [
        "korea_df.index"
      ]
    },
    {
      "cell_type": "code",
      "execution_count": null,
      "metadata": {
        "colab": {
          "base_uri": "https://localhost:8080/",
          "height": 35
        },
        "id": "qCRB-v6w2Xmt",
        "outputId": "a2fc34e3-c5a2-4acb-a816-f448594fcf25"
      },
      "outputs": [
        {
          "data": {
            "text/plain": [
              "Index(['인구수', '남자인구수', '여자인구수'], dtype='object')"
            ]
          },
          "execution_count": 27,
          "metadata": {},
          "output_type": "execute_result"
        }
      ],
      "source": [
        "korea_df.columns"
      ]
    },
    {
      "cell_type": "code",
      "execution_count": null,
      "metadata": {
        "colab": {
          "base_uri": "https://localhost:8080/",
          "height": 139
        },
        "id": "I86OnLLj2bSf",
        "outputId": "543a869a-fd1b-4ce2-bb1b-2d0b679c1377"
      },
      "outputs": [
        {
          "data": {
            "text/plain": [
              "서울특별시    4988571\n",
              "부산광역시    1735805\n",
              "인천광역시    1470404\n",
              "대구광역시    1229139\n",
              "대전광역시     736599\n",
              "광주광역시     734988\n",
              "Name: 여자인구수, dtype: int64"
            ]
          },
          "execution_count": 28,
          "metadata": {},
          "output_type": "execute_result"
        }
      ],
      "source": [
        "korea_df[\"여자인구수\"]"
      ]
    },
    {
      "cell_type": "code",
      "execution_count": null,
      "metadata": {
        "colab": {
          "base_uri": "https://localhost:8080/",
          "height": 141
        },
        "id": "I2Cx16L42gSj",
        "outputId": "21da2eec-2937-4ae6-c50a-584d67116845"
      },
      "outputs": [
        {
          "data": {
            "text/html": [
              "<div>\n",
              "<style scoped>\n",
              "    .dataframe tbody tr th:only-of-type {\n",
              "        vertical-align: middle;\n",
              "    }\n",
              "\n",
              "    .dataframe tbody tr th {\n",
              "        vertical-align: top;\n",
              "    }\n",
              "\n",
              "    .dataframe thead th {\n",
              "        text-align: right;\n",
              "    }\n",
              "</style>\n",
              "<table border=\"1\" class=\"dataframe\">\n",
              "  <thead>\n",
              "    <tr style=\"text-align: right;\">\n",
              "      <th></th>\n",
              "      <th>인구수</th>\n",
              "      <th>남자인구수</th>\n",
              "      <th>여자인구수</th>\n",
              "    </tr>\n",
              "  </thead>\n",
              "  <tbody>\n",
              "    <tr>\n",
              "      <th>서울특별시</th>\n",
              "      <td>9720846</td>\n",
              "      <td>4732275</td>\n",
              "      <td>4988571</td>\n",
              "    </tr>\n",
              "    <tr>\n",
              "      <th>부산광역시</th>\n",
              "      <td>3404423</td>\n",
              "      <td>1668618</td>\n",
              "      <td>1735805</td>\n",
              "    </tr>\n",
              "    <tr>\n",
              "      <th>인천광역시</th>\n",
              "      <td>2947217</td>\n",
              "      <td>1476813</td>\n",
              "      <td>1470404</td>\n",
              "    </tr>\n",
              "  </tbody>\n",
              "</table>\n",
              "</div>"
            ],
            "text/plain": [
              "           인구수    남자인구수    여자인구수\n",
              "서울특별시  9720846  4732275  4988571\n",
              "부산광역시  3404423  1668618  1735805\n",
              "인천광역시  2947217  1476813  1470404"
            ]
          },
          "execution_count": 29,
          "metadata": {},
          "output_type": "execute_result"
        }
      ],
      "source": [
        "korea_df[\"서울특별시\":\"인천광역시\"]"
      ]
    },
    {
      "cell_type": "markdown",
      "metadata": {
        "id": "kd8eQIoYHoaS"
      },
      "source": [
        "\n",
        "\n",
        "---\n",
        "\n"
      ]
    },
    {
      "cell_type": "markdown",
      "metadata": {
        "id": "KZLKu-HM6yEm"
      },
      "source": [
        "## 인덱싱(Indexing)"
      ]
    },
    {
      "cell_type": "markdown",
      "metadata": {
        "id": "aOLEal9Hrli0"
      },
      "source": [
        "### DataFrame 인덱싱\n",
        "\n",
        "| 사용 방법 | 설명 |\n",
        "|-----------|------|\n",
        "| `df[val]` | 하나의 컬럼 또는 여러 컬럼을 선택 |\n",
        "| `df.loc[val]` | 레이블값으로 로우의 부분집합 선택 |\n",
        "| `df.loc[:, val]` | 레이블값으로 컬럼의 부분집합 선택 |\n",
        "| `df.loc[val1, val2]` | 레이블값으로 로우와 컬럼의 부분집합 선택 |\n",
        "| `df.iloc[where]` | 정수 색인으로 로우의 부분집합 선택 |\n",
        "| `df.iloc[:, where]` | 정수 색인으로 컬럼의 부분집합 선택 |\n",
        "| `df.iloc[where_i, where_j]` | 정수 색인으로 로우와 컬럼의 부분집합 선택 |\n",
        "| `df.at[label_i, label_j]` | 로우와 컬럼의 레이블로 단일 값 선택 |\n",
        "| `df.iat[i, j]` | 로우와 컬럼의 정수 색인으로 단일 값 선택 |\n",
        "| `reindex` | 하나 이상의 축을 새로운 색인으로 재색인 |\n",
        "| `get_value, set_value` | 로우와 컬럼의 이름으로 값 선택 |"
      ]
    },
    {
      "cell_type": "code",
      "execution_count": null,
      "metadata": {
        "colab": {
          "base_uri": "https://localhost:8080/",
          "height": 233
        },
        "id": "77aifW07LsTZ",
        "outputId": "6d039d96-dff0-42ff-b93d-2e21d0c41469"
      },
      "outputs": [
        {
          "data": {
            "text/html": [
              "<div>\n",
              "<style scoped>\n",
              "    .dataframe tbody tr th:only-of-type {\n",
              "        vertical-align: middle;\n",
              "    }\n",
              "\n",
              "    .dataframe tbody tr th {\n",
              "        vertical-align: top;\n",
              "    }\n",
              "\n",
              "    .dataframe thead th {\n",
              "        text-align: right;\n",
              "    }\n",
              "</style>\n",
              "<table border=\"1\" class=\"dataframe\">\n",
              "  <thead>\n",
              "    <tr style=\"text-align: right;\">\n",
              "      <th></th>\n",
              "      <th>인구수</th>\n",
              "      <th>남자인구수</th>\n",
              "      <th>여자인구수</th>\n",
              "    </tr>\n",
              "  </thead>\n",
              "  <tbody>\n",
              "    <tr>\n",
              "      <th>서울특별시</th>\n",
              "      <td>9720846</td>\n",
              "      <td>4732275</td>\n",
              "      <td>4988571</td>\n",
              "    </tr>\n",
              "    <tr>\n",
              "      <th>부산광역시</th>\n",
              "      <td>3404423</td>\n",
              "      <td>1668618</td>\n",
              "      <td>1735805</td>\n",
              "    </tr>\n",
              "    <tr>\n",
              "      <th>인천광역시</th>\n",
              "      <td>2947217</td>\n",
              "      <td>1476813</td>\n",
              "      <td>1470404</td>\n",
              "    </tr>\n",
              "    <tr>\n",
              "      <th>대구광역시</th>\n",
              "      <td>2467554</td>\n",
              "      <td>1198815</td>\n",
              "      <td>1229139</td>\n",
              "    </tr>\n",
              "    <tr>\n",
              "      <th>대전광역시</th>\n",
              "      <td>1471040</td>\n",
              "      <td>734441</td>\n",
              "      <td>736599</td>\n",
              "    </tr>\n",
              "    <tr>\n",
              "      <th>광주광역시</th>\n",
              "      <td>1455048</td>\n",
              "      <td>720060</td>\n",
              "      <td>734988</td>\n",
              "    </tr>\n",
              "  </tbody>\n",
              "</table>\n",
              "</div>"
            ],
            "text/plain": [
              "           인구수    남자인구수    여자인구수\n",
              "서울특별시  9720846  4732275  4988571\n",
              "부산광역시  3404423  1668618  1735805\n",
              "인천광역시  2947217  1476813  1470404\n",
              "대구광역시  2467554  1198815  1229139\n",
              "대전광역시  1471040   734441   736599\n",
              "광주광역시  1455048   720060   734988"
            ]
          },
          "execution_count": 30,
          "metadata": {},
          "output_type": "execute_result"
        }
      ],
      "source": [
        "korea_df"
      ]
    },
    {
      "cell_type": "code",
      "execution_count": null,
      "metadata": {
        "colab": {
          "base_uri": "https://localhost:8080/",
          "height": 139
        },
        "id": "Gqv2LvUsL_hy",
        "outputId": "8e32e6d0-b447-4201-940f-4284234d0f70"
      },
      "outputs": [
        {
          "data": {
            "text/plain": [
              "서울특별시    4732275\n",
              "부산광역시    1668618\n",
              "인천광역시    1476813\n",
              "대구광역시    1198815\n",
              "대전광역시     734441\n",
              "광주광역시     720060\n",
              "Name: 남자인구수, dtype: int64"
            ]
          },
          "execution_count": 31,
          "metadata": {},
          "output_type": "execute_result"
        }
      ],
      "source": [
        "korea_df[\"남자인구수\"]"
      ]
    },
    {
      "cell_type": "code",
      "execution_count": null,
      "metadata": {
        "colab": {
          "base_uri": "https://localhost:8080/",
          "height": 139
        },
        "id": "ASLLVKjxOCaq",
        "outputId": "290fd018-2f08-4b8d-e036-86032256ee19"
      },
      "outputs": [
        {
          "data": {
            "text/plain": [
              "서울특별시    4732275\n",
              "부산광역시    1668618\n",
              "인천광역시    1476813\n",
              "대구광역시    1198815\n",
              "대전광역시     734441\n",
              "광주광역시     720060\n",
              "Name: 남자인구수, dtype: int64"
            ]
          },
          "execution_count": 32,
          "metadata": {},
          "output_type": "execute_result"
        }
      ],
      "source": [
        "korea_df.남자인구수"
      ]
    },
    {
      "cell_type": "code",
      "execution_count": null,
      "metadata": {
        "colab": {
          "base_uri": "https://localhost:8080/",
          "height": 139
        },
        "id": "HwAFfjLBOEp5",
        "outputId": "38fe5249-a107-4d27-aec2-a1054655689a"
      },
      "outputs": [
        {
          "data": {
            "text/plain": [
              "서울특별시    4988571\n",
              "부산광역시    1735805\n",
              "인천광역시    1470404\n",
              "대구광역시    1229139\n",
              "대전광역시     736599\n",
              "광주광역시     734988\n",
              "Name: 여자인구수, dtype: int64"
            ]
          },
          "execution_count": 33,
          "metadata": {},
          "output_type": "execute_result"
        }
      ],
      "source": [
        "korea_df.여자인구수"
      ]
    },
    {
      "cell_type": "code",
      "execution_count": null,
      "metadata": {
        "id": "pECRBE1iOJqe"
      },
      "outputs": [],
      "source": [
        "korea_df[\"남여비율\"] = (korea_df[\"남자인구수\"] * 100 / korea_df[\"여자인구수\"])"
      ]
    },
    {
      "cell_type": "code",
      "execution_count": null,
      "metadata": {
        "colab": {
          "base_uri": "https://localhost:8080/",
          "height": 139
        },
        "id": "MYpzQMFiOrGC",
        "outputId": "45a91998-3bc5-44cc-dda5-2366eeaf9028"
      },
      "outputs": [
        {
          "data": {
            "text/plain": [
              "서울특별시     94.862336\n",
              "부산광역시     96.129346\n",
              "인천광역시    100.435867\n",
              "대구광역시     97.532907\n",
              "대전광역시     99.707032\n",
              "광주광역시     97.968946\n",
              "Name: 남여비율, dtype: float64"
            ]
          },
          "execution_count": 35,
          "metadata": {},
          "output_type": "execute_result"
        }
      ],
      "source": [
        "korea_df.남여비율"
      ]
    },
    {
      "cell_type": "code",
      "execution_count": null,
      "metadata": {
        "colab": {
          "base_uri": "https://localhost:8080/",
          "height": 171
        },
        "id": "RRce4iuBO30i",
        "outputId": "e44e28cf-9591-471d-d7a0-f66a0866cb15"
      },
      "outputs": [
        {
          "data": {
            "text/html": [
              "<div>\n",
              "<style scoped>\n",
              "    .dataframe tbody tr th:only-of-type {\n",
              "        vertical-align: middle;\n",
              "    }\n",
              "\n",
              "    .dataframe tbody tr th {\n",
              "        vertical-align: top;\n",
              "    }\n",
              "\n",
              "    .dataframe thead th {\n",
              "        text-align: right;\n",
              "    }\n",
              "</style>\n",
              "<table border=\"1\" class=\"dataframe\">\n",
              "  <thead>\n",
              "    <tr style=\"text-align: right;\">\n",
              "      <th></th>\n",
              "      <th>서울특별시</th>\n",
              "      <th>부산광역시</th>\n",
              "      <th>인천광역시</th>\n",
              "      <th>대구광역시</th>\n",
              "      <th>대전광역시</th>\n",
              "      <th>광주광역시</th>\n",
              "    </tr>\n",
              "  </thead>\n",
              "  <tbody>\n",
              "    <tr>\n",
              "      <th>인구수</th>\n",
              "      <td>9.720846e+06</td>\n",
              "      <td>3.404423e+06</td>\n",
              "      <td>2.947217e+06</td>\n",
              "      <td>2.467554e+06</td>\n",
              "      <td>1.471040e+06</td>\n",
              "      <td>1.455048e+06</td>\n",
              "    </tr>\n",
              "    <tr>\n",
              "      <th>남자인구수</th>\n",
              "      <td>4.732275e+06</td>\n",
              "      <td>1.668618e+06</td>\n",
              "      <td>1.476813e+06</td>\n",
              "      <td>1.198815e+06</td>\n",
              "      <td>7.344410e+05</td>\n",
              "      <td>7.200600e+05</td>\n",
              "    </tr>\n",
              "    <tr>\n",
              "      <th>여자인구수</th>\n",
              "      <td>4.988571e+06</td>\n",
              "      <td>1.735805e+06</td>\n",
              "      <td>1.470404e+06</td>\n",
              "      <td>1.229139e+06</td>\n",
              "      <td>7.365990e+05</td>\n",
              "      <td>7.349880e+05</td>\n",
              "    </tr>\n",
              "    <tr>\n",
              "      <th>남여비율</th>\n",
              "      <td>9.486234e+01</td>\n",
              "      <td>9.612935e+01</td>\n",
              "      <td>1.004359e+02</td>\n",
              "      <td>9.753291e+01</td>\n",
              "      <td>9.970703e+01</td>\n",
              "      <td>9.796895e+01</td>\n",
              "    </tr>\n",
              "  </tbody>\n",
              "</table>\n",
              "</div>"
            ],
            "text/plain": [
              "              서울특별시         부산광역시         인천광역시         대구광역시         대전광역시  \\\n",
              "인구수    9.720846e+06  3.404423e+06  2.947217e+06  2.467554e+06  1.471040e+06   \n",
              "남자인구수  4.732275e+06  1.668618e+06  1.476813e+06  1.198815e+06  7.344410e+05   \n",
              "여자인구수  4.988571e+06  1.735805e+06  1.470404e+06  1.229139e+06  7.365990e+05   \n",
              "남여비율   9.486234e+01  9.612935e+01  1.004359e+02  9.753291e+01  9.970703e+01   \n",
              "\n",
              "              광주광역시  \n",
              "인구수    1.455048e+06  \n",
              "남자인구수  7.200600e+05  \n",
              "여자인구수  7.349880e+05  \n",
              "남여비율   9.796895e+01  "
            ]
          },
          "execution_count": 36,
          "metadata": {},
          "output_type": "execute_result"
        }
      ],
      "source": [
        "korea_df.T"
      ]
    },
    {
      "cell_type": "code",
      "execution_count": null,
      "metadata": {
        "id": "StfOvK2eJ9E5",
        "outputId": "85c6c8fb-1891-4c63-dd36-c8658727ba3a"
      },
      "outputs": [
        {
          "data": {
            "text/plain": [
              "array([[9.72084600e+06, 4.73227500e+06, 4.98857100e+06, 9.48623363e+01],\n",
              "       [3.40442300e+06, 1.66861800e+06, 1.73580500e+06, 9.61293463e+01],\n",
              "       [2.94721700e+06, 1.47681300e+06, 1.47040400e+06, 1.00435867e+02],\n",
              "       [2.46755400e+06, 1.19881500e+06, 1.22913900e+06, 9.75329072e+01],\n",
              "       [1.47104000e+06, 7.34441000e+05, 7.36599000e+05, 9.97070319e+01],\n",
              "       [1.45504800e+06, 7.20060000e+05, 7.34988000e+05, 9.79689464e+01]])"
            ]
          },
          "execution_count": 37,
          "metadata": {},
          "output_type": "execute_result"
        }
      ],
      "source": [
        "korea_df.values"
      ]
    },
    {
      "cell_type": "code",
      "execution_count": null,
      "metadata": {
        "colab": {
          "base_uri": "https://localhost:8080/",
          "height": 35
        },
        "id": "4kgf30KQO_s3",
        "outputId": "ad216415-b6b1-465b-ebfa-60f78b953528"
      },
      "outputs": [
        {
          "data": {
            "text/plain": [
              "array([9.72084600e+06, 4.73227500e+06, 4.98857100e+06, 9.48623363e+01])"
            ]
          },
          "execution_count": 38,
          "metadata": {},
          "output_type": "execute_result"
        }
      ],
      "source": [
        "korea_df.values[0]"
      ]
    },
    {
      "cell_type": "code",
      "execution_count": null,
      "metadata": {
        "colab": {
          "base_uri": "https://localhost:8080/",
          "height": 139
        },
        "id": "QmM75FOUPBgH",
        "outputId": "e5d909ee-b7a6-4d37-93f8-a01e6ca8c6c6"
      },
      "outputs": [
        {
          "data": {
            "text/html": [
              "<div>\n",
              "<style scoped>\n",
              "    .dataframe tbody tr th:only-of-type {\n",
              "        vertical-align: middle;\n",
              "    }\n",
              "\n",
              "    .dataframe tbody tr th {\n",
              "        vertical-align: top;\n",
              "    }\n",
              "\n",
              "    .dataframe thead th {\n",
              "        text-align: right;\n",
              "    }\n",
              "</style>\n",
              "<table border=\"1\" class=\"dataframe\">\n",
              "  <thead>\n",
              "    <tr style=\"text-align: right;\">\n",
              "      <th></th>\n",
              "      <th>인구수</th>\n",
              "      <th>남자인구수</th>\n",
              "    </tr>\n",
              "  </thead>\n",
              "  <tbody>\n",
              "    <tr>\n",
              "      <th>서울특별시</th>\n",
              "      <td>9720846</td>\n",
              "      <td>4732275</td>\n",
              "    </tr>\n",
              "    <tr>\n",
              "      <th>부산광역시</th>\n",
              "      <td>3404423</td>\n",
              "      <td>1668618</td>\n",
              "    </tr>\n",
              "    <tr>\n",
              "      <th>인천광역시</th>\n",
              "      <td>2947217</td>\n",
              "      <td>1476813</td>\n",
              "    </tr>\n",
              "  </tbody>\n",
              "</table>\n",
              "</div>"
            ],
            "text/plain": [
              "           인구수    남자인구수\n",
              "서울특별시  9720846  4732275\n",
              "부산광역시  3404423  1668618\n",
              "인천광역시  2947217  1476813"
            ]
          },
          "execution_count": 39,
          "metadata": {},
          "output_type": "execute_result"
        }
      ],
      "source": [
        "korea_df.loc[:'인천광역시', :'남자인구수']"
      ]
    },
    {
      "cell_type": "code",
      "execution_count": null,
      "metadata": {
        "colab": {
          "base_uri": "https://localhost:8080/",
          "height": 141
        },
        "id": "TdhfKQSgPERt",
        "outputId": "9ec2ac80-43aa-48c6-cb8c-add5b066e2d3"
      },
      "outputs": [
        {
          "data": {
            "text/html": [
              "<div>\n",
              "<style scoped>\n",
              "    .dataframe tbody tr th:only-of-type {\n",
              "        vertical-align: middle;\n",
              "    }\n",
              "\n",
              "    .dataframe tbody tr th {\n",
              "        vertical-align: top;\n",
              "    }\n",
              "\n",
              "    .dataframe thead th {\n",
              "        text-align: right;\n",
              "    }\n",
              "</style>\n",
              "<table border=\"1\" class=\"dataframe\">\n",
              "  <thead>\n",
              "    <tr style=\"text-align: right;\">\n",
              "      <th></th>\n",
              "      <th>인구수</th>\n",
              "      <th>남자인구수</th>\n",
              "      <th>여자인구수</th>\n",
              "      <th>남여비율</th>\n",
              "    </tr>\n",
              "  </thead>\n",
              "  <tbody>\n",
              "    <tr>\n",
              "      <th>서울특별시</th>\n",
              "      <td>9720846</td>\n",
              "      <td>4732275</td>\n",
              "      <td>4988571</td>\n",
              "      <td>94.862336</td>\n",
              "    </tr>\n",
              "    <tr>\n",
              "      <th>부산광역시</th>\n",
              "      <td>3404423</td>\n",
              "      <td>1668618</td>\n",
              "      <td>1735805</td>\n",
              "      <td>96.129346</td>\n",
              "    </tr>\n",
              "    <tr>\n",
              "      <th>인천광역시</th>\n",
              "      <td>2947217</td>\n",
              "      <td>1476813</td>\n",
              "      <td>1470404</td>\n",
              "      <td>100.435867</td>\n",
              "    </tr>\n",
              "    <tr>\n",
              "      <th>대구광역시</th>\n",
              "      <td>2467554</td>\n",
              "      <td>1198815</td>\n",
              "      <td>1229139</td>\n",
              "      <td>97.532907</td>\n",
              "    </tr>\n",
              "  </tbody>\n",
              "</table>\n",
              "</div>"
            ],
            "text/plain": [
              "           인구수    남자인구수    여자인구수        남여비율\n",
              "서울특별시  9720846  4732275  4988571   94.862336\n",
              "부산광역시  3404423  1668618  1735805   96.129346\n",
              "인천광역시  2947217  1476813  1470404  100.435867\n",
              "대구광역시  2467554  1198815  1229139   97.532907"
            ]
          },
          "execution_count": 40,
          "metadata": {},
          "output_type": "execute_result"
        }
      ],
      "source": [
        "korea_df.loc[(korea_df.여자인구수 > 1000000)]"
      ]
    },
    {
      "cell_type": "code",
      "execution_count": null,
      "metadata": {
        "colab": {
          "base_uri": "https://localhost:8080/",
          "height": 171
        },
        "id": "UKbn4mbdPGqb",
        "outputId": "43767cdd-6e61-4952-9a0d-669e3a0db3bf"
      },
      "outputs": [
        {
          "data": {
            "text/html": [
              "<div>\n",
              "<style scoped>\n",
              "    .dataframe tbody tr th:only-of-type {\n",
              "        vertical-align: middle;\n",
              "    }\n",
              "\n",
              "    .dataframe tbody tr th {\n",
              "        vertical-align: top;\n",
              "    }\n",
              "\n",
              "    .dataframe thead th {\n",
              "        text-align: right;\n",
              "    }\n",
              "</style>\n",
              "<table border=\"1\" class=\"dataframe\">\n",
              "  <thead>\n",
              "    <tr style=\"text-align: right;\">\n",
              "      <th></th>\n",
              "      <th>인구수</th>\n",
              "      <th>남자인구수</th>\n",
              "      <th>여자인구수</th>\n",
              "      <th>남여비율</th>\n",
              "    </tr>\n",
              "  </thead>\n",
              "  <tbody>\n",
              "    <tr>\n",
              "      <th>대전광역시</th>\n",
              "      <td>1471040</td>\n",
              "      <td>734441</td>\n",
              "      <td>736599</td>\n",
              "      <td>99.707032</td>\n",
              "    </tr>\n",
              "    <tr>\n",
              "      <th>광주광역시</th>\n",
              "      <td>1455048</td>\n",
              "      <td>720060</td>\n",
              "      <td>734988</td>\n",
              "      <td>97.968946</td>\n",
              "    </tr>\n",
              "  </tbody>\n",
              "</table>\n",
              "</div>"
            ],
            "text/plain": [
              "           인구수   남자인구수   여자인구수       남여비율\n",
              "대전광역시  1471040  734441  736599  99.707032\n",
              "광주광역시  1455048  720060  734988  97.968946"
            ]
          },
          "execution_count": 42,
          "metadata": {},
          "output_type": "execute_result"
        }
      ],
      "source": [
        "korea_df.loc[(korea_df.인구수 < 2000000)]"
      ]
    },
    {
      "cell_type": "code",
      "execution_count": null,
      "metadata": {
        "colab": {
          "base_uri": "https://localhost:8080/",
          "height": 110
        },
        "id": "QMK8qC5YQRUc",
        "outputId": "814de087-37a2-41f1-b47c-420d6bfdb2d2"
      },
      "outputs": [
        {
          "data": {
            "text/html": [
              "<div>\n",
              "<style scoped>\n",
              "    .dataframe tbody tr th:only-of-type {\n",
              "        vertical-align: middle;\n",
              "    }\n",
              "\n",
              "    .dataframe tbody tr th {\n",
              "        vertical-align: top;\n",
              "    }\n",
              "\n",
              "    .dataframe thead th {\n",
              "        text-align: right;\n",
              "    }\n",
              "</style>\n",
              "<table border=\"1\" class=\"dataframe\">\n",
              "  <thead>\n",
              "    <tr style=\"text-align: right;\">\n",
              "      <th></th>\n",
              "      <th>인구수</th>\n",
              "      <th>남자인구수</th>\n",
              "      <th>여자인구수</th>\n",
              "      <th>남여비율</th>\n",
              "    </tr>\n",
              "  </thead>\n",
              "  <tbody>\n",
              "    <tr>\n",
              "      <th>인천광역시</th>\n",
              "      <td>2947217</td>\n",
              "      <td>1476813</td>\n",
              "      <td>1470404</td>\n",
              "      <td>100.435867</td>\n",
              "    </tr>\n",
              "  </tbody>\n",
              "</table>\n",
              "</div>"
            ],
            "text/plain": [
              "           인구수    남자인구수    여자인구수        남여비율\n",
              "인천광역시  2947217  1476813  1470404  100.435867"
            ]
          },
          "execution_count": 43,
          "metadata": {},
          "output_type": "execute_result"
        }
      ],
      "source": [
        "korea_df.loc[(korea_df.인구수 > 2500000) & (korea_df.남여비율 > 100)]"
      ]
    },
    {
      "cell_type": "code",
      "execution_count": null,
      "metadata": {
        "colab": {
          "base_uri": "https://localhost:8080/",
          "height": 79
        },
        "id": "s752djzTPNiY",
        "outputId": "fb30d381-8477-4da6-b7cd-91f226bcf3d6"
      },
      "outputs": [
        {
          "data": {
            "text/html": [
              "<div>\n",
              "<style scoped>\n",
              "    .dataframe tbody tr th:only-of-type {\n",
              "        vertical-align: middle;\n",
              "    }\n",
              "\n",
              "    .dataframe tbody tr th {\n",
              "        vertical-align: top;\n",
              "    }\n",
              "\n",
              "    .dataframe thead th {\n",
              "        text-align: right;\n",
              "    }\n",
              "</style>\n",
              "<table border=\"1\" class=\"dataframe\">\n",
              "  <thead>\n",
              "    <tr style=\"text-align: right;\">\n",
              "      <th></th>\n",
              "      <th>인구수</th>\n",
              "      <th>남자인구수</th>\n",
              "    </tr>\n",
              "  </thead>\n",
              "  <tbody>\n",
              "    <tr>\n",
              "      <th>서울특별시</th>\n",
              "      <td>9720846</td>\n",
              "      <td>4732275</td>\n",
              "    </tr>\n",
              "    <tr>\n",
              "      <th>부산광역시</th>\n",
              "      <td>3404423</td>\n",
              "      <td>1668618</td>\n",
              "    </tr>\n",
              "    <tr>\n",
              "      <th>인천광역시</th>\n",
              "      <td>2947217</td>\n",
              "      <td>1476813</td>\n",
              "    </tr>\n",
              "  </tbody>\n",
              "</table>\n",
              "</div>"
            ],
            "text/plain": [
              "           인구수    남자인구수\n",
              "서울특별시  9720846  4732275\n",
              "부산광역시  3404423  1668618\n",
              "인천광역시  2947217  1476813"
            ]
          },
          "execution_count": 44,
          "metadata": {},
          "output_type": "execute_result"
        }
      ],
      "source": [
        "korea_df.iloc[:3, :2]"
      ]
    },
    {
      "cell_type": "markdown",
      "metadata": {
        "id": "iTw6ejGdZuiw"
      },
      "source": [
        "## 데이터 연산"
      ]
    },
    {
      "cell_type": "code",
      "execution_count": null,
      "metadata": {
        "colab": {
          "base_uri": "https://localhost:8080/",
          "height": 139
        },
        "id": "lUpXJh0uajOg",
        "outputId": "30b19736-17d7-4c48-d5bb-5a09f3053f7f"
      },
      "outputs": [
        {
          "name": "stdout",
          "output_type": "stream",
          "text": [
            "0    1\n",
            "1    3\n",
            "2    5\n",
            "3    7\n",
            "4    9\n",
            "dtype: int64\n",
            "1     2\n",
            "2     4\n",
            "3     6\n",
            "4     8\n",
            "5    10\n",
            "dtype: int64\n",
            "0     NaN\n",
            "1     5.0\n",
            "2     9.0\n",
            "3    13.0\n",
            "4    17.0\n",
            "5     NaN\n",
            "dtype: float64\n"
          ]
        }
      ],
      "source": [
        "s1 = pd.Series([1, 3, 5, 7, 9], index = [0, 1, 2, 3, 4])\n",
        "s2 = pd.Series([2, 4, 6, 8, 10], index = [1, 2, 3, 4, 5])\n",
        "print(s1)\n",
        "print(s2)\n",
        "print(s1 + s2)  # index 값을 기준으로 더함 / 없는 index는 nan"
      ]
    },
    {
      "cell_type": "code",
      "execution_count": null,
      "metadata": {
        "colab": {
          "base_uri": "https://localhost:8080/",
          "height": 139
        },
        "id": "UMNfm7S7caJd",
        "outputId": "952a4a5d-1e27-4a29-edc2-50cca4652a91"
      },
      "outputs": [
        {
          "data": {
            "text/plain": [
              "0     1.0\n",
              "1     5.0\n",
              "2     9.0\n",
              "3    13.0\n",
              "4    17.0\n",
              "5    10.0\n",
              "dtype: float64"
            ]
          },
          "execution_count": 46,
          "metadata": {},
          "output_type": "execute_result"
        }
      ],
      "source": [
        "s1.add(s2, fill_value=0) # 없는 index는 0으로 취급해서 더함"
      ]
    },
    {
      "cell_type": "code",
      "execution_count": null,
      "metadata": {
        "colab": {
          "base_uri": "https://localhost:8080/",
          "height": 141
        },
        "id": "7gQjdKNYdHl4",
        "outputId": "22b29dd2-3d48-4da4-bcde-2b06a7196b98"
      },
      "outputs": [
        {
          "data": {
            "text/html": [
              "<div>\n",
              "<style scoped>\n",
              "    .dataframe tbody tr th:only-of-type {\n",
              "        vertical-align: middle;\n",
              "    }\n",
              "\n",
              "    .dataframe tbody tr th {\n",
              "        vertical-align: top;\n",
              "    }\n",
              "\n",
              "    .dataframe thead th {\n",
              "        text-align: right;\n",
              "    }\n",
              "</style>\n",
              "<table border=\"1\" class=\"dataframe\">\n",
              "  <thead>\n",
              "    <tr style=\"text-align: right;\">\n",
              "      <th></th>\n",
              "      <th>A</th>\n",
              "      <th>C</th>\n",
              "      <th>D</th>\n",
              "    </tr>\n",
              "  </thead>\n",
              "  <tbody>\n",
              "    <tr>\n",
              "      <th>0</th>\n",
              "      <td>16</td>\n",
              "      <td>17</td>\n",
              "      <td>11</td>\n",
              "    </tr>\n",
              "    <tr>\n",
              "      <th>1</th>\n",
              "      <td>7</td>\n",
              "      <td>9</td>\n",
              "      <td>18</td>\n",
              "    </tr>\n",
              "    <tr>\n",
              "      <th>2</th>\n",
              "      <td>19</td>\n",
              "      <td>13</td>\n",
              "      <td>10</td>\n",
              "    </tr>\n",
              "  </tbody>\n",
              "</table>\n",
              "</div>"
            ],
            "text/plain": [
              "    A   C   D\n",
              "0  16  17  11\n",
              "1   7   9  18\n",
              "2  19  13  10"
            ]
          },
          "execution_count": 48,
          "metadata": {},
          "output_type": "execute_result"
        }
      ],
      "source": [
        "df1 = pd.DataFrame(np.random.randint(0, 20, (3, 3)),\n",
        "                  columns=list('ACD'))\n",
        "df1"
      ]
    },
    {
      "cell_type": "code",
      "execution_count": null,
      "metadata": {
        "colab": {
          "base_uri": "https://localhost:8080/",
          "height": 202
        },
        "id": "RFDnK7BHdUGM",
        "outputId": "04e6f7cc-d066-4f54-ad17-176e29c5c495"
      },
      "outputs": [
        {
          "data": {
            "text/html": [
              "<div>\n",
              "<style scoped>\n",
              "    .dataframe tbody tr th:only-of-type {\n",
              "        vertical-align: middle;\n",
              "    }\n",
              "\n",
              "    .dataframe tbody tr th {\n",
              "        vertical-align: top;\n",
              "    }\n",
              "\n",
              "    .dataframe thead th {\n",
              "        text-align: right;\n",
              "    }\n",
              "</style>\n",
              "<table border=\"1\" class=\"dataframe\">\n",
              "  <thead>\n",
              "    <tr style=\"text-align: right;\">\n",
              "      <th></th>\n",
              "      <th>B</th>\n",
              "      <th>A</th>\n",
              "      <th>E</th>\n",
              "      <th>C</th>\n",
              "      <th>D</th>\n",
              "    </tr>\n",
              "  </thead>\n",
              "  <tbody>\n",
              "    <tr>\n",
              "      <th>0</th>\n",
              "      <td>19</td>\n",
              "      <td>12</td>\n",
              "      <td>5</td>\n",
              "      <td>10</td>\n",
              "      <td>5</td>\n",
              "    </tr>\n",
              "    <tr>\n",
              "      <th>1</th>\n",
              "      <td>6</td>\n",
              "      <td>7</td>\n",
              "      <td>14</td>\n",
              "      <td>4</td>\n",
              "      <td>3</td>\n",
              "    </tr>\n",
              "    <tr>\n",
              "      <th>2</th>\n",
              "      <td>11</td>\n",
              "      <td>17</td>\n",
              "      <td>14</td>\n",
              "      <td>15</td>\n",
              "      <td>14</td>\n",
              "    </tr>\n",
              "    <tr>\n",
              "      <th>3</th>\n",
              "      <td>15</td>\n",
              "      <td>18</td>\n",
              "      <td>15</td>\n",
              "      <td>0</td>\n",
              "      <td>12</td>\n",
              "    </tr>\n",
              "    <tr>\n",
              "      <th>4</th>\n",
              "      <td>14</td>\n",
              "      <td>7</td>\n",
              "      <td>4</td>\n",
              "      <td>15</td>\n",
              "      <td>0</td>\n",
              "    </tr>\n",
              "  </tbody>\n",
              "</table>\n",
              "</div>"
            ],
            "text/plain": [
              "    B   A   E   C   D\n",
              "0  19  12   5  10   5\n",
              "1   6   7  14   4   3\n",
              "2  11  17  14  15  14\n",
              "3  15  18  15   0  12\n",
              "4  14   7   4  15   0"
            ]
          },
          "execution_count": 49,
          "metadata": {},
          "output_type": "execute_result"
        }
      ],
      "source": [
        "df2 = pd.DataFrame(np.random.randint(0, 20, (5,5)),\n",
        "                  columns=list('BAECD'))\n",
        "df2"
      ]
    },
    {
      "cell_type": "code",
      "execution_count": null,
      "metadata": {
        "colab": {
          "base_uri": "https://localhost:8080/",
          "height": 202
        },
        "id": "2ZtF9SKVdeuy",
        "outputId": "303754dd-c0ec-40a8-ea0a-4d19465aa576"
      },
      "outputs": [
        {
          "data": {
            "text/html": [
              "<div>\n",
              "<style scoped>\n",
              "    .dataframe tbody tr th:only-of-type {\n",
              "        vertical-align: middle;\n",
              "    }\n",
              "\n",
              "    .dataframe tbody tr th {\n",
              "        vertical-align: top;\n",
              "    }\n",
              "\n",
              "    .dataframe thead th {\n",
              "        text-align: right;\n",
              "    }\n",
              "</style>\n",
              "<table border=\"1\" class=\"dataframe\">\n",
              "  <thead>\n",
              "    <tr style=\"text-align: right;\">\n",
              "      <th></th>\n",
              "      <th>A</th>\n",
              "      <th>B</th>\n",
              "      <th>C</th>\n",
              "      <th>D</th>\n",
              "      <th>E</th>\n",
              "    </tr>\n",
              "  </thead>\n",
              "  <tbody>\n",
              "    <tr>\n",
              "      <th>0</th>\n",
              "      <td>28.0</td>\n",
              "      <td>NaN</td>\n",
              "      <td>27.0</td>\n",
              "      <td>16.0</td>\n",
              "      <td>NaN</td>\n",
              "    </tr>\n",
              "    <tr>\n",
              "      <th>1</th>\n",
              "      <td>14.0</td>\n",
              "      <td>NaN</td>\n",
              "      <td>13.0</td>\n",
              "      <td>21.0</td>\n",
              "      <td>NaN</td>\n",
              "    </tr>\n",
              "    <tr>\n",
              "      <th>2</th>\n",
              "      <td>36.0</td>\n",
              "      <td>NaN</td>\n",
              "      <td>28.0</td>\n",
              "      <td>24.0</td>\n",
              "      <td>NaN</td>\n",
              "    </tr>\n",
              "    <tr>\n",
              "      <th>3</th>\n",
              "      <td>NaN</td>\n",
              "      <td>NaN</td>\n",
              "      <td>NaN</td>\n",
              "      <td>NaN</td>\n",
              "      <td>NaN</td>\n",
              "    </tr>\n",
              "    <tr>\n",
              "      <th>4</th>\n",
              "      <td>NaN</td>\n",
              "      <td>NaN</td>\n",
              "      <td>NaN</td>\n",
              "      <td>NaN</td>\n",
              "      <td>NaN</td>\n",
              "    </tr>\n",
              "  </tbody>\n",
              "</table>\n",
              "</div>"
            ],
            "text/plain": [
              "      A   B     C     D   E\n",
              "0  28.0 NaN  27.0  16.0 NaN\n",
              "1  14.0 NaN  13.0  21.0 NaN\n",
              "2  36.0 NaN  28.0  24.0 NaN\n",
              "3   NaN NaN   NaN   NaN NaN\n",
              "4   NaN NaN   NaN   NaN NaN"
            ]
          },
          "execution_count": 50,
          "metadata": {},
          "output_type": "execute_result"
        }
      ],
      "source": [
        "df1 + df2"
      ]
    },
    {
      "cell_type": "markdown",
      "metadata": {
        "id": "zAl0KQLGfOGu"
      },
      "source": [
        "### 연산자 범용 함수\n",
        "\n",
        "| Python 연산자 | Pandas 메소드             |\n",
        "|---------------|---------------------------|\n",
        "| ``+``         | ``add``, ``radd``     |\n",
        "| ``-``         | ``sub``, ``rsub``, ``subtract`` |\n",
        "| ``*``         | ``mul``, ``rmul``, ``multiply`` |\n",
        "| ``/``         | ``truediv``, ``div``, ``rdiv``, ``divide``|\n",
        "| ``//``        | ``floordiv``, ``rfloordiv`` |\n",
        "| ``%``         | ``mod``                 |\n",
        "| ``**``        | ``pow``, ``rpow``      |"
      ]
    },
    {
      "cell_type": "markdown",
      "metadata": {
        "id": "rtf6di7UxZm-"
      },
      "source": [
        "#### add()"
      ]
    },
    {
      "cell_type": "code",
      "execution_count": null,
      "metadata": {
        "colab": {
          "base_uri": "https://localhost:8080/",
          "height": 69
        },
        "id": "S0ZrcMDNevbl",
        "outputId": "5ee12fd1-b3f3-425a-9a2a-9dcc8dbd5178"
      },
      "outputs": [
        {
          "data": {
            "text/html": [
              "<div>\n",
              "<style scoped>\n",
              "    .dataframe tbody tr th:only-of-type {\n",
              "        vertical-align: middle;\n",
              "    }\n",
              "\n",
              "    .dataframe tbody tr th {\n",
              "        vertical-align: top;\n",
              "    }\n",
              "\n",
              "    .dataframe thead th {\n",
              "        text-align: right;\n",
              "    }\n",
              "</style>\n",
              "<table border=\"1\" class=\"dataframe\">\n",
              "  <thead>\n",
              "    <tr style=\"text-align: right;\">\n",
              "      <th></th>\n",
              "      <th>A</th>\n",
              "      <th>B</th>\n",
              "      <th>C</th>\n",
              "    </tr>\n",
              "  </thead>\n",
              "  <tbody>\n",
              "    <tr>\n",
              "      <th>0</th>\n",
              "      <td>2</td>\n",
              "      <td>9</td>\n",
              "      <td>1</td>\n",
              "    </tr>\n",
              "    <tr>\n",
              "      <th>1</th>\n",
              "      <td>8</td>\n",
              "      <td>6</td>\n",
              "      <td>9</td>\n",
              "    </tr>\n",
              "    <tr>\n",
              "      <th>2</th>\n",
              "      <td>9</td>\n",
              "      <td>6</td>\n",
              "      <td>9</td>\n",
              "    </tr>\n",
              "  </tbody>\n",
              "</table>\n",
              "</div>"
            ],
            "text/plain": [
              "   A  B  C\n",
              "0  2  9  1\n",
              "1  8  6  9\n",
              "2  9  6  9"
            ]
          },
          "execution_count": 52,
          "metadata": {},
          "output_type": "execute_result"
        }
      ],
      "source": [
        "df = pd.DataFrame(np.random.randint(1, 10, size=(3, 3)),\n",
        "                 columns = list('ABC'))\n",
        "df"
      ]
    },
    {
      "cell_type": "code",
      "execution_count": null,
      "metadata": {
        "colab": {
          "base_uri": "https://localhost:8080/",
          "height": 69
        },
        "id": "XwyOkCCRiJUJ",
        "outputId": "603ac907-872f-46a1-e402-3c077704141a"
      },
      "outputs": [
        {
          "data": {
            "text/html": [
              "<div>\n",
              "<style scoped>\n",
              "    .dataframe tbody tr th:only-of-type {\n",
              "        vertical-align: middle;\n",
              "    }\n",
              "\n",
              "    .dataframe tbody tr th {\n",
              "        vertical-align: top;\n",
              "    }\n",
              "\n",
              "    .dataframe thead th {\n",
              "        text-align: right;\n",
              "    }\n",
              "</style>\n",
              "<table border=\"1\" class=\"dataframe\">\n",
              "  <thead>\n",
              "    <tr style=\"text-align: right;\">\n",
              "      <th></th>\n",
              "      <th>A</th>\n",
              "      <th>B</th>\n",
              "      <th>C</th>\n",
              "    </tr>\n",
              "  </thead>\n",
              "  <tbody>\n",
              "    <tr>\n",
              "      <th>0</th>\n",
              "      <td>4</td>\n",
              "      <td>18</td>\n",
              "      <td>2</td>\n",
              "    </tr>\n",
              "    <tr>\n",
              "      <th>1</th>\n",
              "      <td>10</td>\n",
              "      <td>15</td>\n",
              "      <td>10</td>\n",
              "    </tr>\n",
              "    <tr>\n",
              "      <th>2</th>\n",
              "      <td>11</td>\n",
              "      <td>15</td>\n",
              "      <td>10</td>\n",
              "    </tr>\n",
              "  </tbody>\n",
              "</table>\n",
              "</div>"
            ],
            "text/plain": [
              "    A   B   C\n",
              "0   4  18   2\n",
              "1  10  15  10\n",
              "2  11  15  10"
            ]
          },
          "execution_count": 53,
          "metadata": {},
          "output_type": "execute_result"
        }
      ],
      "source": [
        "df + df.iloc[0]  # 0번째 행이 broadcast 해서 더해짐"
      ]
    },
    {
      "cell_type": "code",
      "execution_count": null,
      "metadata": {
        "colab": {
          "base_uri": "https://localhost:8080/",
          "height": 141
        },
        "id": "qIZRHvYqhnb4",
        "outputId": "0533b6e2-5447-47e5-85e0-7f1252d3f5a5"
      },
      "outputs": [
        {
          "data": {
            "text/html": [
              "<div>\n",
              "<style scoped>\n",
              "    .dataframe tbody tr th:only-of-type {\n",
              "        vertical-align: middle;\n",
              "    }\n",
              "\n",
              "    .dataframe tbody tr th {\n",
              "        vertical-align: top;\n",
              "    }\n",
              "\n",
              "    .dataframe thead th {\n",
              "        text-align: right;\n",
              "    }\n",
              "</style>\n",
              "<table border=\"1\" class=\"dataframe\">\n",
              "  <thead>\n",
              "    <tr style=\"text-align: right;\">\n",
              "      <th></th>\n",
              "      <th>A</th>\n",
              "      <th>B</th>\n",
              "      <th>C</th>\n",
              "    </tr>\n",
              "  </thead>\n",
              "  <tbody>\n",
              "    <tr>\n",
              "      <th>0</th>\n",
              "      <td>4</td>\n",
              "      <td>18</td>\n",
              "      <td>2</td>\n",
              "    </tr>\n",
              "    <tr>\n",
              "      <th>1</th>\n",
              "      <td>10</td>\n",
              "      <td>15</td>\n",
              "      <td>10</td>\n",
              "    </tr>\n",
              "    <tr>\n",
              "      <th>2</th>\n",
              "      <td>11</td>\n",
              "      <td>15</td>\n",
              "      <td>10</td>\n",
              "    </tr>\n",
              "  </tbody>\n",
              "</table>\n",
              "</div>"
            ],
            "text/plain": [
              "    A   B   C\n",
              "0   4  18   2\n",
              "1  10  15  10\n",
              "2  11  15  10"
            ]
          },
          "execution_count": 54,
          "metadata": {},
          "output_type": "execute_result"
        }
      ],
      "source": [
        "df.add(df.iloc[0])"
      ]
    },
    {
      "cell_type": "markdown",
      "metadata": {
        "id": "olpJULJ5x1KI"
      },
      "source": [
        "### 정렬(Sort)"
      ]
    },
    {
      "cell_type": "code",
      "execution_count": null,
      "metadata": {
        "colab": {
          "base_uri": "https://localhost:8080/",
          "height": 121
        },
        "id": "Wplj3Uw00Isa",
        "outputId": "2560bda1-ee0e-4898-da0b-5eedef5f6b93"
      },
      "outputs": [
        {
          "data": {
            "text/plain": [
              "A    0\n",
              "D    1\n",
              "B    2\n",
              "C    3\n",
              "E    4\n",
              "dtype: int64"
            ]
          },
          "execution_count": 55,
          "metadata": {},
          "output_type": "execute_result"
        }
      ],
      "source": [
        "s = pd.Series(range(5), index=['A', 'D', 'B', 'C', 'E'])\n",
        "s"
      ]
    },
    {
      "cell_type": "code",
      "execution_count": null,
      "metadata": {
        "colab": {
          "base_uri": "https://localhost:8080/",
          "height": 121
        },
        "id": "6teCdpge0Xp6",
        "outputId": "3c2298f4-f7f3-4e6d-8990-eaf031abe5f6"
      },
      "outputs": [
        {
          "data": {
            "text/plain": [
              "A    0\n",
              "B    2\n",
              "C    3\n",
              "D    1\n",
              "E    4\n",
              "dtype: int64"
            ]
          },
          "execution_count": 56,
          "metadata": {},
          "output_type": "execute_result"
        }
      ],
      "source": [
        "s.sort_index()"
      ]
    },
    {
      "cell_type": "code",
      "execution_count": null,
      "metadata": {
        "colab": {
          "base_uri": "https://localhost:8080/",
          "height": 121
        },
        "id": "l77lqhu71Nd4",
        "outputId": "70da1d9f-3eb4-45fb-bbcf-f9e6e8e8d6cb"
      },
      "outputs": [
        {
          "data": {
            "text/plain": [
              "A    0\n",
              "D    1\n",
              "B    2\n",
              "C    3\n",
              "E    4\n",
              "dtype: int64"
            ]
          },
          "execution_count": 63,
          "metadata": {},
          "output_type": "execute_result"
        }
      ],
      "source": [
        "s.sort_values()"
      ]
    },
    {
      "cell_type": "code",
      "execution_count": null,
      "metadata": {
        "colab": {
          "base_uri": "https://localhost:8080/",
          "height": 171
        },
        "id": "EOsqFoi2zMZ3",
        "outputId": "251da44f-c204-4ac9-9bd6-7b42504769b4"
      },
      "outputs": [
        {
          "data": {
            "text/html": [
              "<div>\n",
              "<style scoped>\n",
              "    .dataframe tbody tr th:only-of-type {\n",
              "        vertical-align: middle;\n",
              "    }\n",
              "\n",
              "    .dataframe tbody tr th {\n",
              "        vertical-align: top;\n",
              "    }\n",
              "\n",
              "    .dataframe thead th {\n",
              "        text-align: right;\n",
              "    }\n",
              "</style>\n",
              "<table border=\"1\" class=\"dataframe\">\n",
              "  <thead>\n",
              "    <tr style=\"text-align: right;\">\n",
              "      <th></th>\n",
              "      <th>B</th>\n",
              "      <th>D</th>\n",
              "      <th>A</th>\n",
              "      <th>C</th>\n",
              "    </tr>\n",
              "  </thead>\n",
              "  <tbody>\n",
              "    <tr>\n",
              "      <th>2</th>\n",
              "      <td>2</td>\n",
              "      <td>2</td>\n",
              "      <td>3</td>\n",
              "      <td>1</td>\n",
              "    </tr>\n",
              "    <tr>\n",
              "      <th>4</th>\n",
              "      <td>3</td>\n",
              "      <td>0</td>\n",
              "      <td>5</td>\n",
              "      <td>4</td>\n",
              "    </tr>\n",
              "    <tr>\n",
              "      <th>1</th>\n",
              "      <td>2</td>\n",
              "      <td>3</td>\n",
              "      <td>4</td>\n",
              "      <td>4</td>\n",
              "    </tr>\n",
              "    <tr>\n",
              "      <th>3</th>\n",
              "      <td>4</td>\n",
              "      <td>0</td>\n",
              "      <td>0</td>\n",
              "      <td>1</td>\n",
              "    </tr>\n",
              "  </tbody>\n",
              "</table>\n",
              "</div>"
            ],
            "text/plain": [
              "   B  D  A  C\n",
              "2  2  2  3  1\n",
              "4  3  0  5  4\n",
              "1  2  3  4  4\n",
              "3  4  0  0  1"
            ]
          },
          "execution_count": 68,
          "metadata": {},
          "output_type": "execute_result"
        }
      ],
      "source": [
        "df = pd.DataFrame(np.random.randint(0, 6, (4, 4)),\n",
        "                 index = [2, 4, 1, 3],\n",
        "                 columns=list('BDAC'))\n",
        "df"
      ]
    },
    {
      "cell_type": "code",
      "execution_count": null,
      "metadata": {
        "colab": {
          "base_uri": "https://localhost:8080/",
          "height": 171
        },
        "id": "H8iEDE0mMSDZ",
        "outputId": "f06e58ba-de8f-49a8-8df7-6cd1a549c73b"
      },
      "outputs": [
        {
          "data": {
            "text/html": [
              "<div>\n",
              "<style scoped>\n",
              "    .dataframe tbody tr th:only-of-type {\n",
              "        vertical-align: middle;\n",
              "    }\n",
              "\n",
              "    .dataframe tbody tr th {\n",
              "        vertical-align: top;\n",
              "    }\n",
              "\n",
              "    .dataframe thead th {\n",
              "        text-align: right;\n",
              "    }\n",
              "</style>\n",
              "<table border=\"1\" class=\"dataframe\">\n",
              "  <thead>\n",
              "    <tr style=\"text-align: right;\">\n",
              "      <th></th>\n",
              "      <th>B</th>\n",
              "      <th>D</th>\n",
              "      <th>A</th>\n",
              "      <th>C</th>\n",
              "    </tr>\n",
              "  </thead>\n",
              "  <tbody>\n",
              "    <tr>\n",
              "      <th>1</th>\n",
              "      <td>2</td>\n",
              "      <td>3</td>\n",
              "      <td>4</td>\n",
              "      <td>4</td>\n",
              "    </tr>\n",
              "    <tr>\n",
              "      <th>2</th>\n",
              "      <td>2</td>\n",
              "      <td>2</td>\n",
              "      <td>3</td>\n",
              "      <td>1</td>\n",
              "    </tr>\n",
              "    <tr>\n",
              "      <th>3</th>\n",
              "      <td>4</td>\n",
              "      <td>0</td>\n",
              "      <td>0</td>\n",
              "      <td>1</td>\n",
              "    </tr>\n",
              "    <tr>\n",
              "      <th>4</th>\n",
              "      <td>3</td>\n",
              "      <td>0</td>\n",
              "      <td>5</td>\n",
              "      <td>4</td>\n",
              "    </tr>\n",
              "  </tbody>\n",
              "</table>\n",
              "</div>"
            ],
            "text/plain": [
              "   B  D  A  C\n",
              "1  2  3  4  4\n",
              "2  2  2  3  1\n",
              "3  4  0  0  1\n",
              "4  3  0  5  4"
            ]
          },
          "execution_count": 69,
          "metadata": {},
          "output_type": "execute_result"
        }
      ],
      "source": [
        "df.sort_index()"
      ]
    },
    {
      "cell_type": "code",
      "execution_count": null,
      "metadata": {
        "colab": {
          "base_uri": "https://localhost:8080/",
          "height": 171
        },
        "id": "FZ8zzlx90kqU",
        "outputId": "9bdb62bc-ede6-42dc-ce27-7de2dd42bc86"
      },
      "outputs": [
        {
          "data": {
            "text/html": [
              "<div>\n",
              "<style scoped>\n",
              "    .dataframe tbody tr th:only-of-type {\n",
              "        vertical-align: middle;\n",
              "    }\n",
              "\n",
              "    .dataframe tbody tr th {\n",
              "        vertical-align: top;\n",
              "    }\n",
              "\n",
              "    .dataframe thead th {\n",
              "        text-align: right;\n",
              "    }\n",
              "</style>\n",
              "<table border=\"1\" class=\"dataframe\">\n",
              "  <thead>\n",
              "    <tr style=\"text-align: right;\">\n",
              "      <th></th>\n",
              "      <th>A</th>\n",
              "      <th>B</th>\n",
              "      <th>C</th>\n",
              "      <th>D</th>\n",
              "    </tr>\n",
              "  </thead>\n",
              "  <tbody>\n",
              "    <tr>\n",
              "      <th>2</th>\n",
              "      <td>3</td>\n",
              "      <td>2</td>\n",
              "      <td>1</td>\n",
              "      <td>2</td>\n",
              "    </tr>\n",
              "    <tr>\n",
              "      <th>4</th>\n",
              "      <td>5</td>\n",
              "      <td>3</td>\n",
              "      <td>4</td>\n",
              "      <td>0</td>\n",
              "    </tr>\n",
              "    <tr>\n",
              "      <th>1</th>\n",
              "      <td>4</td>\n",
              "      <td>2</td>\n",
              "      <td>4</td>\n",
              "      <td>3</td>\n",
              "    </tr>\n",
              "    <tr>\n",
              "      <th>3</th>\n",
              "      <td>0</td>\n",
              "      <td>4</td>\n",
              "      <td>1</td>\n",
              "      <td>0</td>\n",
              "    </tr>\n",
              "  </tbody>\n",
              "</table>\n",
              "</div>"
            ],
            "text/plain": [
              "   A  B  C  D\n",
              "2  3  2  1  2\n",
              "4  5  3  4  0\n",
              "1  4  2  4  3\n",
              "3  0  4  1  0"
            ]
          },
          "execution_count": 70,
          "metadata": {},
          "output_type": "execute_result"
        }
      ],
      "source": [
        "df.sort_index(axis = 1) # columns 정렬"
      ]
    },
    {
      "cell_type": "code",
      "execution_count": null,
      "metadata": {
        "colab": {
          "base_uri": "https://localhost:8080/",
          "height": 171
        },
        "id": "cfbgpa6R1T1r",
        "outputId": "22c0d6c7-b322-46d8-fd65-48172fcc0bce"
      },
      "outputs": [
        {
          "data": {
            "text/html": [
              "<div>\n",
              "<style scoped>\n",
              "    .dataframe tbody tr th:only-of-type {\n",
              "        vertical-align: middle;\n",
              "    }\n",
              "\n",
              "    .dataframe tbody tr th {\n",
              "        vertical-align: top;\n",
              "    }\n",
              "\n",
              "    .dataframe thead th {\n",
              "        text-align: right;\n",
              "    }\n",
              "</style>\n",
              "<table border=\"1\" class=\"dataframe\">\n",
              "  <thead>\n",
              "    <tr style=\"text-align: right;\">\n",
              "      <th></th>\n",
              "      <th>B</th>\n",
              "      <th>D</th>\n",
              "      <th>A</th>\n",
              "      <th>C</th>\n",
              "    </tr>\n",
              "  </thead>\n",
              "  <tbody>\n",
              "    <tr>\n",
              "      <th>3</th>\n",
              "      <td>4</td>\n",
              "      <td>0</td>\n",
              "      <td>0</td>\n",
              "      <td>1</td>\n",
              "    </tr>\n",
              "    <tr>\n",
              "      <th>2</th>\n",
              "      <td>2</td>\n",
              "      <td>2</td>\n",
              "      <td>3</td>\n",
              "      <td>1</td>\n",
              "    </tr>\n",
              "    <tr>\n",
              "      <th>1</th>\n",
              "      <td>2</td>\n",
              "      <td>3</td>\n",
              "      <td>4</td>\n",
              "      <td>4</td>\n",
              "    </tr>\n",
              "    <tr>\n",
              "      <th>4</th>\n",
              "      <td>3</td>\n",
              "      <td>0</td>\n",
              "      <td>5</td>\n",
              "      <td>4</td>\n",
              "    </tr>\n",
              "  </tbody>\n",
              "</table>\n",
              "</div>"
            ],
            "text/plain": [
              "   B  D  A  C\n",
              "3  4  0  0  1\n",
              "2  2  2  3  1\n",
              "1  2  3  4  4\n",
              "4  3  0  5  4"
            ]
          },
          "execution_count": 71,
          "metadata": {},
          "output_type": "execute_result"
        }
      ],
      "source": [
        "df.sort_values(by='A')"
      ]
    },
    {
      "cell_type": "code",
      "execution_count": null,
      "metadata": {
        "id": "iTSxT81gJ9E-",
        "outputId": "6c1edf98-5b00-46ec-de98-980c27e11e90"
      },
      "outputs": [
        {
          "data": {
            "text/html": [
              "<div>\n",
              "<style scoped>\n",
              "    .dataframe tbody tr th:only-of-type {\n",
              "        vertical-align: middle;\n",
              "    }\n",
              "\n",
              "    .dataframe tbody tr th {\n",
              "        vertical-align: top;\n",
              "    }\n",
              "\n",
              "    .dataframe thead th {\n",
              "        text-align: right;\n",
              "    }\n",
              "</style>\n",
              "<table border=\"1\" class=\"dataframe\">\n",
              "  <thead>\n",
              "    <tr style=\"text-align: right;\">\n",
              "      <th></th>\n",
              "      <th>B</th>\n",
              "      <th>D</th>\n",
              "      <th>A</th>\n",
              "      <th>C</th>\n",
              "    </tr>\n",
              "  </thead>\n",
              "  <tbody>\n",
              "    <tr>\n",
              "      <th>3</th>\n",
              "      <td>4</td>\n",
              "      <td>0</td>\n",
              "      <td>0</td>\n",
              "      <td>1</td>\n",
              "    </tr>\n",
              "    <tr>\n",
              "      <th>2</th>\n",
              "      <td>2</td>\n",
              "      <td>2</td>\n",
              "      <td>3</td>\n",
              "      <td>1</td>\n",
              "    </tr>\n",
              "    <tr>\n",
              "      <th>1</th>\n",
              "      <td>2</td>\n",
              "      <td>3</td>\n",
              "      <td>4</td>\n",
              "      <td>4</td>\n",
              "    </tr>\n",
              "    <tr>\n",
              "      <th>4</th>\n",
              "      <td>3</td>\n",
              "      <td>0</td>\n",
              "      <td>5</td>\n",
              "      <td>4</td>\n",
              "    </tr>\n",
              "  </tbody>\n",
              "</table>\n",
              "</div>"
            ],
            "text/plain": [
              "   B  D  A  C\n",
              "3  4  0  0  1\n",
              "2  2  2  3  1\n",
              "1  2  3  4  4\n",
              "4  3  0  5  4"
            ]
          },
          "execution_count": 72,
          "metadata": {},
          "output_type": "execute_result"
        }
      ],
      "source": [
        "df.sort_values(by=['A', 'C']) # A 정렬하고 C 정렬"
      ]
    },
    {
      "cell_type": "markdown",
      "metadata": {
        "id": "Xrv5nCNj3K-0"
      },
      "source": [
        "### 순위(Ranking)\n",
        "\n",
        "* 수 목록 내에서 개별 수의 크기 순위 계산\n",
        "```\n",
        "DataFrame.rank(self, \n",
        "            axis = 0, # 기본값 0(index)으로, index 축을 기준으로 순위 계산 \n",
        "    \t\tmethod = 'average', # 동점을 가진 데이터들의 순위를 정하는 방법\n",
        "    \t\tnumeric_only = None, # True로 설정된 경우 숫자 열만 순위를 부여 \n",
        "    \t\tna_option = 'keep', # NaN 값 순위를 부여하는 방법\n",
        "    \t\tascending = True, # 오름차순 또는 내림차순 정렬\n",
        "    \t\tpct = False) # 반환 된 순위를 백분위 수 형식으로 표시할지 여부\n",
        "```\n",
        "\n",
        "| method | 설명 |\n",
        "|--------|------|\n",
        "| `average` | 기본값. 순위에 같은 값을 가지는 항목들의 평균값을 사용 |\n",
        "| `min` | 같은 값을 가지는 그룹을 낮은 순위로 지정 |\n",
        "| `max` | 같은 값을 가지는 그룹을 높은 순위로 지정 |\n",
        "| `first` | 데이터 내의 위치에 따라 순위 지정 |\n",
        "| `dense` | 같은 그룹 내에서 모두 같은 순위를 적용하지 않고 1씩 증가 |"
      ]
    },
    {
      "cell_type": "code",
      "execution_count": null,
      "metadata": {
        "colab": {
          "base_uri": "https://localhost:8080/",
          "height": 208
        },
        "id": "GYroEZZ4105r",
        "outputId": "b138d189-93b0-43a1-93f8-e40c0679c2fb"
      },
      "outputs": [
        {
          "data": {
            "text/plain": [
              "0   -2\n",
              "1    3\n",
              "2    7\n",
              "3    3\n",
              "4    8\n",
              "5    9\n",
              "6    3\n",
              "7   -4\n",
              "8    2\n",
              "9    6\n",
              "dtype: int64"
            ]
          },
          "execution_count": 73,
          "metadata": {},
          "output_type": "execute_result"
        }
      ],
      "source": [
        "s = pd.Series([-2, 3, 7, 3, 8, 9, 3, -4, 2, 6])\n",
        "s"
      ]
    },
    {
      "cell_type": "code",
      "execution_count": null,
      "metadata": {
        "colab": {
          "base_uri": "https://localhost:8080/",
          "height": 208
        },
        "id": "S4pX_jtq2ih3",
        "outputId": "a79c4004-5cca-4335-dd5a-f3cba4c5de81"
      },
      "outputs": [
        {
          "data": {
            "text/plain": [
              "0     2.0\n",
              "1     5.0\n",
              "2     8.0\n",
              "3     5.0\n",
              "4     9.0\n",
              "5    10.0\n",
              "6     5.0\n",
              "7     1.0\n",
              "8     3.0\n",
              "9     7.0\n",
              "dtype: float64"
            ]
          },
          "execution_count": 74,
          "metadata": {},
          "output_type": "execute_result"
        }
      ],
      "source": [
        "s.rank() \n",
        "# 최솟값부터 rank 1을 부여, 기본은 method = average. 3의 값을 가진 1, 3, 6번 index가 각각 rank 4, 5, 6을 가져가야하는데 평균 5로 가짐"
      ]
    },
    {
      "cell_type": "code",
      "execution_count": null,
      "metadata": {
        "colab": {
          "base_uri": "https://localhost:8080/",
          "height": 208
        },
        "id": "qBjoTMbx2keP",
        "outputId": "6ce40107-ca4b-4337-bd71-7ba02ed267d7"
      },
      "outputs": [
        {
          "data": {
            "text/plain": [
              "0     2.0\n",
              "1     6.0\n",
              "2     8.0\n",
              "3     6.0\n",
              "4     9.0\n",
              "5    10.0\n",
              "6     6.0\n",
              "7     1.0\n",
              "8     3.0\n",
              "9     7.0\n",
              "dtype: float64"
            ]
          },
          "execution_count": 75,
          "metadata": {},
          "output_type": "execute_result"
        }
      ],
      "source": [
        "s.rank(method='max') # 1, 3, 6 index가 4, 5, 6 rank 중 가장 큰 값인 6을 가져감"
      ]
    },
    {
      "cell_type": "code",
      "execution_count": null,
      "metadata": {
        "colab": {
          "base_uri": "https://localhost:8080/",
          "height": 208
        },
        "id": "QRI_Z5KO2zG4",
        "outputId": "c8d440e0-f370-4ca6-9daf-088c481ec883"
      },
      "outputs": [
        {
          "data": {
            "text/plain": [
              "0     2.0\n",
              "1     4.0\n",
              "2     8.0\n",
              "3     4.0\n",
              "4     9.0\n",
              "5    10.0\n",
              "6     4.0\n",
              "7     1.0\n",
              "8     3.0\n",
              "9     7.0\n",
              "dtype: float64"
            ]
          },
          "execution_count": 76,
          "metadata": {},
          "output_type": "execute_result"
        }
      ],
      "source": [
        "s.rank(method='min') # 1, 3, 6 index가 4, 5, 6 rank 중 가장 작은 값인 4를 가져감"
      ]
    },
    {
      "cell_type": "code",
      "execution_count": null,
      "metadata": {
        "id": "AZ9d7Bk3J9E_"
      },
      "outputs": [],
      "source": [
        "s.rank(method = 'first') # 동 순위를 가져가지 않음"
      ]
    },
    {
      "cell_type": "markdown",
      "metadata": {
        "id": "098-pgqPZvz6"
      },
      "source": [
        "## 데이터 결합"
      ]
    },
    {
      "cell_type": "markdown",
      "metadata": {
        "id": "BCSOonbBpkpT"
      },
      "source": [
        "### concat() / append()"
      ]
    },
    {
      "cell_type": "code",
      "execution_count": null,
      "metadata": {
        "colab": {
          "base_uri": "https://localhost:8080/",
          "height": 104
        },
        "id": "cTmO8pFKcd_W",
        "outputId": "8203f41b-df4d-4eb4-9b70-6f0015dd5bbf"
      },
      "outputs": [
        {
          "data": {
            "text/plain": [
              "1    a\n",
              "2    b\n",
              "3    c\n",
              "4    d\n",
              "dtype: object"
            ]
          },
          "execution_count": 3,
          "metadata": {},
          "output_type": "execute_result"
        }
      ],
      "source": [
        "s1 = pd.Series(['a', 'b'], index = [1, 2])\n",
        "s2 = pd.Series(['c', 'd'], index = [3, 4])\n",
        "pd.concat([s1, s2])"
      ]
    },
    {
      "cell_type": "code",
      "execution_count": null,
      "metadata": {
        "id": "HnvsxJHqrAxj"
      },
      "outputs": [],
      "source": [
        "def create_df(cols, idx):\n",
        "    data = {c: [str(c.lower()) + str(i) for i in idx] for c in cols}\n",
        "    print(data)\n",
        "    return pd.DataFrame(data, idx)"
      ]
    },
    {
      "cell_type": "code",
      "execution_count": null,
      "metadata": {
        "colab": {
          "base_uri": "https://localhost:8080/",
          "height": 110
        },
        "id": "mIqdS3_saR2D",
        "outputId": "35cc7738-e779-46ea-a6f8-bf4ac8c78924"
      },
      "outputs": [
        {
          "name": "stdout",
          "output_type": "stream",
          "text": [
            "{'A': ['a1', 'a2'], 'B': ['b1', 'b2']}\n"
          ]
        },
        {
          "data": {
            "text/html": [
              "<div>\n",
              "<style scoped>\n",
              "    .dataframe tbody tr th:only-of-type {\n",
              "        vertical-align: middle;\n",
              "    }\n",
              "\n",
              "    .dataframe tbody tr th {\n",
              "        vertical-align: top;\n",
              "    }\n",
              "\n",
              "    .dataframe thead th {\n",
              "        text-align: right;\n",
              "    }\n",
              "</style>\n",
              "<table border=\"1\" class=\"dataframe\">\n",
              "  <thead>\n",
              "    <tr style=\"text-align: right;\">\n",
              "      <th></th>\n",
              "      <th>A</th>\n",
              "      <th>B</th>\n",
              "    </tr>\n",
              "  </thead>\n",
              "  <tbody>\n",
              "    <tr>\n",
              "      <th>1</th>\n",
              "      <td>a1</td>\n",
              "      <td>b1</td>\n",
              "    </tr>\n",
              "    <tr>\n",
              "      <th>2</th>\n",
              "      <td>a2</td>\n",
              "      <td>b2</td>\n",
              "    </tr>\n",
              "  </tbody>\n",
              "</table>\n",
              "</div>"
            ],
            "text/plain": [
              "    A   B\n",
              "1  a1  b1\n",
              "2  a2  b2"
            ]
          },
          "execution_count": 5,
          "metadata": {},
          "output_type": "execute_result"
        }
      ],
      "source": [
        "df1 = create_df('AB', [1, 2])\n",
        "df1"
      ]
    },
    {
      "cell_type": "code",
      "execution_count": null,
      "metadata": {
        "colab": {
          "base_uri": "https://localhost:8080/",
          "height": 110
        },
        "id": "9zjCkIpKawR7",
        "outputId": "1e62fbb6-c690-4549-aaf0-e3c05095a091"
      },
      "outputs": [
        {
          "name": "stdout",
          "output_type": "stream",
          "text": [
            "{'A': ['a3', 'a4'], 'B': ['b3', 'b4']}\n"
          ]
        },
        {
          "data": {
            "text/html": [
              "<div>\n",
              "<style scoped>\n",
              "    .dataframe tbody tr th:only-of-type {\n",
              "        vertical-align: middle;\n",
              "    }\n",
              "\n",
              "    .dataframe tbody tr th {\n",
              "        vertical-align: top;\n",
              "    }\n",
              "\n",
              "    .dataframe thead th {\n",
              "        text-align: right;\n",
              "    }\n",
              "</style>\n",
              "<table border=\"1\" class=\"dataframe\">\n",
              "  <thead>\n",
              "    <tr style=\"text-align: right;\">\n",
              "      <th></th>\n",
              "      <th>A</th>\n",
              "      <th>B</th>\n",
              "    </tr>\n",
              "  </thead>\n",
              "  <tbody>\n",
              "    <tr>\n",
              "      <th>3</th>\n",
              "      <td>a3</td>\n",
              "      <td>b3</td>\n",
              "    </tr>\n",
              "    <tr>\n",
              "      <th>4</th>\n",
              "      <td>a4</td>\n",
              "      <td>b4</td>\n",
              "    </tr>\n",
              "  </tbody>\n",
              "</table>\n",
              "</div>"
            ],
            "text/plain": [
              "    A   B\n",
              "3  a3  b3\n",
              "4  a4  b4"
            ]
          },
          "execution_count": 6,
          "metadata": {},
          "output_type": "execute_result"
        }
      ],
      "source": [
        "df2 = create_df(\"AB\", [3, 4])\n",
        "df2"
      ]
    },
    {
      "cell_type": "code",
      "execution_count": null,
      "metadata": {
        "colab": {
          "base_uri": "https://localhost:8080/",
          "height": 171
        },
        "id": "1BoDpvACc_J2",
        "outputId": "821aad9f-364c-4a20-f2ea-ea163c7f1041"
      },
      "outputs": [
        {
          "data": {
            "text/html": [
              "<div>\n",
              "<style scoped>\n",
              "    .dataframe tbody tr th:only-of-type {\n",
              "        vertical-align: middle;\n",
              "    }\n",
              "\n",
              "    .dataframe tbody tr th {\n",
              "        vertical-align: top;\n",
              "    }\n",
              "\n",
              "    .dataframe thead th {\n",
              "        text-align: right;\n",
              "    }\n",
              "</style>\n",
              "<table border=\"1\" class=\"dataframe\">\n",
              "  <thead>\n",
              "    <tr style=\"text-align: right;\">\n",
              "      <th></th>\n",
              "      <th>A</th>\n",
              "      <th>B</th>\n",
              "    </tr>\n",
              "  </thead>\n",
              "  <tbody>\n",
              "    <tr>\n",
              "      <th>1</th>\n",
              "      <td>a1</td>\n",
              "      <td>b1</td>\n",
              "    </tr>\n",
              "    <tr>\n",
              "      <th>2</th>\n",
              "      <td>a2</td>\n",
              "      <td>b2</td>\n",
              "    </tr>\n",
              "    <tr>\n",
              "      <th>3</th>\n",
              "      <td>a3</td>\n",
              "      <td>b3</td>\n",
              "    </tr>\n",
              "    <tr>\n",
              "      <th>4</th>\n",
              "      <td>a4</td>\n",
              "      <td>b4</td>\n",
              "    </tr>\n",
              "  </tbody>\n",
              "</table>\n",
              "</div>"
            ],
            "text/plain": [
              "    A   B\n",
              "1  a1  b1\n",
              "2  a2  b2\n",
              "3  a3  b3\n",
              "4  a4  b4"
            ]
          },
          "execution_count": 7,
          "metadata": {},
          "output_type": "execute_result"
        }
      ],
      "source": [
        "pd.concat([df1, df2])"
      ]
    },
    {
      "cell_type": "code",
      "execution_count": null,
      "metadata": {
        "colab": {
          "base_uri": "https://localhost:8080/",
          "height": 110
        },
        "id": "JJL0XcfGdBVu",
        "outputId": "a5d62766-5792-4ff8-b8c3-3c4cd1e532c4"
      },
      "outputs": [
        {
          "name": "stdout",
          "output_type": "stream",
          "text": [
            "{'A': ['a0', 'a1'], 'B': ['b0', 'b1']}\n"
          ]
        },
        {
          "data": {
            "text/html": [
              "<div>\n",
              "<style scoped>\n",
              "    .dataframe tbody tr th:only-of-type {\n",
              "        vertical-align: middle;\n",
              "    }\n",
              "\n",
              "    .dataframe tbody tr th {\n",
              "        vertical-align: top;\n",
              "    }\n",
              "\n",
              "    .dataframe thead th {\n",
              "        text-align: right;\n",
              "    }\n",
              "</style>\n",
              "<table border=\"1\" class=\"dataframe\">\n",
              "  <thead>\n",
              "    <tr style=\"text-align: right;\">\n",
              "      <th></th>\n",
              "      <th>A</th>\n",
              "      <th>B</th>\n",
              "    </tr>\n",
              "  </thead>\n",
              "  <tbody>\n",
              "    <tr>\n",
              "      <th>0</th>\n",
              "      <td>a0</td>\n",
              "      <td>b0</td>\n",
              "    </tr>\n",
              "    <tr>\n",
              "      <th>1</th>\n",
              "      <td>a1</td>\n",
              "      <td>b1</td>\n",
              "    </tr>\n",
              "  </tbody>\n",
              "</table>\n",
              "</div>"
            ],
            "text/plain": [
              "    A   B\n",
              "0  a0  b0\n",
              "1  a1  b1"
            ]
          },
          "execution_count": 8,
          "metadata": {},
          "output_type": "execute_result"
        }
      ],
      "source": [
        "df3 = create_df(\"AB\", [0, 1])\n",
        "df3"
      ]
    },
    {
      "cell_type": "code",
      "execution_count": null,
      "metadata": {
        "colab": {
          "base_uri": "https://localhost:8080/",
          "height": 110
        },
        "id": "lYA3JakEdgKV",
        "outputId": "6cb6e664-dbee-402b-b5b0-01c8b6d0d59e"
      },
      "outputs": [
        {
          "name": "stdout",
          "output_type": "stream",
          "text": [
            "{'C': ['c0', 'c1'], 'D': ['d0', 'd1']}\n"
          ]
        },
        {
          "data": {
            "text/html": [
              "<div>\n",
              "<style scoped>\n",
              "    .dataframe tbody tr th:only-of-type {\n",
              "        vertical-align: middle;\n",
              "    }\n",
              "\n",
              "    .dataframe tbody tr th {\n",
              "        vertical-align: top;\n",
              "    }\n",
              "\n",
              "    .dataframe thead th {\n",
              "        text-align: right;\n",
              "    }\n",
              "</style>\n",
              "<table border=\"1\" class=\"dataframe\">\n",
              "  <thead>\n",
              "    <tr style=\"text-align: right;\">\n",
              "      <th></th>\n",
              "      <th>C</th>\n",
              "      <th>D</th>\n",
              "    </tr>\n",
              "  </thead>\n",
              "  <tbody>\n",
              "    <tr>\n",
              "      <th>0</th>\n",
              "      <td>c0</td>\n",
              "      <td>d0</td>\n",
              "    </tr>\n",
              "    <tr>\n",
              "      <th>1</th>\n",
              "      <td>c1</td>\n",
              "      <td>d1</td>\n",
              "    </tr>\n",
              "  </tbody>\n",
              "</table>\n",
              "</div>"
            ],
            "text/plain": [
              "    C   D\n",
              "0  c0  d0\n",
              "1  c1  d1"
            ]
          },
          "execution_count": 9,
          "metadata": {},
          "output_type": "execute_result"
        }
      ],
      "source": [
        "df4 = create_df(\"CD\", [0, 1])\n",
        "df4"
      ]
    },
    {
      "cell_type": "code",
      "execution_count": null,
      "metadata": {
        "colab": {
          "base_uri": "https://localhost:8080/",
          "height": 171
        },
        "id": "8QH83dOOdiAs",
        "outputId": "fd91d863-8e6d-4aaa-d6b8-d7bc3c4406d6"
      },
      "outputs": [
        {
          "data": {
            "text/html": [
              "<div>\n",
              "<style scoped>\n",
              "    .dataframe tbody tr th:only-of-type {\n",
              "        vertical-align: middle;\n",
              "    }\n",
              "\n",
              "    .dataframe tbody tr th {\n",
              "        vertical-align: top;\n",
              "    }\n",
              "\n",
              "    .dataframe thead th {\n",
              "        text-align: right;\n",
              "    }\n",
              "</style>\n",
              "<table border=\"1\" class=\"dataframe\">\n",
              "  <thead>\n",
              "    <tr style=\"text-align: right;\">\n",
              "      <th></th>\n",
              "      <th>A</th>\n",
              "      <th>B</th>\n",
              "      <th>C</th>\n",
              "      <th>D</th>\n",
              "    </tr>\n",
              "  </thead>\n",
              "  <tbody>\n",
              "    <tr>\n",
              "      <th>0</th>\n",
              "      <td>a0</td>\n",
              "      <td>b0</td>\n",
              "      <td>NaN</td>\n",
              "      <td>NaN</td>\n",
              "    </tr>\n",
              "    <tr>\n",
              "      <th>1</th>\n",
              "      <td>a1</td>\n",
              "      <td>b1</td>\n",
              "      <td>NaN</td>\n",
              "      <td>NaN</td>\n",
              "    </tr>\n",
              "    <tr>\n",
              "      <th>0</th>\n",
              "      <td>NaN</td>\n",
              "      <td>NaN</td>\n",
              "      <td>c0</td>\n",
              "      <td>d0</td>\n",
              "    </tr>\n",
              "    <tr>\n",
              "      <th>1</th>\n",
              "      <td>NaN</td>\n",
              "      <td>NaN</td>\n",
              "      <td>c1</td>\n",
              "      <td>d1</td>\n",
              "    </tr>\n",
              "  </tbody>\n",
              "</table>\n",
              "</div>"
            ],
            "text/plain": [
              "     A    B    C    D\n",
              "0   a0   b0  NaN  NaN\n",
              "1   a1   b1  NaN  NaN\n",
              "0  NaN  NaN   c0   d0\n",
              "1  NaN  NaN   c1   d1"
            ]
          },
          "execution_count": 10,
          "metadata": {},
          "output_type": "execute_result"
        }
      ],
      "source": [
        "pd.concat([df3, df4])"
      ]
    },
    {
      "cell_type": "code",
      "execution_count": null,
      "metadata": {
        "colab": {
          "base_uri": "https://localhost:8080/",
          "height": 110
        },
        "id": "kxre08JsTZXu",
        "outputId": "405eb236-78da-4c60-cbce-62ccb39f3f02"
      },
      "outputs": [
        {
          "data": {
            "text/html": [
              "<div>\n",
              "<style scoped>\n",
              "    .dataframe tbody tr th:only-of-type {\n",
              "        vertical-align: middle;\n",
              "    }\n",
              "\n",
              "    .dataframe tbody tr th {\n",
              "        vertical-align: top;\n",
              "    }\n",
              "\n",
              "    .dataframe thead th {\n",
              "        text-align: right;\n",
              "    }\n",
              "</style>\n",
              "<table border=\"1\" class=\"dataframe\">\n",
              "  <thead>\n",
              "    <tr style=\"text-align: right;\">\n",
              "      <th></th>\n",
              "      <th>A</th>\n",
              "      <th>B</th>\n",
              "      <th>C</th>\n",
              "      <th>D</th>\n",
              "    </tr>\n",
              "  </thead>\n",
              "  <tbody>\n",
              "    <tr>\n",
              "      <th>0</th>\n",
              "      <td>a0</td>\n",
              "      <td>b0</td>\n",
              "      <td>c0</td>\n",
              "      <td>d0</td>\n",
              "    </tr>\n",
              "    <tr>\n",
              "      <th>1</th>\n",
              "      <td>a1</td>\n",
              "      <td>b1</td>\n",
              "      <td>c1</td>\n",
              "      <td>d1</td>\n",
              "    </tr>\n",
              "  </tbody>\n",
              "</table>\n",
              "</div>"
            ],
            "text/plain": [
              "    A   B   C   D\n",
              "0  a0  b0  c0  d0\n",
              "1  a1  b1  c1  d1"
            ]
          },
          "execution_count": 11,
          "metadata": {},
          "output_type": "execute_result"
        }
      ],
      "source": [
        "pd.concat([df3, df4], axis = 1) # 열 확장 방향으로 연결"
      ]
    },
    {
      "cell_type": "code",
      "execution_count": null,
      "metadata": {
        "colab": {
          "base_uri": "https://localhost:8080/",
          "height": 171
        },
        "id": "Q7Z_45guTgp3",
        "outputId": "41ed9827-cfdc-4797-cea0-f08a48753d61"
      },
      "outputs": [
        {
          "name": "stdout",
          "output_type": "stream",
          "text": [
            "    A   B\n",
            "1  a1  b1\n",
            "2  a2  b2\n",
            "    A   B\n",
            "0  a0  b0\n",
            "1  a1  b1\n"
          ]
        }
      ],
      "source": [
        "print(df1)\n",
        "print(df3)"
      ]
    },
    {
      "cell_type": "code",
      "execution_count": null,
      "metadata": {
        "id": "bFEg26XAJ9FB",
        "outputId": "a95e3cd6-024f-4ed2-a983-f9863ae07149"
      },
      "outputs": [
        {
          "data": {
            "text/html": [
              "<div>\n",
              "<style scoped>\n",
              "    .dataframe tbody tr th:only-of-type {\n",
              "        vertical-align: middle;\n",
              "    }\n",
              "\n",
              "    .dataframe tbody tr th {\n",
              "        vertical-align: top;\n",
              "    }\n",
              "\n",
              "    .dataframe thead th {\n",
              "        text-align: right;\n",
              "    }\n",
              "</style>\n",
              "<table border=\"1\" class=\"dataframe\">\n",
              "  <thead>\n",
              "    <tr style=\"text-align: right;\">\n",
              "      <th></th>\n",
              "      <th>A</th>\n",
              "      <th>B</th>\n",
              "    </tr>\n",
              "  </thead>\n",
              "  <tbody>\n",
              "    <tr>\n",
              "      <th>1</th>\n",
              "      <td>a1</td>\n",
              "      <td>b1</td>\n",
              "    </tr>\n",
              "    <tr>\n",
              "      <th>2</th>\n",
              "      <td>a2</td>\n",
              "      <td>b2</td>\n",
              "    </tr>\n",
              "    <tr>\n",
              "      <th>0</th>\n",
              "      <td>a0</td>\n",
              "      <td>b0</td>\n",
              "    </tr>\n",
              "    <tr>\n",
              "      <th>1</th>\n",
              "      <td>a1</td>\n",
              "      <td>b1</td>\n",
              "    </tr>\n",
              "  </tbody>\n",
              "</table>\n",
              "</div>"
            ],
            "text/plain": [
              "    A   B\n",
              "1  a1  b1\n",
              "2  a2  b2\n",
              "0  a0  b0\n",
              "1  a1  b1"
            ]
          },
          "execution_count": 13,
          "metadata": {},
          "output_type": "execute_result"
        }
      ],
      "source": [
        "pd.concat([df1, df3])"
      ]
    },
    {
      "cell_type": "code",
      "execution_count": null,
      "metadata": {
        "colab": {
          "base_uri": "https://localhost:8080/",
          "height": 171
        },
        "id": "v_SSoUNIeeGO",
        "outputId": "6eda4194-2d99-4acf-aa6e-ad194d78cb98"
      },
      "outputs": [
        {
          "ename": "ValueError",
          "evalue": "Indexes have overlapping values: Int64Index([1], dtype='int64')",
          "output_type": "error",
          "traceback": [
            "\u001b[1;31m---------------------------------------------------------------------------\u001b[0m",
            "\u001b[1;31mValueError\u001b[0m                                Traceback (most recent call last)",
            "\u001b[1;32m~\\AppData\\Local\\Temp/ipykernel_5080/2107629851.py\u001b[0m in \u001b[0;36m<module>\u001b[1;34m\u001b[0m\n\u001b[1;32m----> 1\u001b[1;33m \u001b[0mpd\u001b[0m\u001b[1;33m.\u001b[0m\u001b[0mconcat\u001b[0m\u001b[1;33m(\u001b[0m\u001b[1;33m[\u001b[0m\u001b[0mdf1\u001b[0m\u001b[1;33m,\u001b[0m \u001b[0mdf3\u001b[0m\u001b[1;33m]\u001b[0m\u001b[1;33m,\u001b[0m \u001b[0mverify_integrity\u001b[0m\u001b[1;33m=\u001b[0m\u001b[1;32mTrue\u001b[0m\u001b[1;33m)\u001b[0m \u001b[1;31m# 오류. row index의 일치 여부 확인.\u001b[0m\u001b[1;33m\u001b[0m\u001b[1;33m\u001b[0m\u001b[0m\n\u001b[0m",
            "\u001b[1;32m~\\anaconda3\\lib\\site-packages\\pandas\\util\\_decorators.py\u001b[0m in \u001b[0;36mwrapper\u001b[1;34m(*args, **kwargs)\u001b[0m\n\u001b[0;32m    309\u001b[0m                     \u001b[0mstacklevel\u001b[0m\u001b[1;33m=\u001b[0m\u001b[0mstacklevel\u001b[0m\u001b[1;33m,\u001b[0m\u001b[1;33m\u001b[0m\u001b[1;33m\u001b[0m\u001b[0m\n\u001b[0;32m    310\u001b[0m                 )\n\u001b[1;32m--> 311\u001b[1;33m             \u001b[1;32mreturn\u001b[0m \u001b[0mfunc\u001b[0m\u001b[1;33m(\u001b[0m\u001b[1;33m*\u001b[0m\u001b[0margs\u001b[0m\u001b[1;33m,\u001b[0m \u001b[1;33m**\u001b[0m\u001b[0mkwargs\u001b[0m\u001b[1;33m)\u001b[0m\u001b[1;33m\u001b[0m\u001b[1;33m\u001b[0m\u001b[0m\n\u001b[0m\u001b[0;32m    312\u001b[0m \u001b[1;33m\u001b[0m\u001b[0m\n\u001b[0;32m    313\u001b[0m         \u001b[1;32mreturn\u001b[0m \u001b[0mwrapper\u001b[0m\u001b[1;33m\u001b[0m\u001b[1;33m\u001b[0m\u001b[0m\n",
            "\u001b[1;32m~\\anaconda3\\lib\\site-packages\\pandas\\core\\reshape\\concat.py\u001b[0m in \u001b[0;36mconcat\u001b[1;34m(objs, axis, join, ignore_index, keys, levels, names, verify_integrity, sort, copy)\u001b[0m\n\u001b[0;32m    292\u001b[0m     \u001b[0mValueError\u001b[0m\u001b[1;33m:\u001b[0m \u001b[0mIndexes\u001b[0m \u001b[0mhave\u001b[0m \u001b[0moverlapping\u001b[0m \u001b[0mvalues\u001b[0m\u001b[1;33m:\u001b[0m \u001b[1;33m[\u001b[0m\u001b[1;34m'a'\u001b[0m\u001b[1;33m]\u001b[0m\u001b[1;33m\u001b[0m\u001b[1;33m\u001b[0m\u001b[0m\n\u001b[0;32m    293\u001b[0m     \"\"\"\n\u001b[1;32m--> 294\u001b[1;33m     op = _Concatenator(\n\u001b[0m\u001b[0;32m    295\u001b[0m         \u001b[0mobjs\u001b[0m\u001b[1;33m,\u001b[0m\u001b[1;33m\u001b[0m\u001b[1;33m\u001b[0m\u001b[0m\n\u001b[0;32m    296\u001b[0m         \u001b[0maxis\u001b[0m\u001b[1;33m=\u001b[0m\u001b[0maxis\u001b[0m\u001b[1;33m,\u001b[0m\u001b[1;33m\u001b[0m\u001b[1;33m\u001b[0m\u001b[0m\n",
            "\u001b[1;32m~\\anaconda3\\lib\\site-packages\\pandas\\core\\reshape\\concat.py\u001b[0m in \u001b[0;36m__init__\u001b[1;34m(self, objs, axis, join, keys, levels, names, ignore_index, verify_integrity, copy, sort)\u001b[0m\n\u001b[0;32m    477\u001b[0m         \u001b[0mself\u001b[0m\u001b[1;33m.\u001b[0m\u001b[0mcopy\u001b[0m \u001b[1;33m=\u001b[0m \u001b[0mcopy\u001b[0m\u001b[1;33m\u001b[0m\u001b[1;33m\u001b[0m\u001b[0m\n\u001b[0;32m    478\u001b[0m \u001b[1;33m\u001b[0m\u001b[0m\n\u001b[1;32m--> 479\u001b[1;33m         \u001b[0mself\u001b[0m\u001b[1;33m.\u001b[0m\u001b[0mnew_axes\u001b[0m \u001b[1;33m=\u001b[0m \u001b[0mself\u001b[0m\u001b[1;33m.\u001b[0m\u001b[0m_get_new_axes\u001b[0m\u001b[1;33m(\u001b[0m\u001b[1;33m)\u001b[0m\u001b[1;33m\u001b[0m\u001b[1;33m\u001b[0m\u001b[0m\n\u001b[0m\u001b[0;32m    480\u001b[0m \u001b[1;33m\u001b[0m\u001b[0m\n\u001b[0;32m    481\u001b[0m     \u001b[1;32mdef\u001b[0m \u001b[0mget_result\u001b[0m\u001b[1;33m(\u001b[0m\u001b[0mself\u001b[0m\u001b[1;33m)\u001b[0m\u001b[1;33m:\u001b[0m\u001b[1;33m\u001b[0m\u001b[1;33m\u001b[0m\u001b[0m\n",
            "\u001b[1;32m~\\anaconda3\\lib\\site-packages\\pandas\\core\\reshape\\concat.py\u001b[0m in \u001b[0;36m_get_new_axes\u001b[1;34m(self)\u001b[0m\n\u001b[0;32m    547\u001b[0m     \u001b[1;32mdef\u001b[0m \u001b[0m_get_new_axes\u001b[0m\u001b[1;33m(\u001b[0m\u001b[0mself\u001b[0m\u001b[1;33m)\u001b[0m \u001b[1;33m->\u001b[0m \u001b[0mlist\u001b[0m\u001b[1;33m[\u001b[0m\u001b[0mIndex\u001b[0m\u001b[1;33m]\u001b[0m\u001b[1;33m:\u001b[0m\u001b[1;33m\u001b[0m\u001b[1;33m\u001b[0m\u001b[0m\n\u001b[0;32m    548\u001b[0m         \u001b[0mndim\u001b[0m \u001b[1;33m=\u001b[0m \u001b[0mself\u001b[0m\u001b[1;33m.\u001b[0m\u001b[0m_get_result_dim\u001b[0m\u001b[1;33m(\u001b[0m\u001b[1;33m)\u001b[0m\u001b[1;33m\u001b[0m\u001b[1;33m\u001b[0m\u001b[0m\n\u001b[1;32m--> 549\u001b[1;33m         return [\n\u001b[0m\u001b[0;32m    550\u001b[0m             \u001b[0mself\u001b[0m\u001b[1;33m.\u001b[0m\u001b[0m_get_concat_axis\u001b[0m \u001b[1;32mif\u001b[0m \u001b[0mi\u001b[0m \u001b[1;33m==\u001b[0m \u001b[0mself\u001b[0m\u001b[1;33m.\u001b[0m\u001b[0mbm_axis\u001b[0m \u001b[1;32melse\u001b[0m \u001b[0mself\u001b[0m\u001b[1;33m.\u001b[0m\u001b[0m_get_comb_axis\u001b[0m\u001b[1;33m(\u001b[0m\u001b[0mi\u001b[0m\u001b[1;33m)\u001b[0m\u001b[1;33m\u001b[0m\u001b[1;33m\u001b[0m\u001b[0m\n\u001b[0;32m    551\u001b[0m             \u001b[1;32mfor\u001b[0m \u001b[0mi\u001b[0m \u001b[1;32min\u001b[0m \u001b[0mrange\u001b[0m\u001b[1;33m(\u001b[0m\u001b[0mndim\u001b[0m\u001b[1;33m)\u001b[0m\u001b[1;33m\u001b[0m\u001b[1;33m\u001b[0m\u001b[0m\n",
            "\u001b[1;32m~\\anaconda3\\lib\\site-packages\\pandas\\core\\reshape\\concat.py\u001b[0m in \u001b[0;36m<listcomp>\u001b[1;34m(.0)\u001b[0m\n\u001b[0;32m    548\u001b[0m         \u001b[0mndim\u001b[0m \u001b[1;33m=\u001b[0m \u001b[0mself\u001b[0m\u001b[1;33m.\u001b[0m\u001b[0m_get_result_dim\u001b[0m\u001b[1;33m(\u001b[0m\u001b[1;33m)\u001b[0m\u001b[1;33m\u001b[0m\u001b[1;33m\u001b[0m\u001b[0m\n\u001b[0;32m    549\u001b[0m         return [\n\u001b[1;32m--> 550\u001b[1;33m             \u001b[0mself\u001b[0m\u001b[1;33m.\u001b[0m\u001b[0m_get_concat_axis\u001b[0m \u001b[1;32mif\u001b[0m \u001b[0mi\u001b[0m \u001b[1;33m==\u001b[0m \u001b[0mself\u001b[0m\u001b[1;33m.\u001b[0m\u001b[0mbm_axis\u001b[0m \u001b[1;32melse\u001b[0m \u001b[0mself\u001b[0m\u001b[1;33m.\u001b[0m\u001b[0m_get_comb_axis\u001b[0m\u001b[1;33m(\u001b[0m\u001b[0mi\u001b[0m\u001b[1;33m)\u001b[0m\u001b[1;33m\u001b[0m\u001b[1;33m\u001b[0m\u001b[0m\n\u001b[0m\u001b[0;32m    551\u001b[0m             \u001b[1;32mfor\u001b[0m \u001b[0mi\u001b[0m \u001b[1;32min\u001b[0m \u001b[0mrange\u001b[0m\u001b[1;33m(\u001b[0m\u001b[0mndim\u001b[0m\u001b[1;33m)\u001b[0m\u001b[1;33m\u001b[0m\u001b[1;33m\u001b[0m\u001b[0m\n\u001b[0;32m    552\u001b[0m         ]\n",
            "\u001b[1;32m~\\anaconda3\\lib\\site-packages\\pandas\\_libs\\properties.pyx\u001b[0m in \u001b[0;36mpandas._libs.properties.CachedProperty.__get__\u001b[1;34m()\u001b[0m\n",
            "\u001b[1;32m~\\anaconda3\\lib\\site-packages\\pandas\\core\\reshape\\concat.py\u001b[0m in \u001b[0;36m_get_concat_axis\u001b[1;34m(self)\u001b[0m\n\u001b[0;32m    609\u001b[0m             )\n\u001b[0;32m    610\u001b[0m \u001b[1;33m\u001b[0m\u001b[0m\n\u001b[1;32m--> 611\u001b[1;33m         \u001b[0mself\u001b[0m\u001b[1;33m.\u001b[0m\u001b[0m_maybe_check_integrity\u001b[0m\u001b[1;33m(\u001b[0m\u001b[0mconcat_axis\u001b[0m\u001b[1;33m)\u001b[0m\u001b[1;33m\u001b[0m\u001b[1;33m\u001b[0m\u001b[0m\n\u001b[0m\u001b[0;32m    612\u001b[0m \u001b[1;33m\u001b[0m\u001b[0m\n\u001b[0;32m    613\u001b[0m         \u001b[1;32mreturn\u001b[0m \u001b[0mconcat_axis\u001b[0m\u001b[1;33m\u001b[0m\u001b[1;33m\u001b[0m\u001b[0m\n",
            "\u001b[1;32m~\\anaconda3\\lib\\site-packages\\pandas\\core\\reshape\\concat.py\u001b[0m in \u001b[0;36m_maybe_check_integrity\u001b[1;34m(self, concat_index)\u001b[0m\n\u001b[0;32m    617\u001b[0m             \u001b[1;32mif\u001b[0m \u001b[1;32mnot\u001b[0m \u001b[0mconcat_index\u001b[0m\u001b[1;33m.\u001b[0m\u001b[0mis_unique\u001b[0m\u001b[1;33m:\u001b[0m\u001b[1;33m\u001b[0m\u001b[1;33m\u001b[0m\u001b[0m\n\u001b[0;32m    618\u001b[0m                 \u001b[0moverlap\u001b[0m \u001b[1;33m=\u001b[0m \u001b[0mconcat_index\u001b[0m\u001b[1;33m[\u001b[0m\u001b[0mconcat_index\u001b[0m\u001b[1;33m.\u001b[0m\u001b[0mduplicated\u001b[0m\u001b[1;33m(\u001b[0m\u001b[1;33m)\u001b[0m\u001b[1;33m]\u001b[0m\u001b[1;33m.\u001b[0m\u001b[0munique\u001b[0m\u001b[1;33m(\u001b[0m\u001b[1;33m)\u001b[0m\u001b[1;33m\u001b[0m\u001b[1;33m\u001b[0m\u001b[0m\n\u001b[1;32m--> 619\u001b[1;33m                 \u001b[1;32mraise\u001b[0m \u001b[0mValueError\u001b[0m\u001b[1;33m(\u001b[0m\u001b[1;34mf\"Indexes have overlapping values: {overlap}\"\u001b[0m\u001b[1;33m)\u001b[0m\u001b[1;33m\u001b[0m\u001b[1;33m\u001b[0m\u001b[0m\n\u001b[0m\u001b[0;32m    620\u001b[0m \u001b[1;33m\u001b[0m\u001b[0m\n\u001b[0;32m    621\u001b[0m \u001b[1;33m\u001b[0m\u001b[0m\n",
            "\u001b[1;31mValueError\u001b[0m: Indexes have overlapping values: Int64Index([1], dtype='int64')"
          ]
        }
      ],
      "source": [
        "pd.concat([df1, df3], verify_integrity=True) # 오류. row index의 일치 여부 확인. "
      ]
    },
    {
      "cell_type": "code",
      "execution_count": null,
      "metadata": {
        "colab": {
          "base_uri": "https://localhost:8080/",
          "height": 171
        },
        "id": "HNPzK-lyfRI7",
        "outputId": "546f47a1-66d1-45a0-b302-77956dc3b395"
      },
      "outputs": [
        {
          "data": {
            "text/html": [
              "<div>\n",
              "<style scoped>\n",
              "    .dataframe tbody tr th:only-of-type {\n",
              "        vertical-align: middle;\n",
              "    }\n",
              "\n",
              "    .dataframe tbody tr th {\n",
              "        vertical-align: top;\n",
              "    }\n",
              "\n",
              "    .dataframe thead th {\n",
              "        text-align: right;\n",
              "    }\n",
              "</style>\n",
              "<table border=\"1\" class=\"dataframe\">\n",
              "  <thead>\n",
              "    <tr style=\"text-align: right;\">\n",
              "      <th></th>\n",
              "      <th>A</th>\n",
              "      <th>B</th>\n",
              "    </tr>\n",
              "  </thead>\n",
              "  <tbody>\n",
              "    <tr>\n",
              "      <th>0</th>\n",
              "      <td>a1</td>\n",
              "      <td>b1</td>\n",
              "    </tr>\n",
              "    <tr>\n",
              "      <th>1</th>\n",
              "      <td>a2</td>\n",
              "      <td>b2</td>\n",
              "    </tr>\n",
              "    <tr>\n",
              "      <th>2</th>\n",
              "      <td>a0</td>\n",
              "      <td>b0</td>\n",
              "    </tr>\n",
              "    <tr>\n",
              "      <th>3</th>\n",
              "      <td>a1</td>\n",
              "      <td>b1</td>\n",
              "    </tr>\n",
              "  </tbody>\n",
              "</table>\n",
              "</div>"
            ],
            "text/plain": [
              "    A   B\n",
              "0  a1  b1\n",
              "1  a2  b2\n",
              "2  a0  b0\n",
              "3  a1  b1"
            ]
          },
          "execution_count": 15,
          "metadata": {},
          "output_type": "execute_result"
        }
      ],
      "source": [
        "pd.concat([df1, df3], ignore_index=True) # row index를 무시하고 새로 index 생성"
      ]
    },
    {
      "cell_type": "code",
      "execution_count": null,
      "metadata": {
        "id": "ncRQczrXJ9FC",
        "outputId": "3ce04359-cc64-4c7d-998b-e2776001f2a3"
      },
      "outputs": [
        {
          "name": "stdout",
          "output_type": "stream",
          "text": [
            "{'A': ['a1', 'a2'], 'B': ['b1', 'b2'], 'C': ['c1', 'c2']}\n",
            "{'B': ['b3', 'b4'], 'C': ['c3', 'c4'], 'D': ['d3', 'd4']}\n"
          ]
        }
      ],
      "source": [
        "df5 = create_df('ABC', [1, 2])\n",
        "df6 = create_df('BCD', [3, 4])"
      ]
    },
    {
      "cell_type": "code",
      "execution_count": null,
      "metadata": {
        "colab": {
          "base_uri": "https://localhost:8080/",
          "height": 171
        },
        "id": "ceNNvVDvfV0m",
        "outputId": "33ea4431-7ddb-4fc3-9a85-8ea6c482e817"
      },
      "outputs": [
        {
          "name": "stdout",
          "output_type": "stream",
          "text": [
            "    A   B   C\n",
            "1  a1  b1  c1\n",
            "2  a2  b2  c2\n",
            "    B   C   D\n",
            "3  b3  c3  d3\n",
            "4  b4  c4  d4\n"
          ]
        },
        {
          "data": {
            "text/html": [
              "<div>\n",
              "<style scoped>\n",
              "    .dataframe tbody tr th:only-of-type {\n",
              "        vertical-align: middle;\n",
              "    }\n",
              "\n",
              "    .dataframe tbody tr th {\n",
              "        vertical-align: top;\n",
              "    }\n",
              "\n",
              "    .dataframe thead th {\n",
              "        text-align: right;\n",
              "    }\n",
              "</style>\n",
              "<table border=\"1\" class=\"dataframe\">\n",
              "  <thead>\n",
              "    <tr style=\"text-align: right;\">\n",
              "      <th></th>\n",
              "      <th>A</th>\n",
              "      <th>B</th>\n",
              "      <th>C</th>\n",
              "      <th>D</th>\n",
              "    </tr>\n",
              "  </thead>\n",
              "  <tbody>\n",
              "    <tr>\n",
              "      <th>1</th>\n",
              "      <td>a1</td>\n",
              "      <td>b1</td>\n",
              "      <td>c1</td>\n",
              "      <td>NaN</td>\n",
              "    </tr>\n",
              "    <tr>\n",
              "      <th>2</th>\n",
              "      <td>a2</td>\n",
              "      <td>b2</td>\n",
              "      <td>c2</td>\n",
              "      <td>NaN</td>\n",
              "    </tr>\n",
              "    <tr>\n",
              "      <th>3</th>\n",
              "      <td>NaN</td>\n",
              "      <td>b3</td>\n",
              "      <td>c3</td>\n",
              "      <td>d3</td>\n",
              "    </tr>\n",
              "    <tr>\n",
              "      <th>4</th>\n",
              "      <td>NaN</td>\n",
              "      <td>b4</td>\n",
              "      <td>c4</td>\n",
              "      <td>d4</td>\n",
              "    </tr>\n",
              "  </tbody>\n",
              "</table>\n",
              "</div>"
            ],
            "text/plain": [
              "     A   B   C    D\n",
              "1   a1  b1  c1  NaN\n",
              "2   a2  b2  c2  NaN\n",
              "3  NaN  b3  c3   d3\n",
              "4  NaN  b4  c4   d4"
            ]
          },
          "execution_count": 17,
          "metadata": {},
          "output_type": "execute_result"
        }
      ],
      "source": [
        "print(df5)\n",
        "print(df6)\n",
        "pd.concat([df5, df6])"
      ]
    },
    {
      "cell_type": "code",
      "execution_count": null,
      "metadata": {
        "colab": {
          "base_uri": "https://localhost:8080/",
          "height": 171
        },
        "id": "ymWRBGuwgD5W",
        "outputId": "81521795-969a-4df9-b6ed-298ee467e8ce"
      },
      "outputs": [
        {
          "data": {
            "text/html": [
              "<div>\n",
              "<style scoped>\n",
              "    .dataframe tbody tr th:only-of-type {\n",
              "        vertical-align: middle;\n",
              "    }\n",
              "\n",
              "    .dataframe tbody tr th {\n",
              "        vertical-align: top;\n",
              "    }\n",
              "\n",
              "    .dataframe thead th {\n",
              "        text-align: right;\n",
              "    }\n",
              "</style>\n",
              "<table border=\"1\" class=\"dataframe\">\n",
              "  <thead>\n",
              "    <tr style=\"text-align: right;\">\n",
              "      <th></th>\n",
              "      <th>B</th>\n",
              "      <th>C</th>\n",
              "    </tr>\n",
              "  </thead>\n",
              "  <tbody>\n",
              "    <tr>\n",
              "      <th>1</th>\n",
              "      <td>b1</td>\n",
              "      <td>c1</td>\n",
              "    </tr>\n",
              "    <tr>\n",
              "      <th>2</th>\n",
              "      <td>b2</td>\n",
              "      <td>c2</td>\n",
              "    </tr>\n",
              "    <tr>\n",
              "      <th>3</th>\n",
              "      <td>b3</td>\n",
              "      <td>c3</td>\n",
              "    </tr>\n",
              "    <tr>\n",
              "      <th>4</th>\n",
              "      <td>b4</td>\n",
              "      <td>c4</td>\n",
              "    </tr>\n",
              "  </tbody>\n",
              "</table>\n",
              "</div>"
            ],
            "text/plain": [
              "    B   C\n",
              "1  b1  c1\n",
              "2  b2  c2\n",
              "3  b3  c3\n",
              "4  b4  c4"
            ]
          },
          "execution_count": 19,
          "metadata": {},
          "output_type": "execute_result"
        }
      ],
      "source": [
        "pd.concat([df5, df6], join='inner') # column이 같은 것만 연결"
      ]
    },
    {
      "cell_type": "markdown",
      "metadata": {
        "id": "XCDss0yIppQt"
      },
      "source": [
        "### 병합과 조인"
      ]
    },
    {
      "cell_type": "code",
      "execution_count": null,
      "metadata": {
        "colab": {
          "base_uri": "https://localhost:8080/",
          "height": 171
        },
        "id": "tD2y5H3EosYY",
        "outputId": "9f702c7d-5fda-40e4-97b0-8faa862ac2b5"
      },
      "outputs": [
        {
          "data": {
            "text/html": [
              "<div>\n",
              "<style scoped>\n",
              "    .dataframe tbody tr th:only-of-type {\n",
              "        vertical-align: middle;\n",
              "    }\n",
              "\n",
              "    .dataframe tbody tr th {\n",
              "        vertical-align: top;\n",
              "    }\n",
              "\n",
              "    .dataframe thead th {\n",
              "        text-align: right;\n",
              "    }\n",
              "</style>\n",
              "<table border=\"1\" class=\"dataframe\">\n",
              "  <thead>\n",
              "    <tr style=\"text-align: right;\">\n",
              "      <th></th>\n",
              "      <th>학생</th>\n",
              "      <th>학과</th>\n",
              "    </tr>\n",
              "  </thead>\n",
              "  <tbody>\n",
              "    <tr>\n",
              "      <th>0</th>\n",
              "      <td>홍길동</td>\n",
              "      <td>경영학과</td>\n",
              "    </tr>\n",
              "    <tr>\n",
              "      <th>1</th>\n",
              "      <td>이순신</td>\n",
              "      <td>교육학과</td>\n",
              "    </tr>\n",
              "    <tr>\n",
              "      <th>2</th>\n",
              "      <td>임꺽정</td>\n",
              "      <td>컴퓨터학과</td>\n",
              "    </tr>\n",
              "    <tr>\n",
              "      <th>3</th>\n",
              "      <td>김유신</td>\n",
              "      <td>통계학과</td>\n",
              "    </tr>\n",
              "  </tbody>\n",
              "</table>\n",
              "</div>"
            ],
            "text/plain": [
              "    학생     학과\n",
              "0  홍길동   경영학과\n",
              "1  이순신   교육학과\n",
              "2  임꺽정  컴퓨터학과\n",
              "3  김유신   통계학과"
            ]
          },
          "execution_count": 20,
          "metadata": {},
          "output_type": "execute_result"
        }
      ],
      "source": [
        "df1 = pd.DataFrame({'학생':['홍길동', '이순신', '임꺽정', '김유신'],\n",
        "                   '학과':['경영학과', '교육학과', '컴퓨터학과', '통계학과']})\n",
        "df1"
      ]
    },
    {
      "cell_type": "code",
      "execution_count": null,
      "metadata": {
        "colab": {
          "base_uri": "https://localhost:8080/",
          "height": 171
        },
        "id": "-Gnfj0cVrQ-L",
        "outputId": "7aea0e3e-1110-4eba-bf36-a5b5927bbe8d"
      },
      "outputs": [
        {
          "data": {
            "text/html": [
              "<div>\n",
              "<style scoped>\n",
              "    .dataframe tbody tr th:only-of-type {\n",
              "        vertical-align: middle;\n",
              "    }\n",
              "\n",
              "    .dataframe tbody tr th {\n",
              "        vertical-align: top;\n",
              "    }\n",
              "\n",
              "    .dataframe thead th {\n",
              "        text-align: right;\n",
              "    }\n",
              "</style>\n",
              "<table border=\"1\" class=\"dataframe\">\n",
              "  <thead>\n",
              "    <tr style=\"text-align: right;\">\n",
              "      <th></th>\n",
              "      <th>학생</th>\n",
              "      <th>입학년도</th>\n",
              "    </tr>\n",
              "  </thead>\n",
              "  <tbody>\n",
              "    <tr>\n",
              "      <th>0</th>\n",
              "      <td>홍길동</td>\n",
              "      <td>2012</td>\n",
              "    </tr>\n",
              "    <tr>\n",
              "      <th>1</th>\n",
              "      <td>이순신</td>\n",
              "      <td>2016</td>\n",
              "    </tr>\n",
              "    <tr>\n",
              "      <th>2</th>\n",
              "      <td>임꺽정</td>\n",
              "      <td>2019</td>\n",
              "    </tr>\n",
              "    <tr>\n",
              "      <th>3</th>\n",
              "      <td>김유신</td>\n",
              "      <td>2020</td>\n",
              "    </tr>\n",
              "  </tbody>\n",
              "</table>\n",
              "</div>"
            ],
            "text/plain": [
              "    학생  입학년도\n",
              "0  홍길동  2012\n",
              "1  이순신  2016\n",
              "2  임꺽정  2019\n",
              "3  김유신  2020"
            ]
          },
          "execution_count": 21,
          "metadata": {},
          "output_type": "execute_result"
        }
      ],
      "source": [
        "df2 = pd.DataFrame({'학생':['홍길동', '이순신', '임꺽정', '김유신'],\n",
        "                   '입학년도':[2012, 2016, 2019, 2020]})\n",
        "df2"
      ]
    },
    {
      "cell_type": "code",
      "execution_count": null,
      "metadata": {
        "colab": {
          "base_uri": "https://localhost:8080/",
          "height": 171
        },
        "id": "4_L0wq5BrRqC",
        "outputId": "7ad63a1a-a997-40b4-99ec-7c9eb276b890"
      },
      "outputs": [
        {
          "data": {
            "text/html": [
              "<div>\n",
              "<style scoped>\n",
              "    .dataframe tbody tr th:only-of-type {\n",
              "        vertical-align: middle;\n",
              "    }\n",
              "\n",
              "    .dataframe tbody tr th {\n",
              "        vertical-align: top;\n",
              "    }\n",
              "\n",
              "    .dataframe thead th {\n",
              "        text-align: right;\n",
              "    }\n",
              "</style>\n",
              "<table border=\"1\" class=\"dataframe\">\n",
              "  <thead>\n",
              "    <tr style=\"text-align: right;\">\n",
              "      <th></th>\n",
              "      <th>학생</th>\n",
              "      <th>학과</th>\n",
              "      <th>입학년도</th>\n",
              "    </tr>\n",
              "  </thead>\n",
              "  <tbody>\n",
              "    <tr>\n",
              "      <th>0</th>\n",
              "      <td>홍길동</td>\n",
              "      <td>경영학과</td>\n",
              "      <td>2012</td>\n",
              "    </tr>\n",
              "    <tr>\n",
              "      <th>1</th>\n",
              "      <td>이순신</td>\n",
              "      <td>교육학과</td>\n",
              "      <td>2016</td>\n",
              "    </tr>\n",
              "    <tr>\n",
              "      <th>2</th>\n",
              "      <td>임꺽정</td>\n",
              "      <td>컴퓨터학과</td>\n",
              "      <td>2019</td>\n",
              "    </tr>\n",
              "    <tr>\n",
              "      <th>3</th>\n",
              "      <td>김유신</td>\n",
              "      <td>통계학과</td>\n",
              "      <td>2020</td>\n",
              "    </tr>\n",
              "  </tbody>\n",
              "</table>\n",
              "</div>"
            ],
            "text/plain": [
              "    학생     학과  입학년도\n",
              "0  홍길동   경영학과  2012\n",
              "1  이순신   교육학과  2016\n",
              "2  임꺽정  컴퓨터학과  2019\n",
              "3  김유신   통계학과  2020"
            ]
          },
          "execution_count": 22,
          "metadata": {},
          "output_type": "execute_result"
        }
      ],
      "source": [
        "df3 = pd.merge(df1, df2)\n",
        "df3"
      ]
    },
    {
      "cell_type": "code",
      "execution_count": null,
      "metadata": {
        "colab": {
          "base_uri": "https://localhost:8080/",
          "height": 171
        },
        "id": "JB30RrgprcxI",
        "outputId": "42fa567e-2fe4-4efe-ee57-ab1c50b9fc20"
      },
      "outputs": [
        {
          "data": {
            "text/html": [
              "<div>\n",
              "<style scoped>\n",
              "    .dataframe tbody tr th:only-of-type {\n",
              "        vertical-align: middle;\n",
              "    }\n",
              "\n",
              "    .dataframe tbody tr th {\n",
              "        vertical-align: top;\n",
              "    }\n",
              "\n",
              "    .dataframe thead th {\n",
              "        text-align: right;\n",
              "    }\n",
              "</style>\n",
              "<table border=\"1\" class=\"dataframe\">\n",
              "  <thead>\n",
              "    <tr style=\"text-align: right;\">\n",
              "      <th></th>\n",
              "      <th>학과</th>\n",
              "      <th>학과장</th>\n",
              "    </tr>\n",
              "  </thead>\n",
              "  <tbody>\n",
              "    <tr>\n",
              "      <th>0</th>\n",
              "      <td>경영학과</td>\n",
              "      <td>황희</td>\n",
              "    </tr>\n",
              "    <tr>\n",
              "      <th>1</th>\n",
              "      <td>교육학과</td>\n",
              "      <td>장영실</td>\n",
              "    </tr>\n",
              "    <tr>\n",
              "      <th>2</th>\n",
              "      <td>컴퓨터학과</td>\n",
              "      <td>안창호</td>\n",
              "    </tr>\n",
              "    <tr>\n",
              "      <th>3</th>\n",
              "      <td>통계학과</td>\n",
              "      <td>정약용</td>\n",
              "    </tr>\n",
              "  </tbody>\n",
              "</table>\n",
              "</div>"
            ],
            "text/plain": [
              "      학과  학과장\n",
              "0   경영학과   황희\n",
              "1   교육학과  장영실\n",
              "2  컴퓨터학과  안창호\n",
              "3   통계학과  정약용"
            ]
          },
          "execution_count": 24,
          "metadata": {},
          "output_type": "execute_result"
        }
      ],
      "source": [
        "df4 = pd.DataFrame({'학과':['경영학과', '교육학과', '컴퓨터학과', '통계학과'],\n",
        "                   '학과장':['황희', '장영실', '안창호', '정약용']})\n",
        "df4"
      ]
    },
    {
      "cell_type": "code",
      "execution_count": null,
      "metadata": {
        "colab": {
          "base_uri": "https://localhost:8080/",
          "height": 171
        },
        "id": "M-DPYK8-sZ1j",
        "outputId": "2022cbef-0a2d-4407-9a02-036410a7c02b"
      },
      "outputs": [
        {
          "data": {
            "text/html": [
              "<div>\n",
              "<style scoped>\n",
              "    .dataframe tbody tr th:only-of-type {\n",
              "        vertical-align: middle;\n",
              "    }\n",
              "\n",
              "    .dataframe tbody tr th {\n",
              "        vertical-align: top;\n",
              "    }\n",
              "\n",
              "    .dataframe thead th {\n",
              "        text-align: right;\n",
              "    }\n",
              "</style>\n",
              "<table border=\"1\" class=\"dataframe\">\n",
              "  <thead>\n",
              "    <tr style=\"text-align: right;\">\n",
              "      <th></th>\n",
              "      <th>학생</th>\n",
              "      <th>학과</th>\n",
              "      <th>입학년도</th>\n",
              "      <th>학과장</th>\n",
              "    </tr>\n",
              "  </thead>\n",
              "  <tbody>\n",
              "    <tr>\n",
              "      <th>0</th>\n",
              "      <td>홍길동</td>\n",
              "      <td>경영학과</td>\n",
              "      <td>2012</td>\n",
              "      <td>황희</td>\n",
              "    </tr>\n",
              "    <tr>\n",
              "      <th>1</th>\n",
              "      <td>이순신</td>\n",
              "      <td>교육학과</td>\n",
              "      <td>2016</td>\n",
              "      <td>장영실</td>\n",
              "    </tr>\n",
              "    <tr>\n",
              "      <th>2</th>\n",
              "      <td>임꺽정</td>\n",
              "      <td>컴퓨터학과</td>\n",
              "      <td>2019</td>\n",
              "      <td>안창호</td>\n",
              "    </tr>\n",
              "    <tr>\n",
              "      <th>3</th>\n",
              "      <td>김유신</td>\n",
              "      <td>통계학과</td>\n",
              "      <td>2020</td>\n",
              "      <td>정약용</td>\n",
              "    </tr>\n",
              "  </tbody>\n",
              "</table>\n",
              "</div>"
            ],
            "text/plain": [
              "    학생     학과  입학년도  학과장\n",
              "0  홍길동   경영학과  2012   황희\n",
              "1  이순신   교육학과  2016  장영실\n",
              "2  임꺽정  컴퓨터학과  2019  안창호\n",
              "3  김유신   통계학과  2020  정약용"
            ]
          },
          "execution_count": 25,
          "metadata": {},
          "output_type": "execute_result"
        }
      ],
      "source": [
        "pd.merge(df3, df4)"
      ]
    },
    {
      "cell_type": "code",
      "execution_count": null,
      "metadata": {
        "colab": {
          "base_uri": "https://localhost:8080/",
          "height": 233
        },
        "id": "xvXEDN6GsgSF",
        "outputId": "ff93633c-9857-43e0-e9dd-9a5112b88880"
      },
      "outputs": [
        {
          "data": {
            "text/html": [
              "<div>\n",
              "<style scoped>\n",
              "    .dataframe tbody tr th:only-of-type {\n",
              "        vertical-align: middle;\n",
              "    }\n",
              "\n",
              "    .dataframe tbody tr th {\n",
              "        vertical-align: top;\n",
              "    }\n",
              "\n",
              "    .dataframe thead th {\n",
              "        text-align: right;\n",
              "    }\n",
              "</style>\n",
              "<table border=\"1\" class=\"dataframe\">\n",
              "  <thead>\n",
              "    <tr style=\"text-align: right;\">\n",
              "      <th></th>\n",
              "      <th>학과</th>\n",
              "      <th>과목</th>\n",
              "    </tr>\n",
              "  </thead>\n",
              "  <tbody>\n",
              "    <tr>\n",
              "      <th>0</th>\n",
              "      <td>경영학과</td>\n",
              "      <td>경영학개론</td>\n",
              "    </tr>\n",
              "    <tr>\n",
              "      <th>1</th>\n",
              "      <td>교육학과</td>\n",
              "      <td>기초수학</td>\n",
              "    </tr>\n",
              "    <tr>\n",
              "      <th>2</th>\n",
              "      <td>교육학과</td>\n",
              "      <td>물리학</td>\n",
              "    </tr>\n",
              "    <tr>\n",
              "      <th>3</th>\n",
              "      <td>컴퓨터학과</td>\n",
              "      <td>프로그래밍</td>\n",
              "    </tr>\n",
              "    <tr>\n",
              "      <th>4</th>\n",
              "      <td>컴퓨터학과</td>\n",
              "      <td>운영체제</td>\n",
              "    </tr>\n",
              "    <tr>\n",
              "      <th>5</th>\n",
              "      <td>통계학과</td>\n",
              "      <td>확률론</td>\n",
              "    </tr>\n",
              "  </tbody>\n",
              "</table>\n",
              "</div>"
            ],
            "text/plain": [
              "      학과     과목\n",
              "0   경영학과  경영학개론\n",
              "1   교육학과   기초수학\n",
              "2   교육학과    물리학\n",
              "3  컴퓨터학과  프로그래밍\n",
              "4  컴퓨터학과   운영체제\n",
              "5   통계학과    확률론"
            ]
          },
          "execution_count": 26,
          "metadata": {},
          "output_type": "execute_result"
        }
      ],
      "source": [
        "df5 = pd.DataFrame({'학과':['경영학과', '교육학과', '교육학과', '컴퓨터학과', '컴퓨터학과', '통계학과'],\n",
        "                   '과목':['경영학개론', '기초수학', '물리학', '프로그래밍', '운영체제', '확률론']})\n",
        "df5"
      ]
    },
    {
      "cell_type": "code",
      "execution_count": null,
      "metadata": {
        "colab": {
          "base_uri": "https://localhost:8080/",
          "height": 233
        },
        "id": "H9JRk6RVtLNJ",
        "outputId": "b6f9c79a-deb4-41cb-cbdf-3ff828447572"
      },
      "outputs": [
        {
          "name": "stdout",
          "output_type": "stream",
          "text": [
            "    학생     학과\n",
            "0  홍길동   경영학과\n",
            "1  이순신   교육학과\n",
            "2  임꺽정  컴퓨터학과\n",
            "3  김유신   통계학과\n"
          ]
        }
      ],
      "source": [
        "print(df1)"
      ]
    },
    {
      "cell_type": "code",
      "execution_count": null,
      "metadata": {
        "colab": {
          "base_uri": "https://localhost:8080/",
          "height": 171
        },
        "id": "HCsJ0Wg7teqe",
        "outputId": "d3c93d12-b2f4-422b-ce06-a0573b33f58e"
      },
      "outputs": [
        {
          "data": {
            "text/html": [
              "<div>\n",
              "<style scoped>\n",
              "    .dataframe tbody tr th:only-of-type {\n",
              "        vertical-align: middle;\n",
              "    }\n",
              "\n",
              "    .dataframe tbody tr th {\n",
              "        vertical-align: top;\n",
              "    }\n",
              "\n",
              "    .dataframe thead th {\n",
              "        text-align: right;\n",
              "    }\n",
              "</style>\n",
              "<table border=\"1\" class=\"dataframe\">\n",
              "  <thead>\n",
              "    <tr style=\"text-align: right;\">\n",
              "      <th></th>\n",
              "      <th>학생</th>\n",
              "      <th>학과</th>\n",
              "      <th>과목</th>\n",
              "    </tr>\n",
              "  </thead>\n",
              "  <tbody>\n",
              "    <tr>\n",
              "      <th>0</th>\n",
              "      <td>홍길동</td>\n",
              "      <td>경영학과</td>\n",
              "      <td>경영학개론</td>\n",
              "    </tr>\n",
              "    <tr>\n",
              "      <th>1</th>\n",
              "      <td>이순신</td>\n",
              "      <td>교육학과</td>\n",
              "      <td>기초수학</td>\n",
              "    </tr>\n",
              "    <tr>\n",
              "      <th>2</th>\n",
              "      <td>이순신</td>\n",
              "      <td>교육학과</td>\n",
              "      <td>물리학</td>\n",
              "    </tr>\n",
              "    <tr>\n",
              "      <th>3</th>\n",
              "      <td>임꺽정</td>\n",
              "      <td>컴퓨터학과</td>\n",
              "      <td>프로그래밍</td>\n",
              "    </tr>\n",
              "    <tr>\n",
              "      <th>4</th>\n",
              "      <td>임꺽정</td>\n",
              "      <td>컴퓨터학과</td>\n",
              "      <td>운영체제</td>\n",
              "    </tr>\n",
              "    <tr>\n",
              "      <th>5</th>\n",
              "      <td>김유신</td>\n",
              "      <td>통계학과</td>\n",
              "      <td>확률론</td>\n",
              "    </tr>\n",
              "  </tbody>\n",
              "</table>\n",
              "</div>"
            ],
            "text/plain": [
              "    학생     학과     과목\n",
              "0  홍길동   경영학과  경영학개론\n",
              "1  이순신   교육학과   기초수학\n",
              "2  이순신   교육학과    물리학\n",
              "3  임꺽정  컴퓨터학과  프로그래밍\n",
              "4  임꺽정  컴퓨터학과   운영체제\n",
              "5  김유신   통계학과    확률론"
            ]
          },
          "execution_count": 28,
          "metadata": {},
          "output_type": "execute_result"
        }
      ],
      "source": [
        "pd.merge(df1, df5)"
      ]
    },
    {
      "cell_type": "code",
      "execution_count": null,
      "metadata": {
        "colab": {
          "base_uri": "https://localhost:8080/",
          "height": 171
        },
        "id": "U_ePghIst4fQ",
        "outputId": "c5b6b665-b6e6-4e56-d3ae-ea42b1be4eeb"
      },
      "outputs": [
        {
          "data": {
            "text/html": [
              "<div>\n",
              "<style scoped>\n",
              "    .dataframe tbody tr th:only-of-type {\n",
              "        vertical-align: middle;\n",
              "    }\n",
              "\n",
              "    .dataframe tbody tr th {\n",
              "        vertical-align: top;\n",
              "    }\n",
              "\n",
              "    .dataframe thead th {\n",
              "        text-align: right;\n",
              "    }\n",
              "</style>\n",
              "<table border=\"1\" class=\"dataframe\">\n",
              "  <thead>\n",
              "    <tr style=\"text-align: right;\">\n",
              "      <th></th>\n",
              "      <th>학생</th>\n",
              "      <th>학과</th>\n",
              "      <th>입학년도</th>\n",
              "    </tr>\n",
              "  </thead>\n",
              "  <tbody>\n",
              "    <tr>\n",
              "      <th>0</th>\n",
              "      <td>홍길동</td>\n",
              "      <td>경영학과</td>\n",
              "      <td>2012</td>\n",
              "    </tr>\n",
              "    <tr>\n",
              "      <th>1</th>\n",
              "      <td>이순신</td>\n",
              "      <td>교육학과</td>\n",
              "      <td>2016</td>\n",
              "    </tr>\n",
              "    <tr>\n",
              "      <th>2</th>\n",
              "      <td>임꺽정</td>\n",
              "      <td>컴퓨터학과</td>\n",
              "      <td>2019</td>\n",
              "    </tr>\n",
              "    <tr>\n",
              "      <th>3</th>\n",
              "      <td>김유신</td>\n",
              "      <td>통계학과</td>\n",
              "      <td>2020</td>\n",
              "    </tr>\n",
              "  </tbody>\n",
              "</table>\n",
              "</div>"
            ],
            "text/plain": [
              "    학생     학과  입학년도\n",
              "0  홍길동   경영학과  2012\n",
              "1  이순신   교육학과  2016\n",
              "2  임꺽정  컴퓨터학과  2019\n",
              "3  김유신   통계학과  2020"
            ]
          },
          "execution_count": 29,
          "metadata": {},
          "output_type": "execute_result"
        }
      ],
      "source": [
        "pd.merge(df1, df2, on='학생') # 병합의 기준 컬럼 지정"
      ]
    },
    {
      "cell_type": "code",
      "execution_count": null,
      "metadata": {
        "colab": {
          "base_uri": "https://localhost:8080/",
          "height": 171
        },
        "id": "-PZ1D1VwuiTG",
        "outputId": "a80774f4-cd3e-4241-967e-6aa34d601dd4"
      },
      "outputs": [
        {
          "data": {
            "text/html": [
              "<div>\n",
              "<style scoped>\n",
              "    .dataframe tbody tr th:only-of-type {\n",
              "        vertical-align: middle;\n",
              "    }\n",
              "\n",
              "    .dataframe tbody tr th {\n",
              "        vertical-align: top;\n",
              "    }\n",
              "\n",
              "    .dataframe thead th {\n",
              "        text-align: right;\n",
              "    }\n",
              "</style>\n",
              "<table border=\"1\" class=\"dataframe\">\n",
              "  <thead>\n",
              "    <tr style=\"text-align: right;\">\n",
              "      <th></th>\n",
              "      <th>이름</th>\n",
              "      <th>성적</th>\n",
              "    </tr>\n",
              "  </thead>\n",
              "  <tbody>\n",
              "    <tr>\n",
              "      <th>0</th>\n",
              "      <td>홍길동</td>\n",
              "      <td>A</td>\n",
              "    </tr>\n",
              "    <tr>\n",
              "      <th>1</th>\n",
              "      <td>이순신</td>\n",
              "      <td>A+</td>\n",
              "    </tr>\n",
              "    <tr>\n",
              "      <th>2</th>\n",
              "      <td>임꺽정</td>\n",
              "      <td>B</td>\n",
              "    </tr>\n",
              "    <tr>\n",
              "      <th>3</th>\n",
              "      <td>김유신</td>\n",
              "      <td>A+</td>\n",
              "    </tr>\n",
              "  </tbody>\n",
              "</table>\n",
              "</div>"
            ],
            "text/plain": [
              "    이름  성적\n",
              "0  홍길동   A\n",
              "1  이순신  A+\n",
              "2  임꺽정   B\n",
              "3  김유신  A+"
            ]
          },
          "execution_count": 30,
          "metadata": {},
          "output_type": "execute_result"
        }
      ],
      "source": [
        "df6 = pd.DataFrame({'이름':['홍길동', '이순신', '임꺽정', '김유신'],\n",
        "                   '성적':['A', 'A+', 'B', 'A+']})\n",
        "df6"
      ]
    },
    {
      "cell_type": "code",
      "execution_count": null,
      "metadata": {
        "colab": {
          "base_uri": "https://localhost:8080/",
          "height": 171
        },
        "id": "7z1jmMhSukPA",
        "outputId": "9faebc96-d980-4863-c63b-e7b6ff15b574"
      },
      "outputs": [
        {
          "data": {
            "text/html": [
              "<div>\n",
              "<style scoped>\n",
              "    .dataframe tbody tr th:only-of-type {\n",
              "        vertical-align: middle;\n",
              "    }\n",
              "\n",
              "    .dataframe tbody tr th {\n",
              "        vertical-align: top;\n",
              "    }\n",
              "\n",
              "    .dataframe thead th {\n",
              "        text-align: right;\n",
              "    }\n",
              "</style>\n",
              "<table border=\"1\" class=\"dataframe\">\n",
              "  <thead>\n",
              "    <tr style=\"text-align: right;\">\n",
              "      <th></th>\n",
              "      <th>학생</th>\n",
              "      <th>학과</th>\n",
              "      <th>이름</th>\n",
              "      <th>성적</th>\n",
              "    </tr>\n",
              "  </thead>\n",
              "  <tbody>\n",
              "    <tr>\n",
              "      <th>0</th>\n",
              "      <td>홍길동</td>\n",
              "      <td>경영학과</td>\n",
              "      <td>홍길동</td>\n",
              "      <td>A</td>\n",
              "    </tr>\n",
              "    <tr>\n",
              "      <th>1</th>\n",
              "      <td>이순신</td>\n",
              "      <td>교육학과</td>\n",
              "      <td>이순신</td>\n",
              "      <td>A+</td>\n",
              "    </tr>\n",
              "    <tr>\n",
              "      <th>2</th>\n",
              "      <td>임꺽정</td>\n",
              "      <td>컴퓨터학과</td>\n",
              "      <td>임꺽정</td>\n",
              "      <td>B</td>\n",
              "    </tr>\n",
              "    <tr>\n",
              "      <th>3</th>\n",
              "      <td>김유신</td>\n",
              "      <td>통계학과</td>\n",
              "      <td>김유신</td>\n",
              "      <td>A+</td>\n",
              "    </tr>\n",
              "  </tbody>\n",
              "</table>\n",
              "</div>"
            ],
            "text/plain": [
              "    학생     학과   이름  성적\n",
              "0  홍길동   경영학과  홍길동   A\n",
              "1  이순신   교육학과  이순신  A+\n",
              "2  임꺽정  컴퓨터학과  임꺽정   B\n",
              "3  김유신   통계학과  김유신  A+"
            ]
          },
          "execution_count": 31,
          "metadata": {},
          "output_type": "execute_result"
        }
      ],
      "source": [
        "pd.merge(df1, df6, left_on='학생', right_on='이름') # 병합의 기준이 되는 컬럼 레이블이 서로 다를 때"
      ]
    },
    {
      "cell_type": "code",
      "execution_count": null,
      "metadata": {
        "id": "xBdg5QbquseD",
        "outputId": "c637ddc1-5eec-448e-9eba-36579fec2895"
      },
      "outputs": [
        {
          "data": {
            "text/html": [
              "<div>\n",
              "<style scoped>\n",
              "    .dataframe tbody tr th:only-of-type {\n",
              "        vertical-align: middle;\n",
              "    }\n",
              "\n",
              "    .dataframe tbody tr th {\n",
              "        vertical-align: top;\n",
              "    }\n",
              "\n",
              "    .dataframe thead th {\n",
              "        text-align: right;\n",
              "    }\n",
              "</style>\n",
              "<table border=\"1\" class=\"dataframe\">\n",
              "  <thead>\n",
              "    <tr style=\"text-align: right;\">\n",
              "      <th></th>\n",
              "      <th>학생</th>\n",
              "      <th>학과</th>\n",
              "      <th>성적</th>\n",
              "    </tr>\n",
              "  </thead>\n",
              "  <tbody>\n",
              "    <tr>\n",
              "      <th>0</th>\n",
              "      <td>홍길동</td>\n",
              "      <td>경영학과</td>\n",
              "      <td>A</td>\n",
              "    </tr>\n",
              "    <tr>\n",
              "      <th>1</th>\n",
              "      <td>이순신</td>\n",
              "      <td>교육학과</td>\n",
              "      <td>A+</td>\n",
              "    </tr>\n",
              "    <tr>\n",
              "      <th>2</th>\n",
              "      <td>임꺽정</td>\n",
              "      <td>컴퓨터학과</td>\n",
              "      <td>B</td>\n",
              "    </tr>\n",
              "    <tr>\n",
              "      <th>3</th>\n",
              "      <td>김유신</td>\n",
              "      <td>통계학과</td>\n",
              "      <td>A+</td>\n",
              "    </tr>\n",
              "  </tbody>\n",
              "</table>\n",
              "</div>"
            ],
            "text/plain": [
              "    학생     학과  성적\n",
              "0  홍길동   경영학과   A\n",
              "1  이순신   교육학과  A+\n",
              "2  임꺽정  컴퓨터학과   B\n",
              "3  김유신   통계학과  A+"
            ]
          },
          "execution_count": 32,
          "metadata": {},
          "output_type": "execute_result"
        }
      ],
      "source": [
        "pd.merge(df1, df6, left_on='학생', right_on='이름').drop('이름', axis=1) # 컬럼 drop"
      ]
    },
    {
      "cell_type": "code",
      "execution_count": null,
      "metadata": {
        "colab": {
          "base_uri": "https://localhost:8080/",
          "height": 202
        },
        "id": "PkYo6QP-u5MM",
        "outputId": "d1ad026f-747f-47a2-b7bc-f5648002b2a2"
      },
      "outputs": [
        {
          "data": {
            "text/html": [
              "<div>\n",
              "<style scoped>\n",
              "    .dataframe tbody tr th:only-of-type {\n",
              "        vertical-align: middle;\n",
              "    }\n",
              "\n",
              "    .dataframe tbody tr th {\n",
              "        vertical-align: top;\n",
              "    }\n",
              "\n",
              "    .dataframe thead th {\n",
              "        text-align: right;\n",
              "    }\n",
              "</style>\n",
              "<table border=\"1\" class=\"dataframe\">\n",
              "  <thead>\n",
              "    <tr style=\"text-align: right;\">\n",
              "      <th></th>\n",
              "      <th>학과</th>\n",
              "    </tr>\n",
              "    <tr>\n",
              "      <th>학생</th>\n",
              "      <th></th>\n",
              "    </tr>\n",
              "  </thead>\n",
              "  <tbody>\n",
              "    <tr>\n",
              "      <th>홍길동</th>\n",
              "      <td>경영학과</td>\n",
              "    </tr>\n",
              "    <tr>\n",
              "      <th>이순신</th>\n",
              "      <td>교육학과</td>\n",
              "    </tr>\n",
              "    <tr>\n",
              "      <th>임꺽정</th>\n",
              "      <td>컴퓨터학과</td>\n",
              "    </tr>\n",
              "    <tr>\n",
              "      <th>김유신</th>\n",
              "      <td>통계학과</td>\n",
              "    </tr>\n",
              "  </tbody>\n",
              "</table>\n",
              "</div>"
            ],
            "text/plain": [
              "        학과\n",
              "학생        \n",
              "홍길동   경영학과\n",
              "이순신   교육학과\n",
              "임꺽정  컴퓨터학과\n",
              "김유신   통계학과"
            ]
          },
          "execution_count": 33,
          "metadata": {},
          "output_type": "execute_result"
        }
      ],
      "source": [
        "mdf1 = df1.set_index('학생')\n",
        "mdf1"
      ]
    },
    {
      "cell_type": "code",
      "execution_count": null,
      "metadata": {
        "colab": {
          "base_uri": "https://localhost:8080/",
          "height": 202
        },
        "id": "ITON974EvRp8",
        "outputId": "fef23ae6-a40e-4623-9245-6e3b031de837"
      },
      "outputs": [
        {
          "data": {
            "text/html": [
              "<div>\n",
              "<style scoped>\n",
              "    .dataframe tbody tr th:only-of-type {\n",
              "        vertical-align: middle;\n",
              "    }\n",
              "\n",
              "    .dataframe tbody tr th {\n",
              "        vertical-align: top;\n",
              "    }\n",
              "\n",
              "    .dataframe thead th {\n",
              "        text-align: right;\n",
              "    }\n",
              "</style>\n",
              "<table border=\"1\" class=\"dataframe\">\n",
              "  <thead>\n",
              "    <tr style=\"text-align: right;\">\n",
              "      <th></th>\n",
              "      <th>입학년도</th>\n",
              "    </tr>\n",
              "    <tr>\n",
              "      <th>학생</th>\n",
              "      <th></th>\n",
              "    </tr>\n",
              "  </thead>\n",
              "  <tbody>\n",
              "    <tr>\n",
              "      <th>홍길동</th>\n",
              "      <td>2012</td>\n",
              "    </tr>\n",
              "    <tr>\n",
              "      <th>이순신</th>\n",
              "      <td>2016</td>\n",
              "    </tr>\n",
              "    <tr>\n",
              "      <th>임꺽정</th>\n",
              "      <td>2019</td>\n",
              "    </tr>\n",
              "    <tr>\n",
              "      <th>김유신</th>\n",
              "      <td>2020</td>\n",
              "    </tr>\n",
              "  </tbody>\n",
              "</table>\n",
              "</div>"
            ],
            "text/plain": [
              "     입학년도\n",
              "학생       \n",
              "홍길동  2012\n",
              "이순신  2016\n",
              "임꺽정  2019\n",
              "김유신  2020"
            ]
          },
          "execution_count": 34,
          "metadata": {},
          "output_type": "execute_result"
        }
      ],
      "source": [
        "mdf2 = df2.set_index('학생')\n",
        "mdf2"
      ]
    },
    {
      "cell_type": "code",
      "execution_count": null,
      "metadata": {
        "colab": {
          "base_uri": "https://localhost:8080/",
          "height": 202
        },
        "id": "pM9VHro8vR_b",
        "outputId": "53487c7c-972c-4b1f-ecb0-1faaf99b1f06"
      },
      "outputs": [
        {
          "ename": "MergeError",
          "evalue": "No common columns to perform merge on. Merge options: left_on=None, right_on=None, left_index=False, right_index=False",
          "output_type": "error",
          "traceback": [
            "\u001b[1;31m---------------------------------------------------------------------------\u001b[0m",
            "\u001b[1;31mMergeError\u001b[0m                                Traceback (most recent call last)",
            "\u001b[1;32m~\\AppData\\Local\\Temp/ipykernel_5080/1116540418.py\u001b[0m in \u001b[0;36m<module>\u001b[1;34m\u001b[0m\n\u001b[1;32m----> 1\u001b[1;33m \u001b[0mpd\u001b[0m\u001b[1;33m.\u001b[0m\u001b[0mmerge\u001b[0m\u001b[1;33m(\u001b[0m\u001b[0mmdf1\u001b[0m\u001b[1;33m,\u001b[0m \u001b[0mmdf2\u001b[0m\u001b[1;33m)\u001b[0m\u001b[1;33m\u001b[0m\u001b[1;33m\u001b[0m\u001b[0m\n\u001b[0m",
            "\u001b[1;32m~\\anaconda3\\lib\\site-packages\\pandas\\core\\reshape\\merge.py\u001b[0m in \u001b[0;36mmerge\u001b[1;34m(left, right, how, on, left_on, right_on, left_index, right_index, sort, suffixes, copy, indicator, validate)\u001b[0m\n\u001b[0;32m    104\u001b[0m     \u001b[0mvalidate\u001b[0m\u001b[1;33m:\u001b[0m \u001b[0mstr\u001b[0m \u001b[1;33m|\u001b[0m \u001b[1;32mNone\u001b[0m \u001b[1;33m=\u001b[0m \u001b[1;32mNone\u001b[0m\u001b[1;33m,\u001b[0m\u001b[1;33m\u001b[0m\u001b[1;33m\u001b[0m\u001b[0m\n\u001b[0;32m    105\u001b[0m ) -> DataFrame:\n\u001b[1;32m--> 106\u001b[1;33m     op = _MergeOperation(\n\u001b[0m\u001b[0;32m    107\u001b[0m         \u001b[0mleft\u001b[0m\u001b[1;33m,\u001b[0m\u001b[1;33m\u001b[0m\u001b[1;33m\u001b[0m\u001b[0m\n\u001b[0;32m    108\u001b[0m         \u001b[0mright\u001b[0m\u001b[1;33m,\u001b[0m\u001b[1;33m\u001b[0m\u001b[1;33m\u001b[0m\u001b[0m\n",
            "\u001b[1;32m~\\anaconda3\\lib\\site-packages\\pandas\\core\\reshape\\merge.py\u001b[0m in \u001b[0;36m__init__\u001b[1;34m(self, left, right, how, on, left_on, right_on, axis, left_index, right_index, sort, suffixes, copy, indicator, validate)\u001b[0m\n\u001b[0;32m    679\u001b[0m             \u001b[0mwarnings\u001b[0m\u001b[1;33m.\u001b[0m\u001b[0mwarn\u001b[0m\u001b[1;33m(\u001b[0m\u001b[0mmsg\u001b[0m\u001b[1;33m,\u001b[0m \u001b[0mFutureWarning\u001b[0m\u001b[1;33m,\u001b[0m \u001b[0mstacklevel\u001b[0m\u001b[1;33m=\u001b[0m\u001b[1;36m3\u001b[0m\u001b[1;33m)\u001b[0m\u001b[1;33m\u001b[0m\u001b[1;33m\u001b[0m\u001b[0m\n\u001b[0;32m    680\u001b[0m \u001b[1;33m\u001b[0m\u001b[0m\n\u001b[1;32m--> 681\u001b[1;33m         \u001b[0mself\u001b[0m\u001b[1;33m.\u001b[0m\u001b[0m_validate_specification\u001b[0m\u001b[1;33m(\u001b[0m\u001b[1;33m)\u001b[0m\u001b[1;33m\u001b[0m\u001b[1;33m\u001b[0m\u001b[0m\n\u001b[0m\u001b[0;32m    682\u001b[0m \u001b[1;33m\u001b[0m\u001b[0m\n\u001b[0;32m    683\u001b[0m         \u001b[0mcross_col\u001b[0m \u001b[1;33m=\u001b[0m \u001b[1;32mNone\u001b[0m\u001b[1;33m\u001b[0m\u001b[1;33m\u001b[0m\u001b[0m\n",
            "\u001b[1;32m~\\anaconda3\\lib\\site-packages\\pandas\\core\\reshape\\merge.py\u001b[0m in \u001b[0;36m_validate_specification\u001b[1;34m(self)\u001b[0m\n\u001b[0;32m   1344\u001b[0m                 \u001b[0mcommon_cols\u001b[0m \u001b[1;33m=\u001b[0m \u001b[0mleft_cols\u001b[0m\u001b[1;33m.\u001b[0m\u001b[0mintersection\u001b[0m\u001b[1;33m(\u001b[0m\u001b[0mright_cols\u001b[0m\u001b[1;33m)\u001b[0m\u001b[1;33m\u001b[0m\u001b[1;33m\u001b[0m\u001b[0m\n\u001b[0;32m   1345\u001b[0m                 \u001b[1;32mif\u001b[0m \u001b[0mlen\u001b[0m\u001b[1;33m(\u001b[0m\u001b[0mcommon_cols\u001b[0m\u001b[1;33m)\u001b[0m \u001b[1;33m==\u001b[0m \u001b[1;36m0\u001b[0m\u001b[1;33m:\u001b[0m\u001b[1;33m\u001b[0m\u001b[1;33m\u001b[0m\u001b[0m\n\u001b[1;32m-> 1346\u001b[1;33m                     raise MergeError(\n\u001b[0m\u001b[0;32m   1347\u001b[0m                         \u001b[1;34m\"No common columns to perform merge on. \"\u001b[0m\u001b[1;33m\u001b[0m\u001b[1;33m\u001b[0m\u001b[0m\n\u001b[0;32m   1348\u001b[0m                         \u001b[1;34mf\"Merge options: left_on={self.left_on}, \"\u001b[0m\u001b[1;33m\u001b[0m\u001b[1;33m\u001b[0m\u001b[0m\n",
            "\u001b[1;31mMergeError\u001b[0m: No common columns to perform merge on. Merge options: left_on=None, right_on=None, left_index=False, right_index=False"
          ]
        }
      ],
      "source": [
        "pd.merge(mdf1, mdf2) # 공통 컬럼 레이블이 없어져서 오류 발생"
      ]
    },
    {
      "cell_type": "code",
      "execution_count": null,
      "metadata": {
        "colab": {
          "base_uri": "https://localhost:8080/",
          "height": 202
        },
        "id": "tb70J4-YvYL-",
        "outputId": "ff4d2c16-fa62-4dbb-bc58-fe31850c8727"
      },
      "outputs": [
        {
          "data": {
            "text/html": [
              "<div>\n",
              "<style scoped>\n",
              "    .dataframe tbody tr th:only-of-type {\n",
              "        vertical-align: middle;\n",
              "    }\n",
              "\n",
              "    .dataframe tbody tr th {\n",
              "        vertical-align: top;\n",
              "    }\n",
              "\n",
              "    .dataframe thead th {\n",
              "        text-align: right;\n",
              "    }\n",
              "</style>\n",
              "<table border=\"1\" class=\"dataframe\">\n",
              "  <thead>\n",
              "    <tr style=\"text-align: right;\">\n",
              "      <th></th>\n",
              "      <th>학과</th>\n",
              "      <th>입학년도</th>\n",
              "    </tr>\n",
              "    <tr>\n",
              "      <th>학생</th>\n",
              "      <th></th>\n",
              "      <th></th>\n",
              "    </tr>\n",
              "  </thead>\n",
              "  <tbody>\n",
              "    <tr>\n",
              "      <th>홍길동</th>\n",
              "      <td>경영학과</td>\n",
              "      <td>2012</td>\n",
              "    </tr>\n",
              "    <tr>\n",
              "      <th>이순신</th>\n",
              "      <td>교육학과</td>\n",
              "      <td>2016</td>\n",
              "    </tr>\n",
              "    <tr>\n",
              "      <th>임꺽정</th>\n",
              "      <td>컴퓨터학과</td>\n",
              "      <td>2019</td>\n",
              "    </tr>\n",
              "    <tr>\n",
              "      <th>김유신</th>\n",
              "      <td>통계학과</td>\n",
              "      <td>2020</td>\n",
              "    </tr>\n",
              "  </tbody>\n",
              "</table>\n",
              "</div>"
            ],
            "text/plain": [
              "        학과  입학년도\n",
              "학생              \n",
              "홍길동   경영학과  2012\n",
              "이순신   교육학과  2016\n",
              "임꺽정  컴퓨터학과  2019\n",
              "김유신   통계학과  2020"
            ]
          },
          "execution_count": 36,
          "metadata": {},
          "output_type": "execute_result"
        }
      ],
      "source": [
        "pd.merge(mdf1, mdf2, left_index=True, right_index=True)"
      ]
    },
    {
      "cell_type": "code",
      "execution_count": null,
      "metadata": {
        "colab": {
          "base_uri": "https://localhost:8080/",
          "height": 171
        },
        "id": "h4jWcr7hvx93",
        "outputId": "7ddf64d7-2b13-43f2-ac60-da95345cb63b"
      },
      "outputs": [
        {
          "data": {
            "text/html": [
              "<div>\n",
              "<style scoped>\n",
              "    .dataframe tbody tr th:only-of-type {\n",
              "        vertical-align: middle;\n",
              "    }\n",
              "\n",
              "    .dataframe tbody tr th {\n",
              "        vertical-align: top;\n",
              "    }\n",
              "\n",
              "    .dataframe thead th {\n",
              "        text-align: right;\n",
              "    }\n",
              "</style>\n",
              "<table border=\"1\" class=\"dataframe\">\n",
              "  <thead>\n",
              "    <tr style=\"text-align: right;\">\n",
              "      <th></th>\n",
              "      <th>학과</th>\n",
              "      <th>입학년도</th>\n",
              "    </tr>\n",
              "    <tr>\n",
              "      <th>학생</th>\n",
              "      <th></th>\n",
              "      <th></th>\n",
              "    </tr>\n",
              "  </thead>\n",
              "  <tbody>\n",
              "    <tr>\n",
              "      <th>홍길동</th>\n",
              "      <td>경영학과</td>\n",
              "      <td>2012</td>\n",
              "    </tr>\n",
              "    <tr>\n",
              "      <th>이순신</th>\n",
              "      <td>교육학과</td>\n",
              "      <td>2016</td>\n",
              "    </tr>\n",
              "    <tr>\n",
              "      <th>임꺽정</th>\n",
              "      <td>컴퓨터학과</td>\n",
              "      <td>2019</td>\n",
              "    </tr>\n",
              "    <tr>\n",
              "      <th>김유신</th>\n",
              "      <td>통계학과</td>\n",
              "      <td>2020</td>\n",
              "    </tr>\n",
              "  </tbody>\n",
              "</table>\n",
              "</div>"
            ],
            "text/plain": [
              "        학과  입학년도\n",
              "학생              \n",
              "홍길동   경영학과  2012\n",
              "이순신   교육학과  2016\n",
              "임꺽정  컴퓨터학과  2019\n",
              "김유신   통계학과  2020"
            ]
          },
          "execution_count": 37,
          "metadata": {},
          "output_type": "execute_result"
        }
      ],
      "source": [
        "mdf1.join(mdf2) # 인덱스를 기준으로 결합"
      ]
    },
    {
      "cell_type": "code",
      "execution_count": null,
      "metadata": {
        "colab": {
          "base_uri": "https://localhost:8080/",
          "height": 141
        },
        "id": "5BMgmFDyxmYX",
        "outputId": "de0aefc7-8952-4ee7-8818-b16b69f9dacf"
      },
      "outputs": [
        {
          "data": {
            "text/html": [
              "<div>\n",
              "<style scoped>\n",
              "    .dataframe tbody tr th:only-of-type {\n",
              "        vertical-align: middle;\n",
              "    }\n",
              "\n",
              "    .dataframe tbody tr th {\n",
              "        vertical-align: top;\n",
              "    }\n",
              "\n",
              "    .dataframe thead th {\n",
              "        text-align: right;\n",
              "    }\n",
              "</style>\n",
              "<table border=\"1\" class=\"dataframe\">\n",
              "  <thead>\n",
              "    <tr style=\"text-align: right;\">\n",
              "      <th></th>\n",
              "      <th>학과</th>\n",
              "      <th>이름</th>\n",
              "      <th>성적</th>\n",
              "    </tr>\n",
              "  </thead>\n",
              "  <tbody>\n",
              "    <tr>\n",
              "      <th>0</th>\n",
              "      <td>경영학과</td>\n",
              "      <td>홍길동</td>\n",
              "      <td>A</td>\n",
              "    </tr>\n",
              "    <tr>\n",
              "      <th>1</th>\n",
              "      <td>교육학과</td>\n",
              "      <td>이순신</td>\n",
              "      <td>A+</td>\n",
              "    </tr>\n",
              "    <tr>\n",
              "      <th>2</th>\n",
              "      <td>컴퓨터학과</td>\n",
              "      <td>임꺽정</td>\n",
              "      <td>B</td>\n",
              "    </tr>\n",
              "    <tr>\n",
              "      <th>3</th>\n",
              "      <td>통계학과</td>\n",
              "      <td>김유신</td>\n",
              "      <td>A+</td>\n",
              "    </tr>\n",
              "  </tbody>\n",
              "</table>\n",
              "</div>"
            ],
            "text/plain": [
              "      학과   이름  성적\n",
              "0   경영학과  홍길동   A\n",
              "1   교육학과  이순신  A+\n",
              "2  컴퓨터학과  임꺽정   B\n",
              "3   통계학과  김유신  A+"
            ]
          },
          "execution_count": 38,
          "metadata": {},
          "output_type": "execute_result"
        }
      ],
      "source": [
        "pd.merge(mdf1, df6, left_index=True, right_on='이름') # mdf1은 index로, df6는 컬럼병 '이름'을 기준으로 병합"
      ]
    },
    {
      "cell_type": "code",
      "execution_count": null,
      "metadata": {
        "colab": {
          "base_uri": "https://localhost:8080/",
          "height": 141
        },
        "id": "K6REnIONx5IB",
        "outputId": "15590c1a-759c-45f0-b6a8-2e3f92fbdd7b"
      },
      "outputs": [
        {
          "data": {
            "text/html": [
              "<div>\n",
              "<style scoped>\n",
              "    .dataframe tbody tr th:only-of-type {\n",
              "        vertical-align: middle;\n",
              "    }\n",
              "\n",
              "    .dataframe tbody tr th {\n",
              "        vertical-align: top;\n",
              "    }\n",
              "\n",
              "    .dataframe thead th {\n",
              "        text-align: right;\n",
              "    }\n",
              "</style>\n",
              "<table border=\"1\" class=\"dataframe\">\n",
              "  <thead>\n",
              "    <tr style=\"text-align: right;\">\n",
              "      <th></th>\n",
              "      <th>이름</th>\n",
              "      <th>주문음식</th>\n",
              "    </tr>\n",
              "  </thead>\n",
              "  <tbody>\n",
              "    <tr>\n",
              "      <th>0</th>\n",
              "      <td>홍길동</td>\n",
              "      <td>햄버거</td>\n",
              "    </tr>\n",
              "    <tr>\n",
              "      <th>1</th>\n",
              "      <td>이순신</td>\n",
              "      <td>피자</td>\n",
              "    </tr>\n",
              "    <tr>\n",
              "      <th>2</th>\n",
              "      <td>임꺽정</td>\n",
              "      <td>짜장면</td>\n",
              "    </tr>\n",
              "  </tbody>\n",
              "</table>\n",
              "</div>"
            ],
            "text/plain": [
              "    이름 주문음식\n",
              "0  홍길동  햄버거\n",
              "1  이순신   피자\n",
              "2  임꺽정  짜장면"
            ]
          },
          "execution_count": 39,
          "metadata": {},
          "output_type": "execute_result"
        }
      ],
      "source": [
        "df7 = pd.DataFrame({'이름':['홍길동', '이순신', '임꺽정'],\n",
        "                   '주문음식':['햄버거', '피자', '짜장면']})\n",
        "df7"
      ]
    },
    {
      "cell_type": "code",
      "execution_count": null,
      "metadata": {
        "colab": {
          "base_uri": "https://localhost:8080/",
          "height": 110
        },
        "id": "we6EQ2YbyuCl",
        "outputId": "e41fb1d0-a181-47a9-bf43-23bd1be011dd"
      },
      "outputs": [
        {
          "data": {
            "text/html": [
              "<div>\n",
              "<style scoped>\n",
              "    .dataframe tbody tr th:only-of-type {\n",
              "        vertical-align: middle;\n",
              "    }\n",
              "\n",
              "    .dataframe tbody tr th {\n",
              "        vertical-align: top;\n",
              "    }\n",
              "\n",
              "    .dataframe thead th {\n",
              "        text-align: right;\n",
              "    }\n",
              "</style>\n",
              "<table border=\"1\" class=\"dataframe\">\n",
              "  <thead>\n",
              "    <tr style=\"text-align: right;\">\n",
              "      <th></th>\n",
              "      <th>이름</th>\n",
              "      <th>주문음료</th>\n",
              "    </tr>\n",
              "  </thead>\n",
              "  <tbody>\n",
              "    <tr>\n",
              "      <th>0</th>\n",
              "      <td>홍길동</td>\n",
              "      <td>콜라</td>\n",
              "    </tr>\n",
              "    <tr>\n",
              "      <th>1</th>\n",
              "      <td>이순신</td>\n",
              "      <td>사이다</td>\n",
              "    </tr>\n",
              "    <tr>\n",
              "      <th>2</th>\n",
              "      <td>김유신</td>\n",
              "      <td>커피</td>\n",
              "    </tr>\n",
              "  </tbody>\n",
              "</table>\n",
              "</div>"
            ],
            "text/plain": [
              "    이름 주문음료\n",
              "0  홍길동   콜라\n",
              "1  이순신  사이다\n",
              "2  김유신   커피"
            ]
          },
          "execution_count": 40,
          "metadata": {},
          "output_type": "execute_result"
        }
      ],
      "source": [
        "df8 = pd.DataFrame({'이름':['홍길동', '이순신', '김유신'],\n",
        "                   '주문음료':['콜라', '사이다', '커피']})\n",
        "df8"
      ]
    },
    {
      "cell_type": "code",
      "execution_count": null,
      "metadata": {
        "colab": {
          "base_uri": "https://localhost:8080/",
          "height": 110
        },
        "id": "6fXhbe-zyxk3",
        "outputId": "ec3acad8-ed49-401a-b123-2fd62f6f80e3"
      },
      "outputs": [
        {
          "data": {
            "text/html": [
              "<div>\n",
              "<style scoped>\n",
              "    .dataframe tbody tr th:only-of-type {\n",
              "        vertical-align: middle;\n",
              "    }\n",
              "\n",
              "    .dataframe tbody tr th {\n",
              "        vertical-align: top;\n",
              "    }\n",
              "\n",
              "    .dataframe thead th {\n",
              "        text-align: right;\n",
              "    }\n",
              "</style>\n",
              "<table border=\"1\" class=\"dataframe\">\n",
              "  <thead>\n",
              "    <tr style=\"text-align: right;\">\n",
              "      <th></th>\n",
              "      <th>이름</th>\n",
              "      <th>주문음식</th>\n",
              "      <th>주문음료</th>\n",
              "    </tr>\n",
              "  </thead>\n",
              "  <tbody>\n",
              "    <tr>\n",
              "      <th>0</th>\n",
              "      <td>홍길동</td>\n",
              "      <td>햄버거</td>\n",
              "      <td>콜라</td>\n",
              "    </tr>\n",
              "    <tr>\n",
              "      <th>1</th>\n",
              "      <td>이순신</td>\n",
              "      <td>피자</td>\n",
              "      <td>사이다</td>\n",
              "    </tr>\n",
              "  </tbody>\n",
              "</table>\n",
              "</div>"
            ],
            "text/plain": [
              "    이름 주문음식 주문음료\n",
              "0  홍길동  햄버거   콜라\n",
              "1  이순신   피자  사이다"
            ]
          },
          "execution_count": 41,
          "metadata": {},
          "output_type": "execute_result"
        }
      ],
      "source": [
        "pd.merge(df7, df8) # inner join = default. 서로 공통으로 존재하는 인스턴스에 대해서만 merge"
      ]
    },
    {
      "cell_type": "code",
      "execution_count": null,
      "metadata": {
        "colab": {
          "base_uri": "https://localhost:8080/",
          "height": 171
        },
        "id": "elU9-4r3y4NE",
        "outputId": "9943129a-f355-409c-a356-7735d96c79dc"
      },
      "outputs": [
        {
          "data": {
            "text/html": [
              "<div>\n",
              "<style scoped>\n",
              "    .dataframe tbody tr th:only-of-type {\n",
              "        vertical-align: middle;\n",
              "    }\n",
              "\n",
              "    .dataframe tbody tr th {\n",
              "        vertical-align: top;\n",
              "    }\n",
              "\n",
              "    .dataframe thead th {\n",
              "        text-align: right;\n",
              "    }\n",
              "</style>\n",
              "<table border=\"1\" class=\"dataframe\">\n",
              "  <thead>\n",
              "    <tr style=\"text-align: right;\">\n",
              "      <th></th>\n",
              "      <th>이름</th>\n",
              "      <th>주문음식</th>\n",
              "      <th>주문음료</th>\n",
              "    </tr>\n",
              "  </thead>\n",
              "  <tbody>\n",
              "    <tr>\n",
              "      <th>0</th>\n",
              "      <td>홍길동</td>\n",
              "      <td>햄버거</td>\n",
              "      <td>콜라</td>\n",
              "    </tr>\n",
              "    <tr>\n",
              "      <th>1</th>\n",
              "      <td>이순신</td>\n",
              "      <td>피자</td>\n",
              "      <td>사이다</td>\n",
              "    </tr>\n",
              "  </tbody>\n",
              "</table>\n",
              "</div>"
            ],
            "text/plain": [
              "    이름 주문음식 주문음료\n",
              "0  홍길동  햄버거   콜라\n",
              "1  이순신   피자  사이다"
            ]
          },
          "execution_count": 42,
          "metadata": {},
          "output_type": "execute_result"
        }
      ],
      "source": [
        "pd.merge(df7, df8, how='inner')"
      ]
    },
    {
      "cell_type": "code",
      "execution_count": null,
      "metadata": {
        "colab": {
          "base_uri": "https://localhost:8080/",
          "height": 141
        },
        "id": "Ojd4m8oLy6tk",
        "outputId": "1cb65cf1-f5df-4ba1-a10a-eaecd4780dbb"
      },
      "outputs": [
        {
          "data": {
            "text/html": [
              "<div>\n",
              "<style scoped>\n",
              "    .dataframe tbody tr th:only-of-type {\n",
              "        vertical-align: middle;\n",
              "    }\n",
              "\n",
              "    .dataframe tbody tr th {\n",
              "        vertical-align: top;\n",
              "    }\n",
              "\n",
              "    .dataframe thead th {\n",
              "        text-align: right;\n",
              "    }\n",
              "</style>\n",
              "<table border=\"1\" class=\"dataframe\">\n",
              "  <thead>\n",
              "    <tr style=\"text-align: right;\">\n",
              "      <th></th>\n",
              "      <th>이름</th>\n",
              "      <th>주문음식</th>\n",
              "      <th>주문음료</th>\n",
              "    </tr>\n",
              "  </thead>\n",
              "  <tbody>\n",
              "    <tr>\n",
              "      <th>0</th>\n",
              "      <td>홍길동</td>\n",
              "      <td>햄버거</td>\n",
              "      <td>콜라</td>\n",
              "    </tr>\n",
              "    <tr>\n",
              "      <th>1</th>\n",
              "      <td>이순신</td>\n",
              "      <td>피자</td>\n",
              "      <td>사이다</td>\n",
              "    </tr>\n",
              "    <tr>\n",
              "      <th>2</th>\n",
              "      <td>임꺽정</td>\n",
              "      <td>짜장면</td>\n",
              "      <td>NaN</td>\n",
              "    </tr>\n",
              "    <tr>\n",
              "      <th>3</th>\n",
              "      <td>김유신</td>\n",
              "      <td>NaN</td>\n",
              "      <td>커피</td>\n",
              "    </tr>\n",
              "  </tbody>\n",
              "</table>\n",
              "</div>"
            ],
            "text/plain": [
              "    이름 주문음식 주문음료\n",
              "0  홍길동  햄버거   콜라\n",
              "1  이순신   피자  사이다\n",
              "2  임꺽정  짜장면  NaN\n",
              "3  김유신  NaN   커피"
            ]
          },
          "execution_count": 43,
          "metadata": {},
          "output_type": "execute_result"
        }
      ],
      "source": [
        "pd.merge(df7, df8, how='outer')"
      ]
    },
    {
      "cell_type": "code",
      "execution_count": null,
      "metadata": {
        "colab": {
          "base_uri": "https://localhost:8080/",
          "height": 141
        },
        "id": "R0Te8J7Py9Up",
        "outputId": "fdfd994e-af16-4a2e-beac-05c73e6b512f"
      },
      "outputs": [
        {
          "data": {
            "text/html": [
              "<div>\n",
              "<style scoped>\n",
              "    .dataframe tbody tr th:only-of-type {\n",
              "        vertical-align: middle;\n",
              "    }\n",
              "\n",
              "    .dataframe tbody tr th {\n",
              "        vertical-align: top;\n",
              "    }\n",
              "\n",
              "    .dataframe thead th {\n",
              "        text-align: right;\n",
              "    }\n",
              "</style>\n",
              "<table border=\"1\" class=\"dataframe\">\n",
              "  <thead>\n",
              "    <tr style=\"text-align: right;\">\n",
              "      <th></th>\n",
              "      <th>이름</th>\n",
              "      <th>주문음식</th>\n",
              "      <th>주문음료</th>\n",
              "    </tr>\n",
              "  </thead>\n",
              "  <tbody>\n",
              "    <tr>\n",
              "      <th>0</th>\n",
              "      <td>홍길동</td>\n",
              "      <td>햄버거</td>\n",
              "      <td>콜라</td>\n",
              "    </tr>\n",
              "    <tr>\n",
              "      <th>1</th>\n",
              "      <td>이순신</td>\n",
              "      <td>피자</td>\n",
              "      <td>사이다</td>\n",
              "    </tr>\n",
              "    <tr>\n",
              "      <th>2</th>\n",
              "      <td>임꺽정</td>\n",
              "      <td>짜장면</td>\n",
              "      <td>NaN</td>\n",
              "    </tr>\n",
              "  </tbody>\n",
              "</table>\n",
              "</div>"
            ],
            "text/plain": [
              "    이름 주문음식 주문음료\n",
              "0  홍길동  햄버거   콜라\n",
              "1  이순신   피자  사이다\n",
              "2  임꺽정  짜장면  NaN"
            ]
          },
          "execution_count": 44,
          "metadata": {},
          "output_type": "execute_result"
        }
      ],
      "source": [
        "pd.merge(df7, df8, how='left')"
      ]
    },
    {
      "cell_type": "code",
      "execution_count": null,
      "metadata": {
        "colab": {
          "base_uri": "https://localhost:8080/",
          "height": 171
        },
        "id": "7VZHxJsky_L0",
        "outputId": "cf5f0090-777c-412a-8efd-45f4adf3a418"
      },
      "outputs": [
        {
          "data": {
            "text/html": [
              "<div>\n",
              "<style scoped>\n",
              "    .dataframe tbody tr th:only-of-type {\n",
              "        vertical-align: middle;\n",
              "    }\n",
              "\n",
              "    .dataframe tbody tr th {\n",
              "        vertical-align: top;\n",
              "    }\n",
              "\n",
              "    .dataframe thead th {\n",
              "        text-align: right;\n",
              "    }\n",
              "</style>\n",
              "<table border=\"1\" class=\"dataframe\">\n",
              "  <thead>\n",
              "    <tr style=\"text-align: right;\">\n",
              "      <th></th>\n",
              "      <th>이름</th>\n",
              "      <th>주문음식</th>\n",
              "      <th>주문음료</th>\n",
              "    </tr>\n",
              "  </thead>\n",
              "  <tbody>\n",
              "    <tr>\n",
              "      <th>0</th>\n",
              "      <td>홍길동</td>\n",
              "      <td>햄버거</td>\n",
              "      <td>콜라</td>\n",
              "    </tr>\n",
              "    <tr>\n",
              "      <th>1</th>\n",
              "      <td>이순신</td>\n",
              "      <td>피자</td>\n",
              "      <td>사이다</td>\n",
              "    </tr>\n",
              "    <tr>\n",
              "      <th>2</th>\n",
              "      <td>김유신</td>\n",
              "      <td>NaN</td>\n",
              "      <td>커피</td>\n",
              "    </tr>\n",
              "  </tbody>\n",
              "</table>\n",
              "</div>"
            ],
            "text/plain": [
              "    이름 주문음식 주문음료\n",
              "0  홍길동  햄버거   콜라\n",
              "1  이순신   피자  사이다\n",
              "2  김유신  NaN   커피"
            ]
          },
          "execution_count": 45,
          "metadata": {},
          "output_type": "execute_result"
        }
      ],
      "source": [
        "pd.merge(df7, df8, how='right')"
      ]
    },
    {
      "cell_type": "code",
      "execution_count": null,
      "metadata": {
        "colab": {
          "base_uri": "https://localhost:8080/",
          "height": 171
        },
        "id": "akYbKT0x0A0J",
        "outputId": "e01e9f42-94d8-428a-c640-992690a51681"
      },
      "outputs": [
        {
          "data": {
            "text/html": [
              "<div>\n",
              "<style scoped>\n",
              "    .dataframe tbody tr th:only-of-type {\n",
              "        vertical-align: middle;\n",
              "    }\n",
              "\n",
              "    .dataframe tbody tr th {\n",
              "        vertical-align: top;\n",
              "    }\n",
              "\n",
              "    .dataframe thead th {\n",
              "        text-align: right;\n",
              "    }\n",
              "</style>\n",
              "<table border=\"1\" class=\"dataframe\">\n",
              "  <thead>\n",
              "    <tr style=\"text-align: right;\">\n",
              "      <th></th>\n",
              "      <th>이름</th>\n",
              "      <th>순위</th>\n",
              "    </tr>\n",
              "  </thead>\n",
              "  <tbody>\n",
              "    <tr>\n",
              "      <th>0</th>\n",
              "      <td>홍길동</td>\n",
              "      <td>3</td>\n",
              "    </tr>\n",
              "    <tr>\n",
              "      <th>1</th>\n",
              "      <td>이순신</td>\n",
              "      <td>2</td>\n",
              "    </tr>\n",
              "    <tr>\n",
              "      <th>2</th>\n",
              "      <td>임꺽정</td>\n",
              "      <td>4</td>\n",
              "    </tr>\n",
              "    <tr>\n",
              "      <th>3</th>\n",
              "      <td>김유신</td>\n",
              "      <td>1</td>\n",
              "    </tr>\n",
              "  </tbody>\n",
              "</table>\n",
              "</div>"
            ],
            "text/plain": [
              "    이름  순위\n",
              "0  홍길동   3\n",
              "1  이순신   2\n",
              "2  임꺽정   4\n",
              "3  김유신   1"
            ]
          },
          "execution_count": 46,
          "metadata": {},
          "output_type": "execute_result"
        }
      ],
      "source": [
        "df9 = pd.DataFrame({'이름':['홍길동', '이순신', '임꺽정', '김유신'],\n",
        "                   '순위':[3, 2, 4, 1]})\n",
        "df9"
      ]
    },
    {
      "cell_type": "code",
      "execution_count": null,
      "metadata": {
        "colab": {
          "base_uri": "https://localhost:8080/",
          "height": 171
        },
        "id": "hC82_HIA0Gts",
        "outputId": "c99004c9-573b-46ba-edb3-38ebc5b7a2f4"
      },
      "outputs": [
        {
          "data": {
            "text/html": [
              "<div>\n",
              "<style scoped>\n",
              "    .dataframe tbody tr th:only-of-type {\n",
              "        vertical-align: middle;\n",
              "    }\n",
              "\n",
              "    .dataframe tbody tr th {\n",
              "        vertical-align: top;\n",
              "    }\n",
              "\n",
              "    .dataframe thead th {\n",
              "        text-align: right;\n",
              "    }\n",
              "</style>\n",
              "<table border=\"1\" class=\"dataframe\">\n",
              "  <thead>\n",
              "    <tr style=\"text-align: right;\">\n",
              "      <th></th>\n",
              "      <th>이름</th>\n",
              "      <th>순위</th>\n",
              "    </tr>\n",
              "  </thead>\n",
              "  <tbody>\n",
              "    <tr>\n",
              "      <th>0</th>\n",
              "      <td>홍길동</td>\n",
              "      <td>4</td>\n",
              "    </tr>\n",
              "    <tr>\n",
              "      <th>1</th>\n",
              "      <td>이순신</td>\n",
              "      <td>1</td>\n",
              "    </tr>\n",
              "    <tr>\n",
              "      <th>2</th>\n",
              "      <td>임꺽정</td>\n",
              "      <td>3</td>\n",
              "    </tr>\n",
              "    <tr>\n",
              "      <th>3</th>\n",
              "      <td>김유신</td>\n",
              "      <td>2</td>\n",
              "    </tr>\n",
              "  </tbody>\n",
              "</table>\n",
              "</div>"
            ],
            "text/plain": [
              "    이름  순위\n",
              "0  홍길동   4\n",
              "1  이순신   1\n",
              "2  임꺽정   3\n",
              "3  김유신   2"
            ]
          },
          "execution_count": 47,
          "metadata": {},
          "output_type": "execute_result"
        }
      ],
      "source": [
        "df10 = pd.DataFrame({'이름':['홍길동', '이순신', '임꺽정', '김유신'],\n",
        "                   '순위':[4, 1, 3, 2]})\n",
        "df10"
      ]
    },
    {
      "cell_type": "code",
      "execution_count": null,
      "metadata": {
        "colab": {
          "base_uri": "https://localhost:8080/",
          "height": 171
        },
        "id": "lvanUKHh0NSl",
        "outputId": "99b44fb1-9fdd-4b00-887d-26e90719de78"
      },
      "outputs": [
        {
          "data": {
            "text/html": [
              "<div>\n",
              "<style scoped>\n",
              "    .dataframe tbody tr th:only-of-type {\n",
              "        vertical-align: middle;\n",
              "    }\n",
              "\n",
              "    .dataframe tbody tr th {\n",
              "        vertical-align: top;\n",
              "    }\n",
              "\n",
              "    .dataframe thead th {\n",
              "        text-align: right;\n",
              "    }\n",
              "</style>\n",
              "<table border=\"1\" class=\"dataframe\">\n",
              "  <thead>\n",
              "    <tr style=\"text-align: right;\">\n",
              "      <th></th>\n",
              "      <th>이름</th>\n",
              "      <th>순위_x</th>\n",
              "      <th>순위_y</th>\n",
              "    </tr>\n",
              "  </thead>\n",
              "  <tbody>\n",
              "    <tr>\n",
              "      <th>0</th>\n",
              "      <td>홍길동</td>\n",
              "      <td>3</td>\n",
              "      <td>4</td>\n",
              "    </tr>\n",
              "    <tr>\n",
              "      <th>1</th>\n",
              "      <td>이순신</td>\n",
              "      <td>2</td>\n",
              "      <td>1</td>\n",
              "    </tr>\n",
              "    <tr>\n",
              "      <th>2</th>\n",
              "      <td>임꺽정</td>\n",
              "      <td>4</td>\n",
              "      <td>3</td>\n",
              "    </tr>\n",
              "    <tr>\n",
              "      <th>3</th>\n",
              "      <td>김유신</td>\n",
              "      <td>1</td>\n",
              "      <td>2</td>\n",
              "    </tr>\n",
              "  </tbody>\n",
              "</table>\n",
              "</div>"
            ],
            "text/plain": [
              "    이름  순위_x  순위_y\n",
              "0  홍길동     3     4\n",
              "1  이순신     2     1\n",
              "2  임꺽정     4     3\n",
              "3  김유신     1     2"
            ]
          },
          "execution_count": 48,
          "metadata": {},
          "output_type": "execute_result"
        }
      ],
      "source": [
        "pd.merge(df9, df10, on='이름')"
      ]
    },
    {
      "cell_type": "code",
      "execution_count": null,
      "metadata": {
        "id": "YuneymdZJ9FI",
        "outputId": "86eda831-068f-459f-fb9f-4b0a2102d1d2"
      },
      "outputs": [
        {
          "data": {
            "text/html": [
              "<div>\n",
              "<style scoped>\n",
              "    .dataframe tbody tr th:only-of-type {\n",
              "        vertical-align: middle;\n",
              "    }\n",
              "\n",
              "    .dataframe tbody tr th {\n",
              "        vertical-align: top;\n",
              "    }\n",
              "\n",
              "    .dataframe thead th {\n",
              "        text-align: right;\n",
              "    }\n",
              "</style>\n",
              "<table border=\"1\" class=\"dataframe\">\n",
              "  <thead>\n",
              "    <tr style=\"text-align: right;\">\n",
              "      <th></th>\n",
              "      <th>이름</th>\n",
              "      <th>순위_인기</th>\n",
              "      <th>순위_성적</th>\n",
              "    </tr>\n",
              "  </thead>\n",
              "  <tbody>\n",
              "    <tr>\n",
              "      <th>0</th>\n",
              "      <td>홍길동</td>\n",
              "      <td>3</td>\n",
              "      <td>4</td>\n",
              "    </tr>\n",
              "    <tr>\n",
              "      <th>1</th>\n",
              "      <td>이순신</td>\n",
              "      <td>2</td>\n",
              "      <td>1</td>\n",
              "    </tr>\n",
              "    <tr>\n",
              "      <th>2</th>\n",
              "      <td>임꺽정</td>\n",
              "      <td>4</td>\n",
              "      <td>3</td>\n",
              "    </tr>\n",
              "    <tr>\n",
              "      <th>3</th>\n",
              "      <td>김유신</td>\n",
              "      <td>1</td>\n",
              "      <td>2</td>\n",
              "    </tr>\n",
              "  </tbody>\n",
              "</table>\n",
              "</div>"
            ],
            "text/plain": [
              "    이름  순위_인기  순위_성적\n",
              "0  홍길동      3      4\n",
              "1  이순신      2      1\n",
              "2  임꺽정      4      3\n",
              "3  김유신      1      2"
            ]
          },
          "execution_count": 49,
          "metadata": {},
          "output_type": "execute_result"
        }
      ],
      "source": [
        "pd.merge(df9, df10, on='이름', suffixes=['_인기', '_성적'])"
      ]
    },
    {
      "cell_type": "markdown",
      "metadata": {
        "id": "TR_8q2S50uIk"
      },
      "source": [
        "## 데이터 집계와 그룹 연산"
      ]
    },
    {
      "cell_type": "markdown",
      "metadata": {
        "id": "NnkMJFRlWPm7"
      },
      "source": [
        "#### 집계 연산(Aggregation)\n",
        "\n",
        "| 집계                     | 설명                     |\n",
        "|--------------------------|--------------------------|\n",
        "| ``count`` | 전체 개수 |\n",
        "| ``head``, ``tail`` | 앞의 항목 일부 반환, 뒤의 항목 일부 반환 |\n",
        "| ``describe`` | Series, DataFrame의 각 컬럼에 대한 요약 통계 |\n",
        "| ``min``, ``max`` | 최소값, 최대값           |\n",
        "| ``cummin``, ``cummax`` | 누적 최소값, 누적 최대값 |\n",
        "| ``argmin``, ``argmax`` | 최소값과 최대값의 색인 위치 |\n",
        "| ``idxmin``, ``idxmax`` | 최소값과 최대값의 색인값 |\n",
        "| ``mean``, ``median`` | 평균값, 중앙값 |\n",
        "| ``std``, ``var`` | 표준편차(Standard deviation), 분산(Variance) |\n",
        "| ``skew`` | 왜도(skewness) 값 계산 |\n",
        "| ``kurt`` | 첨도(kurtosis) 값 계산 |\n",
        "| ``mad`` | 절대 평균 편차(Mean Absolute Deviation) |\n",
        "| ``sum``, ``cumsum`` | 전체 항목 합, 누적합 |\n",
        "| ``prod``, ``cumprod`` | 전체 항목 곱, 누적곱 |\n",
        "| ``quantile`` | 0부터 1까지의 분위수 계산 |\n",
        "| ``diff`` | 1차 산술차 계산 |\n",
        "| ``pct_change`` | 퍼센트 변화율 계산 |\n",
        "| ``corr``, ``cov`` | 상관관계, 공분산 계산 |\n",
        "\n"
      ]
    },
    {
      "cell_type": "code",
      "execution_count": null,
      "metadata": {
        "colab": {
          "base_uri": "https://localhost:8080/",
          "height": 171
        },
        "id": "5AR3wQl_5QLq",
        "outputId": "d593482e-0210-4f7f-ca14-ab7c1733d168"
      },
      "outputs": [
        {
          "data": {
            "text/html": [
              "<div>\n",
              "<style scoped>\n",
              "    .dataframe tbody tr th:only-of-type {\n",
              "        vertical-align: middle;\n",
              "    }\n",
              "\n",
              "    .dataframe tbody tr th {\n",
              "        vertical-align: top;\n",
              "    }\n",
              "\n",
              "    .dataframe thead th {\n",
              "        text-align: right;\n",
              "    }\n",
              "</style>\n",
              "<table border=\"1\" class=\"dataframe\">\n",
              "  <thead>\n",
              "    <tr style=\"text-align: right;\">\n",
              "      <th></th>\n",
              "      <th>A</th>\n",
              "      <th>B</th>\n",
              "      <th>C</th>\n",
              "    </tr>\n",
              "  </thead>\n",
              "  <tbody>\n",
              "    <tr>\n",
              "      <th>1</th>\n",
              "      <td>1.00</td>\n",
              "      <td>1.2</td>\n",
              "      <td>NaN</td>\n",
              "    </tr>\n",
              "    <tr>\n",
              "      <th>2</th>\n",
              "      <td>2.40</td>\n",
              "      <td>5.5</td>\n",
              "      <td>4.2</td>\n",
              "    </tr>\n",
              "    <tr>\n",
              "      <th>3</th>\n",
              "      <td>NaN</td>\n",
              "      <td>NaN</td>\n",
              "      <td>NaN</td>\n",
              "    </tr>\n",
              "    <tr>\n",
              "      <th>4</th>\n",
              "      <td>0.44</td>\n",
              "      <td>-3.1</td>\n",
              "      <td>-4.1</td>\n",
              "    </tr>\n",
              "  </tbody>\n",
              "</table>\n",
              "</div>"
            ],
            "text/plain": [
              "      A    B    C\n",
              "1  1.00  1.2  NaN\n",
              "2  2.40  5.5  4.2\n",
              "3   NaN  NaN  NaN\n",
              "4  0.44 -3.1 -4.1"
            ]
          },
          "execution_count": 3,
          "metadata": {},
          "output_type": "execute_result"
        }
      ],
      "source": [
        "df = pd.DataFrame([[1, 1.2, np.nan], \n",
        "                  [2.4, 5.5, 4.2],\n",
        "                 [np.nan, np.nan, np.nan],\n",
        "                 [0.44, -3.1, -4.1]],\n",
        "                 index = [1, 2, 3, 4],\n",
        "                 columns = ['A', 'B', 'C'])\n",
        "df"
      ]
    },
    {
      "cell_type": "code",
      "execution_count": null,
      "metadata": {
        "colab": {
          "base_uri": "https://localhost:8080/",
          "height": 110
        },
        "id": "jI0_ZOegZh86",
        "outputId": "b7950d06-5f3f-447e-d010-7d9f07eabd4a"
      },
      "outputs": [
        {
          "data": {
            "text/html": [
              "<div>\n",
              "<style scoped>\n",
              "    .dataframe tbody tr th:only-of-type {\n",
              "        vertical-align: middle;\n",
              "    }\n",
              "\n",
              "    .dataframe tbody tr th {\n",
              "        vertical-align: top;\n",
              "    }\n",
              "\n",
              "    .dataframe thead th {\n",
              "        text-align: right;\n",
              "    }\n",
              "</style>\n",
              "<table border=\"1\" class=\"dataframe\">\n",
              "  <thead>\n",
              "    <tr style=\"text-align: right;\">\n",
              "      <th></th>\n",
              "      <th>A</th>\n",
              "      <th>B</th>\n",
              "      <th>C</th>\n",
              "    </tr>\n",
              "  </thead>\n",
              "  <tbody>\n",
              "    <tr>\n",
              "      <th>1</th>\n",
              "      <td>1.0</td>\n",
              "      <td>1.2</td>\n",
              "      <td>NaN</td>\n",
              "    </tr>\n",
              "    <tr>\n",
              "      <th>2</th>\n",
              "      <td>2.4</td>\n",
              "      <td>5.5</td>\n",
              "      <td>4.2</td>\n",
              "    </tr>\n",
              "  </tbody>\n",
              "</table>\n",
              "</div>"
            ],
            "text/plain": [
              "     A    B    C\n",
              "1  1.0  1.2  NaN\n",
              "2  2.4  5.5  4.2"
            ]
          },
          "execution_count": 4,
          "metadata": {},
          "output_type": "execute_result"
        }
      ],
      "source": [
        "df.head(2)"
      ]
    },
    {
      "cell_type": "code",
      "execution_count": null,
      "metadata": {
        "colab": {
          "base_uri": "https://localhost:8080/",
          "height": 110
        },
        "id": "fd2vnUehZoWF",
        "outputId": "377a9e6d-81b3-4208-cc68-8a079a4b97b2"
      },
      "outputs": [
        {
          "data": {
            "text/html": [
              "<div>\n",
              "<style scoped>\n",
              "    .dataframe tbody tr th:only-of-type {\n",
              "        vertical-align: middle;\n",
              "    }\n",
              "\n",
              "    .dataframe tbody tr th {\n",
              "        vertical-align: top;\n",
              "    }\n",
              "\n",
              "    .dataframe thead th {\n",
              "        text-align: right;\n",
              "    }\n",
              "</style>\n",
              "<table border=\"1\" class=\"dataframe\">\n",
              "  <thead>\n",
              "    <tr style=\"text-align: right;\">\n",
              "      <th></th>\n",
              "      <th>A</th>\n",
              "      <th>B</th>\n",
              "      <th>C</th>\n",
              "    </tr>\n",
              "  </thead>\n",
              "  <tbody>\n",
              "    <tr>\n",
              "      <th>3</th>\n",
              "      <td>NaN</td>\n",
              "      <td>NaN</td>\n",
              "      <td>NaN</td>\n",
              "    </tr>\n",
              "    <tr>\n",
              "      <th>4</th>\n",
              "      <td>0.44</td>\n",
              "      <td>-3.1</td>\n",
              "      <td>-4.1</td>\n",
              "    </tr>\n",
              "  </tbody>\n",
              "</table>\n",
              "</div>"
            ],
            "text/plain": [
              "      A    B    C\n",
              "3   NaN  NaN  NaN\n",
              "4  0.44 -3.1 -4.1"
            ]
          },
          "execution_count": 6,
          "metadata": {},
          "output_type": "execute_result"
        }
      ],
      "source": [
        "df.tail(2)"
      ]
    },
    {
      "cell_type": "code",
      "execution_count": null,
      "metadata": {
        "colab": {
          "base_uri": "https://localhost:8080/",
          "height": 294
        },
        "id": "I4DNBURwZq76",
        "outputId": "2855527b-9bad-426d-d5f2-66aa0e35e2a1"
      },
      "outputs": [
        {
          "data": {
            "text/html": [
              "<div>\n",
              "<style scoped>\n",
              "    .dataframe tbody tr th:only-of-type {\n",
              "        vertical-align: middle;\n",
              "    }\n",
              "\n",
              "    .dataframe tbody tr th {\n",
              "        vertical-align: top;\n",
              "    }\n",
              "\n",
              "    .dataframe thead th {\n",
              "        text-align: right;\n",
              "    }\n",
              "</style>\n",
              "<table border=\"1\" class=\"dataframe\">\n",
              "  <thead>\n",
              "    <tr style=\"text-align: right;\">\n",
              "      <th></th>\n",
              "      <th>A</th>\n",
              "      <th>B</th>\n",
              "      <th>C</th>\n",
              "    </tr>\n",
              "  </thead>\n",
              "  <tbody>\n",
              "    <tr>\n",
              "      <th>count</th>\n",
              "      <td>3.000000</td>\n",
              "      <td>3.00</td>\n",
              "      <td>2.000000</td>\n",
              "    </tr>\n",
              "    <tr>\n",
              "      <th>mean</th>\n",
              "      <td>1.280000</td>\n",
              "      <td>1.20</td>\n",
              "      <td>0.050000</td>\n",
              "    </tr>\n",
              "    <tr>\n",
              "      <th>std</th>\n",
              "      <td>1.009554</td>\n",
              "      <td>4.30</td>\n",
              "      <td>5.868986</td>\n",
              "    </tr>\n",
              "    <tr>\n",
              "      <th>min</th>\n",
              "      <td>0.440000</td>\n",
              "      <td>-3.10</td>\n",
              "      <td>-4.100000</td>\n",
              "    </tr>\n",
              "    <tr>\n",
              "      <th>25%</th>\n",
              "      <td>0.720000</td>\n",
              "      <td>-0.95</td>\n",
              "      <td>-2.025000</td>\n",
              "    </tr>\n",
              "    <tr>\n",
              "      <th>50%</th>\n",
              "      <td>1.000000</td>\n",
              "      <td>1.20</td>\n",
              "      <td>0.050000</td>\n",
              "    </tr>\n",
              "    <tr>\n",
              "      <th>75%</th>\n",
              "      <td>1.700000</td>\n",
              "      <td>3.35</td>\n",
              "      <td>2.125000</td>\n",
              "    </tr>\n",
              "    <tr>\n",
              "      <th>max</th>\n",
              "      <td>2.400000</td>\n",
              "      <td>5.50</td>\n",
              "      <td>4.200000</td>\n",
              "    </tr>\n",
              "  </tbody>\n",
              "</table>\n",
              "</div>"
            ],
            "text/plain": [
              "              A     B         C\n",
              "count  3.000000  3.00  2.000000\n",
              "mean   1.280000  1.20  0.050000\n",
              "std    1.009554  4.30  5.868986\n",
              "min    0.440000 -3.10 -4.100000\n",
              "25%    0.720000 -0.95 -2.025000\n",
              "50%    1.000000  1.20  0.050000\n",
              "75%    1.700000  3.35  2.125000\n",
              "max    2.400000  5.50  4.200000"
            ]
          },
          "execution_count": 7,
          "metadata": {},
          "output_type": "execute_result"
        }
      ],
      "source": [
        "df.describe()"
      ]
    },
    {
      "cell_type": "code",
      "execution_count": null,
      "metadata": {
        "colab": {
          "base_uri": "https://localhost:8080/",
          "height": 243
        },
        "id": "i65nWUsJa2p1",
        "outputId": "7c63eacc-3036-4919-a3a5-5f63fd8a9198"
      },
      "outputs": [
        {
          "name": "stdout",
          "output_type": "stream",
          "text": [
            "A    4\n",
            "B    4\n",
            "C    4\n",
            "dtype: int64\n",
            "A    2\n",
            "B    2\n",
            "C    2\n",
            "dtype: int64\n",
            "A    1.28\n",
            "B    1.20\n",
            "C    0.05\n",
            "dtype: float64\n",
            "A    1.009554\n",
            "B    4.300000\n",
            "C    5.868986\n",
            "dtype: float64\n"
          ]
        }
      ],
      "source": [
        "print(df.idxmin())\n",
        "print(df.idxmax())\n",
        "print(df.mean())\n",
        "print(df.std())"
      ]
    },
    {
      "cell_type": "code",
      "execution_count": null,
      "metadata": {
        "id": "tsyZy5XbJ9FJ",
        "outputId": "9604d9fa-c33a-4c5d-c330-f968579c6109"
      },
      "outputs": [
        {
          "data": {
            "text/html": [
              "<div>\n",
              "<style scoped>\n",
              "    .dataframe tbody tr th:only-of-type {\n",
              "        vertical-align: middle;\n",
              "    }\n",
              "\n",
              "    .dataframe tbody tr th {\n",
              "        vertical-align: top;\n",
              "    }\n",
              "\n",
              "    .dataframe thead th {\n",
              "        text-align: right;\n",
              "    }\n",
              "</style>\n",
              "<table border=\"1\" class=\"dataframe\">\n",
              "  <thead>\n",
              "    <tr style=\"text-align: right;\">\n",
              "      <th></th>\n",
              "      <th>A</th>\n",
              "      <th>B</th>\n",
              "      <th>C</th>\n",
              "    </tr>\n",
              "  </thead>\n",
              "  <tbody>\n",
              "    <tr>\n",
              "      <th>A</th>\n",
              "      <td>1.000000</td>\n",
              "      <td>0.970725</td>\n",
              "      <td>1.0</td>\n",
              "    </tr>\n",
              "    <tr>\n",
              "      <th>B</th>\n",
              "      <td>0.970725</td>\n",
              "      <td>1.000000</td>\n",
              "      <td>1.0</td>\n",
              "    </tr>\n",
              "    <tr>\n",
              "      <th>C</th>\n",
              "      <td>1.000000</td>\n",
              "      <td>1.000000</td>\n",
              "      <td>1.0</td>\n",
              "    </tr>\n",
              "  </tbody>\n",
              "</table>\n",
              "</div>"
            ],
            "text/plain": [
              "          A         B    C\n",
              "A  1.000000  0.970725  1.0\n",
              "B  0.970725  1.000000  1.0\n",
              "C  1.000000  1.000000  1.0"
            ]
          },
          "execution_count": 10,
          "metadata": {},
          "output_type": "execute_result"
        }
      ],
      "source": [
        "df.corr() # 상관계수"
      ]
    },
    {
      "cell_type": "code",
      "execution_count": null,
      "metadata": {
        "colab": {
          "base_uri": "https://localhost:8080/",
          "height": 141
        },
        "id": "oE-GXjRSpN3-",
        "outputId": "ba5835b2-bd1e-4488-c7e3-671dae453432"
      },
      "outputs": [
        {
          "data": {
            "text/plain": [
              "A    0.970725\n",
              "B    1.000000\n",
              "C    1.000000\n",
              "dtype: float64"
            ]
          },
          "execution_count": 11,
          "metadata": {},
          "output_type": "execute_result"
        }
      ],
      "source": [
        "df.corrwith(df.B) # 특정 변수와의 상관계수"
      ]
    },
    {
      "cell_type": "code",
      "execution_count": null,
      "metadata": {
        "colab": {
          "base_uri": "https://localhost:8080/",
          "height": 87
        },
        "id": "NYkglCVFqZbI",
        "outputId": "c5f19eda-9871-402b-e621-97c16e88837c"
      },
      "outputs": [
        {
          "data": {
            "text/plain": [
              "array([ 1.2,  5.5,  nan, -3.1])"
            ]
          },
          "execution_count": 12,
          "metadata": {},
          "output_type": "execute_result"
        }
      ],
      "source": [
        "df['B'].unique() # 중복을 제거한 유니크 값"
      ]
    },
    {
      "cell_type": "code",
      "execution_count": null,
      "metadata": {
        "colab": {
          "base_uri": "https://localhost:8080/",
          "height": 35
        },
        "id": "NYmiwnWmqmOE",
        "outputId": "2fae8d3a-3a54-44b7-f019-cc625091a68c"
      },
      "outputs": [
        {
          "data": {
            "text/plain": [
              "1.00    1\n",
              "2.40    1\n",
              "0.44    1\n",
              "Name: A, dtype: int64"
            ]
          },
          "execution_count": 13,
          "metadata": {},
          "output_type": "execute_result"
        }
      ],
      "source": [
        "df['A'].value_counts() # 값의 빈도"
      ]
    },
    {
      "cell_type": "markdown",
      "metadata": {
        "id": "iVaTvBns27tS"
      },
      "source": [
        "### GroupBy 연산"
      ]
    },
    {
      "cell_type": "code",
      "execution_count": null,
      "metadata": {
        "colab": {
          "base_uri": "https://localhost:8080/",
          "height": 263
        },
        "id": "yOTrmBm58Wwm",
        "outputId": "8fadaad4-b480-44ab-fee8-48554d919280"
      },
      "outputs": [
        {
          "data": {
            "text/html": [
              "<div>\n",
              "<style scoped>\n",
              "    .dataframe tbody tr th:only-of-type {\n",
              "        vertical-align: middle;\n",
              "    }\n",
              "\n",
              "    .dataframe tbody tr th {\n",
              "        vertical-align: top;\n",
              "    }\n",
              "\n",
              "    .dataframe thead th {\n",
              "        text-align: right;\n",
              "    }\n",
              "</style>\n",
              "<table border=\"1\" class=\"dataframe\">\n",
              "  <thead>\n",
              "    <tr style=\"text-align: right;\">\n",
              "      <th></th>\n",
              "      <th>c1</th>\n",
              "      <th>c2</th>\n",
              "      <th>c3</th>\n",
              "      <th>c4</th>\n",
              "    </tr>\n",
              "  </thead>\n",
              "  <tbody>\n",
              "    <tr>\n",
              "      <th>0</th>\n",
              "      <td>a</td>\n",
              "      <td>A</td>\n",
              "      <td>3</td>\n",
              "      <td>0.321444</td>\n",
              "    </tr>\n",
              "    <tr>\n",
              "      <th>1</th>\n",
              "      <td>a</td>\n",
              "      <td>B</td>\n",
              "      <td>2</td>\n",
              "      <td>0.776228</td>\n",
              "    </tr>\n",
              "    <tr>\n",
              "      <th>2</th>\n",
              "      <td>b</td>\n",
              "      <td>B</td>\n",
              "      <td>3</td>\n",
              "      <td>0.397175</td>\n",
              "    </tr>\n",
              "    <tr>\n",
              "      <th>3</th>\n",
              "      <td>b</td>\n",
              "      <td>A</td>\n",
              "      <td>7</td>\n",
              "      <td>0.518714</td>\n",
              "    </tr>\n",
              "    <tr>\n",
              "      <th>4</th>\n",
              "      <td>c</td>\n",
              "      <td>D</td>\n",
              "      <td>8</td>\n",
              "      <td>0.493104</td>\n",
              "    </tr>\n",
              "    <tr>\n",
              "      <th>5</th>\n",
              "      <td>d</td>\n",
              "      <td>C</td>\n",
              "      <td>9</td>\n",
              "      <td>0.485309</td>\n",
              "    </tr>\n",
              "    <tr>\n",
              "      <th>6</th>\n",
              "      <td>b</td>\n",
              "      <td>C</td>\n",
              "      <td>3</td>\n",
              "      <td>0.428121</td>\n",
              "    </tr>\n",
              "  </tbody>\n",
              "</table>\n",
              "</div>"
            ],
            "text/plain": [
              "  c1 c2  c3        c4\n",
              "0  a  A   3  0.321444\n",
              "1  a  B   2  0.776228\n",
              "2  b  B   3  0.397175\n",
              "3  b  A   7  0.518714\n",
              "4  c  D   8  0.493104\n",
              "5  d  C   9  0.485309\n",
              "6  b  C   3  0.428121"
            ]
          },
          "execution_count": 14,
          "metadata": {},
          "output_type": "execute_result"
        }
      ],
      "source": [
        "df = pd.DataFrame({'c1': ['a', 'a', 'b', 'b', 'c', 'd', 'b'],\n",
        "                  'c2': ['A', 'B', 'B', 'A', 'D', 'C', 'C'],\n",
        "                  'c3': [3, 2, 3, 7, 8, 9, 3],\n",
        "                  'c4': np.random.random(7)})\n",
        "df"
      ]
    },
    {
      "cell_type": "code",
      "execution_count": null,
      "metadata": {
        "colab": {
          "base_uri": "https://localhost:8080/",
          "height": 202
        },
        "id": "v4t_XjXWROgc",
        "outputId": "896781b3-07e4-40db-c34d-765f6d0f3312"
      },
      "outputs": [
        {
          "data": {
            "text/html": [
              "<div>\n",
              "<style scoped>\n",
              "    .dataframe tbody tr th:only-of-type {\n",
              "        vertical-align: middle;\n",
              "    }\n",
              "\n",
              "    .dataframe tbody tr th {\n",
              "        vertical-align: top;\n",
              "    }\n",
              "\n",
              "    .dataframe thead th {\n",
              "        text-align: right;\n",
              "    }\n",
              "</style>\n",
              "<table border=\"1\" class=\"dataframe\">\n",
              "  <thead>\n",
              "    <tr style=\"text-align: right;\">\n",
              "      <th></th>\n",
              "      <th>c3</th>\n",
              "      <th>c4</th>\n",
              "    </tr>\n",
              "    <tr>\n",
              "      <th>c1</th>\n",
              "      <th></th>\n",
              "      <th></th>\n",
              "    </tr>\n",
              "  </thead>\n",
              "  <tbody>\n",
              "    <tr>\n",
              "      <th>a</th>\n",
              "      <td>2.500000</td>\n",
              "      <td>0.548836</td>\n",
              "    </tr>\n",
              "    <tr>\n",
              "      <th>b</th>\n",
              "      <td>4.333333</td>\n",
              "      <td>0.448003</td>\n",
              "    </tr>\n",
              "    <tr>\n",
              "      <th>c</th>\n",
              "      <td>8.000000</td>\n",
              "      <td>0.493104</td>\n",
              "    </tr>\n",
              "    <tr>\n",
              "      <th>d</th>\n",
              "      <td>9.000000</td>\n",
              "      <td>0.485309</td>\n",
              "    </tr>\n",
              "  </tbody>\n",
              "</table>\n",
              "</div>"
            ],
            "text/plain": [
              "          c3        c4\n",
              "c1                    \n",
              "a   2.500000  0.548836\n",
              "b   4.333333  0.448003\n",
              "c   8.000000  0.493104\n",
              "d   9.000000  0.485309"
            ]
          },
          "execution_count": 15,
          "metadata": {},
          "output_type": "execute_result"
        }
      ],
      "source": [
        "df.groupby('c1').mean() # c2 컬럼은 char이라 평균을 구할 수 없어 제거됨"
      ]
    },
    {
      "cell_type": "code",
      "execution_count": null,
      "metadata": {
        "colab": {
          "base_uri": "https://localhost:8080/",
          "height": 294
        },
        "id": "WrFg05U5RXE6",
        "outputId": "d809fe38-3624-43b3-f4dc-c1112d8492e9"
      },
      "outputs": [
        {
          "data": {
            "text/html": [
              "<div>\n",
              "<style scoped>\n",
              "    .dataframe tbody tr th:only-of-type {\n",
              "        vertical-align: middle;\n",
              "    }\n",
              "\n",
              "    .dataframe tbody tr th {\n",
              "        vertical-align: top;\n",
              "    }\n",
              "\n",
              "    .dataframe thead th {\n",
              "        text-align: right;\n",
              "    }\n",
              "</style>\n",
              "<table border=\"1\" class=\"dataframe\">\n",
              "  <thead>\n",
              "    <tr style=\"text-align: right;\">\n",
              "      <th></th>\n",
              "      <th></th>\n",
              "      <th>c3</th>\n",
              "      <th>c4</th>\n",
              "    </tr>\n",
              "    <tr>\n",
              "      <th>c1</th>\n",
              "      <th>c2</th>\n",
              "      <th></th>\n",
              "      <th></th>\n",
              "    </tr>\n",
              "  </thead>\n",
              "  <tbody>\n",
              "    <tr>\n",
              "      <th rowspan=\"2\" valign=\"top\">a</th>\n",
              "      <th>A</th>\n",
              "      <td>3.0</td>\n",
              "      <td>0.321444</td>\n",
              "    </tr>\n",
              "    <tr>\n",
              "      <th>B</th>\n",
              "      <td>2.0</td>\n",
              "      <td>0.776228</td>\n",
              "    </tr>\n",
              "    <tr>\n",
              "      <th rowspan=\"3\" valign=\"top\">b</th>\n",
              "      <th>A</th>\n",
              "      <td>7.0</td>\n",
              "      <td>0.518714</td>\n",
              "    </tr>\n",
              "    <tr>\n",
              "      <th>B</th>\n",
              "      <td>3.0</td>\n",
              "      <td>0.397175</td>\n",
              "    </tr>\n",
              "    <tr>\n",
              "      <th>C</th>\n",
              "      <td>3.0</td>\n",
              "      <td>0.428121</td>\n",
              "    </tr>\n",
              "    <tr>\n",
              "      <th>c</th>\n",
              "      <th>D</th>\n",
              "      <td>8.0</td>\n",
              "      <td>0.493104</td>\n",
              "    </tr>\n",
              "    <tr>\n",
              "      <th>d</th>\n",
              "      <th>C</th>\n",
              "      <td>9.0</td>\n",
              "      <td>0.485309</td>\n",
              "    </tr>\n",
              "  </tbody>\n",
              "</table>\n",
              "</div>"
            ],
            "text/plain": [
              "        c3        c4\n",
              "c1 c2               \n",
              "a  A   3.0  0.321444\n",
              "   B   2.0  0.776228\n",
              "b  A   7.0  0.518714\n",
              "   B   3.0  0.397175\n",
              "   C   3.0  0.428121\n",
              "c  D   8.0  0.493104\n",
              "d  C   9.0  0.485309"
            ]
          },
          "execution_count": 16,
          "metadata": {},
          "output_type": "execute_result"
        }
      ],
      "source": [
        "df.groupby(['c1', 'c2']).mean()"
      ]
    },
    {
      "cell_type": "code",
      "execution_count": null,
      "metadata": {
        "colab": {
          "base_uri": "https://localhost:8080/",
          "height": 173
        },
        "id": "Oj5diRr-Rh3Y",
        "outputId": "4c63b3da-1426-4ebc-81e1-af3e562213b4"
      },
      "outputs": [
        {
          "data": {
            "text/plain": [
              "c1  c2\n",
              "a   A     1\n",
              "    B     1\n",
              "b   A     1\n",
              "    B     1\n",
              "    C     1\n",
              "c   D     1\n",
              "d   C     1\n",
              "dtype: int64"
            ]
          },
          "execution_count": 17,
          "metadata": {},
          "output_type": "execute_result"
        }
      ],
      "source": [
        "df.groupby(['c1', 'c2']).size() # 그룹을 존재하는 값들의 크기 (개수)"
      ]
    },
    {
      "cell_type": "code",
      "execution_count": null,
      "metadata": {
        "colab": {
          "base_uri": "https://localhost:8080/",
          "height": 294
        },
        "id": "gqqcpQx6XFPD",
        "outputId": "26f21130-c082-478c-c34d-63c1940ae3d9"
      },
      "outputs": [
        {
          "data": {
            "text/plain": [
              "c1  c2\n",
              "a   A     0.321444\n",
              "    B     0.776228\n",
              "b   A     0.518714\n",
              "    B     0.397175\n",
              "    C     0.428121\n",
              "c   D     0.493104\n",
              "d   C     0.485309\n",
              "Name: c4, dtype: float64"
            ]
          },
          "execution_count": 19,
          "metadata": {},
          "output_type": "execute_result"
        }
      ],
      "source": [
        "df.groupby(['c1', 'c2'])['c4'].mean() # Series"
      ]
    },
    {
      "cell_type": "code",
      "execution_count": null,
      "metadata": {
        "scrolled": true,
        "id": "0IeYnR1VJ9FM",
        "outputId": "79a08120-ba09-43b6-f24c-0e73b0885442"
      },
      "outputs": [
        {
          "data": {
            "text/html": [
              "<div>\n",
              "<style scoped>\n",
              "    .dataframe tbody tr th:only-of-type {\n",
              "        vertical-align: middle;\n",
              "    }\n",
              "\n",
              "    .dataframe tbody tr th {\n",
              "        vertical-align: top;\n",
              "    }\n",
              "\n",
              "    .dataframe thead th {\n",
              "        text-align: right;\n",
              "    }\n",
              "</style>\n",
              "<table border=\"1\" class=\"dataframe\">\n",
              "  <thead>\n",
              "    <tr style=\"text-align: right;\">\n",
              "      <th></th>\n",
              "      <th></th>\n",
              "      <th>c4</th>\n",
              "    </tr>\n",
              "    <tr>\n",
              "      <th>c1</th>\n",
              "      <th>c2</th>\n",
              "      <th></th>\n",
              "    </tr>\n",
              "  </thead>\n",
              "  <tbody>\n",
              "    <tr>\n",
              "      <th rowspan=\"2\" valign=\"top\">a</th>\n",
              "      <th>A</th>\n",
              "      <td>0.321444</td>\n",
              "    </tr>\n",
              "    <tr>\n",
              "      <th>B</th>\n",
              "      <td>0.776228</td>\n",
              "    </tr>\n",
              "    <tr>\n",
              "      <th rowspan=\"3\" valign=\"top\">b</th>\n",
              "      <th>A</th>\n",
              "      <td>0.518714</td>\n",
              "    </tr>\n",
              "    <tr>\n",
              "      <th>B</th>\n",
              "      <td>0.397175</td>\n",
              "    </tr>\n",
              "    <tr>\n",
              "      <th>C</th>\n",
              "      <td>0.428121</td>\n",
              "    </tr>\n",
              "    <tr>\n",
              "      <th>c</th>\n",
              "      <th>D</th>\n",
              "      <td>0.493104</td>\n",
              "    </tr>\n",
              "    <tr>\n",
              "      <th>d</th>\n",
              "      <th>C</th>\n",
              "      <td>0.485309</td>\n",
              "    </tr>\n",
              "  </tbody>\n",
              "</table>\n",
              "</div>"
            ],
            "text/plain": [
              "             c4\n",
              "c1 c2          \n",
              "a  A   0.321444\n",
              "   B   0.776228\n",
              "b  A   0.518714\n",
              "   B   0.397175\n",
              "   C   0.428121\n",
              "c  D   0.493104\n",
              "d  C   0.485309"
            ]
          },
          "execution_count": 20,
          "metadata": {},
          "output_type": "execute_result"
        }
      ],
      "source": [
        "df.groupby(['c1', 'c2'])[['c4']].mean() # DataFrame"
      ]
    },
    {
      "cell_type": "code",
      "execution_count": null,
      "metadata": {
        "id": "FuLekdtjJ9FM",
        "outputId": "995472c9-074e-44b8-a7e5-de3439c8c0c1"
      },
      "outputs": [
        {
          "data": {
            "text/plain": [
              "c1\n",
              "a    2\n",
              "b    3\n",
              "c    1\n",
              "d    1\n",
              "Name: c3, dtype: int64"
            ]
          },
          "execution_count": 21,
          "metadata": {},
          "output_type": "execute_result"
        }
      ],
      "source": [
        "df.groupby('c1')['c3'].count()"
      ]
    },
    {
      "cell_type": "code",
      "execution_count": null,
      "metadata": {
        "colab": {
          "base_uri": "https://localhost:8080/",
          "height": 121
        },
        "id": "mS0V6sfQZyQv",
        "outputId": "2fc56179-1267-420c-e752-11c5499ee27b"
      },
      "outputs": [
        {
          "data": {
            "text/plain": [
              "c1\n",
              "a    2.5\n",
              "b    3.0\n",
              "c    8.0\n",
              "d    9.0\n",
              "Name: c3, dtype: float64"
            ]
          },
          "execution_count": 22,
          "metadata": {},
          "output_type": "execute_result"
        }
      ],
      "source": [
        "df.groupby('c1')['c3'].median()"
      ]
    },
    {
      "cell_type": "code",
      "execution_count": null,
      "metadata": {
        "colab": {
          "base_uri": "https://localhost:8080/",
          "height": 121
        },
        "id": "bEv1Yx3dZ2kO",
        "outputId": "c2936c17-7e4f-4bc9-a90c-1da1a4014eb7"
      },
      "outputs": [
        {
          "data": {
            "text/html": [
              "<div>\n",
              "<style scoped>\n",
              "    .dataframe tbody tr th:only-of-type {\n",
              "        vertical-align: middle;\n",
              "    }\n",
              "\n",
              "    .dataframe tbody tr th {\n",
              "        vertical-align: top;\n",
              "    }\n",
              "\n",
              "    .dataframe thead th {\n",
              "        text-align: right;\n",
              "    }\n",
              "</style>\n",
              "<table border=\"1\" class=\"dataframe\">\n",
              "  <thead>\n",
              "    <tr style=\"text-align: right;\">\n",
              "      <th></th>\n",
              "      <th>mean</th>\n",
              "      <th>min</th>\n",
              "      <th>max</th>\n",
              "    </tr>\n",
              "    <tr>\n",
              "      <th>c1</th>\n",
              "      <th></th>\n",
              "      <th></th>\n",
              "      <th></th>\n",
              "    </tr>\n",
              "  </thead>\n",
              "  <tbody>\n",
              "    <tr>\n",
              "      <th>a</th>\n",
              "      <td>0.548836</td>\n",
              "      <td>0.321444</td>\n",
              "      <td>0.776228</td>\n",
              "    </tr>\n",
              "    <tr>\n",
              "      <th>b</th>\n",
              "      <td>0.448003</td>\n",
              "      <td>0.397175</td>\n",
              "      <td>0.518714</td>\n",
              "    </tr>\n",
              "    <tr>\n",
              "      <th>c</th>\n",
              "      <td>0.493104</td>\n",
              "      <td>0.493104</td>\n",
              "      <td>0.493104</td>\n",
              "    </tr>\n",
              "    <tr>\n",
              "      <th>d</th>\n",
              "      <td>0.485309</td>\n",
              "      <td>0.485309</td>\n",
              "      <td>0.485309</td>\n",
              "    </tr>\n",
              "  </tbody>\n",
              "</table>\n",
              "</div>"
            ],
            "text/plain": [
              "        mean       min       max\n",
              "c1                              \n",
              "a   0.548836  0.321444  0.776228\n",
              "b   0.448003  0.397175  0.518714\n",
              "c   0.493104  0.493104  0.493104\n",
              "d   0.485309  0.485309  0.485309"
            ]
          },
          "execution_count": 23,
          "metadata": {},
          "output_type": "execute_result"
        }
      ],
      "source": [
        "df.groupby('c1')['c4'].agg(['mean', 'min', 'max'])"
      ]
    },
    {
      "cell_type": "markdown",
      "metadata": {
        "id": "wjRK-aLNzLKo"
      },
      "source": [
        "## 문자열 연산"
      ]
    },
    {
      "cell_type": "markdown",
      "metadata": {
        "id": "q1LwRoiH0h8A"
      },
      "source": [
        "#### 문자열 연산자"
      ]
    },
    {
      "cell_type": "markdown",
      "metadata": {
        "id": "6OgcUKrW0X4J"
      },
      "source": [
        "* 파이썬의 문자열 연산자를 거의 모두 반영\n",
        "\n",
        "| 함수 | 설명 |\n",
        "| --- | --- |\n",
        "| `capitalize()` | 첫 문자를 대문자로하고, 나머지 문자를 소문자로 하는 문자열 반환 |\n",
        "| `casefold()` | 모든 대소문자 구분을 제거 |\n",
        "| `count(sub, [, start[, end]])` | [start, end] 범위에서 부분 문자열 sub의 중복되지 않은 수를 반환 |\n",
        "| `find(sub [, start [, end]])` | [start, end]에서 부분 문자열 sub가 문자열의 가장 작은 인덱스를 반환. sub가 발견되지 않는 경우는 -1 반환 |\n",
        "| `rfind(sub [, start [, end]])` | [start, end]에서 부분 문자열 sub가 문자열의 가장 작은 큰 인덱스를 반환. sub가 발견되지 않는 경우는 -1 반환 |\n",
        "| `index(sub [, start [, end]])` | find()과 유사하지만 부분 문자열 sub가 없으면 ValueError 발생 |\n",
        "| `rindex(sub [, start [, end]])` | rfind()과 유사하지만 부분 문자열 sub가 없으면 ValueError 발생 |\n",
        "| `isalnum()` | 문자열의 모든 문자가 영숫자로 1개 이상 있으면 True, 아니면 False 반환 |\n",
        "| `isalpha()` | 문자열의 모든 문자가 영문자로 1개 이상 있으면 True, 아니면 False 반환 |\n",
        "| `isdecimal()` | 문자열의 모든 문자가 10진수 문자이며 1개 이상 있을 때 True, 그렇지 않으면 False 반환 |\n",
        "| `isdigit()` | 문자열의 모든 문자가 숫자이며 1개 이상 있을 때 True, 그렇지 않으면 False 반환 |\n",
        "| `isnumeric()` | 문자열의 모든 문자가 수치형이며 1개 이상 있을 때 True, 그렇지 않으면 False 반환 |\n",
        "| `isidentifier()` | 문자열이 유효한 식별자인 경우 True 반환 |\n",
        "| `isspace()` | 문자열 내에 공백 문자가 있고, 문자가 1개 이상 있으면 True, 그렇지 않으면 False |\n",
        "| `istitle()` | 문자열이 제목이 있는 문자열에 문자가 1개 이상 있으면 True, 그렇지 않으면 False |\n",
        "| `islower()` | 문자열의 모든 문자가 소문자이며 1개 이상 있을 때 True, 그렇지 않으면 False 반환 |\n",
        "| `isupper()` | 문자열의 문자가 모두 대문자에 문자가 1개 이상 있으면 True, 그렇지 않으면 False |\n",
        "| `join(iterable)` | iterable에 있는 문자열에 연결된 문자열을 반환 |\n",
        "| `center(width [, fillchar])` | 길이 너비만큼 중앙정렬된 문자열 반환 |\n",
        "| `ljust(width [, fillchar])` | 너미만큼의 문자열에서 왼쪽 정렬된 문자열을 반환 |\n",
        "| `rjust(width [, fillchar])` | 너미만큼의 문자열에서 오른쪽 정렬된 문자열을 반환 |\n",
        "| `lower()` | 모든 대소문자가 소문자로 변환된 문자열을 반환 |\n",
        "| `upper()` | 문자열에서 모든 문자를 대문자로 변환한 문자열을 반환 |\n",
        "| `title()` | 문자열에서 첫 글자만 대문자이고 나머지는 소문자인 문자열 반환 |\n",
        "| `swapcase()` | 문자열에서 소문자를 대문자로 대문자를 소문자로 변환한 문자열 반환 |\n",
        "| `strip([chars])` | 문자열 양쪽에 지정된 chars 또는 공백을 제거한 문자열을 반환 |\n",
        "| `lstrip([chars])` | 문자열 왼쪽에 지정된 chars 또는 공백을 제거한 문자열을 반환 |\n",
        "| `rstrip([chars])` | 문자열 오른쪽에 지정된 chars 또는 공백을 제거한 문자열을 반환 |\n",
        "| `partition(sep)` | 문자열에서 첫번째 sep를 기준으로 분할하여 3개의 튜플을 반환 |\n",
        "| `rpartition(sep)` | 문자열에서 마지막 sep를 기준으로 분할하여 3개의 튜플을 반환 |\n",
        "| `replace(old, new[,count])` | 문자열의 모든 old를 new로 교체한 문자열을 반환 |\n",
        "| `split(sep=None, maxsplit=1)` | sep를 구분자 문자열로 사용하여 문자열의 단어 목록을 반환 |\n",
        "| `rsplit(sep=None, maxsplit=1)` | sep를 구분자 문자열로 사용하여 문자열의 단어 목록을 반환 |\n",
        "| `splitlines([keepends])` | 문자열에서 라인 단위로 구분하여 리스트를 반환 |\n",
        "| `startswith(prefix [, start[, end]])` | [start, end] 범위에서 지정한 prefix로 시작하면 True, 아니면 False 반환 |\n",
        "| `endswith(suffix [, start[, end]])` | [start, end] 범위에서 지정한 suffix로 끝나면 True, 아니면 False 반환 |\n",
        "| `zfill(width)` | 너비 만큼의 문자열에서 비어있는 부분에 ‘0’이 채워진 문자열 반환 |"
      ]
    },
    {
      "cell_type": "code",
      "execution_count": null,
      "metadata": {
        "colab": {
          "base_uri": "https://localhost:8080/",
          "height": 173
        },
        "id": "AXJwgoGYyPx7",
        "outputId": "17eed235-ff72-43b6-8314-04e0e42db3d1"
      },
      "outputs": [
        {
          "data": {
            "text/plain": [
              "0             Sun Jo\n",
              "1        Steven Jobs\n",
              "2         Larry Page\n",
              "3          Elon Musk\n",
              "4               None\n",
              "5         Bill Gates\n",
              "6    Mark Zuckerberg\n",
              "7         Zeff Bezos\n",
              "dtype: object"
            ]
          },
          "execution_count": 4,
          "metadata": {},
          "output_type": "execute_result"
        }
      ],
      "source": [
        "name_list = ['Sun Jo', 'Steven Jobs', 'Larry Page', 'Elon Musk', None, 'Bill Gates', \"Mark Zuckerberg\", \"Zeff Bezos\"]\n",
        "names = pd.Series(name_list)\n",
        "names"
      ]
    },
    {
      "cell_type": "code",
      "execution_count": null,
      "metadata": {
        "colab": {
          "base_uri": "https://localhost:8080/",
          "height": 173
        },
        "id": "8UZuQclNzvy7",
        "outputId": "884f2a2c-daff-4b47-eb8d-3cde901e4787"
      },
      "outputs": [
        {
          "data": {
            "text/plain": [
              "0             sun jo\n",
              "1        steven jobs\n",
              "2         larry page\n",
              "3          elon musk\n",
              "4               None\n",
              "5         bill gates\n",
              "6    mark zuckerberg\n",
              "7         zeff bezos\n",
              "dtype: object"
            ]
          },
          "execution_count": 5,
          "metadata": {},
          "output_type": "execute_result"
        }
      ],
      "source": [
        "names.str.lower()"
      ]
    },
    {
      "cell_type": "code",
      "execution_count": null,
      "metadata": {
        "colab": {
          "base_uri": "https://localhost:8080/",
          "height": 173
        },
        "id": "RKC2Y-_p1cgf",
        "outputId": "500c1ffe-7886-4e4a-f83e-60568a677f55"
      },
      "outputs": [
        {
          "data": {
            "text/plain": [
              "0     6.0\n",
              "1    11.0\n",
              "2    10.0\n",
              "3     9.0\n",
              "4     NaN\n",
              "5    10.0\n",
              "6    15.0\n",
              "7    10.0\n",
              "dtype: float64"
            ]
          },
          "execution_count": 6,
          "metadata": {},
          "output_type": "execute_result"
        }
      ],
      "source": [
        "names.str.len()"
      ]
    },
    {
      "cell_type": "code",
      "execution_count": null,
      "metadata": {
        "colab": {
          "base_uri": "https://localhost:8080/",
          "height": 173
        },
        "id": "pEza_iX71gdo",
        "outputId": "b6103efe-843e-47ce-f948-60bfbe64425b"
      },
      "outputs": [
        {
          "data": {
            "text/plain": [
              "0             [Sun, Jo]\n",
              "1        [Steven, Jobs]\n",
              "2         [Larry, Page]\n",
              "3          [Elon, Musk]\n",
              "4                  None\n",
              "5         [Bill, Gates]\n",
              "6    [Mark, Zuckerberg]\n",
              "7         [Zeff, Bezos]\n",
              "dtype: object"
            ]
          },
          "execution_count": 7,
          "metadata": {},
          "output_type": "execute_result"
        }
      ],
      "source": [
        "names.str.split()"
      ]
    },
    {
      "cell_type": "markdown",
      "metadata": {
        "id": "BOO7UiIisygc"
      },
      "source": [
        "## 데이터 읽기 및 저장\n",
        "\n",
        "| 함수 | 설명 |\n",
        "|------|------|\n",
        "| `read_csv` | 파일, URL, 객체로부터 구분된 데이터 읽기 (기본 구분자: ',') |\n",
        "| `read_table` | 파일, URL, 객체로부터 구분된 데이터 읽기 (기본 구분자: '\\t') |\n",
        "| `read_fwf` | 고정폭 컬럼 형식에서 데이터 읽기 (구분자 없는 데이터) |\n",
        "| `read_clipboard` | 클립보드에 있는 데이터 읽기. 웹페이지에 있는 표를 읽어올 때 유용 |\n",
        "| `read_excel` | 엑셀 파일(xls, xlsx)에서 표 형식 데이터 읽기 |\n",
        "| `read_hdf` | Pandas에서 저장한 HDFS 파일의 데이터 읽기 |\n",
        "| `read_html` | HTML 문서 내의 모든 테이블 데이터 읽기 |\n",
        "| `read_json` | JSON에서 데이터 읽기 |\n",
        "| `read_msgpack` | 메시지팩 바이너리 포맷으로 인코딩된 pandas 데이터 읽기 |\n",
        "| `read_pickle` | 파이썬 피클 포맷으로 저장된 객체 읽기 |\n",
        "| `read_sas` | SAS 시스템의 사용자 정의 저장 포맷 데이터 읽기 |\n",
        "| `read_sql` | SQL 질의 결과를 DataFrame 형식으로 읽기 |\n",
        "| `read_stata` | Stata 파일에서 데이터 읽기 |\n",
        "| `read_feather` | Feather 바이너리 파일 포맷의 데이터 읽기 |"
      ]
    },
    {
      "cell_type": "markdown",
      "metadata": {
        "id": "gywGx4BUY8kK"
      },
      "source": [
        "### 텍스트 파일 읽기/쓰기"
      ]
    },
    {
      "cell_type": "code",
      "execution_count": null,
      "metadata": {
        "colab": {
          "base_uri": "https://localhost:8080/",
          "height": 35
        },
        "id": "YKleNV0lswbP",
        "outputId": "b02dda98-935d-4847-f8dd-dc7569976236"
      },
      "outputs": [
        {
          "name": "stdout",
          "output_type": "stream",
          "text": [
            "Writing example1.csv\n"
          ]
        }
      ],
      "source": [
        "%%writefile example1.csv\n",
        "a, b, c, d, e, text\n",
        "1, 2, 3, 4, 5, hi\n",
        "6, 7, 8, 9, 10, pandas\n",
        "11, 12, 13, 14, 15, csv"
      ]
    },
    {
      "cell_type": "code",
      "execution_count": null,
      "metadata": {
        "colab": {
          "base_uri": "https://localhost:8080/",
          "height": 35
        },
        "id": "uDL9fxU_N3e8",
        "outputId": "a2ad3d2e-8bda-48bb-ff31-41790bf47fa7"
      },
      "outputs": [
        {
          "name": "stdout",
          "output_type": "stream",
          "text": [
            " C 드라이브의 볼륨에는 이름이 없습니다.\n",
            " 볼륨 일련 번호: EC96-8CAA\n",
            "\n",
            " C:\\Users\\SOP\\Desktop\\3. Pandas 디렉터리\n",
            "\n",
            "2022-03-31  오후 12:39    <DIR>          .\n",
            "2022-03-31  오후 12:39    <DIR>          ..\n",
            "2022-03-25  오후 12:47    <DIR>          .ipynb_checkpoints\n",
            "2022-03-31  오후 12:39                89 example1.csv\n",
            "2022-03-31  오후 12:38           286,206 Pandas.ipynb\n",
            "               2개 파일             286,295 바이트\n",
            "               3개 디렉터리  59,282,735,104 바이트 남음\n"
          ]
        }
      ],
      "source": [
        "ls"
      ]
    },
    {
      "cell_type": "code",
      "execution_count": null,
      "metadata": {
        "colab": {
          "base_uri": "https://localhost:8080/",
          "height": 141
        },
        "id": "8qpTNo0rNzQ1",
        "outputId": "0176990c-dea9-4047-deb5-79abacd9b6a2"
      },
      "outputs": [
        {
          "data": {
            "text/html": [
              "<div>\n",
              "<style scoped>\n",
              "    .dataframe tbody tr th:only-of-type {\n",
              "        vertical-align: middle;\n",
              "    }\n",
              "\n",
              "    .dataframe tbody tr th {\n",
              "        vertical-align: top;\n",
              "    }\n",
              "\n",
              "    .dataframe thead th {\n",
              "        text-align: right;\n",
              "    }\n",
              "</style>\n",
              "<table border=\"1\" class=\"dataframe\">\n",
              "  <thead>\n",
              "    <tr style=\"text-align: right;\">\n",
              "      <th></th>\n",
              "      <th>a</th>\n",
              "      <th>b</th>\n",
              "      <th>c</th>\n",
              "      <th>d</th>\n",
              "      <th>e</th>\n",
              "      <th>text</th>\n",
              "    </tr>\n",
              "  </thead>\n",
              "  <tbody>\n",
              "    <tr>\n",
              "      <th>0</th>\n",
              "      <td>1</td>\n",
              "      <td>2</td>\n",
              "      <td>3</td>\n",
              "      <td>4</td>\n",
              "      <td>5</td>\n",
              "      <td>hi</td>\n",
              "    </tr>\n",
              "    <tr>\n",
              "      <th>1</th>\n",
              "      <td>6</td>\n",
              "      <td>7</td>\n",
              "      <td>8</td>\n",
              "      <td>9</td>\n",
              "      <td>10</td>\n",
              "      <td>pandas</td>\n",
              "    </tr>\n",
              "    <tr>\n",
              "      <th>2</th>\n",
              "      <td>11</td>\n",
              "      <td>12</td>\n",
              "      <td>13</td>\n",
              "      <td>14</td>\n",
              "      <td>15</td>\n",
              "      <td>csv</td>\n",
              "    </tr>\n",
              "  </tbody>\n",
              "</table>\n",
              "</div>"
            ],
            "text/plain": [
              "    a   b   c   d   e     text\n",
              "0   1   2   3   4   5       hi\n",
              "1   6   7   8   9  10   pandas\n",
              "2  11  12  13  14  15      csv"
            ]
          },
          "execution_count": 10,
          "metadata": {},
          "output_type": "execute_result"
        }
      ],
      "source": [
        "pd.read_csv('example1.csv')"
      ]
    },
    {
      "cell_type": "code",
      "execution_count": null,
      "metadata": {
        "colab": {
          "base_uri": "https://localhost:8080/",
          "height": 35
        },
        "id": "uFgOXuSWODON",
        "outputId": "a9f6dded-1acb-4023-c95d-f752178983d0"
      },
      "outputs": [
        {
          "name": "stdout",
          "output_type": "stream",
          "text": [
            "Writing example2.csv\n"
          ]
        }
      ],
      "source": [
        "%%writefile example2.csv\n",
        "1, 2, 3, 4, 5, hi\n",
        "6, 7, 8, 9, 10, pandas\n",
        "11, 12, 13, 14, 15, csv"
      ]
    },
    {
      "cell_type": "code",
      "execution_count": null,
      "metadata": {
        "colab": {
          "base_uri": "https://localhost:8080/",
          "height": 141
        },
        "id": "DxsJR_AHOGNM",
        "outputId": "bd6376dd-72e0-44f3-ba56-b2e2baeeffe5"
      },
      "outputs": [
        {
          "name": "stdout",
          "output_type": "stream",
          "text": [
            " C 드라이브의 볼륨에는 이름이 없습니다.\n",
            " 볼륨 일련 번호: EC96-8CAA\n",
            "\n",
            " C:\\Users\\SOP\\Desktop\\3. Pandas 디렉터리\n",
            "\n",
            "2022-03-31  오후 12:40    <DIR>          .\n",
            "2022-03-31  오후 12:40    <DIR>          ..\n",
            "2022-03-25  오후 12:47    <DIR>          .ipynb_checkpoints\n",
            "2022-03-31  오후 12:39                89 example1.csv\n",
            "2022-03-31  오후 12:40                68 example2.csv\n",
            "2022-03-31  오후 12:40           289,259 Pandas.ipynb\n",
            "               3개 파일             289,416 바이트\n",
            "               3개 디렉터리  59,274,223,616 바이트 남음\n"
          ]
        }
      ],
      "source": [
        "ls"
      ]
    },
    {
      "cell_type": "code",
      "execution_count": null,
      "metadata": {
        "colab": {
          "base_uri": "https://localhost:8080/",
          "height": 141
        },
        "id": "pINjVRJlOP3f",
        "outputId": "db05c949-0be6-40a3-c06c-4b226ea128dd"
      },
      "outputs": [
        {
          "data": {
            "text/html": [
              "<div>\n",
              "<style scoped>\n",
              "    .dataframe tbody tr th:only-of-type {\n",
              "        vertical-align: middle;\n",
              "    }\n",
              "\n",
              "    .dataframe tbody tr th {\n",
              "        vertical-align: top;\n",
              "    }\n",
              "\n",
              "    .dataframe thead th {\n",
              "        text-align: right;\n",
              "    }\n",
              "</style>\n",
              "<table border=\"1\" class=\"dataframe\">\n",
              "  <thead>\n",
              "    <tr style=\"text-align: right;\">\n",
              "      <th></th>\n",
              "      <th>0</th>\n",
              "      <th>1</th>\n",
              "      <th>2</th>\n",
              "      <th>3</th>\n",
              "      <th>4</th>\n",
              "      <th>5</th>\n",
              "    </tr>\n",
              "  </thead>\n",
              "  <tbody>\n",
              "    <tr>\n",
              "      <th>0</th>\n",
              "      <td>1</td>\n",
              "      <td>2</td>\n",
              "      <td>3</td>\n",
              "      <td>4</td>\n",
              "      <td>5</td>\n",
              "      <td>hi</td>\n",
              "    </tr>\n",
              "    <tr>\n",
              "      <th>1</th>\n",
              "      <td>6</td>\n",
              "      <td>7</td>\n",
              "      <td>8</td>\n",
              "      <td>9</td>\n",
              "      <td>10</td>\n",
              "      <td>pandas</td>\n",
              "    </tr>\n",
              "    <tr>\n",
              "      <th>2</th>\n",
              "      <td>11</td>\n",
              "      <td>12</td>\n",
              "      <td>13</td>\n",
              "      <td>14</td>\n",
              "      <td>15</td>\n",
              "      <td>csv</td>\n",
              "    </tr>\n",
              "  </tbody>\n",
              "</table>\n",
              "</div>"
            ],
            "text/plain": [
              "    0   1   2   3   4        5\n",
              "0   1   2   3   4   5       hi\n",
              "1   6   7   8   9  10   pandas\n",
              "2  11  12  13  14  15      csv"
            ]
          },
          "execution_count": 13,
          "metadata": {},
          "output_type": "execute_result"
        }
      ],
      "source": [
        "pd.read_csv('example2.csv', header=None) # header가 없다고 명시"
      ]
    },
    {
      "cell_type": "code",
      "execution_count": null,
      "metadata": {
        "colab": {
          "base_uri": "https://localhost:8080/",
          "height": 171
        },
        "id": "_OOxJ6AoOdsa",
        "outputId": "1f39b8fe-548f-464e-9112-4fa4ae97452f"
      },
      "outputs": [
        {
          "data": {
            "text/html": [
              "<div>\n",
              "<style scoped>\n",
              "    .dataframe tbody tr th:only-of-type {\n",
              "        vertical-align: middle;\n",
              "    }\n",
              "\n",
              "    .dataframe tbody tr th {\n",
              "        vertical-align: top;\n",
              "    }\n",
              "\n",
              "    .dataframe thead th {\n",
              "        text-align: right;\n",
              "    }\n",
              "</style>\n",
              "<table border=\"1\" class=\"dataframe\">\n",
              "  <thead>\n",
              "    <tr style=\"text-align: right;\">\n",
              "      <th></th>\n",
              "      <th>a</th>\n",
              "      <th>b</th>\n",
              "      <th>c</th>\n",
              "      <th>d</th>\n",
              "      <th>e</th>\n",
              "      <th>text</th>\n",
              "    </tr>\n",
              "  </thead>\n",
              "  <tbody>\n",
              "    <tr>\n",
              "      <th>0</th>\n",
              "      <td>1</td>\n",
              "      <td>2</td>\n",
              "      <td>3</td>\n",
              "      <td>4</td>\n",
              "      <td>5</td>\n",
              "      <td>hi</td>\n",
              "    </tr>\n",
              "    <tr>\n",
              "      <th>1</th>\n",
              "      <td>6</td>\n",
              "      <td>7</td>\n",
              "      <td>8</td>\n",
              "      <td>9</td>\n",
              "      <td>10</td>\n",
              "      <td>pandas</td>\n",
              "    </tr>\n",
              "    <tr>\n",
              "      <th>2</th>\n",
              "      <td>11</td>\n",
              "      <td>12</td>\n",
              "      <td>13</td>\n",
              "      <td>14</td>\n",
              "      <td>15</td>\n",
              "      <td>csv</td>\n",
              "    </tr>\n",
              "  </tbody>\n",
              "</table>\n",
              "</div>"
            ],
            "text/plain": [
              "    a   b   c   d   e     text\n",
              "0   1   2   3   4   5       hi\n",
              "1   6   7   8   9  10   pandas\n",
              "2  11  12  13  14  15      csv"
            ]
          },
          "execution_count": 15,
          "metadata": {},
          "output_type": "execute_result"
        }
      ],
      "source": [
        "pd.read_csv('example2.csv', names=['a', 'b', 'c', 'd', 'e', 'text'])"
      ]
    },
    {
      "cell_type": "code",
      "execution_count": null,
      "metadata": {
        "colab": {
          "base_uri": "https://localhost:8080/",
          "height": 35
        },
        "id": "41CvMcUxOqG2",
        "outputId": "70bf44c4-7128-44ea-d745-09ad5e1cb9c8"
      },
      "outputs": [
        {
          "data": {
            "text/html": [
              "<div>\n",
              "<style scoped>\n",
              "    .dataframe tbody tr th:only-of-type {\n",
              "        vertical-align: middle;\n",
              "    }\n",
              "\n",
              "    .dataframe tbody tr th {\n",
              "        vertical-align: top;\n",
              "    }\n",
              "\n",
              "    .dataframe thead th {\n",
              "        text-align: right;\n",
              "    }\n",
              "</style>\n",
              "<table border=\"1\" class=\"dataframe\">\n",
              "  <thead>\n",
              "    <tr style=\"text-align: right;\">\n",
              "      <th></th>\n",
              "      <th>a</th>\n",
              "      <th>b</th>\n",
              "      <th>c</th>\n",
              "      <th>d</th>\n",
              "      <th>e</th>\n",
              "    </tr>\n",
              "    <tr>\n",
              "      <th>text</th>\n",
              "      <th></th>\n",
              "      <th></th>\n",
              "      <th></th>\n",
              "      <th></th>\n",
              "      <th></th>\n",
              "    </tr>\n",
              "  </thead>\n",
              "  <tbody>\n",
              "    <tr>\n",
              "      <th>hi</th>\n",
              "      <td>1</td>\n",
              "      <td>2</td>\n",
              "      <td>3</td>\n",
              "      <td>4</td>\n",
              "      <td>5</td>\n",
              "    </tr>\n",
              "    <tr>\n",
              "      <th>pandas</th>\n",
              "      <td>6</td>\n",
              "      <td>7</td>\n",
              "      <td>8</td>\n",
              "      <td>9</td>\n",
              "      <td>10</td>\n",
              "    </tr>\n",
              "    <tr>\n",
              "      <th>csv</th>\n",
              "      <td>11</td>\n",
              "      <td>12</td>\n",
              "      <td>13</td>\n",
              "      <td>14</td>\n",
              "      <td>15</td>\n",
              "    </tr>\n",
              "  </tbody>\n",
              "</table>\n",
              "</div>"
            ],
            "text/plain": [
              "          a   b   c   d   e\n",
              "text                       \n",
              " hi       1   2   3   4   5\n",
              " pandas   6   7   8   9  10\n",
              " csv     11  12  13  14  15"
            ]
          },
          "execution_count": 16,
          "metadata": {},
          "output_type": "execute_result"
        }
      ],
      "source": [
        "pd.read_csv('example2.csv', names=['a', 'b', 'c', 'd', 'e', 'text'], index_col = 'text')"
      ]
    },
    {
      "cell_type": "code",
      "execution_count": null,
      "metadata": {
        "colab": {
          "base_uri": "https://localhost:8080/",
          "height": 141
        },
        "id": "IUWp5vjzPG_F",
        "outputId": "82e17abb-5497-4e58-86bb-b7e910c9bda5"
      },
      "outputs": [
        {
          "name": "stdout",
          "output_type": "stream",
          "text": [
            "Writing example3.txt\n"
          ]
        }
      ],
      "source": [
        "%%writefile example3.txt\n",
        "     a   b   c\n",
        "1   0.1 0.2 0.3\n",
        "2   0.4 0.5 0.6\n",
        "3   0.7 0.8 0.9"
      ]
    },
    {
      "cell_type": "code",
      "execution_count": null,
      "metadata": {
        "colab": {
          "base_uri": "https://localhost:8080/",
          "height": 35
        },
        "id": "Ywb5JK5qRTvs",
        "outputId": "d4fb471e-99ac-46bc-8b60-ef04ce67c249"
      },
      "outputs": [
        {
          "data": {
            "text/html": [
              "<div>\n",
              "<style scoped>\n",
              "    .dataframe tbody tr th:only-of-type {\n",
              "        vertical-align: middle;\n",
              "    }\n",
              "\n",
              "    .dataframe tbody tr th {\n",
              "        vertical-align: top;\n",
              "    }\n",
              "\n",
              "    .dataframe thead th {\n",
              "        text-align: right;\n",
              "    }\n",
              "</style>\n",
              "<table border=\"1\" class=\"dataframe\">\n",
              "  <thead>\n",
              "    <tr style=\"text-align: right;\">\n",
              "      <th></th>\n",
              "      <th>a</th>\n",
              "      <th>b</th>\n",
              "      <th>c</th>\n",
              "    </tr>\n",
              "  </thead>\n",
              "  <tbody>\n",
              "    <tr>\n",
              "      <th>1</th>\n",
              "      <td>0.1</td>\n",
              "      <td>0.2</td>\n",
              "      <td>0.3</td>\n",
              "    </tr>\n",
              "    <tr>\n",
              "      <th>2</th>\n",
              "      <td>0.4</td>\n",
              "      <td>0.5</td>\n",
              "      <td>0.6</td>\n",
              "    </tr>\n",
              "    <tr>\n",
              "      <th>3</th>\n",
              "      <td>0.7</td>\n",
              "      <td>0.8</td>\n",
              "      <td>0.9</td>\n",
              "    </tr>\n",
              "  </tbody>\n",
              "</table>\n",
              "</div>"
            ],
            "text/plain": [
              "     a    b    c\n",
              "1  0.1  0.2  0.3\n",
              "2  0.4  0.5  0.6\n",
              "3  0.7  0.8  0.9"
            ]
          },
          "execution_count": 18,
          "metadata": {},
          "output_type": "execute_result"
        }
      ],
      "source": [
        "pd.read_table('example3.txt', sep='\\s+')"
      ]
    },
    {
      "cell_type": "code",
      "execution_count": null,
      "metadata": {
        "colab": {
          "base_uri": "https://localhost:8080/",
          "height": 141
        },
        "id": "PkEC01P2RaiM",
        "outputId": "d6ffea6d-52d1-43ef-bd5e-f90fabebece9"
      },
      "outputs": [
        {
          "name": "stdout",
          "output_type": "stream",
          "text": [
            "Writing example4.csv\n"
          ]
        }
      ],
      "source": [
        "%%writefile example4.csv\n",
        "a, b, c, d, e, text\n",
        "1, 2, NA, 4, 5, hi\n",
        "6, 7, 8, NULL, 10, pandas\n",
        "11, NA, 13, 14, 15, csv"
      ]
    },
    {
      "cell_type": "code",
      "execution_count": null,
      "metadata": {
        "colab": {
          "base_uri": "https://localhost:8080/",
          "height": 35
        },
        "id": "r-LMeRJUR8N4",
        "outputId": "e4ebdad7-29d9-4e4e-e226-a2e6e547985c"
      },
      "outputs": [
        {
          "data": {
            "text/html": [
              "<div>\n",
              "<style scoped>\n",
              "    .dataframe tbody tr th:only-of-type {\n",
              "        vertical-align: middle;\n",
              "    }\n",
              "\n",
              "    .dataframe tbody tr th {\n",
              "        vertical-align: top;\n",
              "    }\n",
              "\n",
              "    .dataframe thead th {\n",
              "        text-align: right;\n",
              "    }\n",
              "</style>\n",
              "<table border=\"1\" class=\"dataframe\">\n",
              "  <thead>\n",
              "    <tr style=\"text-align: right;\">\n",
              "      <th></th>\n",
              "      <th>a</th>\n",
              "      <th>b</th>\n",
              "      <th>c</th>\n",
              "      <th>d</th>\n",
              "      <th>e</th>\n",
              "      <th>text</th>\n",
              "    </tr>\n",
              "  </thead>\n",
              "  <tbody>\n",
              "    <tr>\n",
              "      <th>0</th>\n",
              "      <td>1</td>\n",
              "      <td>2</td>\n",
              "      <td>NA</td>\n",
              "      <td>4</td>\n",
              "      <td>5</td>\n",
              "      <td>hi</td>\n",
              "    </tr>\n",
              "    <tr>\n",
              "      <th>1</th>\n",
              "      <td>6</td>\n",
              "      <td>7</td>\n",
              "      <td>8</td>\n",
              "      <td>NULL</td>\n",
              "      <td>10</td>\n",
              "      <td>pandas</td>\n",
              "    </tr>\n",
              "    <tr>\n",
              "      <th>2</th>\n",
              "      <td>11</td>\n",
              "      <td>NA</td>\n",
              "      <td>13</td>\n",
              "      <td>14</td>\n",
              "      <td>15</td>\n",
              "      <td>csv</td>\n",
              "    </tr>\n",
              "  </tbody>\n",
              "</table>\n",
              "</div>"
            ],
            "text/plain": [
              "    a    b    c      d   e     text\n",
              "0   1    2   NA      4   5       hi\n",
              "1   6    7    8   NULL  10   pandas\n",
              "2  11   NA   13     14  15      csv"
            ]
          },
          "execution_count": 20,
          "metadata": {},
          "output_type": "execute_result"
        }
      ],
      "source": [
        "pd.read_csv('example4.csv')"
      ]
    },
    {
      "cell_type": "code",
      "execution_count": null,
      "metadata": {
        "colab": {
          "base_uri": "https://localhost:8080/",
          "height": 202
        },
        "id": "5eRV5ja3SawJ",
        "outputId": "e327e4ca-4e8b-4c7a-a3d1-43cdcdafdaad"
      },
      "outputs": [
        {
          "name": "stdout",
          "output_type": "stream",
          "text": [
            "Writing example5.csv\n"
          ]
        }
      ],
      "source": [
        "%%writefile example5.csv\n",
        "a, b, c, d, e, text\n",
        "1, 2, NA, 4, 5, hi\n",
        "6, 7, 8, NULL, 10, pandas\n",
        "11, NA, 13, 14, 15, csv\n",
        "1, 2, NA, 4, 5, hi\n",
        "6, 7, 8, NULL, 10, pandas\n",
        "11, NA, 13, 14, 15, csv\n",
        "1, 2, NA, 4, 5, hi\n",
        "6, 7, 8, NULL, 10, pandas\n",
        "11, NA, 13, 14, 15, csv\n",
        "1, 2, NA, 4, 5, hi\n",
        "6, 7, 8, NULL, 10, pandas\n",
        "11, NA, 13, 14, 15, csv\n",
        "1, 2, NA, 4, 5, hi\n",
        "6, 7, 8, NULL, 10, pandas\n",
        "11, NA, 13, 14, 15, csv\n",
        "1, 2, NA, 4, 5, hi\n",
        "6, 7, 8, NULL, 10, pandas\n",
        "11, NA, 13, 14, 15, csv"
      ]
    },
    {
      "cell_type": "code",
      "execution_count": null,
      "metadata": {
        "id": "yeuGKXdrJ9FR",
        "outputId": "d6afed7a-2624-496b-afa1-656445630b02"
      },
      "outputs": [
        {
          "data": {
            "text/html": [
              "<div>\n",
              "<style scoped>\n",
              "    .dataframe tbody tr th:only-of-type {\n",
              "        vertical-align: middle;\n",
              "    }\n",
              "\n",
              "    .dataframe tbody tr th {\n",
              "        vertical-align: top;\n",
              "    }\n",
              "\n",
              "    .dataframe thead th {\n",
              "        text-align: right;\n",
              "    }\n",
              "</style>\n",
              "<table border=\"1\" class=\"dataframe\">\n",
              "  <thead>\n",
              "    <tr style=\"text-align: right;\">\n",
              "      <th></th>\n",
              "      <th>a</th>\n",
              "      <th>b</th>\n",
              "      <th>c</th>\n",
              "      <th>d</th>\n",
              "      <th>e</th>\n",
              "      <th>text</th>\n",
              "    </tr>\n",
              "  </thead>\n",
              "  <tbody>\n",
              "    <tr>\n",
              "      <th>0</th>\n",
              "      <td>1</td>\n",
              "      <td>2</td>\n",
              "      <td>NA</td>\n",
              "      <td>4</td>\n",
              "      <td>5</td>\n",
              "      <td>hi</td>\n",
              "    </tr>\n",
              "    <tr>\n",
              "      <th>1</th>\n",
              "      <td>6</td>\n",
              "      <td>7</td>\n",
              "      <td>8</td>\n",
              "      <td>NULL</td>\n",
              "      <td>10</td>\n",
              "      <td>pandas</td>\n",
              "    </tr>\n",
              "    <tr>\n",
              "      <th>2</th>\n",
              "      <td>11</td>\n",
              "      <td>NA</td>\n",
              "      <td>13</td>\n",
              "      <td>14</td>\n",
              "      <td>15</td>\n",
              "      <td>csv</td>\n",
              "    </tr>\n",
              "    <tr>\n",
              "      <th>3</th>\n",
              "      <td>1</td>\n",
              "      <td>2</td>\n",
              "      <td>NA</td>\n",
              "      <td>4</td>\n",
              "      <td>5</td>\n",
              "      <td>hi</td>\n",
              "    </tr>\n",
              "    <tr>\n",
              "      <th>4</th>\n",
              "      <td>6</td>\n",
              "      <td>7</td>\n",
              "      <td>8</td>\n",
              "      <td>NULL</td>\n",
              "      <td>10</td>\n",
              "      <td>pandas</td>\n",
              "    </tr>\n",
              "  </tbody>\n",
              "</table>\n",
              "</div>"
            ],
            "text/plain": [
              "    a    b    c      d   e     text\n",
              "0   1    2   NA      4   5       hi\n",
              "1   6    7    8   NULL  10   pandas\n",
              "2  11   NA   13     14  15      csv\n",
              "3   1    2   NA      4   5       hi\n",
              "4   6    7    8   NULL  10   pandas"
            ]
          },
          "execution_count": 22,
          "metadata": {},
          "output_type": "execute_result"
        }
      ],
      "source": [
        "pd.read_csv('example5.csv', nrows=5) # 가지고 오는 행의 개수"
      ]
    },
    {
      "cell_type": "markdown",
      "metadata": {
        "id": "TC1H-xT_2F8p"
      },
      "source": [
        "## 데이터 정제"
      ]
    },
    {
      "cell_type": "markdown",
      "metadata": {
        "id": "sHfYzJJsqoiD"
      },
      "source": [
        "### 누락값\n",
        "\n",
        "* 존재하지 않는 데이터"
      ]
    },
    {
      "cell_type": "markdown",
      "metadata": {
        "id": "eYG4GJ04HNea"
      },
      "source": [
        "#### None: 파이썬 누락 데이터"
      ]
    },
    {
      "cell_type": "code",
      "execution_count": null,
      "metadata": {
        "colab": {
          "base_uri": "https://localhost:8080/",
          "height": 35
        },
        "id": "SdbmIhZJqYk-",
        "outputId": "33449af7-5611-4e93-9011-97a21d63402a"
      },
      "outputs": [
        {
          "data": {
            "text/plain": [
              "array([1, 2, None, 4, 5], dtype=object)"
            ]
          },
          "execution_count": 23,
          "metadata": {},
          "output_type": "execute_result"
        }
      ],
      "source": [
        "a = np.array([1, 2, None, 4, 5])\n",
        "a"
      ]
    },
    {
      "cell_type": "code",
      "execution_count": null,
      "metadata": {
        "id": "TGgJm6tSOqz5",
        "outputId": "06973c8d-97e5-476b-fd79-788c5a0d1d55"
      },
      "outputs": [
        {
          "ename": "TypeError",
          "evalue": "unsupported operand type(s) for +: 'int' and 'NoneType'",
          "output_type": "error",
          "traceback": [
            "\u001b[1;31m---------------------------------------------------------------------------\u001b[0m",
            "\u001b[1;31mTypeError\u001b[0m                                 Traceback (most recent call last)",
            "\u001b[1;32m~\\AppData\\Local\\Temp/ipykernel_5424/359836184.py\u001b[0m in \u001b[0;36m<module>\u001b[1;34m\u001b[0m\n\u001b[1;32m----> 1\u001b[1;33m \u001b[0ma\u001b[0m\u001b[1;33m.\u001b[0m\u001b[0msum\u001b[0m\u001b[1;33m(\u001b[0m\u001b[1;33m)\u001b[0m\u001b[1;33m\u001b[0m\u001b[1;33m\u001b[0m\u001b[0m\n\u001b[0m",
            "\u001b[1;32m~\\anaconda3\\lib\\site-packages\\numpy\\core\\_methods.py\u001b[0m in \u001b[0;36m_sum\u001b[1;34m(a, axis, dtype, out, keepdims, initial, where)\u001b[0m\n\u001b[0;32m     45\u001b[0m def _sum(a, axis=None, dtype=None, out=None, keepdims=False,\n\u001b[0;32m     46\u001b[0m          initial=_NoValue, where=True):\n\u001b[1;32m---> 47\u001b[1;33m     \u001b[1;32mreturn\u001b[0m \u001b[0mumr_sum\u001b[0m\u001b[1;33m(\u001b[0m\u001b[0ma\u001b[0m\u001b[1;33m,\u001b[0m \u001b[0maxis\u001b[0m\u001b[1;33m,\u001b[0m \u001b[0mdtype\u001b[0m\u001b[1;33m,\u001b[0m \u001b[0mout\u001b[0m\u001b[1;33m,\u001b[0m \u001b[0mkeepdims\u001b[0m\u001b[1;33m,\u001b[0m \u001b[0minitial\u001b[0m\u001b[1;33m,\u001b[0m \u001b[0mwhere\u001b[0m\u001b[1;33m)\u001b[0m\u001b[1;33m\u001b[0m\u001b[1;33m\u001b[0m\u001b[0m\n\u001b[0m\u001b[0;32m     48\u001b[0m \u001b[1;33m\u001b[0m\u001b[0m\n\u001b[0;32m     49\u001b[0m def _prod(a, axis=None, dtype=None, out=None, keepdims=False,\n",
            "\u001b[1;31mTypeError\u001b[0m: unsupported operand type(s) for +: 'int' and 'NoneType'"
          ]
        }
      ],
      "source": [
        "a.sum() # 오류발생"
      ]
    },
    {
      "cell_type": "markdown",
      "metadata": {
        "id": "Uz-ozgPrPj7g"
      },
      "source": [
        "#### NaN: 누락된 수치 데이터"
      ]
    },
    {
      "cell_type": "code",
      "execution_count": null,
      "metadata": {
        "colab": {
          "base_uri": "https://localhost:8080/",
          "height": 35
        },
        "id": "XIzPctmuPWfU",
        "outputId": "54e7ef7a-215a-44f4-fa93-82fb996a304e"
      },
      "outputs": [
        {
          "name": "stdout",
          "output_type": "stream",
          "text": [
            "[ 1.  2. nan  4.  5.]\n"
          ]
        },
        {
          "data": {
            "text/plain": [
              "dtype('float64')"
            ]
          },
          "execution_count": 25,
          "metadata": {},
          "output_type": "execute_result"
        }
      ],
      "source": [
        "a = np.array([1, 2, np.nan, 4, 5])\n",
        "print(a)\n",
        "a.dtype"
      ]
    },
    {
      "cell_type": "code",
      "execution_count": null,
      "metadata": {
        "colab": {
          "base_uri": "https://localhost:8080/",
          "height": 35
        },
        "id": "hGP2AkgaSUSz",
        "outputId": "f3307576-3986-4952-9861-979d490369dd"
      },
      "outputs": [
        {
          "data": {
            "text/plain": [
              "nan"
            ]
          },
          "execution_count": 26,
          "metadata": {},
          "output_type": "execute_result"
        }
      ],
      "source": [
        "a.sum()"
      ]
    },
    {
      "cell_type": "code",
      "execution_count": null,
      "metadata": {
        "colab": {
          "base_uri": "https://localhost:8080/",
          "height": 35
        },
        "id": "TT4GHf_fSeRi",
        "outputId": "7ca3baa5-274d-438a-bcd5-a5ffc9021e3b"
      },
      "outputs": [
        {
          "data": {
            "text/plain": [
              "12.0"
            ]
          },
          "execution_count": 27,
          "metadata": {},
          "output_type": "execute_result"
        }
      ],
      "source": [
        "np.nansum(a)"
      ]
    },
    {
      "cell_type": "code",
      "execution_count": null,
      "metadata": {
        "colab": {
          "base_uri": "https://localhost:8080/",
          "height": 121
        },
        "id": "U9qtvBxXSlfX",
        "outputId": "30616926-661d-4b66-d244-198ef23c55d7"
      },
      "outputs": [
        {
          "data": {
            "text/plain": [
              "0    1.0\n",
              "1    2.0\n",
              "2    NaN\n",
              "3    4.0\n",
              "4    NaN\n",
              "dtype: float64"
            ]
          },
          "execution_count": 28,
          "metadata": {},
          "output_type": "execute_result"
        }
      ],
      "source": [
        "pd.Series([1, 2, np.nan, 4, None])"
      ]
    },
    {
      "cell_type": "markdown",
      "metadata": {
        "id": "TeZA_l5fUCks"
      },
      "source": [
        "#### 누락값 처리\n",
        "\n",
        "| 인자 | 설명 |\n",
        "|------|------|\n",
        "| `isnull()` | 누락되거나 NA인 값을 불리언 값으로 반환 | \n",
        "| `notnull()` | `issull()`의 반대 | \n",
        "| `dropna()` | 누락된 데이터가 있는 축 제외 | \n",
        "| `fillna()` | 누락된 값을 대체하거나 `ffill`이나 `bfill`로 보간 메소드 적용 | "
      ]
    },
    {
      "cell_type": "code",
      "execution_count": null,
      "metadata": {
        "colab": {
          "base_uri": "https://localhost:8080/",
          "height": 121
        },
        "id": "9gf6oys8akr0",
        "outputId": "77af35dc-0cba-45b3-a81a-b5735bbde8eb"
      },
      "outputs": [
        {
          "data": {
            "text/plain": [
              "0         1\n",
              "1         2\n",
              "2       NaN\n",
              "3    string\n",
              "4      None\n",
              "dtype: object"
            ]
          },
          "execution_count": 29,
          "metadata": {},
          "output_type": "execute_result"
        }
      ],
      "source": [
        "s = pd.Series([1, 2, np.nan, 'string', None])\n",
        "s"
      ]
    },
    {
      "cell_type": "code",
      "execution_count": null,
      "metadata": {
        "colab": {
          "base_uri": "https://localhost:8080/",
          "height": 87
        },
        "id": "u9noWEenamtc",
        "outputId": "aa9cd27f-c9f2-4f5c-d79e-6cc6e9ab598c"
      },
      "outputs": [
        {
          "data": {
            "text/plain": [
              "0    False\n",
              "1    False\n",
              "2     True\n",
              "3    False\n",
              "4     True\n",
              "dtype: bool"
            ]
          },
          "execution_count": 30,
          "metadata": {},
          "output_type": "execute_result"
        }
      ],
      "source": [
        "s.isnull()"
      ]
    },
    {
      "cell_type": "code",
      "execution_count": null,
      "metadata": {
        "colab": {
          "base_uri": "https://localhost:8080/",
          "height": 87
        },
        "id": "EMWvOC5cauNb",
        "outputId": "d0085599-7d26-4617-ce78-268e31be06a1"
      },
      "outputs": [
        {
          "data": {
            "text/plain": [
              "0         1\n",
              "1         2\n",
              "3    string\n",
              "dtype: object"
            ]
          },
          "execution_count": 31,
          "metadata": {},
          "output_type": "execute_result"
        }
      ],
      "source": [
        "s[s.notnull()]"
      ]
    },
    {
      "cell_type": "code",
      "execution_count": null,
      "metadata": {
        "colab": {
          "base_uri": "https://localhost:8080/",
          "height": 121
        },
        "id": "Gk6hV9DibQsg",
        "outputId": "db21d1d3-23d6-4498-9a2b-68d213ba0b72"
      },
      "outputs": [
        {
          "data": {
            "text/plain": [
              "0         1\n",
              "1         2\n",
              "3    string\n",
              "dtype: object"
            ]
          },
          "execution_count": 32,
          "metadata": {},
          "output_type": "execute_result"
        }
      ],
      "source": [
        "s.dropna()"
      ]
    },
    {
      "cell_type": "code",
      "execution_count": null,
      "metadata": {
        "colab": {
          "base_uri": "https://localhost:8080/",
          "height": 121
        },
        "id": "88DA4w8ubUjj",
        "outputId": "950c6a89-81cd-4dec-8f14-3619abb8bf94"
      },
      "outputs": [
        {
          "data": {
            "text/plain": [
              "0         1\n",
              "1         2\n",
              "2         0\n",
              "3    string\n",
              "4         0\n",
              "dtype: object"
            ]
          },
          "execution_count": 33,
          "metadata": {},
          "output_type": "execute_result"
        }
      ],
      "source": [
        "s.fillna(0) # na 존재하면 0으로 채우기"
      ]
    },
    {
      "cell_type": "code",
      "execution_count": null,
      "metadata": {
        "colab": {
          "base_uri": "https://localhost:8080/",
          "height": 121
        },
        "id": "9F9FIW0-bYZs",
        "outputId": "8113e162-5e0b-4b8d-a948-cf453fe6d751"
      },
      "outputs": [
        {
          "data": {
            "text/plain": [
              "0         1\n",
              "1         2\n",
              "2         2\n",
              "3    string\n",
              "4    string\n",
              "dtype: object"
            ]
          },
          "execution_count": 34,
          "metadata": {},
          "output_type": "execute_result"
        }
      ],
      "source": [
        "s.fillna(method = 'ffill') # na 존재하면 앞의 인자로 채우기"
      ]
    },
    {
      "cell_type": "code",
      "execution_count": null,
      "metadata": {
        "colab": {
          "base_uri": "https://localhost:8080/",
          "height": 121
        },
        "id": "o3elF07Nqi2E",
        "outputId": "bb732797-ee5f-4d55-98f1-faeda06f4b47"
      },
      "outputs": [
        {
          "data": {
            "text/plain": [
              "0         1\n",
              "1         2\n",
              "2    string\n",
              "3    string\n",
              "4      None\n",
              "dtype: object"
            ]
          },
          "execution_count": 35,
          "metadata": {},
          "output_type": "execute_result"
        }
      ],
      "source": [
        "s.fillna(method = 'bfill') # 뒤의 값이 없어서 참조할 수 없으니 그냥 None으로 남음"
      ]
    },
    {
      "cell_type": "code",
      "execution_count": null,
      "metadata": {
        "id": "iDJw2TODJ9FY",
        "outputId": "51c27546-4a42-40b3-8d04-cb46d56241b7"
      },
      "outputs": [
        {
          "data": {
            "text/html": [
              "<div>\n",
              "<style scoped>\n",
              "    .dataframe tbody tr th:only-of-type {\n",
              "        vertical-align: middle;\n",
              "    }\n",
              "\n",
              "    .dataframe tbody tr th {\n",
              "        vertical-align: top;\n",
              "    }\n",
              "\n",
              "    .dataframe thead th {\n",
              "        text-align: right;\n",
              "    }\n",
              "</style>\n",
              "<table border=\"1\" class=\"dataframe\">\n",
              "  <thead>\n",
              "    <tr style=\"text-align: right;\">\n",
              "      <th></th>\n",
              "      <th>A</th>\n",
              "      <th>B</th>\n",
              "      <th>C</th>\n",
              "    </tr>\n",
              "  </thead>\n",
              "  <tbody>\n",
              "    <tr>\n",
              "      <th>0</th>\n",
              "      <td>0.128596</td>\n",
              "      <td>0.663428</td>\n",
              "      <td>0.366097</td>\n",
              "    </tr>\n",
              "    <tr>\n",
              "      <th>1</th>\n",
              "      <td>0.574112</td>\n",
              "      <td>0.064554</td>\n",
              "      <td>0.650018</td>\n",
              "    </tr>\n",
              "    <tr>\n",
              "      <th>2</th>\n",
              "      <td>0.592140</td>\n",
              "      <td>0.826804</td>\n",
              "      <td>0.072088</td>\n",
              "    </tr>\n",
              "    <tr>\n",
              "      <th>3</th>\n",
              "      <td>NaN</td>\n",
              "      <td>0.396096</td>\n",
              "      <td>0.606010</td>\n",
              "    </tr>\n",
              "    <tr>\n",
              "      <th>4</th>\n",
              "      <td>NaN</td>\n",
              "      <td>NaN</td>\n",
              "      <td>0.814578</td>\n",
              "    </tr>\n",
              "    <tr>\n",
              "      <th>5</th>\n",
              "      <td>0.388979</td>\n",
              "      <td>NaN</td>\n",
              "      <td>NaN</td>\n",
              "    </tr>\n",
              "    <tr>\n",
              "      <th>6</th>\n",
              "      <td>0.621383</td>\n",
              "      <td>0.820476</td>\n",
              "      <td>NaN</td>\n",
              "    </tr>\n",
              "    <tr>\n",
              "      <th>7</th>\n",
              "      <td>0.355814</td>\n",
              "      <td>0.311660</td>\n",
              "      <td>NaN</td>\n",
              "    </tr>\n",
              "    <tr>\n",
              "      <th>8</th>\n",
              "      <td>0.410268</td>\n",
              "      <td>0.850815</td>\n",
              "      <td>0.270282</td>\n",
              "    </tr>\n",
              "    <tr>\n",
              "      <th>9</th>\n",
              "      <td>0.235623</td>\n",
              "      <td>0.532136</td>\n",
              "      <td>0.851126</td>\n",
              "    </tr>\n",
              "  </tbody>\n",
              "</table>\n",
              "</div>"
            ],
            "text/plain": [
              "          A         B         C\n",
              "0  0.128596  0.663428  0.366097\n",
              "1  0.574112  0.064554  0.650018\n",
              "2  0.592140  0.826804  0.072088\n",
              "3       NaN  0.396096  0.606010\n",
              "4       NaN       NaN  0.814578\n",
              "5  0.388979       NaN       NaN\n",
              "6  0.621383  0.820476       NaN\n",
              "7  0.355814  0.311660       NaN\n",
              "8  0.410268  0.850815  0.270282\n",
              "9  0.235623  0.532136  0.851126"
            ]
          },
          "execution_count": 38,
          "metadata": {},
          "output_type": "execute_result"
        }
      ],
      "source": [
        "df = pd.DataFrame(np.random.rand(10, 3), columns = list('ABC'))\n",
        "df.iloc[3:5, 0] = np.nan\n",
        "df.iloc[4:6, 1] = np.nan\n",
        "df.iloc[5:8, 2] = np.nan\n",
        "df"
      ]
    },
    {
      "cell_type": "code",
      "execution_count": null,
      "metadata": {
        "colab": {
          "base_uri": "https://localhost:8080/",
          "height": 415
        },
        "id": "w3Oe_XlsqlbP",
        "outputId": "790816fb-16a6-4451-f28e-cc0a20c14a1f"
      },
      "outputs": [
        {
          "data": {
            "text/html": [
              "<div>\n",
              "<style scoped>\n",
              "    .dataframe tbody tr th:only-of-type {\n",
              "        vertical-align: middle;\n",
              "    }\n",
              "\n",
              "    .dataframe tbody tr th {\n",
              "        vertical-align: top;\n",
              "    }\n",
              "\n",
              "    .dataframe thead th {\n",
              "        text-align: right;\n",
              "    }\n",
              "</style>\n",
              "<table border=\"1\" class=\"dataframe\">\n",
              "  <thead>\n",
              "    <tr style=\"text-align: right;\">\n",
              "      <th></th>\n",
              "      <th>A</th>\n",
              "      <th>B</th>\n",
              "      <th>C</th>\n",
              "    </tr>\n",
              "  </thead>\n",
              "  <tbody>\n",
              "    <tr>\n",
              "      <th>0</th>\n",
              "      <td>0.128596</td>\n",
              "      <td>0.663428</td>\n",
              "      <td>0.366097</td>\n",
              "    </tr>\n",
              "    <tr>\n",
              "      <th>1</th>\n",
              "      <td>0.574112</td>\n",
              "      <td>0.064554</td>\n",
              "      <td>0.650018</td>\n",
              "    </tr>\n",
              "    <tr>\n",
              "      <th>2</th>\n",
              "      <td>0.592140</td>\n",
              "      <td>0.826804</td>\n",
              "      <td>0.072088</td>\n",
              "    </tr>\n",
              "    <tr>\n",
              "      <th>8</th>\n",
              "      <td>0.410268</td>\n",
              "      <td>0.850815</td>\n",
              "      <td>0.270282</td>\n",
              "    </tr>\n",
              "    <tr>\n",
              "      <th>9</th>\n",
              "      <td>0.235623</td>\n",
              "      <td>0.532136</td>\n",
              "      <td>0.851126</td>\n",
              "    </tr>\n",
              "  </tbody>\n",
              "</table>\n",
              "</div>"
            ],
            "text/plain": [
              "          A         B         C\n",
              "0  0.128596  0.663428  0.366097\n",
              "1  0.574112  0.064554  0.650018\n",
              "2  0.592140  0.826804  0.072088\n",
              "8  0.410268  0.850815  0.270282\n",
              "9  0.235623  0.532136  0.851126"
            ]
          },
          "execution_count": 39,
          "metadata": {},
          "output_type": "execute_result"
        }
      ],
      "source": [
        "df.dropna()"
      ]
    },
    {
      "cell_type": "code",
      "execution_count": null,
      "metadata": {
        "id": "sL_srjNgJ9FY",
        "outputId": "2fb54c88-fc6b-4b65-ac31-0bc36f0e61e9"
      },
      "outputs": [
        {
          "data": {
            "text/html": [
              "<div>\n",
              "<style scoped>\n",
              "    .dataframe tbody tr th:only-of-type {\n",
              "        vertical-align: middle;\n",
              "    }\n",
              "\n",
              "    .dataframe tbody tr th {\n",
              "        vertical-align: top;\n",
              "    }\n",
              "\n",
              "    .dataframe thead th {\n",
              "        text-align: right;\n",
              "    }\n",
              "</style>\n",
              "<table border=\"1\" class=\"dataframe\">\n",
              "  <thead>\n",
              "    <tr style=\"text-align: right;\">\n",
              "      <th></th>\n",
              "      <th>A</th>\n",
              "      <th>B</th>\n",
              "      <th>C</th>\n",
              "    </tr>\n",
              "  </thead>\n",
              "  <tbody>\n",
              "    <tr>\n",
              "      <th>0</th>\n",
              "      <td>0.128596</td>\n",
              "      <td>0.663428</td>\n",
              "      <td>0.366097</td>\n",
              "    </tr>\n",
              "    <tr>\n",
              "      <th>1</th>\n",
              "      <td>0.574112</td>\n",
              "      <td>0.064554</td>\n",
              "      <td>0.650018</td>\n",
              "    </tr>\n",
              "    <tr>\n",
              "      <th>2</th>\n",
              "      <td>0.592140</td>\n",
              "      <td>0.826804</td>\n",
              "      <td>0.072088</td>\n",
              "    </tr>\n",
              "    <tr>\n",
              "      <th>8</th>\n",
              "      <td>0.410268</td>\n",
              "      <td>0.850815</td>\n",
              "      <td>0.270282</td>\n",
              "    </tr>\n",
              "    <tr>\n",
              "      <th>9</th>\n",
              "      <td>0.235623</td>\n",
              "      <td>0.532136</td>\n",
              "      <td>0.851126</td>\n",
              "    </tr>\n",
              "  </tbody>\n",
              "</table>\n",
              "</div>"
            ],
            "text/plain": [
              "          A         B         C\n",
              "0  0.128596  0.663428  0.366097\n",
              "1  0.574112  0.064554  0.650018\n",
              "2  0.592140  0.826804  0.072088\n",
              "8  0.410268  0.850815  0.270282\n",
              "9  0.235623  0.532136  0.851126"
            ]
          },
          "execution_count": 40,
          "metadata": {},
          "output_type": "execute_result"
        }
      ],
      "source": [
        "df.dropna(axis='rows') # axis = 0"
      ]
    },
    {
      "cell_type": "code",
      "execution_count": null,
      "metadata": {
        "scrolled": true,
        "id": "i_tKnGdrJ9FY",
        "outputId": "c2c72733-1c20-42e9-8493-2610fc8ebcee"
      },
      "outputs": [
        {
          "data": {
            "text/html": [
              "<div>\n",
              "<style scoped>\n",
              "    .dataframe tbody tr th:only-of-type {\n",
              "        vertical-align: middle;\n",
              "    }\n",
              "\n",
              "    .dataframe tbody tr th {\n",
              "        vertical-align: top;\n",
              "    }\n",
              "\n",
              "    .dataframe thead th {\n",
              "        text-align: right;\n",
              "    }\n",
              "</style>\n",
              "<table border=\"1\" class=\"dataframe\">\n",
              "  <thead>\n",
              "    <tr style=\"text-align: right;\">\n",
              "      <th></th>\n",
              "    </tr>\n",
              "  </thead>\n",
              "  <tbody>\n",
              "    <tr>\n",
              "      <th>0</th>\n",
              "    </tr>\n",
              "    <tr>\n",
              "      <th>1</th>\n",
              "    </tr>\n",
              "    <tr>\n",
              "      <th>2</th>\n",
              "    </tr>\n",
              "    <tr>\n",
              "      <th>3</th>\n",
              "    </tr>\n",
              "    <tr>\n",
              "      <th>4</th>\n",
              "    </tr>\n",
              "    <tr>\n",
              "      <th>5</th>\n",
              "    </tr>\n",
              "    <tr>\n",
              "      <th>6</th>\n",
              "    </tr>\n",
              "    <tr>\n",
              "      <th>7</th>\n",
              "    </tr>\n",
              "    <tr>\n",
              "      <th>8</th>\n",
              "    </tr>\n",
              "    <tr>\n",
              "      <th>9</th>\n",
              "    </tr>\n",
              "  </tbody>\n",
              "</table>\n",
              "</div>"
            ],
            "text/plain": [
              "Empty DataFrame\n",
              "Columns: []\n",
              "Index: [0, 1, 2, 3, 4, 5, 6, 7, 8, 9]"
            ]
          },
          "execution_count": 41,
          "metadata": {},
          "output_type": "execute_result"
        }
      ],
      "source": [
        "df.dropna(axis='columns') # axis = 1"
      ]
    },
    {
      "cell_type": "code",
      "execution_count": null,
      "metadata": {
        "colab": {
          "base_uri": "https://localhost:8080/",
          "height": 415
        },
        "id": "KDPaKJO7qsTY",
        "outputId": "a9da3c76-a806-417d-d2cc-8a2fef5a3633"
      },
      "outputs": [
        {
          "data": {
            "text/html": [
              "<div>\n",
              "<style scoped>\n",
              "    .dataframe tbody tr th:only-of-type {\n",
              "        vertical-align: middle;\n",
              "    }\n",
              "\n",
              "    .dataframe tbody tr th {\n",
              "        vertical-align: top;\n",
              "    }\n",
              "\n",
              "    .dataframe thead th {\n",
              "        text-align: right;\n",
              "    }\n",
              "</style>\n",
              "<table border=\"1\" class=\"dataframe\">\n",
              "  <thead>\n",
              "    <tr style=\"text-align: right;\">\n",
              "      <th></th>\n",
              "      <th>A</th>\n",
              "      <th>B</th>\n",
              "      <th>C</th>\n",
              "    </tr>\n",
              "  </thead>\n",
              "  <tbody>\n",
              "    <tr>\n",
              "      <th>0</th>\n",
              "      <td>0.128596</td>\n",
              "      <td>0.663428</td>\n",
              "      <td>0.366097</td>\n",
              "    </tr>\n",
              "    <tr>\n",
              "      <th>1</th>\n",
              "      <td>0.574112</td>\n",
              "      <td>0.064554</td>\n",
              "      <td>0.650018</td>\n",
              "    </tr>\n",
              "    <tr>\n",
              "      <th>2</th>\n",
              "      <td>0.592140</td>\n",
              "      <td>0.826804</td>\n",
              "      <td>0.072088</td>\n",
              "    </tr>\n",
              "    <tr>\n",
              "      <th>3</th>\n",
              "      <td>0.592140</td>\n",
              "      <td>0.396096</td>\n",
              "      <td>0.606010</td>\n",
              "    </tr>\n",
              "    <tr>\n",
              "      <th>4</th>\n",
              "      <td>0.592140</td>\n",
              "      <td>0.396096</td>\n",
              "      <td>0.814578</td>\n",
              "    </tr>\n",
              "    <tr>\n",
              "      <th>5</th>\n",
              "      <td>0.388979</td>\n",
              "      <td>0.396096</td>\n",
              "      <td>0.814578</td>\n",
              "    </tr>\n",
              "    <tr>\n",
              "      <th>6</th>\n",
              "      <td>0.621383</td>\n",
              "      <td>0.820476</td>\n",
              "      <td>0.814578</td>\n",
              "    </tr>\n",
              "    <tr>\n",
              "      <th>7</th>\n",
              "      <td>0.355814</td>\n",
              "      <td>0.311660</td>\n",
              "      <td>0.814578</td>\n",
              "    </tr>\n",
              "    <tr>\n",
              "      <th>8</th>\n",
              "      <td>0.410268</td>\n",
              "      <td>0.850815</td>\n",
              "      <td>0.270282</td>\n",
              "    </tr>\n",
              "    <tr>\n",
              "      <th>9</th>\n",
              "      <td>0.235623</td>\n",
              "      <td>0.532136</td>\n",
              "      <td>0.851126</td>\n",
              "    </tr>\n",
              "  </tbody>\n",
              "</table>\n",
              "</div>"
            ],
            "text/plain": [
              "          A         B         C\n",
              "0  0.128596  0.663428  0.366097\n",
              "1  0.574112  0.064554  0.650018\n",
              "2  0.592140  0.826804  0.072088\n",
              "3  0.592140  0.396096  0.606010\n",
              "4  0.592140  0.396096  0.814578\n",
              "5  0.388979  0.396096  0.814578\n",
              "6  0.621383  0.820476  0.814578\n",
              "7  0.355814  0.311660  0.814578\n",
              "8  0.410268  0.850815  0.270282\n",
              "9  0.235623  0.532136  0.851126"
            ]
          },
          "execution_count": 42,
          "metadata": {},
          "output_type": "execute_result"
        }
      ],
      "source": [
        "df.fillna(method = 'ffill', axis = 0)"
      ]
    },
    {
      "cell_type": "code",
      "execution_count": null,
      "metadata": {
        "colab": {
          "base_uri": "https://localhost:8080/",
          "height": 415
        },
        "id": "5kW3F5jAqvVP",
        "outputId": "1f51b7cd-d653-443b-eda5-61bc4ff810a5"
      },
      "outputs": [
        {
          "data": {
            "text/html": [
              "<div>\n",
              "<style scoped>\n",
              "    .dataframe tbody tr th:only-of-type {\n",
              "        vertical-align: middle;\n",
              "    }\n",
              "\n",
              "    .dataframe tbody tr th {\n",
              "        vertical-align: top;\n",
              "    }\n",
              "\n",
              "    .dataframe thead th {\n",
              "        text-align: right;\n",
              "    }\n",
              "</style>\n",
              "<table border=\"1\" class=\"dataframe\">\n",
              "  <thead>\n",
              "    <tr style=\"text-align: right;\">\n",
              "      <th></th>\n",
              "      <th>A</th>\n",
              "      <th>B</th>\n",
              "      <th>C</th>\n",
              "    </tr>\n",
              "  </thead>\n",
              "  <tbody>\n",
              "    <tr>\n",
              "      <th>0</th>\n",
              "      <td>0.128596</td>\n",
              "      <td>0.663428</td>\n",
              "      <td>0.366097</td>\n",
              "    </tr>\n",
              "    <tr>\n",
              "      <th>1</th>\n",
              "      <td>0.574112</td>\n",
              "      <td>0.064554</td>\n",
              "      <td>0.650018</td>\n",
              "    </tr>\n",
              "    <tr>\n",
              "      <th>2</th>\n",
              "      <td>0.592140</td>\n",
              "      <td>0.826804</td>\n",
              "      <td>0.072088</td>\n",
              "    </tr>\n",
              "    <tr>\n",
              "      <th>3</th>\n",
              "      <td>0.396096</td>\n",
              "      <td>0.396096</td>\n",
              "      <td>0.606010</td>\n",
              "    </tr>\n",
              "    <tr>\n",
              "      <th>4</th>\n",
              "      <td>0.814578</td>\n",
              "      <td>0.814578</td>\n",
              "      <td>0.814578</td>\n",
              "    </tr>\n",
              "    <tr>\n",
              "      <th>5</th>\n",
              "      <td>0.388979</td>\n",
              "      <td>NaN</td>\n",
              "      <td>NaN</td>\n",
              "    </tr>\n",
              "    <tr>\n",
              "      <th>6</th>\n",
              "      <td>0.621383</td>\n",
              "      <td>0.820476</td>\n",
              "      <td>NaN</td>\n",
              "    </tr>\n",
              "    <tr>\n",
              "      <th>7</th>\n",
              "      <td>0.355814</td>\n",
              "      <td>0.311660</td>\n",
              "      <td>NaN</td>\n",
              "    </tr>\n",
              "    <tr>\n",
              "      <th>8</th>\n",
              "      <td>0.410268</td>\n",
              "      <td>0.850815</td>\n",
              "      <td>0.270282</td>\n",
              "    </tr>\n",
              "    <tr>\n",
              "      <th>9</th>\n",
              "      <td>0.235623</td>\n",
              "      <td>0.532136</td>\n",
              "      <td>0.851126</td>\n",
              "    </tr>\n",
              "  </tbody>\n",
              "</table>\n",
              "</div>"
            ],
            "text/plain": [
              "          A         B         C\n",
              "0  0.128596  0.663428  0.366097\n",
              "1  0.574112  0.064554  0.650018\n",
              "2  0.592140  0.826804  0.072088\n",
              "3  0.396096  0.396096  0.606010\n",
              "4  0.814578  0.814578  0.814578\n",
              "5  0.388979       NaN       NaN\n",
              "6  0.621383  0.820476       NaN\n",
              "7  0.355814  0.311660       NaN\n",
              "8  0.410268  0.850815  0.270282\n",
              "9  0.235623  0.532136  0.851126"
            ]
          },
          "execution_count": 43,
          "metadata": {},
          "output_type": "execute_result"
        }
      ],
      "source": [
        "df.fillna(method = 'bfill', axis = 1)"
      ]
    },
    {
      "cell_type": "markdown",
      "metadata": {
        "id": "FSLpWYGEiZRR"
      },
      "source": [
        "### 중복 제거"
      ]
    },
    {
      "cell_type": "code",
      "execution_count": null,
      "metadata": {
        "colab": {
          "base_uri": "https://localhost:8080/",
          "height": 294
        },
        "id": "Ii7qOLQ8s1hW",
        "outputId": "d3a5388e-7296-45d6-f9f1-1c0d4f1c0b6f"
      },
      "outputs": [
        {
          "data": {
            "text/html": [
              "<div>\n",
              "<style scoped>\n",
              "    .dataframe tbody tr th:only-of-type {\n",
              "        vertical-align: middle;\n",
              "    }\n",
              "\n",
              "    .dataframe tbody tr th {\n",
              "        vertical-align: top;\n",
              "    }\n",
              "\n",
              "    .dataframe thead th {\n",
              "        text-align: right;\n",
              "    }\n",
              "</style>\n",
              "<table border=\"1\" class=\"dataframe\">\n",
              "  <thead>\n",
              "    <tr style=\"text-align: right;\">\n",
              "      <th></th>\n",
              "      <th>c1</th>\n",
              "      <th>c2</th>\n",
              "    </tr>\n",
              "  </thead>\n",
              "  <tbody>\n",
              "    <tr>\n",
              "      <th>0</th>\n",
              "      <td>a</td>\n",
              "      <td>1</td>\n",
              "    </tr>\n",
              "    <tr>\n",
              "      <th>1</th>\n",
              "      <td>b</td>\n",
              "      <td>2</td>\n",
              "    </tr>\n",
              "    <tr>\n",
              "      <th>2</th>\n",
              "      <td>c</td>\n",
              "      <td>1</td>\n",
              "    </tr>\n",
              "    <tr>\n",
              "      <th>3</th>\n",
              "      <td>a</td>\n",
              "      <td>1</td>\n",
              "    </tr>\n",
              "    <tr>\n",
              "      <th>4</th>\n",
              "      <td>b</td>\n",
              "      <td>2</td>\n",
              "    </tr>\n",
              "    <tr>\n",
              "      <th>5</th>\n",
              "      <td>c</td>\n",
              "      <td>3</td>\n",
              "    </tr>\n",
              "    <tr>\n",
              "      <th>6</th>\n",
              "      <td>b</td>\n",
              "      <td>3</td>\n",
              "    </tr>\n",
              "    <tr>\n",
              "      <th>7</th>\n",
              "      <td>c</td>\n",
              "      <td>4</td>\n",
              "    </tr>\n",
              "  </tbody>\n",
              "</table>\n",
              "</div>"
            ],
            "text/plain": [
              "  c1  c2\n",
              "0  a   1\n",
              "1  b   2\n",
              "2  c   1\n",
              "3  a   1\n",
              "4  b   2\n",
              "5  c   3\n",
              "6  b   3\n",
              "7  c   4"
            ]
          },
          "execution_count": 45,
          "metadata": {},
          "output_type": "execute_result"
        }
      ],
      "source": [
        "df = pd.DataFrame({'c1':['a', 'b', 'c'] * 2 + ['b'] + ['c'],\n",
        "                    'c2': [1, 2, 1, 1, 2, 3, 3, 4]})\n",
        "df"
      ]
    },
    {
      "cell_type": "code",
      "execution_count": null,
      "metadata": {
        "colab": {
          "base_uri": "https://localhost:8080/",
          "height": 173
        },
        "id": "14U6mS6fjOu9",
        "outputId": "f26b388e-c1f2-414d-e700-5f30c07b5e62"
      },
      "outputs": [
        {
          "data": {
            "text/plain": [
              "0    False\n",
              "1    False\n",
              "2    False\n",
              "3     True\n",
              "4     True\n",
              "5    False\n",
              "6    False\n",
              "7    False\n",
              "dtype: bool"
            ]
          },
          "execution_count": 46,
          "metadata": {},
          "output_type": "execute_result"
        }
      ],
      "source": [
        "df.duplicated()"
      ]
    },
    {
      "cell_type": "code",
      "execution_count": null,
      "metadata": {
        "colab": {
          "base_uri": "https://localhost:8080/",
          "height": 233
        },
        "id": "iLOdlpN5jR0d",
        "outputId": "1cffe8f2-0aba-48b9-bbfa-92f86b99d417"
      },
      "outputs": [
        {
          "data": {
            "text/html": [
              "<div>\n",
              "<style scoped>\n",
              "    .dataframe tbody tr th:only-of-type {\n",
              "        vertical-align: middle;\n",
              "    }\n",
              "\n",
              "    .dataframe tbody tr th {\n",
              "        vertical-align: top;\n",
              "    }\n",
              "\n",
              "    .dataframe thead th {\n",
              "        text-align: right;\n",
              "    }\n",
              "</style>\n",
              "<table border=\"1\" class=\"dataframe\">\n",
              "  <thead>\n",
              "    <tr style=\"text-align: right;\">\n",
              "      <th></th>\n",
              "      <th>c1</th>\n",
              "      <th>c2</th>\n",
              "    </tr>\n",
              "  </thead>\n",
              "  <tbody>\n",
              "    <tr>\n",
              "      <th>0</th>\n",
              "      <td>a</td>\n",
              "      <td>1</td>\n",
              "    </tr>\n",
              "    <tr>\n",
              "      <th>1</th>\n",
              "      <td>b</td>\n",
              "      <td>2</td>\n",
              "    </tr>\n",
              "    <tr>\n",
              "      <th>2</th>\n",
              "      <td>c</td>\n",
              "      <td>1</td>\n",
              "    </tr>\n",
              "    <tr>\n",
              "      <th>5</th>\n",
              "      <td>c</td>\n",
              "      <td>3</td>\n",
              "    </tr>\n",
              "    <tr>\n",
              "      <th>6</th>\n",
              "      <td>b</td>\n",
              "      <td>3</td>\n",
              "    </tr>\n",
              "    <tr>\n",
              "      <th>7</th>\n",
              "      <td>c</td>\n",
              "      <td>4</td>\n",
              "    </tr>\n",
              "  </tbody>\n",
              "</table>\n",
              "</div>"
            ],
            "text/plain": [
              "  c1  c2\n",
              "0  a   1\n",
              "1  b   2\n",
              "2  c   1\n",
              "5  c   3\n",
              "6  b   3\n",
              "7  c   4"
            ]
          },
          "execution_count": 47,
          "metadata": {},
          "output_type": "execute_result"
        }
      ],
      "source": [
        "df.drop_duplicates()"
      ]
    },
    {
      "cell_type": "markdown",
      "metadata": {
        "id": "lrLO7cgOJ9FZ"
      },
      "source": [
        "## 데이터 재구조화\n",
        "\n",
        "* stack(), unstack() 함수를 이용해 데이터프레임의 구조 변경\n",
        "* stack : 위에서 아래로 (행방향)\n",
        "* unstack : 왼쪽에서 오른쪽으로 (열방향)"
      ]
    },
    {
      "cell_type": "code",
      "execution_count": null,
      "metadata": {
        "id": "0_lcrjGXJ9Fa"
      },
      "outputs": [],
      "source": []
    },
    {
      "cell_type": "code",
      "execution_count": null,
      "metadata": {
        "id": "sDrH_Qk7J9Fa"
      },
      "outputs": [],
      "source": []
    },
    {
      "cell_type": "code",
      "execution_count": null,
      "metadata": {
        "id": "XXOJ4vmNJ9Fa"
      },
      "outputs": [],
      "source": []
    },
    {
      "cell_type": "code",
      "execution_count": null,
      "metadata": {
        "id": "og-_j8N9J9Fa"
      },
      "outputs": [],
      "source": []
    },
    {
      "cell_type": "code",
      "execution_count": null,
      "metadata": {
        "id": "xPXc7nvvJ9Fa"
      },
      "outputs": [],
      "source": []
    },
    {
      "cell_type": "code",
      "execution_count": null,
      "metadata": {
        "id": "Bzd_F2P8J9Fa"
      },
      "outputs": [],
      "source": []
    },
    {
      "cell_type": "code",
      "execution_count": null,
      "metadata": {
        "id": "ehwxeCB5J9Fa"
      },
      "outputs": [],
      "source": []
    },
    {
      "cell_type": "markdown",
      "metadata": {
        "id": "Df8oo7JnJ9Fa"
      },
      "source": [
        "## 데이터 조회\n",
        "\n",
        "* query() 함수를 이용한 조건에 맞는 데이터 조회"
      ]
    },
    {
      "cell_type": "code",
      "execution_count": null,
      "metadata": {
        "id": "Qmm3q65FJ9Fa",
        "outputId": "8c7160ed-13f4-4b35-96f9-147c47335c5a"
      },
      "outputs": [
        {
          "data": {
            "text/html": [
              "<div>\n",
              "<style scoped>\n",
              "    .dataframe tbody tr th:only-of-type {\n",
              "        vertical-align: middle;\n",
              "    }\n",
              "\n",
              "    .dataframe tbody tr th {\n",
              "        vertical-align: top;\n",
              "    }\n",
              "\n",
              "    .dataframe thead th {\n",
              "        text-align: right;\n",
              "    }\n",
              "</style>\n",
              "<table border=\"1\" class=\"dataframe\">\n",
              "  <thead>\n",
              "    <tr style=\"text-align: right;\">\n",
              "      <th></th>\n",
              "      <th>age</th>\n",
              "      <th>weight</th>\n",
              "    </tr>\n",
              "  </thead>\n",
              "  <tbody>\n",
              "    <tr>\n",
              "      <th>0</th>\n",
              "      <td>10</td>\n",
              "      <td>20</td>\n",
              "    </tr>\n",
              "    <tr>\n",
              "      <th>1</th>\n",
              "      <td>10</td>\n",
              "      <td>30</td>\n",
              "    </tr>\n",
              "    <tr>\n",
              "      <th>2</th>\n",
              "      <td>21</td>\n",
              "      <td>60</td>\n",
              "    </tr>\n",
              "    <tr>\n",
              "      <th>3</th>\n",
              "      <td>22</td>\n",
              "      <td>70</td>\n",
              "    </tr>\n",
              "  </tbody>\n",
              "</table>\n",
              "</div>"
            ],
            "text/plain": [
              "   age  weight\n",
              "0   10      20\n",
              "1   10      30\n",
              "2   21      60\n",
              "3   22      70"
            ]
          },
          "execution_count": 48,
          "metadata": {},
          "output_type": "execute_result"
        }
      ],
      "source": [
        "data = pd.DataFrame({'age':[10, 10, 21, 22], 'weight':[20, 30, 60, 70]})\n",
        "data"
      ]
    },
    {
      "cell_type": "code",
      "execution_count": null,
      "metadata": {
        "id": "AZMwHBH_J9Fb",
        "outputId": "f27a5972-b698-4b55-b62f-269ad2f6d82f"
      },
      "outputs": [
        {
          "data": {
            "text/html": [
              "<div>\n",
              "<style scoped>\n",
              "    .dataframe tbody tr th:only-of-type {\n",
              "        vertical-align: middle;\n",
              "    }\n",
              "\n",
              "    .dataframe tbody tr th {\n",
              "        vertical-align: top;\n",
              "    }\n",
              "\n",
              "    .dataframe thead th {\n",
              "        text-align: right;\n",
              "    }\n",
              "</style>\n",
              "<table border=\"1\" class=\"dataframe\">\n",
              "  <thead>\n",
              "    <tr style=\"text-align: right;\">\n",
              "      <th></th>\n",
              "      <th>age</th>\n",
              "      <th>weight</th>\n",
              "    </tr>\n",
              "  </thead>\n",
              "  <tbody>\n",
              "    <tr>\n",
              "      <th>0</th>\n",
              "      <td>10</td>\n",
              "      <td>20</td>\n",
              "    </tr>\n",
              "    <tr>\n",
              "      <th>1</th>\n",
              "      <td>10</td>\n",
              "      <td>30</td>\n",
              "    </tr>\n",
              "  </tbody>\n",
              "</table>\n",
              "</div>"
            ],
            "text/plain": [
              "   age  weight\n",
              "0   10      20\n",
              "1   10      30"
            ]
          },
          "execution_count": 49,
          "metadata": {},
          "output_type": "execute_result"
        }
      ],
      "source": [
        "data.query('age==10')"
      ]
    },
    {
      "cell_type": "code",
      "execution_count": null,
      "metadata": {
        "id": "s_jHdyLrJ9Fb",
        "outputId": "706d88f9-0de6-46f6-f1dd-b3309290409d"
      },
      "outputs": [
        {
          "data": {
            "text/html": [
              "<div>\n",
              "<style scoped>\n",
              "    .dataframe tbody tr th:only-of-type {\n",
              "        vertical-align: middle;\n",
              "    }\n",
              "\n",
              "    .dataframe tbody tr th {\n",
              "        vertical-align: top;\n",
              "    }\n",
              "\n",
              "    .dataframe thead th {\n",
              "        text-align: right;\n",
              "    }\n",
              "</style>\n",
              "<table border=\"1\" class=\"dataframe\">\n",
              "  <thead>\n",
              "    <tr style=\"text-align: right;\">\n",
              "      <th></th>\n",
              "      <th>age</th>\n",
              "      <th>weight</th>\n",
              "    </tr>\n",
              "  </thead>\n",
              "  <tbody>\n",
              "    <tr>\n",
              "      <th>3</th>\n",
              "      <td>22</td>\n",
              "      <td>70</td>\n",
              "    </tr>\n",
              "  </tbody>\n",
              "</table>\n",
              "</div>"
            ],
            "text/plain": [
              "   age  weight\n",
              "3   22      70"
            ]
          },
          "execution_count": 50,
          "metadata": {},
          "output_type": "execute_result"
        }
      ],
      "source": [
        "data.query('age>=22')"
      ]
    },
    {
      "cell_type": "code",
      "execution_count": null,
      "metadata": {
        "id": "22kDjNldJ9Fb",
        "outputId": "16ccccce-8b37-49f2-e1a2-97b0831c8c47"
      },
      "outputs": [
        {
          "data": {
            "text/html": [
              "<div>\n",
              "<style scoped>\n",
              "    .dataframe tbody tr th:only-of-type {\n",
              "        vertical-align: middle;\n",
              "    }\n",
              "\n",
              "    .dataframe tbody tr th {\n",
              "        vertical-align: top;\n",
              "    }\n",
              "\n",
              "    .dataframe thead th {\n",
              "        text-align: right;\n",
              "    }\n",
              "</style>\n",
              "<table border=\"1\" class=\"dataframe\">\n",
              "  <thead>\n",
              "    <tr style=\"text-align: right;\">\n",
              "      <th></th>\n",
              "      <th>age</th>\n",
              "      <th>weight</th>\n",
              "    </tr>\n",
              "  </thead>\n",
              "  <tbody>\n",
              "    <tr>\n",
              "      <th>2</th>\n",
              "      <td>21</td>\n",
              "      <td>60</td>\n",
              "    </tr>\n",
              "    <tr>\n",
              "      <th>3</th>\n",
              "      <td>22</td>\n",
              "      <td>70</td>\n",
              "    </tr>\n",
              "  </tbody>\n",
              "</table>\n",
              "</div>"
            ],
            "text/plain": [
              "   age  weight\n",
              "2   21      60\n",
              "3   22      70"
            ]
          },
          "execution_count": 51,
          "metadata": {},
          "output_type": "execute_result"
        }
      ],
      "source": [
        "data.query('age in [21, 22]')"
      ]
    },
    {
      "cell_type": "code",
      "execution_count": null,
      "metadata": {
        "id": "N3RrC5IgJ9Fc",
        "outputId": "25d0a31e-ad86-4ac8-9b4c-e61c8c910f87"
      },
      "outputs": [
        {
          "data": {
            "text/html": [
              "<div>\n",
              "<style scoped>\n",
              "    .dataframe tbody tr th:only-of-type {\n",
              "        vertical-align: middle;\n",
              "    }\n",
              "\n",
              "    .dataframe tbody tr th {\n",
              "        vertical-align: top;\n",
              "    }\n",
              "\n",
              "    .dataframe thead th {\n",
              "        text-align: right;\n",
              "    }\n",
              "</style>\n",
              "<table border=\"1\" class=\"dataframe\">\n",
              "  <thead>\n",
              "    <tr style=\"text-align: right;\">\n",
              "      <th></th>\n",
              "      <th>age</th>\n",
              "      <th>weight</th>\n",
              "    </tr>\n",
              "  </thead>\n",
              "  <tbody>\n",
              "    <tr>\n",
              "      <th>1</th>\n",
              "      <td>10</td>\n",
              "      <td>30</td>\n",
              "    </tr>\n",
              "  </tbody>\n",
              "</table>\n",
              "</div>"
            ],
            "text/plain": [
              "   age  weight\n",
              "1   10      30"
            ]
          },
          "execution_count": 52,
          "metadata": {},
          "output_type": "execute_result"
        }
      ],
      "source": [
        "data.query('(age == 10) and (weight >= 30)')"
      ]
    },
    {
      "cell_type": "markdown",
      "metadata": {
        "id": "4sq_9jXcoFwb"
      },
      "source": [
        "## 참고문헌\n",
        "\n",
        "* Pandas 사이트: https://pandas.pydata.org/\n",
        "* Jake VanderPlas, \"Python Data Science Handbook\", O'Reilly\n",
        "* Wes Mckinney, \"Python for Data Analysis\", O'Reilly"
      ]
    }
  ],
  "metadata": {
    "colab": {
      "provenance": [],
      "toc_visible": true,
      "include_colab_link": true
    },
    "kernelspec": {
      "display_name": "Python 3 (ipykernel)",
      "language": "python",
      "name": "python3"
    },
    "language_info": {
      "codemirror_mode": {
        "name": "ipython",
        "version": 3
      },
      "file_extension": ".py",
      "mimetype": "text/x-python",
      "name": "python",
      "nbconvert_exporter": "python",
      "pygments_lexer": "ipython3",
      "version": "3.9.7"
    }
  },
  "nbformat": 4,
  "nbformat_minor": 0
}