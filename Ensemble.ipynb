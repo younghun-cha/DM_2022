{
  "nbformat": 4,
  "nbformat_minor": 0,
  "metadata": {
    "colab": {
      "provenance": [],
      "authorship_tag": "ABX9TyPYncKHvafhF/5r9TXFvF3f",
      "include_colab_link": true
    },
    "kernelspec": {
      "name": "python3",
      "display_name": "Python 3"
    },
    "language_info": {
      "name": "python"
    }
  },
  "cells": [
    {
      "cell_type": "markdown",
      "metadata": {
        "id": "view-in-github",
        "colab_type": "text"
      },
      "source": [
        "<a href=\"https://colab.research.google.com/github/younghun-cha/DM_2022/blob/main/Ensemble.ipynb\" target=\"_parent\"><img src=\"https://colab.research.google.com/assets/colab-badge.svg\" alt=\"Open In Colab\"/></a>"
      ]
    },
    {
      "cell_type": "code",
      "execution_count": null,
      "metadata": {
        "id": "-kb3XiisCKhj"
      },
      "outputs": [],
      "source": [
        "import numpy as np\n",
        "import pandas as pd\n",
        "import matplotlib.pyplot as plt"
      ]
    },
    {
      "cell_type": "code",
      "source": [
        "from sklearn.datasets import load_iris, load_wine, load_breast_cancer\n",
        "from sklearn.preprocessing import StandardScaler\n",
        "from sklearn.pipeline import make_pipeline\n",
        "from sklearn.model_selection import train_test_split, cross_validate\n",
        "from sklearn.metrics import accuracy_score, precision_score, recall_score"
      ],
      "metadata": {
        "id": "7JKjt9MSDNzK"
      },
      "execution_count": null,
      "outputs": []
    },
    {
      "cell_type": "code",
      "source": [
        "from sklearn.ensemble import BaggingClassifier\n",
        "from sklearn.neighbors import KNeighborsClassifier\n",
        "from sklearn.svm import SVC\n",
        "from sklearn.tree import DecisionTreeClassifier"
      ],
      "metadata": {
        "id": "UqsXaCcoDQIM"
      },
      "execution_count": null,
      "outputs": []
    },
    {
      "cell_type": "code",
      "source": [
        "cancer = load_breast_cancer()\n",
        "iris = load_iris()\n",
        "wine = load_wine()"
      ],
      "metadata": {
        "id": "saGhgtf6DSbM"
      },
      "execution_count": null,
      "outputs": []
    },
    {
      "cell_type": "markdown",
      "source": [
        "## Bagging을 사용한 분류"
      ],
      "metadata": {
        "id": "jQyyLN1kDaEL"
      }
    },
    {
      "cell_type": "markdown",
      "source": [
        "- bagging은 bootstrap aggregationg의 줄임말\n",
        "- 원래 훈련 데이터셋의 일부를 사용해 여러 모델을 훈련\n",
        "- 각각의 결과를 결합해 최종 결과를 생성\n",
        "- 분산을 줄이고 과적합을 막음\n",
        "- 강력하고 복잡한 모델에서 잘 동작"
      ],
      "metadata": {
        "id": "5q68Jt7-Dcvb"
      }
    },
    {
      "cell_type": "markdown",
      "source": [
        "### KNN"
      ],
      "metadata": {
        "id": "PrC291bXD_BN"
      }
    },
    {
      "cell_type": "code",
      "source": [
        "base_model = make_pipeline(\n",
        "    StandardScaler(),\n",
        "    KNeighborsClassifier()\n",
        ")\n",
        "bagging_model = BaggingClassifier(base_model, n_estimators=10, max_samples=0.5, max_features=0.5)"
      ],
      "metadata": {
        "id": "aiKhXrJMDYu8"
      },
      "execution_count": null,
      "outputs": []
    },
    {
      "cell_type": "code",
      "source": [
        "cross_val = cross_validate(\n",
        "    estimator=base_model,\n",
        "    X=cancer.data,\n",
        "    y=cancer.target,\n",
        "    cv=5\n",
        ")\n",
        "print('avg fit time: {} (+/- {}'.format(cross_val['fit_time'].mean(), cross_val['fit_time'].std()))\n",
        "print('avg score time: {} (+/- {}'.format(cross_val['score_time'].mean(), cross_val['score_time'].std()))\n",
        "print('avg test score: {} (+/- {}'.format(cross_val['test_score'].mean(), cross_val['test_score'].std()))"
      ],
      "metadata": {
        "colab": {
          "base_uri": "https://localhost:8080/"
        },
        "id": "DztSIQLDER7L",
        "outputId": "1cd2506e-9281-4b25-8a83-c7987c46d3fb"
      },
      "execution_count": null,
      "outputs": [
        {
          "output_type": "stream",
          "name": "stdout",
          "text": [
            "avg fit time: 0.00635986328125 (+/- 0.002031995090117766\n",
            "avg score time: 0.021232986450195314 (+/- 0.004322220687171128\n",
            "avg test score: 0.9648501785437045 (+/- 0.009609970350036127\n"
          ]
        }
      ]
    },
    {
      "cell_type": "code",
      "source": [
        "cross_val = cross_validate(\n",
        "    estimator=bagging_model,\n",
        "    X=cancer.data,\n",
        "    y=cancer.target,\n",
        "    cv=5\n",
        ")\n",
        "print('avg fit time: {} (+/- {}'.format(cross_val['fit_time'].mean(), cross_val['fit_time'].std()))\n",
        "print('avg score time: {} (+/- {}'.format(cross_val['score_time'].mean(), cross_val['score_time'].std()))\n",
        "print('avg test score: {} (+/- {}'.format(cross_val['test_score'].mean(), cross_val['test_score'].std()))"
      ],
      "metadata": {
        "colab": {
          "base_uri": "https://localhost:8080/"
        },
        "id": "7_jp5nsZEdPb",
        "outputId": "725e6140-c2df-4e3a-9b61-d2f6f18ba331"
      },
      "execution_count": null,
      "outputs": [
        {
          "output_type": "stream",
          "name": "stdout",
          "text": [
            "avg fit time: 0.0633194923400879 (+/- 0.021680984302624308\n",
            "avg score time: 0.03802590370178223 (+/- 0.012291205401668984\n",
            "avg test score: 0.9630957925787922 (+/- 0.0034797995428925707\n"
          ]
        }
      ]
    },
    {
      "cell_type": "markdown",
      "source": [
        "### SVC"
      ],
      "metadata": {
        "id": "NaTCQCXlEiTL"
      }
    },
    {
      "cell_type": "code",
      "source": [
        "base_model = make_pipeline(\n",
        "    StandardScaler(),\n",
        "    SVC()\n",
        ")\n",
        "bagging_model = BaggingClassifier(base_model, n_estimators=10, max_samples=0.5, max_features=0.5)"
      ],
      "metadata": {
        "id": "0y8c6EUBEg_r"
      },
      "execution_count": null,
      "outputs": []
    },
    {
      "cell_type": "code",
      "source": [
        "cross_val = cross_validate(\n",
        "    estimator=base_model,\n",
        "    X=cancer.data,\n",
        "    y=cancer.target,\n",
        "    cv=5\n",
        ")\n",
        "print('avg fit time: {} (+/- {}'.format(cross_val['fit_time'].mean(), cross_val['fit_time'].std()))\n",
        "print('avg score time: {} (+/- {}'.format(cross_val['score_time'].mean(), cross_val['score_time'].std()))\n",
        "print('avg test score: {} (+/- {}'.format(cross_val['test_score'].mean(), cross_val['test_score'].std()))"
      ],
      "metadata": {
        "colab": {
          "base_uri": "https://localhost:8080/"
        },
        "id": "PI8I9CmuEwnz",
        "outputId": "5e31ec7e-953c-4e4d-e93d-4292bc1881f7"
      },
      "execution_count": null,
      "outputs": [
        {
          "output_type": "stream",
          "name": "stdout",
          "text": [
            "avg fit time: 0.010499715805053711 (+/- 0.0004712391315574675\n",
            "avg score time: 0.0039054393768310548 (+/- 0.0013404852145084585\n",
            "avg test score: 0.9736376339077782 (+/- 0.014678541667933545\n"
          ]
        }
      ]
    },
    {
      "cell_type": "code",
      "source": [
        "cross_val = cross_validate(\n",
        "    estimator=bagging_model,\n",
        "    X=cancer.data,\n",
        "    y=cancer.target,\n",
        "    cv=5\n",
        ")\n",
        "print('avg fit time: {} (+/- {}'.format(cross_val['fit_time'].mean(), cross_val['fit_time'].std()))\n",
        "print('avg score time: {} (+/- {}'.format(cross_val['score_time'].mean(), cross_val['score_time'].std()))\n",
        "print('avg test score: {} (+/- {}'.format(cross_val['test_score'].mean(), cross_val['test_score'].std()))"
      ],
      "metadata": {
        "colab": {
          "base_uri": "https://localhost:8080/"
        },
        "id": "sD3KYFJjE0-r",
        "outputId": "0b38bc3c-7098-45ab-8534-9ca96a8220eb"
      },
      "execution_count": null,
      "outputs": [
        {
          "output_type": "stream",
          "name": "stdout",
          "text": [
            "avg fit time: 0.07687292098999024 (+/- 0.009454391659723985\n",
            "avg score time: 0.01893305778503418 (+/- 0.0012988956663982352\n",
            "avg test score: 0.9631113181183046 (+/- 0.01786411511883413\n"
          ]
        }
      ]
    },
    {
      "cell_type": "markdown",
      "source": [
        "### Decision Tree"
      ],
      "metadata": {
        "id": "6FsRhWHXE6CD"
      }
    },
    {
      "cell_type": "code",
      "source": [
        "base_model = make_pipeline(\n",
        "    StandardScaler(),\n",
        "    DecisionTreeClassifier()\n",
        ")\n",
        "bagging_model = BaggingClassifier(base_model, n_estimators=10, max_samples=0.5, max_features=0.5)"
      ],
      "metadata": {
        "id": "xv6GRER4E4fj"
      },
      "execution_count": null,
      "outputs": []
    },
    {
      "cell_type": "code",
      "source": [
        "cross_val = cross_validate(\n",
        "    estimator=base_model,\n",
        "    X=cancer.data,\n",
        "    y=cancer.target,\n",
        "    cv=5\n",
        ")\n",
        "print('avg fit time: {} (+/- {}'.format(cross_val['fit_time'].mean(), cross_val['fit_time'].std()))\n",
        "print('avg score time: {} (+/- {}'.format(cross_val['score_time'].mean(), cross_val['score_time'].std()))\n",
        "print('avg test score: {} (+/- {}'.format(cross_val['test_score'].mean(), cross_val['test_score'].std()))"
      ],
      "metadata": {
        "colab": {
          "base_uri": "https://localhost:8080/"
        },
        "id": "6KHjg2x_E_b7",
        "outputId": "2e6fe5b3-9fcb-49d5-c166-f220f679167c"
      },
      "execution_count": null,
      "outputs": [
        {
          "output_type": "stream",
          "name": "stdout",
          "text": [
            "avg fit time: 0.00895071029663086 (+/- 0.0006093141374362796\n",
            "avg score time: 0.0007239818572998047 (+/- 2.416044995479993e-05\n",
            "avg test score: 0.9173420276354604 (+/- 0.020772591682508414\n"
          ]
        }
      ]
    },
    {
      "cell_type": "code",
      "source": [
        "cross_val = cross_validate(\n",
        "    estimator=bagging_model,\n",
        "    X=cancer.data,\n",
        "    y=cancer.target,\n",
        "    cv=5\n",
        ")\n",
        "print('avg fit time: {} (+/- {}'.format(cross_val['fit_time'].mean(), cross_val['fit_time'].std()))\n",
        "print('avg score time: {} (+/- {}'.format(cross_val['score_time'].mean(), cross_val['score_time'].std()))\n",
        "print('avg test score: {} (+/- {}'.format(cross_val['test_score'].mean(), cross_val['test_score'].std()))"
      ],
      "metadata": {
        "colab": {
          "base_uri": "https://localhost:8080/"
        },
        "id": "P8_MusqMFCu7",
        "outputId": "9bf1deb7-bdf2-4b3e-9a42-6ddbd166c302"
      },
      "execution_count": null,
      "outputs": [
        {
          "output_type": "stream",
          "name": "stdout",
          "text": [
            "avg fit time: 0.06773653030395507 (+/- 0.011382334962701088\n",
            "avg score time: 0.005599594116210938 (+/- 0.00032114444875427917\n",
            "avg test score: 0.947290793355069 (+/- 0.016603328734205752\n"
          ]
        }
      ]
    },
    {
      "cell_type": "markdown",
      "source": [
        "### Random Forest"
      ],
      "metadata": {
        "id": "dK5A9zGrFHPr"
      }
    },
    {
      "cell_type": "code",
      "source": [
        "from sklearn.ensemble import RandomForestClassifier"
      ],
      "metadata": {
        "id": "AfeEqkgyFF3T"
      },
      "execution_count": null,
      "outputs": []
    },
    {
      "cell_type": "code",
      "source": [
        "model = make_pipeline(\n",
        "    StandardScaler(),\n",
        "    RandomForestClassifier()\n",
        ")"
      ],
      "metadata": {
        "id": "0UVNjk5kFNmD"
      },
      "execution_count": null,
      "outputs": []
    },
    {
      "cell_type": "code",
      "source": [
        "cross_val = cross_validate(\n",
        "    estimator=model,\n",
        "    X=iris.data,\n",
        "    y=iris.target,\n",
        "    cv=5\n",
        ")\n",
        "print('avg fit time: {} (+/- {}'.format(cross_val['fit_time'].mean(), cross_val['fit_time'].std()))\n",
        "print('avg score time: {} (+/- {}'.format(cross_val['score_time'].mean(), cross_val['score_time'].std()))\n",
        "print('avg test score: {} (+/- {}'.format(cross_val['test_score'].mean(), cross_val['test_score'].std()))"
      ],
      "metadata": {
        "colab": {
          "base_uri": "https://localhost:8080/"
        },
        "id": "H-3tZgpnFTib",
        "outputId": "92debc62-5ef4-4f36-8970-2cb5f4815e43"
      },
      "execution_count": null,
      "outputs": [
        {
          "output_type": "stream",
          "name": "stdout",
          "text": [
            "avg fit time: 0.14453749656677245 (+/- 0.012403715712832632\n",
            "avg score time: 0.010650205612182616 (+/- 0.00046817329199120146\n",
            "avg test score: 0.9533333333333334 (+/- 0.03399346342395189\n"
          ]
        }
      ]
    },
    {
      "cell_type": "code",
      "source": [
        "cross_val = cross_validate(\n",
        "    estimator=model,\n",
        "    X=wine.data,\n",
        "    y=wine.target,\n",
        "    cv=5\n",
        ")\n",
        "print('avg fit time: {} (+/- {}'.format(cross_val['fit_time'].mean(), cross_val['fit_time'].std()))\n",
        "print('avg score time: {} (+/- {}'.format(cross_val['score_time'].mean(), cross_val['score_time'].std()))\n",
        "print('avg test score: {} (+/- {}'.format(cross_val['test_score'].mean(), cross_val['test_score'].std()))"
      ],
      "metadata": {
        "colab": {
          "base_uri": "https://localhost:8080/"
        },
        "id": "srkynurDF9-L",
        "outputId": "fcccbbc0-04c9-4efd-9f85-48b563b6623b"
      },
      "execution_count": null,
      "outputs": [
        {
          "output_type": "stream",
          "name": "stdout",
          "text": [
            "avg fit time: 0.14825711250305176 (+/- 0.008280085440890081\n",
            "avg score time: 0.013202285766601563 (+/- 0.0032213720671899373\n",
            "avg test score: 0.9833333333333332 (+/- 0.022222222222222233\n"
          ]
        }
      ]
    },
    {
      "cell_type": "code",
      "source": [
        "cross_val = cross_validate(\n",
        "    estimator=model,\n",
        "    X=cancer.data,\n",
        "    y=cancer.target,\n",
        "    cv=5\n",
        ")\n",
        "print('avg fit time: {} (+/- {}'.format(cross_val['fit_time'].mean(), cross_val['fit_time'].std()))\n",
        "print('avg score time: {} (+/- {}'.format(cross_val['score_time'].mean(), cross_val['score_time'].std()))\n",
        "print('avg test score: {} (+/- {}'.format(cross_val['test_score'].mean(), cross_val['test_score'].std()))"
      ],
      "metadata": {
        "colab": {
          "base_uri": "https://localhost:8080/"
        },
        "id": "sLEwmdd4FlmD",
        "outputId": "529d5882-3013-464b-e28c-92212d47be6d"
      },
      "execution_count": null,
      "outputs": [
        {
          "output_type": "stream",
          "name": "stdout",
          "text": [
            "avg fit time: 0.2080625534057617 (+/- 0.007276825279731701\n",
            "avg score time: 0.01369476318359375 (+/- 0.0014652640188726725\n",
            "avg test score: 0.9648812296227295 (+/- 0.02216694754255281\n"
          ]
        }
      ]
    },
    {
      "cell_type": "markdown",
      "source": [
        "## AdaBoost"
      ],
      "metadata": {
        "id": "GEQHuT09GOCb"
      }
    },
    {
      "cell_type": "markdown",
      "source": [
        "- 대표적인 부스팅 알고리즘\n",
        "- 일련의 약한 모델들을 학습\n",
        "- 수정된 버전의 데이터를 반복 학습 (가중치가 적용된)\n",
        "- 가중치 투표(또는 합)을 통해 각 모델의 예측 값을 결합\n",
        "- 첫 단계에서는 원본 데이터를 학습하고 연속적인 반복마다 개별 샘플에 대한 가중치가 수정되고 다시 모델이 학습\n",
        "  - 잘못 예측된 샘플은 가중치 증가, 올바르게 예측된 샘플은 가중치 감소\n",
        "  - 각각의 약한 모델들은 예측하기 어려운 샘플에 집중하게 됨\n"
      ],
      "metadata": {
        "id": "7JzaEMBLGQJz"
      }
    },
    {
      "cell_type": "code",
      "source": [
        "from sklearn.ensemble import AdaBoostClassifier"
      ],
      "metadata": {
        "id": "DLAO0x5mFnRr"
      },
      "execution_count": null,
      "outputs": []
    },
    {
      "cell_type": "code",
      "source": [
        "model = make_pipeline(\n",
        "    StandardScaler(),\n",
        "    AdaBoostClassifier()\n",
        ")"
      ],
      "metadata": {
        "id": "zyqeOoMGGwHB"
      },
      "execution_count": null,
      "outputs": []
    },
    {
      "cell_type": "code",
      "source": [
        "cross_val = cross_validate(\n",
        "    estimator=model,\n",
        "    X=iris.data,\n",
        "    y=iris.target,\n",
        "    cv=5\n",
        ")\n",
        "print('avg fit time: {} (+/- {}'.format(cross_val['fit_time'].mean(), cross_val['fit_time'].std()))\n",
        "print('avg score time: {} (+/- {}'.format(cross_val['score_time'].mean(), cross_val['score_time'].std()))\n",
        "print('avg test score: {} (+/- {}'.format(cross_val['test_score'].mean(), cross_val['test_score'].std()))"
      ],
      "metadata": {
        "colab": {
          "base_uri": "https://localhost:8080/"
        },
        "id": "PiUrJKdvGzVh",
        "outputId": "68bac99e-c361-4bdd-db41-1e26b1e75969"
      },
      "execution_count": null,
      "outputs": [
        {
          "output_type": "stream",
          "name": "stdout",
          "text": [
            "avg fit time: 0.11974096298217773 (+/- 0.009600411706120193\n",
            "avg score time: 0.014257574081420898 (+/- 0.00036454968229189685\n",
            "avg test score: 0.9466666666666667 (+/- 0.03399346342395189\n"
          ]
        }
      ]
    },
    {
      "cell_type": "code",
      "source": [
        "cross_val = cross_validate(\n",
        "    estimator=model,\n",
        "    X=wine.data,\n",
        "    y=wine.target,\n",
        "    cv=5\n",
        ")\n",
        "print('avg fit time: {} (+/- {}'.format(cross_val['fit_time'].mean(), cross_val['fit_time'].std()))\n",
        "print('avg score time: {} (+/- {}'.format(cross_val['score_time'].mean(), cross_val['score_time'].std()))\n",
        "print('avg test score: {} (+/- {}'.format(cross_val['test_score'].mean(), cross_val['test_score'].std()))"
      ],
      "metadata": {
        "colab": {
          "base_uri": "https://localhost:8080/"
        },
        "id": "ghxbhpbKG2tg",
        "outputId": "6dc3242b-99d3-4a00-998c-b008c6583433"
      },
      "execution_count": null,
      "outputs": [
        {
          "output_type": "stream",
          "name": "stdout",
          "text": [
            "avg fit time: 0.13275160789489746 (+/- 0.013065692779851168\n",
            "avg score time: 0.016248798370361327 (+/- 0.0037076724857209712\n",
            "avg test score: 0.8085714285714285 (+/- 0.16822356718459935\n"
          ]
        }
      ]
    },
    {
      "cell_type": "code",
      "source": [
        "cross_val = cross_validate(\n",
        "    estimator=model,\n",
        "    X=cancer.data,\n",
        "    y=cancer.target,\n",
        "    cv=5\n",
        ")\n",
        "print('avg fit time: {} (+/- {}'.format(cross_val['fit_time'].mean(), cross_val['fit_time'].std()))\n",
        "print('avg score time: {} (+/- {}'.format(cross_val['score_time'].mean(), cross_val['score_time'].std()))\n",
        "print('avg test score: {} (+/- {}'.format(cross_val['test_score'].mean(), cross_val['test_score'].std()))"
      ],
      "metadata": {
        "colab": {
          "base_uri": "https://localhost:8080/"
        },
        "id": "TlJmUVrpG6my",
        "outputId": "93457259-2a29-40a0-bfd9-9630331a0507"
      },
      "execution_count": null,
      "outputs": [
        {
          "output_type": "stream",
          "name": "stdout",
          "text": [
            "avg fit time: 0.23596553802490233 (+/- 0.0034775001174767884\n",
            "avg score time: 0.017675161361694336 (+/- 0.00045658675534595276\n",
            "avg test score: 0.9718677224033534 (+/- 0.0195587047134823\n"
          ]
        }
      ]
    },
    {
      "cell_type": "markdown",
      "source": [
        "### Voting Classifier"
      ],
      "metadata": {
        "id": "LSsYx0bUG--i"
      }
    },
    {
      "cell_type": "markdown",
      "source": [
        "- 서로 다른 모델들의 결과를 투표를 통해 결합\n",
        "- 두 가지 방법으로 투표 가능\n",
        "  - 가장 많이 예측된 클래스를 정답으로 채택(hard voting)\n",
        "  - 예측된 확률의 가중치 평균(soft voting)"
      ],
      "metadata": {
        "id": "TDIPUAJUHKgi"
      }
    },
    {
      "cell_type": "code",
      "source": [
        "from sklearn.ensemble import VotingClassifier\n",
        "from sklearn.model_selection import cross_val_score\n",
        "from sklearn.naive_bayes import GaussianNB"
      ],
      "metadata": {
        "id": "NtGQhHu1G-Cj"
      },
      "execution_count": null,
      "outputs": []
    },
    {
      "cell_type": "code",
      "source": [
        "# hard voting\n",
        "model1 = SVC()\n",
        "model2 = GaussianNB()\n",
        "model3 = RandomForestClassifier()\n",
        "vote_model = VotingClassifier(\n",
        "    estimators=[('svc', model1), ('naive', model2), ('forest', model3)],\n",
        "    voting='hard'\n",
        ")"
      ],
      "metadata": {
        "id": "0ydAEUOoHfoy"
      },
      "execution_count": null,
      "outputs": []
    },
    {
      "cell_type": "code",
      "source": [
        "for model in (model1, model2, model3, vote_model):\n",
        "  print(type(model))"
      ],
      "metadata": {
        "colab": {
          "base_uri": "https://localhost:8080/"
        },
        "id": "A0DqU1VIHm8K",
        "outputId": "a6655dfc-8f4f-4372-8424-52080be71575"
      },
      "execution_count": null,
      "outputs": [
        {
          "output_type": "stream",
          "name": "stdout",
          "text": [
            "<class 'sklearn.svm._classes.SVC'>\n",
            "<class 'sklearn.naive_bayes.GaussianNB'>\n",
            "<class 'sklearn.ensemble._forest.RandomForestClassifier'>\n",
            "<class 'sklearn.ensemble._voting.VotingClassifier'>\n"
          ]
        }
      ]
    },
    {
      "cell_type": "code",
      "source": [
        "for model in (model1, model2, model3, vote_model):\n",
        "  print(str(type(model)).split('.')[-1])"
      ],
      "metadata": {
        "colab": {
          "base_uri": "https://localhost:8080/"
        },
        "id": "DEEUcmjCIVES",
        "outputId": "a865dcf8-2a96-4f2d-aebc-1f8fae1d37bf"
      },
      "execution_count": null,
      "outputs": [
        {
          "output_type": "stream",
          "name": "stdout",
          "text": [
            "SVC'>\n",
            "GaussianNB'>\n",
            "RandomForestClassifier'>\n",
            "VotingClassifier'>\n"
          ]
        }
      ]
    },
    {
      "cell_type": "code",
      "source": [
        "for model in (model1, model2, model3, vote_model):\n",
        "  model_name = str(type(model)).split('.')[-1][:-2]\n",
        "  scores = cross_val_score(model, iris.data, iris.target, cv=5)\n",
        "  print('Accuracy: %.2f (+/- %.2f) [%s]' % (scores.mean(), scores.std(), model_name))"
      ],
      "metadata": {
        "colab": {
          "base_uri": "https://localhost:8080/"
        },
        "id": "QXcFLafvHsUC",
        "outputId": "6421baee-1de8-4fb0-9eda-d1c9dee13324"
      },
      "execution_count": null,
      "outputs": [
        {
          "output_type": "stream",
          "name": "stdout",
          "text": [
            "Accuracy: 0.97 (+/- 0.02) [SVC]\n",
            "Accuracy: 0.95 (+/- 0.03) [GaussianNB]\n",
            "Accuracy: 0.96 (+/- 0.02) [RandomForestClassifier]\n",
            "Accuracy: 0.95 (+/- 0.03) [VotingClassifier]\n"
          ]
        }
      ]
    },
    {
      "cell_type": "code",
      "source": [
        "# soft voting\n",
        "model1 = SVC(probability=True)\n",
        "model2 = GaussianNB()\n",
        "model3 = RandomForestClassifier()\n",
        "vote_model = VotingClassifier(\n",
        "    estimators=[('svc', model1), ('naive', model2), ('forest', model3)],\n",
        "    voting='soft',\n",
        "    weights=[2, 1, 2]\n",
        ")"
      ],
      "metadata": {
        "id": "P_YzmQ_CIJbr"
      },
      "execution_count": null,
      "outputs": []
    },
    {
      "cell_type": "code",
      "source": [
        "for model in (model1, model2, model3, vote_model):\n",
        "  model_name = str(type(model)).split('.')[-1][:-2]\n",
        "  scores = cross_val_score(model, iris.data, iris.target, cv=5)\n",
        "  print('Accuracy: %.2f (+/- %.2f) [%s]' %(scores.mean(), scores.std(), model_name))"
      ],
      "metadata": {
        "colab": {
          "base_uri": "https://localhost:8080/"
        },
        "id": "GvIAYr__IuAI",
        "outputId": "740ce7f2-26c1-41de-b801-44e68c225192"
      },
      "execution_count": null,
      "outputs": [
        {
          "output_type": "stream",
          "name": "stdout",
          "text": [
            "Accuracy: 0.97 (+/- 0.02) [SVC]\n",
            "Accuracy: 0.95 (+/- 0.03) [GaussianNB]\n",
            "Accuracy: 0.97 (+/- 0.02) [RandomForestClassifier]\n",
            "Accuracy: 0.96 (+/- 0.02) [VotingClassifier]\n"
          ]
        }
      ]
    },
    {
      "cell_type": "markdown",
      "source": [
        "## XGBoost"
      ],
      "metadata": {
        "id": "BpUebQ6vJIMC"
      }
    },
    {
      "cell_type": "markdown",
      "source": [
        "- 트리 기반의 앙상블 기법\n",
        "- 분류에 있어서 다른 알고리즘보다 좋은 예측 성능을 보여줌\n",
        "- XGBoost는 GBM 기반이지만, GBM의 단점인 느린 수행 시간과 과적합 규제 부재 등의 문제를 해결\n",
        "- 병렬 CPU 환경에서 빠르게 학습 가능\n",
        "- kaggle 도전 데이터 과학자에서 5년 연속 1위한 알고리즘"
      ],
      "metadata": {
        "id": "KKx2rHpUJOOy"
      }
    },
    {
      "cell_type": "code",
      "source": [
        "!pip install xgboost"
      ],
      "metadata": {
        "id": "dPcwHB8wJGh5"
      },
      "execution_count": null,
      "outputs": []
    },
    {
      "cell_type": "code",
      "source": [
        "from xgboost import XGBClassifier\n",
        "from xgboost import plot_importance\n",
        "from sklearn.metrics import accuracy_score, classification_report"
      ],
      "metadata": {
        "id": "c55mSrSHJizB"
      },
      "execution_count": null,
      "outputs": []
    },
    {
      "cell_type": "code",
      "source": [
        "X_train, X_test, y_train, y_test = train_test_split(cancer.data, cancer.target, test_size=.2, random_state=123)"
      ],
      "metadata": {
        "id": "1ExRNNsmJw5y"
      },
      "execution_count": null,
      "outputs": []
    },
    {
      "cell_type": "code",
      "source": [
        "xgbc = XGBClassifier(n_estimators=400, learing_rate=0.1, max_depth=3)\n",
        "xgbc.fit(X_train, y_train)"
      ],
      "metadata": {
        "colab": {
          "base_uri": "https://localhost:8080/"
        },
        "id": "ahnfMehtJ90h",
        "outputId": "e1191718-e905-4c3e-db1a-8f2cfc953834"
      },
      "execution_count": null,
      "outputs": [
        {
          "output_type": "execute_result",
          "data": {
            "text/plain": [
              "XGBClassifier(learing_rate=0.1, n_estimators=400)"
            ]
          },
          "metadata": {},
          "execution_count": 53
        }
      ]
    },
    {
      "cell_type": "code",
      "source": [
        "# 중요 변수 확인 및 시각화 : y에 영향을 미치는 변수\n",
        "plot_importance(xgbc)\n",
        "plt.yticks(range(len(cancer.feature_names)), cancer.feature_names)\n",
        "plt.show()"
      ],
      "metadata": {
        "colab": {
          "base_uri": "https://localhost:8080/",
          "height": 295
        },
        "id": "pbsnnmceKJCR",
        "outputId": "8692ba42-cf8a-4c32-ffe6-b20a8b0a60bd"
      },
      "execution_count": null,
      "outputs": [
        {
          "output_type": "display_data",
          "data": {
            "text/plain": [
              "<Figure size 432x288 with 1 Axes>"
            ],
            "image/png": "[encoded data removed]"
          },
          "metadata": {
            "needs_background": "light"
          }
        }
      ]
    },
    {
      "cell_type": "code",
      "source": [
        "y_pred = xgbc.predict(X_test)\n",
        "print(accuracy_score(y_test, y_pred))"
      ],
      "metadata": {
        "colab": {
          "base_uri": "https://localhost:8080/"
        },
        "id": "gg5EGC6xKXvJ",
        "outputId": "8d472135-8bd9-48b4-aad5-b964492ea3e1"
      },
      "execution_count": null,
      "outputs": [
        {
          "output_type": "stream",
          "name": "stdout",
          "text": [
            "0.9736842105263158\n"
          ]
        }
      ]
    },
    {
      "cell_type": "code",
      "source": [
        "print(classification_report(y_test, y_pred))"
      ],
      "metadata": {
        "colab": {
          "base_uri": "https://localhost:8080/"
        },
        "id": "yBdxSGyUKh_f",
        "outputId": "8fa24bd9-af59-405e-be6e-1355dfde2431"
      },
      "execution_count": null,
      "outputs": [
        {
          "output_type": "stream",
          "name": "stdout",
          "text": [
            "              precision    recall  f1-score   support\n",
            "\n",
            "           0       0.97      0.95      0.96        41\n",
            "           1       0.97      0.99      0.98        73\n",
            "\n",
            "    accuracy                           0.97       114\n",
            "   macro avg       0.97      0.97      0.97       114\n",
            "weighted avg       0.97      0.97      0.97       114\n",
            "\n"
          ]
        }
      ]
    }
  ]
}